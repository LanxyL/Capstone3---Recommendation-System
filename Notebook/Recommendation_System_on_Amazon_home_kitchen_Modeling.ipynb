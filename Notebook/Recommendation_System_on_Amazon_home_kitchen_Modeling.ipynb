{
  "nbformat": 4,
  "nbformat_minor": 0,
  "metadata": {
    "colab": {
      "name": "Recommendation_System_on_Amazon_home_kitchen-Modeling.ipynb",
      "provenance": [],
      "authorship_tag": "ABX9TyN9EXuRL8t6omm4l6O4QPp1",
      "include_colab_link": true
    },
    "kernelspec": {
      "name": "python3",
      "display_name": "Python 3"
    },
    "language_info": {
      "name": "python"
    }
  },
  "cells": [
    {
      "cell_type": "markdown",
      "metadata": {
        "id": "view-in-github",
        "colab_type": "text"
      },
      "source": [
        "<a href=\"https://colab.research.google.com/github/LanxyL/Capstone3---Recommendation-System/blob/main/Notebook/Recommendation_System_on_Amazon_home_kitchen_Modeling.ipynb\" target=\"_parent\"><img src=\"https://colab.research.google.com/assets/colab-badge.svg\" alt=\"Open In Colab\"/></a>"
      ]
    },
    {
      "cell_type": "markdown",
      "metadata": {
        "id": "H8mkbOFbJDnW"
      },
      "source": [
        "## Load Dataset"
      ]
    },
    {
      "cell_type": "code",
      "metadata": {
        "colab": {
          "base_uri": "https://localhost:8080/"
        },
        "id": "7Ypvhe5bH4L8",
        "outputId": "034e6d68-3fb0-4a01-85a5-4842610b3773"
      },
      "source": [
        "from google.colab import drive\n",
        "drive.mount('/content/drive')"
      ],
      "execution_count": 1,
      "outputs": [
        {
          "output_type": "stream",
          "text": [
            "Mounted at /content/drive\n"
          ],
          "name": "stdout"
        }
      ]
    },
    {
      "cell_type": "code",
      "metadata": {
        "id": "MPdKskzZKYV2"
      },
      "source": [
        "#imports\n",
        "import numpy as np\n",
        "import pandas as pd\n",
        "import matplotlib.pyplot as plt\n",
        "import seaborn as sns\n",
        "from sklearn.metrics import mean_squared_error"
      ],
      "execution_count": 12,
      "outputs": []
    },
    {
      "cell_type": "code",
      "metadata": {
        "id": "3Xra1kXyJw_Q"
      },
      "source": [
        "#Read Kitchen&Dining Dataset from last notebook\n",
        "KitchenDining = pd.read_csv('drive/My Drive/Recommendation_System/KitchenDining80000.csv')"
      ],
      "execution_count": 4,
      "outputs": []
    },
    {
      "cell_type": "code",
      "metadata": {
        "colab": {
          "base_uri": "https://localhost:8080/",
          "height": 222
        },
        "id": "tyR86bTmKoSZ",
        "outputId": "8a3c20f1-8d1e-43f4-8619-fcab0bd4c8c9"
      },
      "source": [
        "# transform the ratings frame into a ratings matrix\n",
        "ratings_mtx_df = KitchenDining.pivot_table(values='overall',\n",
        "                                           index='reviewerID',\n",
        "                                           columns='asin')\n",
        "ratings_mtx_df.head(3)"
      ],
      "execution_count": 5,
      "outputs": [
        {
          "output_type": "execute_result",
          "data": {
            "text/html": [
              "<div>\n",
              "<style scoped>\n",
              "    .dataframe tbody tr th:only-of-type {\n",
              "        vertical-align: middle;\n",
              "    }\n",
              "\n",
              "    .dataframe tbody tr th {\n",
              "        vertical-align: top;\n",
              "    }\n",
              "\n",
              "    .dataframe thead th {\n",
              "        text-align: right;\n",
              "    }\n",
              "</style>\n",
              "<table border=\"1\" class=\"dataframe\">\n",
              "  <thead>\n",
              "    <tr style=\"text-align: right;\">\n",
              "      <th>asin</th>\n",
              "      <th>0912696591</th>\n",
              "      <th>B00000JGRP</th>\n",
              "      <th>B00000JGRQ</th>\n",
              "      <th>B00000JGRT</th>\n",
              "      <th>B00002N602</th>\n",
              "      <th>B00004OCIP</th>\n",
              "      <th>B00004OCIQ</th>\n",
              "      <th>B00004OCIU</th>\n",
              "      <th>B00004OCIX</th>\n",
              "      <th>B00004OCIZ</th>\n",
              "      <th>B00004OCJ6</th>\n",
              "      <th>B00004OCJ9</th>\n",
              "      <th>B00004OCJJ</th>\n",
              "      <th>B00004OCJK</th>\n",
              "      <th>B00004OCJN</th>\n",
              "      <th>B00004OCJO</th>\n",
              "      <th>B00004OCJQ</th>\n",
              "      <th>B00004OCJW</th>\n",
              "      <th>B00004OCK0</th>\n",
              "      <th>B00004OCK3</th>\n",
              "      <th>B00004OCKO</th>\n",
              "      <th>B00004OCKR</th>\n",
              "      <th>B00004OCKT</th>\n",
              "      <th>B00004OCL2</th>\n",
              "      <th>B00004OCL8</th>\n",
              "      <th>B00004OCL9</th>\n",
              "      <th>B00004OCLA</th>\n",
              "      <th>B00004OCLK</th>\n",
              "      <th>B00004OCLW</th>\n",
              "      <th>B00004OCM4</th>\n",
              "      <th>B00004OCMB</th>\n",
              "      <th>B00004OCMM</th>\n",
              "      <th>B00004OCMS</th>\n",
              "      <th>B00004OCMX</th>\n",
              "      <th>B00004OCMY</th>\n",
              "      <th>B00004OCNE</th>\n",
              "      <th>B00004OCNJ</th>\n",
              "      <th>B00004OCNK</th>\n",
              "      <th>B00004OCNL</th>\n",
              "      <th>B00004OCNQ</th>\n",
              "      <th>...</th>\n",
              "      <th>B00JW02L9W</th>\n",
              "      <th>B00JWXSPAS</th>\n",
              "      <th>B00JWY1PPE</th>\n",
              "      <th>B00JWYX7YQ</th>\n",
              "      <th>B00JWZCE08</th>\n",
              "      <th>B00JZKZPMO</th>\n",
              "      <th>B00JZL11V2</th>\n",
              "      <th>B00JZXYG9O</th>\n",
              "      <th>B00K11U0Y4</th>\n",
              "      <th>B00K4S1L1K</th>\n",
              "      <th>B00K4V4EWA</th>\n",
              "      <th>B00K6BCV7S</th>\n",
              "      <th>B00K7ILPYU</th>\n",
              "      <th>B00K7P0D9G</th>\n",
              "      <th>B00K8LHA3G</th>\n",
              "      <th>B00KAF5DLQ</th>\n",
              "      <th>B00KAJ3OY0</th>\n",
              "      <th>B00KAK443Y</th>\n",
              "      <th>B00KB7KNRM</th>\n",
              "      <th>B00KBQ1OHQ</th>\n",
              "      <th>B00KBUGQJS</th>\n",
              "      <th>B00KCFDB4U</th>\n",
              "      <th>B00KD83BMS</th>\n",
              "      <th>B00KDV5RZY</th>\n",
              "      <th>B00KFS40N0</th>\n",
              "      <th>B00KI2RQHU</th>\n",
              "      <th>B00KIVD1PC</th>\n",
              "      <th>B00KKYSBUW</th>\n",
              "      <th>B00KM9W2PU</th>\n",
              "      <th>B00KNPVL8W</th>\n",
              "      <th>B00KQCJ0CG</th>\n",
              "      <th>B00KQXDIG4</th>\n",
              "      <th>B00KSRQN0Q</th>\n",
              "      <th>B00KSRSZC0</th>\n",
              "      <th>B00KSRV3UQ</th>\n",
              "      <th>B00KSRXUC0</th>\n",
              "      <th>B00KW1ZDCM</th>\n",
              "      <th>B00KWKQ2MS</th>\n",
              "      <th>B00L8FQZ3M</th>\n",
              "      <th>B00LB18EKK</th>\n",
              "    </tr>\n",
              "    <tr>\n",
              "      <th>reviewerID</th>\n",
              "      <th></th>\n",
              "      <th></th>\n",
              "      <th></th>\n",
              "      <th></th>\n",
              "      <th></th>\n",
              "      <th></th>\n",
              "      <th></th>\n",
              "      <th></th>\n",
              "      <th></th>\n",
              "      <th></th>\n",
              "      <th></th>\n",
              "      <th></th>\n",
              "      <th></th>\n",
              "      <th></th>\n",
              "      <th></th>\n",
              "      <th></th>\n",
              "      <th></th>\n",
              "      <th></th>\n",
              "      <th></th>\n",
              "      <th></th>\n",
              "      <th></th>\n",
              "      <th></th>\n",
              "      <th></th>\n",
              "      <th></th>\n",
              "      <th></th>\n",
              "      <th></th>\n",
              "      <th></th>\n",
              "      <th></th>\n",
              "      <th></th>\n",
              "      <th></th>\n",
              "      <th></th>\n",
              "      <th></th>\n",
              "      <th></th>\n",
              "      <th></th>\n",
              "      <th></th>\n",
              "      <th></th>\n",
              "      <th></th>\n",
              "      <th></th>\n",
              "      <th></th>\n",
              "      <th></th>\n",
              "      <th></th>\n",
              "      <th></th>\n",
              "      <th></th>\n",
              "      <th></th>\n",
              "      <th></th>\n",
              "      <th></th>\n",
              "      <th></th>\n",
              "      <th></th>\n",
              "      <th></th>\n",
              "      <th></th>\n",
              "      <th></th>\n",
              "      <th></th>\n",
              "      <th></th>\n",
              "      <th></th>\n",
              "      <th></th>\n",
              "      <th></th>\n",
              "      <th></th>\n",
              "      <th></th>\n",
              "      <th></th>\n",
              "      <th></th>\n",
              "      <th></th>\n",
              "      <th></th>\n",
              "      <th></th>\n",
              "      <th></th>\n",
              "      <th></th>\n",
              "      <th></th>\n",
              "      <th></th>\n",
              "      <th></th>\n",
              "      <th></th>\n",
              "      <th></th>\n",
              "      <th></th>\n",
              "      <th></th>\n",
              "      <th></th>\n",
              "      <th></th>\n",
              "      <th></th>\n",
              "      <th></th>\n",
              "      <th></th>\n",
              "      <th></th>\n",
              "      <th></th>\n",
              "      <th></th>\n",
              "      <th></th>\n",
              "    </tr>\n",
              "  </thead>\n",
              "  <tbody>\n",
              "    <tr>\n",
              "      <th>A00473363TJ8YSZ3YAGG9</th>\n",
              "      <td>NaN</td>\n",
              "      <td>NaN</td>\n",
              "      <td>NaN</td>\n",
              "      <td>NaN</td>\n",
              "      <td>NaN</td>\n",
              "      <td>NaN</td>\n",
              "      <td>NaN</td>\n",
              "      <td>NaN</td>\n",
              "      <td>NaN</td>\n",
              "      <td>NaN</td>\n",
              "      <td>NaN</td>\n",
              "      <td>NaN</td>\n",
              "      <td>NaN</td>\n",
              "      <td>NaN</td>\n",
              "      <td>NaN</td>\n",
              "      <td>NaN</td>\n",
              "      <td>NaN</td>\n",
              "      <td>NaN</td>\n",
              "      <td>NaN</td>\n",
              "      <td>NaN</td>\n",
              "      <td>NaN</td>\n",
              "      <td>NaN</td>\n",
              "      <td>NaN</td>\n",
              "      <td>NaN</td>\n",
              "      <td>NaN</td>\n",
              "      <td>NaN</td>\n",
              "      <td>NaN</td>\n",
              "      <td>NaN</td>\n",
              "      <td>NaN</td>\n",
              "      <td>NaN</td>\n",
              "      <td>NaN</td>\n",
              "      <td>NaN</td>\n",
              "      <td>NaN</td>\n",
              "      <td>NaN</td>\n",
              "      <td>NaN</td>\n",
              "      <td>NaN</td>\n",
              "      <td>NaN</td>\n",
              "      <td>NaN</td>\n",
              "      <td>NaN</td>\n",
              "      <td>NaN</td>\n",
              "      <td>...</td>\n",
              "      <td>NaN</td>\n",
              "      <td>NaN</td>\n",
              "      <td>NaN</td>\n",
              "      <td>NaN</td>\n",
              "      <td>NaN</td>\n",
              "      <td>NaN</td>\n",
              "      <td>NaN</td>\n",
              "      <td>NaN</td>\n",
              "      <td>NaN</td>\n",
              "      <td>NaN</td>\n",
              "      <td>NaN</td>\n",
              "      <td>NaN</td>\n",
              "      <td>NaN</td>\n",
              "      <td>NaN</td>\n",
              "      <td>NaN</td>\n",
              "      <td>NaN</td>\n",
              "      <td>NaN</td>\n",
              "      <td>NaN</td>\n",
              "      <td>NaN</td>\n",
              "      <td>NaN</td>\n",
              "      <td>NaN</td>\n",
              "      <td>NaN</td>\n",
              "      <td>NaN</td>\n",
              "      <td>NaN</td>\n",
              "      <td>NaN</td>\n",
              "      <td>NaN</td>\n",
              "      <td>NaN</td>\n",
              "      <td>NaN</td>\n",
              "      <td>NaN</td>\n",
              "      <td>NaN</td>\n",
              "      <td>NaN</td>\n",
              "      <td>NaN</td>\n",
              "      <td>NaN</td>\n",
              "      <td>NaN</td>\n",
              "      <td>NaN</td>\n",
              "      <td>NaN</td>\n",
              "      <td>NaN</td>\n",
              "      <td>NaN</td>\n",
              "      <td>NaN</td>\n",
              "      <td>NaN</td>\n",
              "    </tr>\n",
              "    <tr>\n",
              "      <th>A00593903MCE5GXTAGGNL</th>\n",
              "      <td>NaN</td>\n",
              "      <td>NaN</td>\n",
              "      <td>NaN</td>\n",
              "      <td>NaN</td>\n",
              "      <td>NaN</td>\n",
              "      <td>NaN</td>\n",
              "      <td>NaN</td>\n",
              "      <td>NaN</td>\n",
              "      <td>NaN</td>\n",
              "      <td>NaN</td>\n",
              "      <td>NaN</td>\n",
              "      <td>NaN</td>\n",
              "      <td>NaN</td>\n",
              "      <td>NaN</td>\n",
              "      <td>NaN</td>\n",
              "      <td>NaN</td>\n",
              "      <td>NaN</td>\n",
              "      <td>NaN</td>\n",
              "      <td>NaN</td>\n",
              "      <td>NaN</td>\n",
              "      <td>NaN</td>\n",
              "      <td>NaN</td>\n",
              "      <td>NaN</td>\n",
              "      <td>NaN</td>\n",
              "      <td>NaN</td>\n",
              "      <td>NaN</td>\n",
              "      <td>NaN</td>\n",
              "      <td>NaN</td>\n",
              "      <td>NaN</td>\n",
              "      <td>NaN</td>\n",
              "      <td>NaN</td>\n",
              "      <td>NaN</td>\n",
              "      <td>NaN</td>\n",
              "      <td>NaN</td>\n",
              "      <td>NaN</td>\n",
              "      <td>NaN</td>\n",
              "      <td>NaN</td>\n",
              "      <td>NaN</td>\n",
              "      <td>NaN</td>\n",
              "      <td>NaN</td>\n",
              "      <td>...</td>\n",
              "      <td>NaN</td>\n",
              "      <td>NaN</td>\n",
              "      <td>NaN</td>\n",
              "      <td>NaN</td>\n",
              "      <td>NaN</td>\n",
              "      <td>NaN</td>\n",
              "      <td>NaN</td>\n",
              "      <td>NaN</td>\n",
              "      <td>NaN</td>\n",
              "      <td>NaN</td>\n",
              "      <td>NaN</td>\n",
              "      <td>NaN</td>\n",
              "      <td>NaN</td>\n",
              "      <td>NaN</td>\n",
              "      <td>NaN</td>\n",
              "      <td>NaN</td>\n",
              "      <td>NaN</td>\n",
              "      <td>NaN</td>\n",
              "      <td>NaN</td>\n",
              "      <td>NaN</td>\n",
              "      <td>NaN</td>\n",
              "      <td>NaN</td>\n",
              "      <td>NaN</td>\n",
              "      <td>NaN</td>\n",
              "      <td>NaN</td>\n",
              "      <td>NaN</td>\n",
              "      <td>NaN</td>\n",
              "      <td>NaN</td>\n",
              "      <td>NaN</td>\n",
              "      <td>NaN</td>\n",
              "      <td>NaN</td>\n",
              "      <td>NaN</td>\n",
              "      <td>NaN</td>\n",
              "      <td>NaN</td>\n",
              "      <td>NaN</td>\n",
              "      <td>NaN</td>\n",
              "      <td>NaN</td>\n",
              "      <td>NaN</td>\n",
              "      <td>NaN</td>\n",
              "      <td>NaN</td>\n",
              "    </tr>\n",
              "    <tr>\n",
              "      <th>A037357115LCU92V2R0YR</th>\n",
              "      <td>NaN</td>\n",
              "      <td>NaN</td>\n",
              "      <td>NaN</td>\n",
              "      <td>NaN</td>\n",
              "      <td>NaN</td>\n",
              "      <td>NaN</td>\n",
              "      <td>NaN</td>\n",
              "      <td>NaN</td>\n",
              "      <td>NaN</td>\n",
              "      <td>NaN</td>\n",
              "      <td>NaN</td>\n",
              "      <td>NaN</td>\n",
              "      <td>NaN</td>\n",
              "      <td>NaN</td>\n",
              "      <td>NaN</td>\n",
              "      <td>NaN</td>\n",
              "      <td>NaN</td>\n",
              "      <td>NaN</td>\n",
              "      <td>NaN</td>\n",
              "      <td>NaN</td>\n",
              "      <td>NaN</td>\n",
              "      <td>NaN</td>\n",
              "      <td>NaN</td>\n",
              "      <td>NaN</td>\n",
              "      <td>NaN</td>\n",
              "      <td>NaN</td>\n",
              "      <td>NaN</td>\n",
              "      <td>NaN</td>\n",
              "      <td>NaN</td>\n",
              "      <td>NaN</td>\n",
              "      <td>NaN</td>\n",
              "      <td>NaN</td>\n",
              "      <td>NaN</td>\n",
              "      <td>NaN</td>\n",
              "      <td>NaN</td>\n",
              "      <td>NaN</td>\n",
              "      <td>NaN</td>\n",
              "      <td>NaN</td>\n",
              "      <td>NaN</td>\n",
              "      <td>NaN</td>\n",
              "      <td>...</td>\n",
              "      <td>NaN</td>\n",
              "      <td>NaN</td>\n",
              "      <td>NaN</td>\n",
              "      <td>NaN</td>\n",
              "      <td>NaN</td>\n",
              "      <td>NaN</td>\n",
              "      <td>NaN</td>\n",
              "      <td>NaN</td>\n",
              "      <td>NaN</td>\n",
              "      <td>NaN</td>\n",
              "      <td>NaN</td>\n",
              "      <td>NaN</td>\n",
              "      <td>NaN</td>\n",
              "      <td>NaN</td>\n",
              "      <td>NaN</td>\n",
              "      <td>NaN</td>\n",
              "      <td>NaN</td>\n",
              "      <td>NaN</td>\n",
              "      <td>NaN</td>\n",
              "      <td>NaN</td>\n",
              "      <td>NaN</td>\n",
              "      <td>NaN</td>\n",
              "      <td>NaN</td>\n",
              "      <td>NaN</td>\n",
              "      <td>NaN</td>\n",
              "      <td>NaN</td>\n",
              "      <td>NaN</td>\n",
              "      <td>NaN</td>\n",
              "      <td>NaN</td>\n",
              "      <td>NaN</td>\n",
              "      <td>NaN</td>\n",
              "      <td>NaN</td>\n",
              "      <td>NaN</td>\n",
              "      <td>NaN</td>\n",
              "      <td>NaN</td>\n",
              "      <td>NaN</td>\n",
              "      <td>NaN</td>\n",
              "      <td>NaN</td>\n",
              "      <td>NaN</td>\n",
              "      <td>NaN</td>\n",
              "    </tr>\n",
              "  </tbody>\n",
              "</table>\n",
              "<p>3 rows × 3360 columns</p>\n",
              "</div>"
            ],
            "text/plain": [
              "asin                   0912696591  B00000JGRP  ...  B00L8FQZ3M  B00LB18EKK\n",
              "reviewerID                                     ...                        \n",
              "A00473363TJ8YSZ3YAGG9         NaN         NaN  ...         NaN         NaN\n",
              "A00593903MCE5GXTAGGNL         NaN         NaN  ...         NaN         NaN\n",
              "A037357115LCU92V2R0YR         NaN         NaN  ...         NaN         NaN\n",
              "\n",
              "[3 rows x 3360 columns]"
            ]
          },
          "metadata": {
            "tags": []
          },
          "execution_count": 5
        }
      ]
    },
    {
      "cell_type": "code",
      "metadata": {
        "id": "Z7t-5GcSLrK9"
      },
      "source": [
        "from sklearn.model_selection import train_test_split\n",
        "train, test = train_test_split(KitchenDining, test_size=0.2)"
      ],
      "execution_count": 6,
      "outputs": []
    },
    {
      "cell_type": "code",
      "metadata": {
        "colab": {
          "base_uri": "https://localhost:8080/"
        },
        "id": "Wjn_lHm7MFGx",
        "outputId": "3feb83d2-7874-4510-a59a-557cc360ab26"
      },
      "source": [
        "print(train.shape)\n",
        "print(test.shape)\n",
        "print(KitchenDining.shape)"
      ],
      "execution_count": 11,
      "outputs": [
        {
          "output_type": "stream",
          "text": [
            "(65558, 24)\n",
            "(16390, 24)\n",
            "(81948, 24)\n"
          ],
          "name": "stdout"
        }
      ]
    },
    {
      "cell_type": "code",
      "metadata": {
        "id": "xkKeVWyrNgZs"
      },
      "source": [
        "def evaluate(estimate_f):\n",
        "  \"\"\" RMSE-based predictive performance evaluation with pandas. \"\"\"\n",
        "  ids_to_estimate = zip(test.reviewerID, test.asin) \n",
        "  estimated = np.array([estimate_f(u,i) for (u,i) in ids_to_estimate])\n",
        "  real = test.overall.values\n",
        "  return np.sqrt(mean_squared_error(real, estimated))"
      ],
      "execution_count": 14,
      "outputs": []
    },
    {
      "cell_type": "code",
      "metadata": {
        "id": "TR1ruyUROoic"
      },
      "source": [
        "#Predict all reviews as 5 star and see how accurate it would be\n",
        "def simple_estimate_function(user_id, item_id): return 5"
      ],
      "execution_count": 16,
      "outputs": []
    },
    {
      "cell_type": "code",
      "metadata": {
        "colab": {
          "base_uri": "https://localhost:8080/"
        },
        "id": "-YDqLi3GPJxs",
        "outputId": "bc98fb1d-916c-45e4-f133-2c7b05fe64d9"
      },
      "source": [
        "print('RMSE for simple estimate function: %s' % evaluate(simple_estimate_function))"
      ],
      "execution_count": 18,
      "outputs": [
        {
          "output_type": "stream",
          "text": [
            "RMSE for simple estimate function: 1.1773746660820885\n"
          ],
          "name": "stdout"
        }
      ]
    },
    {
      "cell_type": "markdown",
      "metadata": {
        "id": "7itKjloNPYrv"
      },
      "source": [
        "Since we already know that most of the people rate 5 on the review. Let us set this estimation function as a threshold. A better model shall have a much smaller RMSE."
      ]
    },
    {
      "cell_type": "code",
      "metadata": {
        "colab": {
          "base_uri": "https://localhost:8080/"
        },
        "id": "BUEhD2DFQ_zb",
        "outputId": "97062374-e3df-4a2c-c7be-5d20cd765f2c"
      },
      "source": [
        "test.overall.isnull().sum()"
      ],
      "execution_count": 28,
      "outputs": [
        {
          "output_type": "execute_result",
          "data": {
            "text/plain": [
              "0"
            ]
          },
          "metadata": {
            "tags": []
          },
          "execution_count": 28
        }
      ]
    },
    {
      "cell_type": "code",
      "metadata": {
        "colab": {
          "base_uri": "https://localhost:8080/"
        },
        "id": "qB9zmqu1PWUc",
        "outputId": "a3d8e5d1-8717-4466-acfd-7997f66d363f"
      },
      "source": [
        "def content_mean(user_id, item_id):\n",
        "  \"\"\" Simple content-filtering based on mean ratings. \"\"\"\n",
        "  if user_id in train.reviewerID.to_list():\n",
        "    user_condition = train.reviewerID == user_id\n",
        "    return train.loc[user_condition, 'overall'].mean()\n",
        "  else:\n",
        "    return 5\n",
        "print('RMSE for content mean estimation: %s' % evaluate(content_mean))"
      ],
      "execution_count": 30,
      "outputs": [
        {
          "output_type": "stream",
          "text": [
            "RMSE for content mean estimation: 1.0365250483549582\n"
          ],
          "name": "stdout"
        }
      ]
    },
    {
      "cell_type": "code",
      "metadata": {
        "colab": {
          "base_uri": "https://localhost:8080/"
        },
        "id": "bb1YUB-eS6gJ",
        "outputId": "22248591-3385-449b-c8dc-56f5f8c045c3"
      },
      "source": [
        "def collaborative_mean(user_id, item_id):\n",
        "  \"\"\" Simple collaborative-filtering based on mean ratings. \"\"\"\n",
        "  if item_id in train.asin.to_list():\n",
        "    item_condition = train.asin == item_id\n",
        "    return train.loc[item_condition, 'overall'].mean()\n",
        "  else:\n",
        "    return 5\n",
        "print('RMSE for collaborative mean estimation: %s' % evaluate(collaborative_mean))"
      ],
      "execution_count": 32,
      "outputs": [
        {
          "output_type": "stream",
          "text": [
            "RMSE for collaborative mean estimation: 0.9851181675150297\n"
          ],
          "name": "stdout"
        }
      ]
    }
  ]
}