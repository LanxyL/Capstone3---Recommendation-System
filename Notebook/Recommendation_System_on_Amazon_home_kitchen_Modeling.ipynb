{
  "nbformat": 4,
  "nbformat_minor": 0,
  "metadata": {
    "colab": {
      "name": "Recommendation_System_on_Amazon_home_kitchen-Modeling.ipynb",
      "provenance": [],
      "authorship_tag": "ABX9TyN6/Rd6hJMwTLlR6Y4ye/tm",
      "include_colab_link": true
    },
    "kernelspec": {
      "name": "python3",
      "display_name": "Python 3"
    },
    "language_info": {
      "name": "python"
    }
  },
  "cells": [
    {
      "cell_type": "markdown",
      "metadata": {
        "id": "view-in-github",
        "colab_type": "text"
      },
      "source": [
        "<a href=\"https://colab.research.google.com/github/LanxyL/Capstone3---Recommendation-System/blob/main/Notebook/Recommendation_System_on_Amazon_home_kitchen_Modeling.ipynb\" target=\"_parent\"><img src=\"https://colab.research.google.com/assets/colab-badge.svg\" alt=\"Open In Colab\"/></a>"
      ]
    },
    {
      "cell_type": "markdown",
      "metadata": {
        "id": "H8mkbOFbJDnW"
      },
      "source": [
        "## Load Dataset"
      ]
    },
    {
      "cell_type": "code",
      "metadata": {
        "colab": {
          "base_uri": "https://localhost:8080/"
        },
        "id": "7Ypvhe5bH4L8",
        "outputId": "29106643-3481-4bd5-d947-a6dd8535d700"
      },
      "source": [
        "from google.colab import drive\n",
        "drive.mount('/content/drive')"
      ],
      "execution_count": 1,
      "outputs": [
        {
          "output_type": "stream",
          "text": [
            "Mounted at /content/drive\n"
          ],
          "name": "stdout"
        }
      ]
    },
    {
      "cell_type": "code",
      "metadata": {
        "id": "MPdKskzZKYV2"
      },
      "source": [
        "#imports\n",
        "import numpy as np\n",
        "import pandas as pd\n",
        "import matplotlib.pyplot as plt\n",
        "import seaborn as sns\n",
        "from sklearn.metrics import mean_squared_error\n",
        "from scipy import sparse\n",
        "from sklearn.metrics.pairwise import cosine_similarity"
      ],
      "execution_count": 85,
      "outputs": []
    },
    {
      "cell_type": "code",
      "metadata": {
        "id": "3Xra1kXyJw_Q"
      },
      "source": [
        "#Read Kitchen&Dining Dataset from last notebook\n",
        "KitchenDining = pd.read_csv('drive/My Drive/Recommendation_System/KitchenDining80000.csv')"
      ],
      "execution_count": 3,
      "outputs": []
    },
    {
      "cell_type": "code",
      "metadata": {
        "colab": {
          "base_uri": "https://localhost:8080/",
          "height": 222
        },
        "id": "tyR86bTmKoSZ",
        "outputId": "4e7dc364-72ff-491b-b2fb-0db831a608cb"
      },
      "source": [
        "# transform the ratings frame into a ratings matrix\n",
        "ratings_mtx_df = KitchenDining.pivot_table(values='overall',\n",
        "                                           index='reviewerID',\n",
        "                                           columns='asin')\n",
        "ratings_mtx_df.head(3)"
      ],
      "execution_count": 4,
      "outputs": [
        {
          "output_type": "execute_result",
          "data": {
            "text/html": [
              "<div>\n",
              "<style scoped>\n",
              "    .dataframe tbody tr th:only-of-type {\n",
              "        vertical-align: middle;\n",
              "    }\n",
              "\n",
              "    .dataframe tbody tr th {\n",
              "        vertical-align: top;\n",
              "    }\n",
              "\n",
              "    .dataframe thead th {\n",
              "        text-align: right;\n",
              "    }\n",
              "</style>\n",
              "<table border=\"1\" class=\"dataframe\">\n",
              "  <thead>\n",
              "    <tr style=\"text-align: right;\">\n",
              "      <th>asin</th>\n",
              "      <th>0912696591</th>\n",
              "      <th>B00000JGRP</th>\n",
              "      <th>B00000JGRQ</th>\n",
              "      <th>B00000JGRT</th>\n",
              "      <th>B00002N602</th>\n",
              "      <th>B00004OCIP</th>\n",
              "      <th>B00004OCIQ</th>\n",
              "      <th>B00004OCIU</th>\n",
              "      <th>B00004OCIX</th>\n",
              "      <th>B00004OCIZ</th>\n",
              "      <th>B00004OCJ6</th>\n",
              "      <th>B00004OCJ9</th>\n",
              "      <th>B00004OCJJ</th>\n",
              "      <th>B00004OCJK</th>\n",
              "      <th>B00004OCJN</th>\n",
              "      <th>B00004OCJO</th>\n",
              "      <th>B00004OCJQ</th>\n",
              "      <th>B00004OCJW</th>\n",
              "      <th>B00004OCK0</th>\n",
              "      <th>B00004OCK3</th>\n",
              "      <th>B00004OCKO</th>\n",
              "      <th>B00004OCKR</th>\n",
              "      <th>B00004OCKT</th>\n",
              "      <th>B00004OCL2</th>\n",
              "      <th>B00004OCL8</th>\n",
              "      <th>B00004OCL9</th>\n",
              "      <th>B00004OCLA</th>\n",
              "      <th>B00004OCLK</th>\n",
              "      <th>B00004OCLW</th>\n",
              "      <th>B00004OCM4</th>\n",
              "      <th>B00004OCMB</th>\n",
              "      <th>B00004OCMM</th>\n",
              "      <th>B00004OCMS</th>\n",
              "      <th>B00004OCMX</th>\n",
              "      <th>B00004OCMY</th>\n",
              "      <th>B00004OCNE</th>\n",
              "      <th>B00004OCNJ</th>\n",
              "      <th>B00004OCNK</th>\n",
              "      <th>B00004OCNL</th>\n",
              "      <th>B00004OCNQ</th>\n",
              "      <th>...</th>\n",
              "      <th>B00JW02L9W</th>\n",
              "      <th>B00JWXSPAS</th>\n",
              "      <th>B00JWY1PPE</th>\n",
              "      <th>B00JWYX7YQ</th>\n",
              "      <th>B00JWZCE08</th>\n",
              "      <th>B00JZKZPMO</th>\n",
              "      <th>B00JZL11V2</th>\n",
              "      <th>B00JZXYG9O</th>\n",
              "      <th>B00K11U0Y4</th>\n",
              "      <th>B00K4S1L1K</th>\n",
              "      <th>B00K4V4EWA</th>\n",
              "      <th>B00K6BCV7S</th>\n",
              "      <th>B00K7ILPYU</th>\n",
              "      <th>B00K7P0D9G</th>\n",
              "      <th>B00K8LHA3G</th>\n",
              "      <th>B00KAF5DLQ</th>\n",
              "      <th>B00KAJ3OY0</th>\n",
              "      <th>B00KAK443Y</th>\n",
              "      <th>B00KB7KNRM</th>\n",
              "      <th>B00KBQ1OHQ</th>\n",
              "      <th>B00KBUGQJS</th>\n",
              "      <th>B00KCFDB4U</th>\n",
              "      <th>B00KD83BMS</th>\n",
              "      <th>B00KDV5RZY</th>\n",
              "      <th>B00KFS40N0</th>\n",
              "      <th>B00KI2RQHU</th>\n",
              "      <th>B00KIVD1PC</th>\n",
              "      <th>B00KKYSBUW</th>\n",
              "      <th>B00KM9W2PU</th>\n",
              "      <th>B00KNPVL8W</th>\n",
              "      <th>B00KQCJ0CG</th>\n",
              "      <th>B00KQXDIG4</th>\n",
              "      <th>B00KSRQN0Q</th>\n",
              "      <th>B00KSRSZC0</th>\n",
              "      <th>B00KSRV3UQ</th>\n",
              "      <th>B00KSRXUC0</th>\n",
              "      <th>B00KW1ZDCM</th>\n",
              "      <th>B00KWKQ2MS</th>\n",
              "      <th>B00L8FQZ3M</th>\n",
              "      <th>B00LB18EKK</th>\n",
              "    </tr>\n",
              "    <tr>\n",
              "      <th>reviewerID</th>\n",
              "      <th></th>\n",
              "      <th></th>\n",
              "      <th></th>\n",
              "      <th></th>\n",
              "      <th></th>\n",
              "      <th></th>\n",
              "      <th></th>\n",
              "      <th></th>\n",
              "      <th></th>\n",
              "      <th></th>\n",
              "      <th></th>\n",
              "      <th></th>\n",
              "      <th></th>\n",
              "      <th></th>\n",
              "      <th></th>\n",
              "      <th></th>\n",
              "      <th></th>\n",
              "      <th></th>\n",
              "      <th></th>\n",
              "      <th></th>\n",
              "      <th></th>\n",
              "      <th></th>\n",
              "      <th></th>\n",
              "      <th></th>\n",
              "      <th></th>\n",
              "      <th></th>\n",
              "      <th></th>\n",
              "      <th></th>\n",
              "      <th></th>\n",
              "      <th></th>\n",
              "      <th></th>\n",
              "      <th></th>\n",
              "      <th></th>\n",
              "      <th></th>\n",
              "      <th></th>\n",
              "      <th></th>\n",
              "      <th></th>\n",
              "      <th></th>\n",
              "      <th></th>\n",
              "      <th></th>\n",
              "      <th></th>\n",
              "      <th></th>\n",
              "      <th></th>\n",
              "      <th></th>\n",
              "      <th></th>\n",
              "      <th></th>\n",
              "      <th></th>\n",
              "      <th></th>\n",
              "      <th></th>\n",
              "      <th></th>\n",
              "      <th></th>\n",
              "      <th></th>\n",
              "      <th></th>\n",
              "      <th></th>\n",
              "      <th></th>\n",
              "      <th></th>\n",
              "      <th></th>\n",
              "      <th></th>\n",
              "      <th></th>\n",
              "      <th></th>\n",
              "      <th></th>\n",
              "      <th></th>\n",
              "      <th></th>\n",
              "      <th></th>\n",
              "      <th></th>\n",
              "      <th></th>\n",
              "      <th></th>\n",
              "      <th></th>\n",
              "      <th></th>\n",
              "      <th></th>\n",
              "      <th></th>\n",
              "      <th></th>\n",
              "      <th></th>\n",
              "      <th></th>\n",
              "      <th></th>\n",
              "      <th></th>\n",
              "      <th></th>\n",
              "      <th></th>\n",
              "      <th></th>\n",
              "      <th></th>\n",
              "      <th></th>\n",
              "    </tr>\n",
              "  </thead>\n",
              "  <tbody>\n",
              "    <tr>\n",
              "      <th>A00473363TJ8YSZ3YAGG9</th>\n",
              "      <td>NaN</td>\n",
              "      <td>NaN</td>\n",
              "      <td>NaN</td>\n",
              "      <td>NaN</td>\n",
              "      <td>NaN</td>\n",
              "      <td>NaN</td>\n",
              "      <td>NaN</td>\n",
              "      <td>NaN</td>\n",
              "      <td>NaN</td>\n",
              "      <td>NaN</td>\n",
              "      <td>NaN</td>\n",
              "      <td>NaN</td>\n",
              "      <td>NaN</td>\n",
              "      <td>NaN</td>\n",
              "      <td>NaN</td>\n",
              "      <td>NaN</td>\n",
              "      <td>NaN</td>\n",
              "      <td>NaN</td>\n",
              "      <td>NaN</td>\n",
              "      <td>NaN</td>\n",
              "      <td>NaN</td>\n",
              "      <td>NaN</td>\n",
              "      <td>NaN</td>\n",
              "      <td>NaN</td>\n",
              "      <td>NaN</td>\n",
              "      <td>NaN</td>\n",
              "      <td>NaN</td>\n",
              "      <td>NaN</td>\n",
              "      <td>NaN</td>\n",
              "      <td>NaN</td>\n",
              "      <td>NaN</td>\n",
              "      <td>NaN</td>\n",
              "      <td>NaN</td>\n",
              "      <td>NaN</td>\n",
              "      <td>NaN</td>\n",
              "      <td>NaN</td>\n",
              "      <td>NaN</td>\n",
              "      <td>NaN</td>\n",
              "      <td>NaN</td>\n",
              "      <td>NaN</td>\n",
              "      <td>...</td>\n",
              "      <td>NaN</td>\n",
              "      <td>NaN</td>\n",
              "      <td>NaN</td>\n",
              "      <td>NaN</td>\n",
              "      <td>NaN</td>\n",
              "      <td>NaN</td>\n",
              "      <td>NaN</td>\n",
              "      <td>NaN</td>\n",
              "      <td>NaN</td>\n",
              "      <td>NaN</td>\n",
              "      <td>NaN</td>\n",
              "      <td>NaN</td>\n",
              "      <td>NaN</td>\n",
              "      <td>NaN</td>\n",
              "      <td>NaN</td>\n",
              "      <td>NaN</td>\n",
              "      <td>NaN</td>\n",
              "      <td>NaN</td>\n",
              "      <td>NaN</td>\n",
              "      <td>NaN</td>\n",
              "      <td>NaN</td>\n",
              "      <td>NaN</td>\n",
              "      <td>NaN</td>\n",
              "      <td>NaN</td>\n",
              "      <td>NaN</td>\n",
              "      <td>NaN</td>\n",
              "      <td>NaN</td>\n",
              "      <td>NaN</td>\n",
              "      <td>NaN</td>\n",
              "      <td>NaN</td>\n",
              "      <td>NaN</td>\n",
              "      <td>NaN</td>\n",
              "      <td>NaN</td>\n",
              "      <td>NaN</td>\n",
              "      <td>NaN</td>\n",
              "      <td>NaN</td>\n",
              "      <td>NaN</td>\n",
              "      <td>NaN</td>\n",
              "      <td>NaN</td>\n",
              "      <td>NaN</td>\n",
              "    </tr>\n",
              "    <tr>\n",
              "      <th>A00593903MCE5GXTAGGNL</th>\n",
              "      <td>NaN</td>\n",
              "      <td>NaN</td>\n",
              "      <td>NaN</td>\n",
              "      <td>NaN</td>\n",
              "      <td>NaN</td>\n",
              "      <td>NaN</td>\n",
              "      <td>NaN</td>\n",
              "      <td>NaN</td>\n",
              "      <td>NaN</td>\n",
              "      <td>NaN</td>\n",
              "      <td>NaN</td>\n",
              "      <td>NaN</td>\n",
              "      <td>NaN</td>\n",
              "      <td>NaN</td>\n",
              "      <td>NaN</td>\n",
              "      <td>NaN</td>\n",
              "      <td>NaN</td>\n",
              "      <td>NaN</td>\n",
              "      <td>NaN</td>\n",
              "      <td>NaN</td>\n",
              "      <td>NaN</td>\n",
              "      <td>NaN</td>\n",
              "      <td>NaN</td>\n",
              "      <td>NaN</td>\n",
              "      <td>NaN</td>\n",
              "      <td>NaN</td>\n",
              "      <td>NaN</td>\n",
              "      <td>NaN</td>\n",
              "      <td>NaN</td>\n",
              "      <td>NaN</td>\n",
              "      <td>NaN</td>\n",
              "      <td>NaN</td>\n",
              "      <td>NaN</td>\n",
              "      <td>NaN</td>\n",
              "      <td>NaN</td>\n",
              "      <td>NaN</td>\n",
              "      <td>NaN</td>\n",
              "      <td>NaN</td>\n",
              "      <td>NaN</td>\n",
              "      <td>NaN</td>\n",
              "      <td>...</td>\n",
              "      <td>NaN</td>\n",
              "      <td>NaN</td>\n",
              "      <td>NaN</td>\n",
              "      <td>NaN</td>\n",
              "      <td>NaN</td>\n",
              "      <td>NaN</td>\n",
              "      <td>NaN</td>\n",
              "      <td>NaN</td>\n",
              "      <td>NaN</td>\n",
              "      <td>NaN</td>\n",
              "      <td>NaN</td>\n",
              "      <td>NaN</td>\n",
              "      <td>NaN</td>\n",
              "      <td>NaN</td>\n",
              "      <td>NaN</td>\n",
              "      <td>NaN</td>\n",
              "      <td>NaN</td>\n",
              "      <td>NaN</td>\n",
              "      <td>NaN</td>\n",
              "      <td>NaN</td>\n",
              "      <td>NaN</td>\n",
              "      <td>NaN</td>\n",
              "      <td>NaN</td>\n",
              "      <td>NaN</td>\n",
              "      <td>NaN</td>\n",
              "      <td>NaN</td>\n",
              "      <td>NaN</td>\n",
              "      <td>NaN</td>\n",
              "      <td>NaN</td>\n",
              "      <td>NaN</td>\n",
              "      <td>NaN</td>\n",
              "      <td>NaN</td>\n",
              "      <td>NaN</td>\n",
              "      <td>NaN</td>\n",
              "      <td>NaN</td>\n",
              "      <td>NaN</td>\n",
              "      <td>NaN</td>\n",
              "      <td>NaN</td>\n",
              "      <td>NaN</td>\n",
              "      <td>NaN</td>\n",
              "    </tr>\n",
              "    <tr>\n",
              "      <th>A037357115LCU92V2R0YR</th>\n",
              "      <td>NaN</td>\n",
              "      <td>NaN</td>\n",
              "      <td>NaN</td>\n",
              "      <td>NaN</td>\n",
              "      <td>NaN</td>\n",
              "      <td>NaN</td>\n",
              "      <td>NaN</td>\n",
              "      <td>NaN</td>\n",
              "      <td>NaN</td>\n",
              "      <td>NaN</td>\n",
              "      <td>NaN</td>\n",
              "      <td>NaN</td>\n",
              "      <td>NaN</td>\n",
              "      <td>NaN</td>\n",
              "      <td>NaN</td>\n",
              "      <td>NaN</td>\n",
              "      <td>NaN</td>\n",
              "      <td>NaN</td>\n",
              "      <td>NaN</td>\n",
              "      <td>NaN</td>\n",
              "      <td>NaN</td>\n",
              "      <td>NaN</td>\n",
              "      <td>NaN</td>\n",
              "      <td>NaN</td>\n",
              "      <td>NaN</td>\n",
              "      <td>NaN</td>\n",
              "      <td>NaN</td>\n",
              "      <td>NaN</td>\n",
              "      <td>NaN</td>\n",
              "      <td>NaN</td>\n",
              "      <td>NaN</td>\n",
              "      <td>NaN</td>\n",
              "      <td>NaN</td>\n",
              "      <td>NaN</td>\n",
              "      <td>NaN</td>\n",
              "      <td>NaN</td>\n",
              "      <td>NaN</td>\n",
              "      <td>NaN</td>\n",
              "      <td>NaN</td>\n",
              "      <td>NaN</td>\n",
              "      <td>...</td>\n",
              "      <td>NaN</td>\n",
              "      <td>NaN</td>\n",
              "      <td>NaN</td>\n",
              "      <td>NaN</td>\n",
              "      <td>NaN</td>\n",
              "      <td>NaN</td>\n",
              "      <td>NaN</td>\n",
              "      <td>NaN</td>\n",
              "      <td>NaN</td>\n",
              "      <td>NaN</td>\n",
              "      <td>NaN</td>\n",
              "      <td>NaN</td>\n",
              "      <td>NaN</td>\n",
              "      <td>NaN</td>\n",
              "      <td>NaN</td>\n",
              "      <td>NaN</td>\n",
              "      <td>NaN</td>\n",
              "      <td>NaN</td>\n",
              "      <td>NaN</td>\n",
              "      <td>NaN</td>\n",
              "      <td>NaN</td>\n",
              "      <td>NaN</td>\n",
              "      <td>NaN</td>\n",
              "      <td>NaN</td>\n",
              "      <td>NaN</td>\n",
              "      <td>NaN</td>\n",
              "      <td>NaN</td>\n",
              "      <td>NaN</td>\n",
              "      <td>NaN</td>\n",
              "      <td>NaN</td>\n",
              "      <td>NaN</td>\n",
              "      <td>NaN</td>\n",
              "      <td>NaN</td>\n",
              "      <td>NaN</td>\n",
              "      <td>NaN</td>\n",
              "      <td>NaN</td>\n",
              "      <td>NaN</td>\n",
              "      <td>NaN</td>\n",
              "      <td>NaN</td>\n",
              "      <td>NaN</td>\n",
              "    </tr>\n",
              "  </tbody>\n",
              "</table>\n",
              "<p>3 rows × 3360 columns</p>\n",
              "</div>"
            ],
            "text/plain": [
              "asin                   0912696591  B00000JGRP  ...  B00L8FQZ3M  B00LB18EKK\n",
              "reviewerID                                     ...                        \n",
              "A00473363TJ8YSZ3YAGG9         NaN         NaN  ...         NaN         NaN\n",
              "A00593903MCE5GXTAGGNL         NaN         NaN  ...         NaN         NaN\n",
              "A037357115LCU92V2R0YR         NaN         NaN  ...         NaN         NaN\n",
              "\n",
              "[3 rows x 3360 columns]"
            ]
          },
          "metadata": {
            "tags": []
          },
          "execution_count": 4
        }
      ]
    },
    {
      "cell_type": "code",
      "metadata": {
        "id": "Z7t-5GcSLrK9"
      },
      "source": [
        "from sklearn.model_selection import train_test_split\n",
        "train, test = train_test_split(KitchenDining, test_size=0.2)"
      ],
      "execution_count": 5,
      "outputs": []
    },
    {
      "cell_type": "code",
      "metadata": {
        "colab": {
          "base_uri": "https://localhost:8080/"
        },
        "id": "Wjn_lHm7MFGx",
        "outputId": "dd3ef609-da1e-473a-bd44-c3cf6319f898"
      },
      "source": [
        "print(train.shape)\n",
        "print(test.shape)\n",
        "print(KitchenDining.shape)"
      ],
      "execution_count": 6,
      "outputs": [
        {
          "output_type": "stream",
          "text": [
            "(65558, 24)\n",
            "(16390, 24)\n",
            "(81948, 24)\n"
          ],
          "name": "stdout"
        }
      ]
    },
    {
      "cell_type": "code",
      "metadata": {
        "colab": {
          "base_uri": "https://localhost:8080/",
          "height": 222
        },
        "id": "qppYT5Wds5ri",
        "outputId": "85c1db95-3f2c-450f-c5d8-12062ae1a454"
      },
      "source": [
        "# transform the train ratings frame into a ratings matrix\n",
        "train_sparse = train.pivot_table(values='overall',\n",
        "                                 index='reviewerID',\n",
        "                                 columns='asin')\n",
        "train_sparse.head(3)"
      ],
      "execution_count": 58,
      "outputs": [
        {
          "output_type": "execute_result",
          "data": {
            "text/html": [
              "<div>\n",
              "<style scoped>\n",
              "    .dataframe tbody tr th:only-of-type {\n",
              "        vertical-align: middle;\n",
              "    }\n",
              "\n",
              "    .dataframe tbody tr th {\n",
              "        vertical-align: top;\n",
              "    }\n",
              "\n",
              "    .dataframe thead th {\n",
              "        text-align: right;\n",
              "    }\n",
              "</style>\n",
              "<table border=\"1\" class=\"dataframe\">\n",
              "  <thead>\n",
              "    <tr style=\"text-align: right;\">\n",
              "      <th>asin</th>\n",
              "      <th>0912696591</th>\n",
              "      <th>B00000JGRP</th>\n",
              "      <th>B00000JGRQ</th>\n",
              "      <th>B00000JGRT</th>\n",
              "      <th>B00002N602</th>\n",
              "      <th>B00004OCIP</th>\n",
              "      <th>B00004OCIQ</th>\n",
              "      <th>B00004OCIU</th>\n",
              "      <th>B00004OCIX</th>\n",
              "      <th>B00004OCIZ</th>\n",
              "      <th>B00004OCJ6</th>\n",
              "      <th>B00004OCJ9</th>\n",
              "      <th>B00004OCJJ</th>\n",
              "      <th>B00004OCJK</th>\n",
              "      <th>B00004OCJN</th>\n",
              "      <th>B00004OCJO</th>\n",
              "      <th>B00004OCJQ</th>\n",
              "      <th>B00004OCJW</th>\n",
              "      <th>B00004OCK0</th>\n",
              "      <th>B00004OCK3</th>\n",
              "      <th>B00004OCKO</th>\n",
              "      <th>B00004OCKR</th>\n",
              "      <th>B00004OCKT</th>\n",
              "      <th>B00004OCL2</th>\n",
              "      <th>B00004OCL8</th>\n",
              "      <th>B00004OCL9</th>\n",
              "      <th>B00004OCLA</th>\n",
              "      <th>B00004OCLK</th>\n",
              "      <th>B00004OCLW</th>\n",
              "      <th>B00004OCM4</th>\n",
              "      <th>B00004OCMB</th>\n",
              "      <th>B00004OCMM</th>\n",
              "      <th>B00004OCMS</th>\n",
              "      <th>B00004OCMX</th>\n",
              "      <th>B00004OCMY</th>\n",
              "      <th>B00004OCNE</th>\n",
              "      <th>B00004OCNJ</th>\n",
              "      <th>B00004OCNK</th>\n",
              "      <th>B00004OCNL</th>\n",
              "      <th>B00004OCNQ</th>\n",
              "      <th>...</th>\n",
              "      <th>B00JW02L9W</th>\n",
              "      <th>B00JWXSPAS</th>\n",
              "      <th>B00JWY1PPE</th>\n",
              "      <th>B00JWYX7YQ</th>\n",
              "      <th>B00JWZCE08</th>\n",
              "      <th>B00JZKZPMO</th>\n",
              "      <th>B00JZL11V2</th>\n",
              "      <th>B00JZXYG9O</th>\n",
              "      <th>B00K11U0Y4</th>\n",
              "      <th>B00K4S1L1K</th>\n",
              "      <th>B00K4V4EWA</th>\n",
              "      <th>B00K6BCV7S</th>\n",
              "      <th>B00K7ILPYU</th>\n",
              "      <th>B00K7P0D9G</th>\n",
              "      <th>B00K8LHA3G</th>\n",
              "      <th>B00KAF5DLQ</th>\n",
              "      <th>B00KAJ3OY0</th>\n",
              "      <th>B00KAK443Y</th>\n",
              "      <th>B00KB7KNRM</th>\n",
              "      <th>B00KBQ1OHQ</th>\n",
              "      <th>B00KBUGQJS</th>\n",
              "      <th>B00KCFDB4U</th>\n",
              "      <th>B00KD83BMS</th>\n",
              "      <th>B00KDV5RZY</th>\n",
              "      <th>B00KFS40N0</th>\n",
              "      <th>B00KI2RQHU</th>\n",
              "      <th>B00KIVD1PC</th>\n",
              "      <th>B00KKYSBUW</th>\n",
              "      <th>B00KM9W2PU</th>\n",
              "      <th>B00KNPVL8W</th>\n",
              "      <th>B00KQCJ0CG</th>\n",
              "      <th>B00KQXDIG4</th>\n",
              "      <th>B00KSRQN0Q</th>\n",
              "      <th>B00KSRSZC0</th>\n",
              "      <th>B00KSRV3UQ</th>\n",
              "      <th>B00KSRXUC0</th>\n",
              "      <th>B00KW1ZDCM</th>\n",
              "      <th>B00KWKQ2MS</th>\n",
              "      <th>B00L8FQZ3M</th>\n",
              "      <th>B00LB18EKK</th>\n",
              "    </tr>\n",
              "    <tr>\n",
              "      <th>reviewerID</th>\n",
              "      <th></th>\n",
              "      <th></th>\n",
              "      <th></th>\n",
              "      <th></th>\n",
              "      <th></th>\n",
              "      <th></th>\n",
              "      <th></th>\n",
              "      <th></th>\n",
              "      <th></th>\n",
              "      <th></th>\n",
              "      <th></th>\n",
              "      <th></th>\n",
              "      <th></th>\n",
              "      <th></th>\n",
              "      <th></th>\n",
              "      <th></th>\n",
              "      <th></th>\n",
              "      <th></th>\n",
              "      <th></th>\n",
              "      <th></th>\n",
              "      <th></th>\n",
              "      <th></th>\n",
              "      <th></th>\n",
              "      <th></th>\n",
              "      <th></th>\n",
              "      <th></th>\n",
              "      <th></th>\n",
              "      <th></th>\n",
              "      <th></th>\n",
              "      <th></th>\n",
              "      <th></th>\n",
              "      <th></th>\n",
              "      <th></th>\n",
              "      <th></th>\n",
              "      <th></th>\n",
              "      <th></th>\n",
              "      <th></th>\n",
              "      <th></th>\n",
              "      <th></th>\n",
              "      <th></th>\n",
              "      <th></th>\n",
              "      <th></th>\n",
              "      <th></th>\n",
              "      <th></th>\n",
              "      <th></th>\n",
              "      <th></th>\n",
              "      <th></th>\n",
              "      <th></th>\n",
              "      <th></th>\n",
              "      <th></th>\n",
              "      <th></th>\n",
              "      <th></th>\n",
              "      <th></th>\n",
              "      <th></th>\n",
              "      <th></th>\n",
              "      <th></th>\n",
              "      <th></th>\n",
              "      <th></th>\n",
              "      <th></th>\n",
              "      <th></th>\n",
              "      <th></th>\n",
              "      <th></th>\n",
              "      <th></th>\n",
              "      <th></th>\n",
              "      <th></th>\n",
              "      <th></th>\n",
              "      <th></th>\n",
              "      <th></th>\n",
              "      <th></th>\n",
              "      <th></th>\n",
              "      <th></th>\n",
              "      <th></th>\n",
              "      <th></th>\n",
              "      <th></th>\n",
              "      <th></th>\n",
              "      <th></th>\n",
              "      <th></th>\n",
              "      <th></th>\n",
              "      <th></th>\n",
              "      <th></th>\n",
              "      <th></th>\n",
              "    </tr>\n",
              "  </thead>\n",
              "  <tbody>\n",
              "    <tr>\n",
              "      <th>A00473363TJ8YSZ3YAGG9</th>\n",
              "      <td>NaN</td>\n",
              "      <td>NaN</td>\n",
              "      <td>NaN</td>\n",
              "      <td>NaN</td>\n",
              "      <td>NaN</td>\n",
              "      <td>NaN</td>\n",
              "      <td>NaN</td>\n",
              "      <td>NaN</td>\n",
              "      <td>NaN</td>\n",
              "      <td>NaN</td>\n",
              "      <td>NaN</td>\n",
              "      <td>NaN</td>\n",
              "      <td>NaN</td>\n",
              "      <td>NaN</td>\n",
              "      <td>NaN</td>\n",
              "      <td>NaN</td>\n",
              "      <td>NaN</td>\n",
              "      <td>NaN</td>\n",
              "      <td>NaN</td>\n",
              "      <td>NaN</td>\n",
              "      <td>NaN</td>\n",
              "      <td>NaN</td>\n",
              "      <td>NaN</td>\n",
              "      <td>NaN</td>\n",
              "      <td>NaN</td>\n",
              "      <td>NaN</td>\n",
              "      <td>NaN</td>\n",
              "      <td>NaN</td>\n",
              "      <td>NaN</td>\n",
              "      <td>NaN</td>\n",
              "      <td>NaN</td>\n",
              "      <td>NaN</td>\n",
              "      <td>NaN</td>\n",
              "      <td>NaN</td>\n",
              "      <td>NaN</td>\n",
              "      <td>NaN</td>\n",
              "      <td>NaN</td>\n",
              "      <td>NaN</td>\n",
              "      <td>NaN</td>\n",
              "      <td>NaN</td>\n",
              "      <td>...</td>\n",
              "      <td>NaN</td>\n",
              "      <td>NaN</td>\n",
              "      <td>NaN</td>\n",
              "      <td>NaN</td>\n",
              "      <td>NaN</td>\n",
              "      <td>NaN</td>\n",
              "      <td>NaN</td>\n",
              "      <td>NaN</td>\n",
              "      <td>NaN</td>\n",
              "      <td>NaN</td>\n",
              "      <td>NaN</td>\n",
              "      <td>NaN</td>\n",
              "      <td>NaN</td>\n",
              "      <td>NaN</td>\n",
              "      <td>NaN</td>\n",
              "      <td>NaN</td>\n",
              "      <td>NaN</td>\n",
              "      <td>NaN</td>\n",
              "      <td>NaN</td>\n",
              "      <td>NaN</td>\n",
              "      <td>NaN</td>\n",
              "      <td>NaN</td>\n",
              "      <td>NaN</td>\n",
              "      <td>NaN</td>\n",
              "      <td>NaN</td>\n",
              "      <td>NaN</td>\n",
              "      <td>NaN</td>\n",
              "      <td>NaN</td>\n",
              "      <td>NaN</td>\n",
              "      <td>NaN</td>\n",
              "      <td>NaN</td>\n",
              "      <td>NaN</td>\n",
              "      <td>NaN</td>\n",
              "      <td>NaN</td>\n",
              "      <td>NaN</td>\n",
              "      <td>NaN</td>\n",
              "      <td>NaN</td>\n",
              "      <td>NaN</td>\n",
              "      <td>NaN</td>\n",
              "      <td>NaN</td>\n",
              "    </tr>\n",
              "    <tr>\n",
              "      <th>A00593903MCE5GXTAGGNL</th>\n",
              "      <td>NaN</td>\n",
              "      <td>NaN</td>\n",
              "      <td>NaN</td>\n",
              "      <td>NaN</td>\n",
              "      <td>NaN</td>\n",
              "      <td>NaN</td>\n",
              "      <td>NaN</td>\n",
              "      <td>NaN</td>\n",
              "      <td>NaN</td>\n",
              "      <td>NaN</td>\n",
              "      <td>NaN</td>\n",
              "      <td>NaN</td>\n",
              "      <td>NaN</td>\n",
              "      <td>NaN</td>\n",
              "      <td>NaN</td>\n",
              "      <td>NaN</td>\n",
              "      <td>NaN</td>\n",
              "      <td>NaN</td>\n",
              "      <td>NaN</td>\n",
              "      <td>NaN</td>\n",
              "      <td>NaN</td>\n",
              "      <td>NaN</td>\n",
              "      <td>NaN</td>\n",
              "      <td>NaN</td>\n",
              "      <td>NaN</td>\n",
              "      <td>NaN</td>\n",
              "      <td>NaN</td>\n",
              "      <td>NaN</td>\n",
              "      <td>NaN</td>\n",
              "      <td>NaN</td>\n",
              "      <td>NaN</td>\n",
              "      <td>NaN</td>\n",
              "      <td>NaN</td>\n",
              "      <td>NaN</td>\n",
              "      <td>NaN</td>\n",
              "      <td>NaN</td>\n",
              "      <td>NaN</td>\n",
              "      <td>NaN</td>\n",
              "      <td>NaN</td>\n",
              "      <td>NaN</td>\n",
              "      <td>...</td>\n",
              "      <td>NaN</td>\n",
              "      <td>NaN</td>\n",
              "      <td>NaN</td>\n",
              "      <td>NaN</td>\n",
              "      <td>NaN</td>\n",
              "      <td>NaN</td>\n",
              "      <td>NaN</td>\n",
              "      <td>NaN</td>\n",
              "      <td>NaN</td>\n",
              "      <td>NaN</td>\n",
              "      <td>NaN</td>\n",
              "      <td>NaN</td>\n",
              "      <td>NaN</td>\n",
              "      <td>NaN</td>\n",
              "      <td>NaN</td>\n",
              "      <td>NaN</td>\n",
              "      <td>NaN</td>\n",
              "      <td>NaN</td>\n",
              "      <td>NaN</td>\n",
              "      <td>NaN</td>\n",
              "      <td>NaN</td>\n",
              "      <td>NaN</td>\n",
              "      <td>NaN</td>\n",
              "      <td>NaN</td>\n",
              "      <td>NaN</td>\n",
              "      <td>NaN</td>\n",
              "      <td>NaN</td>\n",
              "      <td>NaN</td>\n",
              "      <td>NaN</td>\n",
              "      <td>NaN</td>\n",
              "      <td>NaN</td>\n",
              "      <td>NaN</td>\n",
              "      <td>NaN</td>\n",
              "      <td>NaN</td>\n",
              "      <td>NaN</td>\n",
              "      <td>NaN</td>\n",
              "      <td>NaN</td>\n",
              "      <td>NaN</td>\n",
              "      <td>NaN</td>\n",
              "      <td>NaN</td>\n",
              "    </tr>\n",
              "    <tr>\n",
              "      <th>A037357115LCU92V2R0YR</th>\n",
              "      <td>NaN</td>\n",
              "      <td>NaN</td>\n",
              "      <td>NaN</td>\n",
              "      <td>NaN</td>\n",
              "      <td>NaN</td>\n",
              "      <td>NaN</td>\n",
              "      <td>NaN</td>\n",
              "      <td>NaN</td>\n",
              "      <td>NaN</td>\n",
              "      <td>NaN</td>\n",
              "      <td>NaN</td>\n",
              "      <td>NaN</td>\n",
              "      <td>NaN</td>\n",
              "      <td>NaN</td>\n",
              "      <td>NaN</td>\n",
              "      <td>NaN</td>\n",
              "      <td>NaN</td>\n",
              "      <td>NaN</td>\n",
              "      <td>NaN</td>\n",
              "      <td>NaN</td>\n",
              "      <td>NaN</td>\n",
              "      <td>NaN</td>\n",
              "      <td>NaN</td>\n",
              "      <td>NaN</td>\n",
              "      <td>NaN</td>\n",
              "      <td>NaN</td>\n",
              "      <td>NaN</td>\n",
              "      <td>NaN</td>\n",
              "      <td>NaN</td>\n",
              "      <td>NaN</td>\n",
              "      <td>NaN</td>\n",
              "      <td>NaN</td>\n",
              "      <td>NaN</td>\n",
              "      <td>NaN</td>\n",
              "      <td>NaN</td>\n",
              "      <td>NaN</td>\n",
              "      <td>NaN</td>\n",
              "      <td>NaN</td>\n",
              "      <td>NaN</td>\n",
              "      <td>NaN</td>\n",
              "      <td>...</td>\n",
              "      <td>NaN</td>\n",
              "      <td>NaN</td>\n",
              "      <td>NaN</td>\n",
              "      <td>NaN</td>\n",
              "      <td>NaN</td>\n",
              "      <td>NaN</td>\n",
              "      <td>NaN</td>\n",
              "      <td>NaN</td>\n",
              "      <td>NaN</td>\n",
              "      <td>NaN</td>\n",
              "      <td>NaN</td>\n",
              "      <td>NaN</td>\n",
              "      <td>NaN</td>\n",
              "      <td>NaN</td>\n",
              "      <td>NaN</td>\n",
              "      <td>NaN</td>\n",
              "      <td>NaN</td>\n",
              "      <td>NaN</td>\n",
              "      <td>NaN</td>\n",
              "      <td>NaN</td>\n",
              "      <td>NaN</td>\n",
              "      <td>NaN</td>\n",
              "      <td>NaN</td>\n",
              "      <td>NaN</td>\n",
              "      <td>NaN</td>\n",
              "      <td>NaN</td>\n",
              "      <td>NaN</td>\n",
              "      <td>NaN</td>\n",
              "      <td>NaN</td>\n",
              "      <td>NaN</td>\n",
              "      <td>NaN</td>\n",
              "      <td>NaN</td>\n",
              "      <td>NaN</td>\n",
              "      <td>NaN</td>\n",
              "      <td>NaN</td>\n",
              "      <td>NaN</td>\n",
              "      <td>NaN</td>\n",
              "      <td>NaN</td>\n",
              "      <td>NaN</td>\n",
              "      <td>NaN</td>\n",
              "    </tr>\n",
              "  </tbody>\n",
              "</table>\n",
              "<p>3 rows × 3360 columns</p>\n",
              "</div>"
            ],
            "text/plain": [
              "asin                   0912696591  B00000JGRP  ...  B00L8FQZ3M  B00LB18EKK\n",
              "reviewerID                                     ...                        \n",
              "A00473363TJ8YSZ3YAGG9         NaN         NaN  ...         NaN         NaN\n",
              "A00593903MCE5GXTAGGNL         NaN         NaN  ...         NaN         NaN\n",
              "A037357115LCU92V2R0YR         NaN         NaN  ...         NaN         NaN\n",
              "\n",
              "[3 rows x 3360 columns]"
            ]
          },
          "metadata": {
            "tags": []
          },
          "execution_count": 58
        }
      ]
    },
    {
      "cell_type": "code",
      "metadata": {
        "colab": {
          "base_uri": "https://localhost:8080/",
          "height": 222
        },
        "id": "VR4yAsysxLKm",
        "outputId": "186c1aa4-d045-4875-ff86-1ade95919979"
      },
      "source": [
        "# transform the test ratings frame into a ratings matrix\n",
        "test_sparse = test.pivot_table(values='overall',\n",
        "                               index='reviewerID',\n",
        "                               columns='asin')\n",
        "test_sparse.head(3)"
      ],
      "execution_count": 59,
      "outputs": [
        {
          "output_type": "execute_result",
          "data": {
            "text/html": [
              "<div>\n",
              "<style scoped>\n",
              "    .dataframe tbody tr th:only-of-type {\n",
              "        vertical-align: middle;\n",
              "    }\n",
              "\n",
              "    .dataframe tbody tr th {\n",
              "        vertical-align: top;\n",
              "    }\n",
              "\n",
              "    .dataframe thead th {\n",
              "        text-align: right;\n",
              "    }\n",
              "</style>\n",
              "<table border=\"1\" class=\"dataframe\">\n",
              "  <thead>\n",
              "    <tr style=\"text-align: right;\">\n",
              "      <th>asin</th>\n",
              "      <th>0912696591</th>\n",
              "      <th>B00000JGRP</th>\n",
              "      <th>B00000JGRQ</th>\n",
              "      <th>B00000JGRT</th>\n",
              "      <th>B00002N602</th>\n",
              "      <th>B00004OCIP</th>\n",
              "      <th>B00004OCIQ</th>\n",
              "      <th>B00004OCIU</th>\n",
              "      <th>B00004OCIX</th>\n",
              "      <th>B00004OCIZ</th>\n",
              "      <th>B00004OCJ6</th>\n",
              "      <th>B00004OCJ9</th>\n",
              "      <th>B00004OCJJ</th>\n",
              "      <th>B00004OCJK</th>\n",
              "      <th>B00004OCJN</th>\n",
              "      <th>B00004OCJO</th>\n",
              "      <th>B00004OCJQ</th>\n",
              "      <th>B00004OCJW</th>\n",
              "      <th>B00004OCK0</th>\n",
              "      <th>B00004OCK3</th>\n",
              "      <th>B00004OCKO</th>\n",
              "      <th>B00004OCKR</th>\n",
              "      <th>B00004OCKT</th>\n",
              "      <th>B00004OCL2</th>\n",
              "      <th>B00004OCL8</th>\n",
              "      <th>B00004OCL9</th>\n",
              "      <th>B00004OCLA</th>\n",
              "      <th>B00004OCLK</th>\n",
              "      <th>B00004OCLW</th>\n",
              "      <th>B00004OCM4</th>\n",
              "      <th>B00004OCMB</th>\n",
              "      <th>B00004OCMM</th>\n",
              "      <th>B00004OCMS</th>\n",
              "      <th>B00004OCMX</th>\n",
              "      <th>B00004OCMY</th>\n",
              "      <th>B00004OCNE</th>\n",
              "      <th>B00004OCNJ</th>\n",
              "      <th>B00004OCNK</th>\n",
              "      <th>B00004OCNL</th>\n",
              "      <th>B00004OCNQ</th>\n",
              "      <th>...</th>\n",
              "      <th>B00JW02L9W</th>\n",
              "      <th>B00JWXSPAS</th>\n",
              "      <th>B00JWY1PPE</th>\n",
              "      <th>B00JWYX7YQ</th>\n",
              "      <th>B00JWZCE08</th>\n",
              "      <th>B00JZKZPMO</th>\n",
              "      <th>B00JZL11V2</th>\n",
              "      <th>B00JZXYG9O</th>\n",
              "      <th>B00K11U0Y4</th>\n",
              "      <th>B00K4S1L1K</th>\n",
              "      <th>B00K4V4EWA</th>\n",
              "      <th>B00K6BCV7S</th>\n",
              "      <th>B00K7ILPYU</th>\n",
              "      <th>B00K7P0D9G</th>\n",
              "      <th>B00K8LHA3G</th>\n",
              "      <th>B00KAF5DLQ</th>\n",
              "      <th>B00KAJ3OY0</th>\n",
              "      <th>B00KAK443Y</th>\n",
              "      <th>B00KB7KNRM</th>\n",
              "      <th>B00KBQ1OHQ</th>\n",
              "      <th>B00KBUGQJS</th>\n",
              "      <th>B00KCFDB4U</th>\n",
              "      <th>B00KD83BMS</th>\n",
              "      <th>B00KDV5RZY</th>\n",
              "      <th>B00KFS40N0</th>\n",
              "      <th>B00KI2RQHU</th>\n",
              "      <th>B00KIVD1PC</th>\n",
              "      <th>B00KKYSBUW</th>\n",
              "      <th>B00KM9W2PU</th>\n",
              "      <th>B00KNPVL8W</th>\n",
              "      <th>B00KQCJ0CG</th>\n",
              "      <th>B00KQXDIG4</th>\n",
              "      <th>B00KSRQN0Q</th>\n",
              "      <th>B00KSRSZC0</th>\n",
              "      <th>B00KSRV3UQ</th>\n",
              "      <th>B00KSRXUC0</th>\n",
              "      <th>B00KW1ZDCM</th>\n",
              "      <th>B00KWKQ2MS</th>\n",
              "      <th>B00L8FQZ3M</th>\n",
              "      <th>B00LB18EKK</th>\n",
              "    </tr>\n",
              "    <tr>\n",
              "      <th>reviewerID</th>\n",
              "      <th></th>\n",
              "      <th></th>\n",
              "      <th></th>\n",
              "      <th></th>\n",
              "      <th></th>\n",
              "      <th></th>\n",
              "      <th></th>\n",
              "      <th></th>\n",
              "      <th></th>\n",
              "      <th></th>\n",
              "      <th></th>\n",
              "      <th></th>\n",
              "      <th></th>\n",
              "      <th></th>\n",
              "      <th></th>\n",
              "      <th></th>\n",
              "      <th></th>\n",
              "      <th></th>\n",
              "      <th></th>\n",
              "      <th></th>\n",
              "      <th></th>\n",
              "      <th></th>\n",
              "      <th></th>\n",
              "      <th></th>\n",
              "      <th></th>\n",
              "      <th></th>\n",
              "      <th></th>\n",
              "      <th></th>\n",
              "      <th></th>\n",
              "      <th></th>\n",
              "      <th></th>\n",
              "      <th></th>\n",
              "      <th></th>\n",
              "      <th></th>\n",
              "      <th></th>\n",
              "      <th></th>\n",
              "      <th></th>\n",
              "      <th></th>\n",
              "      <th></th>\n",
              "      <th></th>\n",
              "      <th></th>\n",
              "      <th></th>\n",
              "      <th></th>\n",
              "      <th></th>\n",
              "      <th></th>\n",
              "      <th></th>\n",
              "      <th></th>\n",
              "      <th></th>\n",
              "      <th></th>\n",
              "      <th></th>\n",
              "      <th></th>\n",
              "      <th></th>\n",
              "      <th></th>\n",
              "      <th></th>\n",
              "      <th></th>\n",
              "      <th></th>\n",
              "      <th></th>\n",
              "      <th></th>\n",
              "      <th></th>\n",
              "      <th></th>\n",
              "      <th></th>\n",
              "      <th></th>\n",
              "      <th></th>\n",
              "      <th></th>\n",
              "      <th></th>\n",
              "      <th></th>\n",
              "      <th></th>\n",
              "      <th></th>\n",
              "      <th></th>\n",
              "      <th></th>\n",
              "      <th></th>\n",
              "      <th></th>\n",
              "      <th></th>\n",
              "      <th></th>\n",
              "      <th></th>\n",
              "      <th></th>\n",
              "      <th></th>\n",
              "      <th></th>\n",
              "      <th></th>\n",
              "      <th></th>\n",
              "      <th></th>\n",
              "    </tr>\n",
              "  </thead>\n",
              "  <tbody>\n",
              "    <tr>\n",
              "      <th>A00473363TJ8YSZ3YAGG9</th>\n",
              "      <td>NaN</td>\n",
              "      <td>NaN</td>\n",
              "      <td>NaN</td>\n",
              "      <td>NaN</td>\n",
              "      <td>NaN</td>\n",
              "      <td>NaN</td>\n",
              "      <td>NaN</td>\n",
              "      <td>NaN</td>\n",
              "      <td>NaN</td>\n",
              "      <td>NaN</td>\n",
              "      <td>NaN</td>\n",
              "      <td>NaN</td>\n",
              "      <td>NaN</td>\n",
              "      <td>NaN</td>\n",
              "      <td>NaN</td>\n",
              "      <td>NaN</td>\n",
              "      <td>NaN</td>\n",
              "      <td>NaN</td>\n",
              "      <td>NaN</td>\n",
              "      <td>NaN</td>\n",
              "      <td>NaN</td>\n",
              "      <td>NaN</td>\n",
              "      <td>NaN</td>\n",
              "      <td>NaN</td>\n",
              "      <td>NaN</td>\n",
              "      <td>NaN</td>\n",
              "      <td>NaN</td>\n",
              "      <td>NaN</td>\n",
              "      <td>NaN</td>\n",
              "      <td>NaN</td>\n",
              "      <td>NaN</td>\n",
              "      <td>NaN</td>\n",
              "      <td>NaN</td>\n",
              "      <td>NaN</td>\n",
              "      <td>NaN</td>\n",
              "      <td>NaN</td>\n",
              "      <td>NaN</td>\n",
              "      <td>NaN</td>\n",
              "      <td>NaN</td>\n",
              "      <td>NaN</td>\n",
              "      <td>...</td>\n",
              "      <td>NaN</td>\n",
              "      <td>NaN</td>\n",
              "      <td>NaN</td>\n",
              "      <td>NaN</td>\n",
              "      <td>NaN</td>\n",
              "      <td>NaN</td>\n",
              "      <td>NaN</td>\n",
              "      <td>NaN</td>\n",
              "      <td>NaN</td>\n",
              "      <td>NaN</td>\n",
              "      <td>NaN</td>\n",
              "      <td>NaN</td>\n",
              "      <td>NaN</td>\n",
              "      <td>NaN</td>\n",
              "      <td>NaN</td>\n",
              "      <td>NaN</td>\n",
              "      <td>NaN</td>\n",
              "      <td>NaN</td>\n",
              "      <td>NaN</td>\n",
              "      <td>NaN</td>\n",
              "      <td>NaN</td>\n",
              "      <td>NaN</td>\n",
              "      <td>NaN</td>\n",
              "      <td>NaN</td>\n",
              "      <td>NaN</td>\n",
              "      <td>NaN</td>\n",
              "      <td>NaN</td>\n",
              "      <td>NaN</td>\n",
              "      <td>NaN</td>\n",
              "      <td>NaN</td>\n",
              "      <td>NaN</td>\n",
              "      <td>NaN</td>\n",
              "      <td>NaN</td>\n",
              "      <td>NaN</td>\n",
              "      <td>NaN</td>\n",
              "      <td>NaN</td>\n",
              "      <td>NaN</td>\n",
              "      <td>NaN</td>\n",
              "      <td>NaN</td>\n",
              "      <td>NaN</td>\n",
              "    </tr>\n",
              "    <tr>\n",
              "      <th>A00593903MCE5GXTAGGNL</th>\n",
              "      <td>NaN</td>\n",
              "      <td>NaN</td>\n",
              "      <td>NaN</td>\n",
              "      <td>NaN</td>\n",
              "      <td>NaN</td>\n",
              "      <td>NaN</td>\n",
              "      <td>NaN</td>\n",
              "      <td>NaN</td>\n",
              "      <td>NaN</td>\n",
              "      <td>NaN</td>\n",
              "      <td>NaN</td>\n",
              "      <td>NaN</td>\n",
              "      <td>NaN</td>\n",
              "      <td>NaN</td>\n",
              "      <td>NaN</td>\n",
              "      <td>NaN</td>\n",
              "      <td>NaN</td>\n",
              "      <td>NaN</td>\n",
              "      <td>NaN</td>\n",
              "      <td>NaN</td>\n",
              "      <td>NaN</td>\n",
              "      <td>NaN</td>\n",
              "      <td>NaN</td>\n",
              "      <td>NaN</td>\n",
              "      <td>NaN</td>\n",
              "      <td>NaN</td>\n",
              "      <td>NaN</td>\n",
              "      <td>NaN</td>\n",
              "      <td>NaN</td>\n",
              "      <td>NaN</td>\n",
              "      <td>NaN</td>\n",
              "      <td>NaN</td>\n",
              "      <td>NaN</td>\n",
              "      <td>NaN</td>\n",
              "      <td>NaN</td>\n",
              "      <td>NaN</td>\n",
              "      <td>NaN</td>\n",
              "      <td>NaN</td>\n",
              "      <td>NaN</td>\n",
              "      <td>NaN</td>\n",
              "      <td>...</td>\n",
              "      <td>NaN</td>\n",
              "      <td>NaN</td>\n",
              "      <td>NaN</td>\n",
              "      <td>NaN</td>\n",
              "      <td>NaN</td>\n",
              "      <td>NaN</td>\n",
              "      <td>NaN</td>\n",
              "      <td>NaN</td>\n",
              "      <td>NaN</td>\n",
              "      <td>NaN</td>\n",
              "      <td>NaN</td>\n",
              "      <td>NaN</td>\n",
              "      <td>NaN</td>\n",
              "      <td>NaN</td>\n",
              "      <td>NaN</td>\n",
              "      <td>NaN</td>\n",
              "      <td>NaN</td>\n",
              "      <td>NaN</td>\n",
              "      <td>NaN</td>\n",
              "      <td>NaN</td>\n",
              "      <td>NaN</td>\n",
              "      <td>NaN</td>\n",
              "      <td>NaN</td>\n",
              "      <td>NaN</td>\n",
              "      <td>NaN</td>\n",
              "      <td>NaN</td>\n",
              "      <td>NaN</td>\n",
              "      <td>NaN</td>\n",
              "      <td>NaN</td>\n",
              "      <td>NaN</td>\n",
              "      <td>NaN</td>\n",
              "      <td>NaN</td>\n",
              "      <td>NaN</td>\n",
              "      <td>NaN</td>\n",
              "      <td>NaN</td>\n",
              "      <td>NaN</td>\n",
              "      <td>NaN</td>\n",
              "      <td>NaN</td>\n",
              "      <td>NaN</td>\n",
              "      <td>NaN</td>\n",
              "    </tr>\n",
              "    <tr>\n",
              "      <th>A037357115LCU92V2R0YR</th>\n",
              "      <td>NaN</td>\n",
              "      <td>NaN</td>\n",
              "      <td>NaN</td>\n",
              "      <td>NaN</td>\n",
              "      <td>NaN</td>\n",
              "      <td>NaN</td>\n",
              "      <td>NaN</td>\n",
              "      <td>NaN</td>\n",
              "      <td>NaN</td>\n",
              "      <td>NaN</td>\n",
              "      <td>NaN</td>\n",
              "      <td>NaN</td>\n",
              "      <td>NaN</td>\n",
              "      <td>NaN</td>\n",
              "      <td>NaN</td>\n",
              "      <td>NaN</td>\n",
              "      <td>NaN</td>\n",
              "      <td>NaN</td>\n",
              "      <td>NaN</td>\n",
              "      <td>NaN</td>\n",
              "      <td>NaN</td>\n",
              "      <td>NaN</td>\n",
              "      <td>NaN</td>\n",
              "      <td>NaN</td>\n",
              "      <td>NaN</td>\n",
              "      <td>NaN</td>\n",
              "      <td>NaN</td>\n",
              "      <td>NaN</td>\n",
              "      <td>NaN</td>\n",
              "      <td>NaN</td>\n",
              "      <td>NaN</td>\n",
              "      <td>NaN</td>\n",
              "      <td>NaN</td>\n",
              "      <td>NaN</td>\n",
              "      <td>NaN</td>\n",
              "      <td>NaN</td>\n",
              "      <td>NaN</td>\n",
              "      <td>NaN</td>\n",
              "      <td>NaN</td>\n",
              "      <td>NaN</td>\n",
              "      <td>...</td>\n",
              "      <td>NaN</td>\n",
              "      <td>NaN</td>\n",
              "      <td>NaN</td>\n",
              "      <td>NaN</td>\n",
              "      <td>NaN</td>\n",
              "      <td>NaN</td>\n",
              "      <td>NaN</td>\n",
              "      <td>NaN</td>\n",
              "      <td>NaN</td>\n",
              "      <td>NaN</td>\n",
              "      <td>NaN</td>\n",
              "      <td>NaN</td>\n",
              "      <td>NaN</td>\n",
              "      <td>NaN</td>\n",
              "      <td>NaN</td>\n",
              "      <td>NaN</td>\n",
              "      <td>NaN</td>\n",
              "      <td>NaN</td>\n",
              "      <td>NaN</td>\n",
              "      <td>NaN</td>\n",
              "      <td>NaN</td>\n",
              "      <td>NaN</td>\n",
              "      <td>NaN</td>\n",
              "      <td>NaN</td>\n",
              "      <td>NaN</td>\n",
              "      <td>NaN</td>\n",
              "      <td>NaN</td>\n",
              "      <td>NaN</td>\n",
              "      <td>NaN</td>\n",
              "      <td>NaN</td>\n",
              "      <td>NaN</td>\n",
              "      <td>NaN</td>\n",
              "      <td>NaN</td>\n",
              "      <td>NaN</td>\n",
              "      <td>NaN</td>\n",
              "      <td>NaN</td>\n",
              "      <td>NaN</td>\n",
              "      <td>NaN</td>\n",
              "      <td>NaN</td>\n",
              "      <td>NaN</td>\n",
              "    </tr>\n",
              "  </tbody>\n",
              "</table>\n",
              "<p>3 rows × 3264 columns</p>\n",
              "</div>"
            ],
            "text/plain": [
              "asin                   0912696591  B00000JGRP  ...  B00L8FQZ3M  B00LB18EKK\n",
              "reviewerID                                     ...                        \n",
              "A00473363TJ8YSZ3YAGG9         NaN         NaN  ...         NaN         NaN\n",
              "A00593903MCE5GXTAGGNL         NaN         NaN  ...         NaN         NaN\n",
              "A037357115LCU92V2R0YR         NaN         NaN  ...         NaN         NaN\n",
              "\n",
              "[3 rows x 3264 columns]"
            ]
          },
          "metadata": {
            "tags": []
          },
          "execution_count": 59
        }
      ]
    },
    {
      "cell_type": "code",
      "metadata": {
        "colab": {
          "base_uri": "https://localhost:8080/"
        },
        "id": "ox2QuPXipQoQ",
        "outputId": "2959d4a4-dbce-4a52-c346-6dc5c79d995f"
      },
      "source": [
        "#Finding Global Average of all item ratings from sampled train dataset\n",
        "print(\"Global average of all products raview ratings in Train Sample is {}\".format(np.round(train.overall.mean(), 2)))"
      ],
      "execution_count": 41,
      "outputs": [
        {
          "output_type": "stream",
          "text": [
            "Global average of all products raview ratings in Train Sample is 4.41\n"
          ],
          "name": "stdout"
        }
      ]
    },
    {
      "cell_type": "code",
      "metadata": {
        "id": "9ROKeIg5sR4z"
      },
      "source": [
        "train_sparse = sparse.csr_matrix(np.nan_to_num(train_sparse.values))\n",
        "test_sparse = sparse.csr_matrix(np.nan_to_num(test_sparse.values))"
      ],
      "execution_count": 42,
      "outputs": []
    },
    {
      "cell_type": "code",
      "metadata": {
        "colab": {
          "base_uri": "https://localhost:8080/"
        },
        "id": "nRWUncEr4L4u",
        "outputId": "d1fef898-bcc0-4699-ecfb-3fee4c9ab39d"
      },
      "source": [
        "print(\"Sparsity Of Train matrix : {}% \".format((train_sparse.isna().sum().sum()/(train_sparse.shape[1]*train_sparse.shape[0])*100)))"
      ],
      "execution_count": 63,
      "outputs": [
        {
          "output_type": "stream",
          "text": [
            "Sparsity Of Train matrix : 99.80447630500241% \n"
          ],
          "name": "stdout"
        }
      ]
    },
    {
      "cell_type": "code",
      "metadata": {
        "colab": {
          "base_uri": "https://localhost:8080/"
        },
        "id": "ZSxknna14-2E",
        "outputId": "74f814b3-0963-47c1-8a7d-f568e78d5fc1"
      },
      "source": [
        "print(\"Sparsity Of Test matrix : {}% \".format((test_sparse.isna().sum().sum()/(test_sparse.shape[1]*test_sparse.shape[0])*100)))"
      ],
      "execution_count": 64,
      "outputs": [
        {
          "output_type": "stream",
          "text": [
            "Sparsity Of Test matrix : 99.93224333992131% \n"
          ],
          "name": "stdout"
        }
      ]
    },
    {
      "cell_type": "code",
      "metadata": {
        "id": "u-9js_UtxTUt"
      },
      "source": [
        "def getAverageUserRatings(df, userid):\n",
        "    return df.loc[userid, :].mean()"
      ],
      "execution_count": 70,
      "outputs": []
    },
    {
      "cell_type": "code",
      "metadata": {
        "id": "hYPIwB-056ac"
      },
      "source": [
        "def getAverageItemRatings(df, itemid):\n",
        "    return df.loc[:, itemid].mean()"
      ],
      "execution_count": 71,
      "outputs": []
    },
    {
      "cell_type": "code",
      "metadata": {
        "id": "NkCF8NcZ6NGF"
      },
      "source": [
        "def num_users_rate(df, itemid):\n",
        "  return df.loc[:, itemid].count()"
      ],
      "execution_count": 73,
      "outputs": []
    },
    {
      "cell_type": "code",
      "metadata": {
        "colab": {
          "base_uri": "https://localhost:8080/",
          "height": 204
        },
        "id": "PcCR3baz6zb6",
        "outputId": "98f53536-31e1-4918-f594-77169b3e6928"
      },
      "source": [
        "train_surprice = train[['reviewerID', 'asin', 'overall', 'price', 'year', 'month', 'reviewlength']]\n",
        "train_surprice.head()"
      ],
      "execution_count": 76,
      "outputs": [
        {
          "output_type": "execute_result",
          "data": {
            "text/html": [
              "<div>\n",
              "<style scoped>\n",
              "    .dataframe tbody tr th:only-of-type {\n",
              "        vertical-align: middle;\n",
              "    }\n",
              "\n",
              "    .dataframe tbody tr th {\n",
              "        vertical-align: top;\n",
              "    }\n",
              "\n",
              "    .dataframe thead th {\n",
              "        text-align: right;\n",
              "    }\n",
              "</style>\n",
              "<table border=\"1\" class=\"dataframe\">\n",
              "  <thead>\n",
              "    <tr style=\"text-align: right;\">\n",
              "      <th></th>\n",
              "      <th>reviewerID</th>\n",
              "      <th>asin</th>\n",
              "      <th>overall</th>\n",
              "      <th>price</th>\n",
              "      <th>year</th>\n",
              "      <th>month</th>\n",
              "      <th>reviewlength</th>\n",
              "    </tr>\n",
              "  </thead>\n",
              "  <tbody>\n",
              "    <tr>\n",
              "      <th>12925</th>\n",
              "      <td>A3OPKFBT8Z15TE</td>\n",
              "      <td>B00009WE3Y</td>\n",
              "      <td>5.0</td>\n",
              "      <td>15.00</td>\n",
              "      <td>2013</td>\n",
              "      <td>7</td>\n",
              "      <td>103</td>\n",
              "    </tr>\n",
              "    <tr>\n",
              "      <th>37924</th>\n",
              "      <td>A78VQHFWZ5KH9</td>\n",
              "      <td>B000TTCK64</td>\n",
              "      <td>5.0</td>\n",
              "      <td>77.37</td>\n",
              "      <td>2010</td>\n",
              "      <td>3</td>\n",
              "      <td>87</td>\n",
              "    </tr>\n",
              "    <tr>\n",
              "      <th>50072</th>\n",
              "      <td>A1HN7OLEVRJ7DD</td>\n",
              "      <td>B002FYS5BA</td>\n",
              "      <td>5.0</td>\n",
              "      <td>199.00</td>\n",
              "      <td>2014</td>\n",
              "      <td>5</td>\n",
              "      <td>28</td>\n",
              "    </tr>\n",
              "    <tr>\n",
              "      <th>22328</th>\n",
              "      <td>A1WI176M51EBIT</td>\n",
              "      <td>B00063QPYQ</td>\n",
              "      <td>5.0</td>\n",
              "      <td>10.64</td>\n",
              "      <td>2013</td>\n",
              "      <td>5</td>\n",
              "      <td>37</td>\n",
              "    </tr>\n",
              "    <tr>\n",
              "      <th>72496</th>\n",
              "      <td>A2FQIGXDVEW10B</td>\n",
              "      <td>B009L16ZBM</td>\n",
              "      <td>5.0</td>\n",
              "      <td>108.95</td>\n",
              "      <td>2014</td>\n",
              "      <td>5</td>\n",
              "      <td>143</td>\n",
              "    </tr>\n",
              "  </tbody>\n",
              "</table>\n",
              "</div>"
            ],
            "text/plain": [
              "           reviewerID        asin  overall   price  year  month  reviewlength\n",
              "12925  A3OPKFBT8Z15TE  B00009WE3Y      5.0   15.00  2013      7           103\n",
              "37924   A78VQHFWZ5KH9  B000TTCK64      5.0   77.37  2010      3            87\n",
              "50072  A1HN7OLEVRJ7DD  B002FYS5BA      5.0  199.00  2014      5            28\n",
              "22328  A1WI176M51EBIT  B00063QPYQ      5.0   10.64  2013      5            37\n",
              "72496  A2FQIGXDVEW10B  B009L16ZBM      5.0  108.95  2014      5           143"
            ]
          },
          "metadata": {
            "tags": []
          },
          "execution_count": 76
        }
      ]
    },
    {
      "cell_type": "code",
      "metadata": {
        "colab": {
          "base_uri": "https://localhost:8080/"
        },
        "id": "KF270pTF7kSD",
        "outputId": "942cd879-8a7d-4f90-bd78-d66d4bf0a488"
      },
      "source": [
        "train_surprice['user_avg'] = train_surprice['reviewerID'].apply(lambda x: getAverageUserRatings(train_sparse, x))"
      ],
      "execution_count": 78,
      "outputs": [
        {
          "output_type": "stream",
          "text": [
            "/usr/local/lib/python3.7/dist-packages/ipykernel_launcher.py:1: SettingWithCopyWarning: \n",
            "A value is trying to be set on a copy of a slice from a DataFrame.\n",
            "Try using .loc[row_indexer,col_indexer] = value instead\n",
            "\n",
            "See the caveats in the documentation: https://pandas.pydata.org/pandas-docs/stable/user_guide/indexing.html#returning-a-view-versus-a-copy\n",
            "  \"\"\"Entry point for launching an IPython kernel.\n"
          ],
          "name": "stderr"
        }
      ]
    },
    {
      "cell_type": "code",
      "metadata": {
        "colab": {
          "base_uri": "https://localhost:8080/"
        },
        "id": "EIGYITzW9Leu",
        "outputId": "a675778f-2671-4e48-b0d0-c14c79e1aa67"
      },
      "source": [
        "train_surprice['item_avg'] = train_surprice['asin'].apply(lambda x: getAverageItemRatings(train_sparse, x))"
      ],
      "execution_count": 83,
      "outputs": [
        {
          "output_type": "stream",
          "text": [
            "/usr/local/lib/python3.7/dist-packages/ipykernel_launcher.py:1: SettingWithCopyWarning: \n",
            "A value is trying to be set on a copy of a slice from a DataFrame.\n",
            "Try using .loc[row_indexer,col_indexer] = value instead\n",
            "\n",
            "See the caveats in the documentation: https://pandas.pydata.org/pandas-docs/stable/user_guide/indexing.html#returning-a-view-versus-a-copy\n",
            "  \"\"\"Entry point for launching an IPython kernel.\n"
          ],
          "name": "stderr"
        }
      ]
    },
    {
      "cell_type": "code",
      "metadata": {
        "colab": {
          "base_uri": "https://localhost:8080/",
          "height": 204
        },
        "id": "7FW64lEz875f",
        "outputId": "c2da38b9-06ec-4af1-aa51-1a99c75335db"
      },
      "source": [
        "train_surprice.head()"
      ],
      "execution_count": 84,
      "outputs": [
        {
          "output_type": "execute_result",
          "data": {
            "text/html": [
              "<div>\n",
              "<style scoped>\n",
              "    .dataframe tbody tr th:only-of-type {\n",
              "        vertical-align: middle;\n",
              "    }\n",
              "\n",
              "    .dataframe tbody tr th {\n",
              "        vertical-align: top;\n",
              "    }\n",
              "\n",
              "    .dataframe thead th {\n",
              "        text-align: right;\n",
              "    }\n",
              "</style>\n",
              "<table border=\"1\" class=\"dataframe\">\n",
              "  <thead>\n",
              "    <tr style=\"text-align: right;\">\n",
              "      <th></th>\n",
              "      <th>reviewerID</th>\n",
              "      <th>asin</th>\n",
              "      <th>overall</th>\n",
              "      <th>price</th>\n",
              "      <th>year</th>\n",
              "      <th>month</th>\n",
              "      <th>reviewlength</th>\n",
              "      <th>user_avg</th>\n",
              "      <th>item_avg</th>\n",
              "    </tr>\n",
              "  </thead>\n",
              "  <tbody>\n",
              "    <tr>\n",
              "      <th>12925</th>\n",
              "      <td>A3OPKFBT8Z15TE</td>\n",
              "      <td>B00009WE3Y</td>\n",
              "      <td>5.0</td>\n",
              "      <td>15.00</td>\n",
              "      <td>2013</td>\n",
              "      <td>7</td>\n",
              "      <td>103</td>\n",
              "      <td>3.000000</td>\n",
              "      <td>4.736842</td>\n",
              "    </tr>\n",
              "    <tr>\n",
              "      <th>37924</th>\n",
              "      <td>A78VQHFWZ5KH9</td>\n",
              "      <td>B000TTCK64</td>\n",
              "      <td>5.0</td>\n",
              "      <td>77.37</td>\n",
              "      <td>2010</td>\n",
              "      <td>3</td>\n",
              "      <td>87</td>\n",
              "      <td>4.857143</td>\n",
              "      <td>4.727273</td>\n",
              "    </tr>\n",
              "    <tr>\n",
              "      <th>50072</th>\n",
              "      <td>A1HN7OLEVRJ7DD</td>\n",
              "      <td>B002FYS5BA</td>\n",
              "      <td>5.0</td>\n",
              "      <td>199.00</td>\n",
              "      <td>2014</td>\n",
              "      <td>5</td>\n",
              "      <td>28</td>\n",
              "      <td>4.571429</td>\n",
              "      <td>4.916667</td>\n",
              "    </tr>\n",
              "    <tr>\n",
              "      <th>22328</th>\n",
              "      <td>A1WI176M51EBIT</td>\n",
              "      <td>B00063QPYQ</td>\n",
              "      <td>5.0</td>\n",
              "      <td>10.64</td>\n",
              "      <td>2013</td>\n",
              "      <td>5</td>\n",
              "      <td>37</td>\n",
              "      <td>4.692308</td>\n",
              "      <td>4.625000</td>\n",
              "    </tr>\n",
              "    <tr>\n",
              "      <th>72496</th>\n",
              "      <td>A2FQIGXDVEW10B</td>\n",
              "      <td>B009L16ZBM</td>\n",
              "      <td>5.0</td>\n",
              "      <td>108.95</td>\n",
              "      <td>2014</td>\n",
              "      <td>5</td>\n",
              "      <td>143</td>\n",
              "      <td>5.000000</td>\n",
              "      <td>4.500000</td>\n",
              "    </tr>\n",
              "  </tbody>\n",
              "</table>\n",
              "</div>"
            ],
            "text/plain": [
              "           reviewerID        asin  overall  ...  reviewlength  user_avg  item_avg\n",
              "12925  A3OPKFBT8Z15TE  B00009WE3Y      5.0  ...           103  3.000000  4.736842\n",
              "37924   A78VQHFWZ5KH9  B000TTCK64      5.0  ...            87  4.857143  4.727273\n",
              "50072  A1HN7OLEVRJ7DD  B002FYS5BA      5.0  ...            28  4.571429  4.916667\n",
              "22328  A1WI176M51EBIT  B00063QPYQ      5.0  ...            37  4.692308  4.625000\n",
              "72496  A2FQIGXDVEW10B  B009L16ZBM      5.0  ...           143  5.000000  4.500000\n",
              "\n",
              "[5 rows x 9 columns]"
            ]
          },
          "metadata": {
            "tags": []
          },
          "execution_count": 84
        }
      ]
    },
    {
      "cell_type": "code",
      "metadata": {
        "colab": {
          "base_uri": "https://localhost:8080/"
        },
        "id": "Iu3XbDAi-aNQ",
        "outputId": "10549957-8115-4f37-d08e-4d74bbd3698e"
      },
      "source": [
        "test_surprice = test[['reviewerID', 'asin', 'overall', 'price', 'year', 'month', 'reviewlength']]\n",
        "test_surprice['user_avg'] = test_surprice['reviewerID'].apply(lambda x: getAverageUserRatings(test_sparse, x))\n",
        "test_surprice['item_avg'] = test_surprice['asin'].apply(lambda x: getAverageItemRatings(test_sparse, x))"
      ],
      "execution_count": 104,
      "outputs": [
        {
          "output_type": "stream",
          "text": [
            "/usr/local/lib/python3.7/dist-packages/ipykernel_launcher.py:2: SettingWithCopyWarning: \n",
            "A value is trying to be set on a copy of a slice from a DataFrame.\n",
            "Try using .loc[row_indexer,col_indexer] = value instead\n",
            "\n",
            "See the caveats in the documentation: https://pandas.pydata.org/pandas-docs/stable/user_guide/indexing.html#returning-a-view-versus-a-copy\n",
            "  \n",
            "/usr/local/lib/python3.7/dist-packages/ipykernel_launcher.py:3: SettingWithCopyWarning: \n",
            "A value is trying to be set on a copy of a slice from a DataFrame.\n",
            "Try using .loc[row_indexer,col_indexer] = value instead\n",
            "\n",
            "See the caveats in the documentation: https://pandas.pydata.org/pandas-docs/stable/user_guide/indexing.html#returning-a-view-versus-a-copy\n",
            "  This is separate from the ipykernel package so we can avoid doing imports until\n"
          ],
          "name": "stderr"
        }
      ]
    },
    {
      "cell_type": "code",
      "metadata": {
        "colab": {
          "base_uri": "https://localhost:8080/"
        },
        "id": "Tr4UOoSH9C9u",
        "outputId": "260e8144-5e7a-4dc1-f987-1098881fa386"
      },
      "source": [
        "getAverageUserRatings(train_sparse, 'A78VQHFWZ5KH9')"
      ],
      "execution_count": 81,
      "outputs": [
        {
          "output_type": "execute_result",
          "data": {
            "text/plain": [
              "4.857142857142857"
            ]
          },
          "metadata": {
            "tags": []
          },
          "execution_count": 81
        }
      ]
    },
    {
      "cell_type": "code",
      "metadata": {
        "colab": {
          "base_uri": "https://localhost:8080/"
        },
        "id": "FaD6edQC5mA3",
        "outputId": "56bf1712-841d-4437-d6d4-eff16f8d9727"
      },
      "source": [
        "train_sparse.loc[:,'B00000JGRP'].count()"
      ],
      "execution_count": 72,
      "outputs": [
        {
          "output_type": "execute_result",
          "data": {
            "text/plain": [
              "26"
            ]
          },
          "metadata": {
            "tags": []
          },
          "execution_count": 72
        }
      ]
    },
    {
      "cell_type": "code",
      "metadata": {
        "id": "ieJ0Zgk0vM9q"
      },
      "source": [
        "AvgRatingUser = getAverageRatings(train_sparse, True)"
      ],
      "execution_count": 45,
      "outputs": []
    },
    {
      "cell_type": "code",
      "metadata": {
        "colab": {
          "base_uri": "https://localhost:8080/"
        },
        "id": "IKX7WcQXwaOc",
        "outputId": "6362fa8b-f6c1-4be4-ead1-9f46404439ac"
      },
      "source": [
        "print(\"Average rating of user 25 = {}\".format(AvgRatingUser[25]))"
      ],
      "execution_count": 46,
      "outputs": [
        {
          "output_type": "stream",
          "text": [
            "Average rating of user 25 = 4.785714285714286\n"
          ],
          "name": "stdout"
        }
      ]
    },
    {
      "cell_type": "code",
      "metadata": {
        "colab": {
          "base_uri": "https://localhost:8080/"
        },
        "id": "Lh1f9fykzTPQ",
        "outputId": "b3b1760d-52e7-46c7-d251-ccca4f38c2ab"
      },
      "source": [
        "AvgRatingItem = getAverageRatings(train_sparse, False)\n",
        "print(\"Average rating of item 25 = {}\".format(AvgRatingItem[25]))"
      ],
      "execution_count": 47,
      "outputs": [
        {
          "output_type": "stream",
          "text": [
            "Average rating of item 25 = 4.466666666666667\n"
          ],
          "name": "stdout"
        }
      ]
    },
    {
      "cell_type": "code",
      "metadata": {
        "colab": {
          "base_uri": "https://localhost:8080/",
          "height": 570
        },
        "id": "je1y_AW_zeKd",
        "outputId": "542990dc-e67c-4ed0-9419-6a598942b2f6"
      },
      "source": [
        "fig, axes = plt.subplots(1,2, figsize = (16, 7))\n",
        "fig.suptitle('Avg Ratings per User and per Item', fontsize=25)\n",
        "\n",
        "user_average = [rats for rats in AvgRatingUser.values()]\n",
        "sns.distplot(user_average, hist = False, ax = axes[0], label = \"PDF\")\n",
        "sns.kdeplot(user_average, cumulative = True, ax = axes[0], label = \"CDF\")\n",
        "axes[0].set_title(\"Average Rating Per User\", fontsize=16)\n",
        "axes[0].tick_params(labelsize = 12)\n",
        "axes[0].legend(loc='upper left', fontsize = 12)\n",
        "\n",
        "item_average = [ratm for ratm in AvgRatingItem.values()]\n",
        "sns.distplot(item_average, hist = False, ax = axes[1], label = \"PDF\")\n",
        "sns.kdeplot(item_average, cumulative = True, ax = axes[1], label = \"CDF\")\n",
        "axes[1].set_title(\"Average Rating Per Item\", fontsize=16)\n",
        "axes[1].tick_params(labelsize = 12)\n",
        "axes[1].legend(loc='upper left', fontsize = 12)\n",
        "\n",
        "plt.show()"
      ],
      "execution_count": 52,
      "outputs": [
        {
          "output_type": "stream",
          "text": [
            "/usr/local/lib/python3.7/dist-packages/seaborn/distributions.py:2557: FutureWarning: `distplot` is a deprecated function and will be removed in a future version. Please adapt your code to use either `displot` (a figure-level function with similar flexibility) or `kdeplot` (an axes-level function for kernel density plots).\n",
            "  warnings.warn(msg, FutureWarning)\n",
            "/usr/local/lib/python3.7/dist-packages/seaborn/distributions.py:2557: FutureWarning: `distplot` is a deprecated function and will be removed in a future version. Please adapt your code to use either `displot` (a figure-level function with similar flexibility) or `kdeplot` (an axes-level function for kernel density plots).\n",
            "  warnings.warn(msg, FutureWarning)\n"
          ],
          "name": "stderr"
        },
        {
          "output_type": "display_data",
          "data": {
            "image/png": "[encoded data removed]",
            "text/plain": [
              "<Figure size 1152x504 with 2 Axes>"
            ]
          },
          "metadata": {
            "tags": [],
            "needs_background": "light"
          }
        }
      ]
    },
    {
      "cell_type": "code",
      "metadata": {
        "id": "pWi8hqwB0Vkh"
      },
      "source": [
        ""
      ],
      "execution_count": null,
      "outputs": []
    },
    {
      "cell_type": "code",
      "metadata": {
        "id": "IajacNT30Fb2"
      },
      "source": [
        ""
      ],
      "execution_count": null,
      "outputs": []
    },
    {
      "cell_type": "code",
      "metadata": {
        "id": "xkKeVWyrNgZs"
      },
      "source": [
        "def evaluate(estimate_f):\n",
        "  \"\"\" RMSE-based predictive performance evaluation with pandas. \"\"\"\n",
        "  ids_to_estimate = zip(test.reviewerID, test.asin) \n",
        "  estimated = np.array([estimate_f(u,i) for (u,i) in ids_to_estimate])\n",
        "  real = test.overall.values\n",
        "  return np.sqrt(mean_squared_error(real, estimated))"
      ],
      "execution_count": 7,
      "outputs": []
    },
    {
      "cell_type": "code",
      "metadata": {
        "id": "TR1ruyUROoic"
      },
      "source": [
        "#Predict all reviews as 5 star and see how accurate it would be\n",
        "def simple_estimate_function(user_id, item_id): return 5"
      ],
      "execution_count": 8,
      "outputs": []
    },
    {
      "cell_type": "code",
      "metadata": {
        "colab": {
          "base_uri": "https://localhost:8080/"
        },
        "id": "-YDqLi3GPJxs",
        "outputId": "ff1c7770-0312-47c0-eaea-81862d9266d8"
      },
      "source": [
        "print('RMSE for simple estimate function: %s' % evaluate(simple_estimate_function))"
      ],
      "execution_count": 9,
      "outputs": [
        {
          "output_type": "stream",
          "text": [
            "RMSE for simple estimate function: 1.1631152547319272\n"
          ],
          "name": "stdout"
        }
      ]
    },
    {
      "cell_type": "markdown",
      "metadata": {
        "id": "7itKjloNPYrv"
      },
      "source": [
        "Since we already know that most of the people rate 5 on the review. Let us set this estimation function as a threshold. A better model shall have a much smaller RMSE."
      ]
    },
    {
      "cell_type": "code",
      "metadata": {
        "colab": {
          "base_uri": "https://localhost:8080/"
        },
        "id": "qB9zmqu1PWUc",
        "outputId": "c49177e8-fabd-499e-95db-982354db1da3"
      },
      "source": [
        "def content_mean(user_id, item_id):\n",
        "  \"\"\" Simple content-filtering based on mean ratings. \"\"\"\n",
        "  if user_id in train.reviewerID.to_list():\n",
        "    user_condition = train.reviewerID == user_id\n",
        "    return train.loc[user_condition, 'overall'].mean()\n",
        "  else:\n",
        "    return 5\n",
        "print('RMSE for content mean estimation: %s' % evaluate(content_mean))"
      ],
      "execution_count": 10,
      "outputs": [
        {
          "output_type": "stream",
          "text": [
            "RMSE for content mean estimation: 1.0282606517284605\n"
          ],
          "name": "stdout"
        }
      ]
    },
    {
      "cell_type": "code",
      "metadata": {
        "colab": {
          "base_uri": "https://localhost:8080/"
        },
        "id": "bb1YUB-eS6gJ",
        "outputId": "85e99dba-c81f-4503-8c4e-50b2d723317f"
      },
      "source": [
        "def collaborative_mean(user_id, item_id):\n",
        "  \"\"\" Simple collaborative-filtering based on mean ratings. \"\"\"\n",
        "  if item_id in train.asin.to_list():\n",
        "    item_condition = train.asin == item_id\n",
        "    return train.loc[item_condition, 'overall'].mean()\n",
        "  else:\n",
        "    return 5\n",
        "print('RMSE for collaborative mean estimation: %s' % evaluate(collaborative_mean))"
      ],
      "execution_count": 11,
      "outputs": [
        {
          "output_type": "stream",
          "text": [
            "RMSE for collaborative mean estimation: 0.9781251753594314\n"
          ],
          "name": "stdout"
        }
      ]
    },
    {
      "cell_type": "code",
      "metadata": {
        "colab": {
          "base_uri": "https://localhost:8080/",
          "height": 581
        },
        "id": "lJlncxUsjX38",
        "outputId": "9c690b6c-5787-47f1-b237-1eca3f1d53b6"
      },
      "source": [
        "KitchenDining.head()"
      ],
      "execution_count": 12,
      "outputs": [
        {
          "output_type": "execute_result",
          "data": {
            "text/html": [
              "<div>\n",
              "<style scoped>\n",
              "    .dataframe tbody tr th:only-of-type {\n",
              "        vertical-align: middle;\n",
              "    }\n",
              "\n",
              "    .dataframe tbody tr th {\n",
              "        vertical-align: top;\n",
              "    }\n",
              "\n",
              "    .dataframe thead th {\n",
              "        text-align: right;\n",
              "    }\n",
              "</style>\n",
              "<table border=\"1\" class=\"dataframe\">\n",
              "  <thead>\n",
              "    <tr style=\"text-align: right;\">\n",
              "      <th></th>\n",
              "      <th>Unnamed: 0</th>\n",
              "      <th>reviewerID</th>\n",
              "      <th>asin</th>\n",
              "      <th>helpful</th>\n",
              "      <th>reviewText</th>\n",
              "      <th>overall</th>\n",
              "      <th>summary</th>\n",
              "      <th>unixReviewTime</th>\n",
              "      <th>salesRank</th>\n",
              "      <th>title</th>\n",
              "      <th>description</th>\n",
              "      <th>related</th>\n",
              "      <th>price</th>\n",
              "      <th>brand</th>\n",
              "      <th>year</th>\n",
              "      <th>month</th>\n",
              "      <th>reviewlength</th>\n",
              "      <th>mainCategory</th>\n",
              "      <th>subCategory1</th>\n",
              "      <th>subCategory2</th>\n",
              "      <th>subCategory3</th>\n",
              "      <th>subCategory4</th>\n",
              "      <th>subCategory5</th>\n",
              "      <th>subCategory6#</th>\n",
              "    </tr>\n",
              "  </thead>\n",
              "  <tbody>\n",
              "    <tr>\n",
              "      <th>0</th>\n",
              "      <td>315</td>\n",
              "      <td>A39RRTO760KGOY</td>\n",
              "      <td>0912696591</td>\n",
              "      <td>[0, 0]</td>\n",
              "      <td>had no idea about decorating cakes,by this boo...</td>\n",
              "      <td>5.0</td>\n",
              "      <td>follow the instructions</td>\n",
              "      <td>2012-05-27</td>\n",
              "      <td>{'Kitchen &amp; Dining': 9690}</td>\n",
              "      <td>Wilton Decorating Cakes Book</td>\n",
              "      <td>This exciting book presents what Wilton has  l...</td>\n",
              "      <td>{'also_bought': ['B003MC22TU', 'B003MC22PY', '...</td>\n",
              "      <td>14.26</td>\n",
              "      <td>Wilton</td>\n",
              "      <td>2012</td>\n",
              "      <td>5</td>\n",
              "      <td>56</td>\n",
              "      <td>Home &amp; Kitchen</td>\n",
              "      <td>Kitchen &amp; Dining</td>\n",
              "      <td>Bakeware</td>\n",
              "      <td>Baking &amp; Cookie Sheets</td>\n",
              "      <td>NaN</td>\n",
              "      <td>NaN</td>\n",
              "      <td>NaN</td>\n",
              "    </tr>\n",
              "    <tr>\n",
              "      <th>1</th>\n",
              "      <td>317</td>\n",
              "      <td>AZF13R8HNB59E</td>\n",
              "      <td>0912696591</td>\n",
              "      <td>[0, 1]</td>\n",
              "      <td>excellent book, shipped on time, packaged nice...</td>\n",
              "      <td>5.0</td>\n",
              "      <td>book</td>\n",
              "      <td>2012-06-12</td>\n",
              "      <td>{'Kitchen &amp; Dining': 9690}</td>\n",
              "      <td>Wilton Decorating Cakes Book</td>\n",
              "      <td>This exciting book presents what Wilton has  l...</td>\n",
              "      <td>{'also_bought': ['B003MC22TU', 'B003MC22PY', '...</td>\n",
              "      <td>14.26</td>\n",
              "      <td>Wilton</td>\n",
              "      <td>2012</td>\n",
              "      <td>6</td>\n",
              "      <td>24</td>\n",
              "      <td>Home &amp; Kitchen</td>\n",
              "      <td>Kitchen &amp; Dining</td>\n",
              "      <td>Bakeware</td>\n",
              "      <td>Baking &amp; Cookie Sheets</td>\n",
              "      <td>NaN</td>\n",
              "      <td>NaN</td>\n",
              "      <td>NaN</td>\n",
              "    </tr>\n",
              "    <tr>\n",
              "      <th>2</th>\n",
              "      <td>318</td>\n",
              "      <td>A1KCBA3PKLV2IT</td>\n",
              "      <td>0912696591</td>\n",
              "      <td>[0, 0]</td>\n",
              "      <td>i loved it. don't use it much but when i had i...</td>\n",
              "      <td>5.0</td>\n",
              "      <td>great!</td>\n",
              "      <td>2012-12-26</td>\n",
              "      <td>{'Kitchen &amp; Dining': 9690}</td>\n",
              "      <td>Wilton Decorating Cakes Book</td>\n",
              "      <td>This exciting book presents what Wilton has  l...</td>\n",
              "      <td>{'also_bought': ['B003MC22TU', 'B003MC22PY', '...</td>\n",
              "      <td>14.26</td>\n",
              "      <td>Wilton</td>\n",
              "      <td>2012</td>\n",
              "      <td>12</td>\n",
              "      <td>27</td>\n",
              "      <td>Home &amp; Kitchen</td>\n",
              "      <td>Kitchen &amp; Dining</td>\n",
              "      <td>Bakeware</td>\n",
              "      <td>Baking &amp; Cookie Sheets</td>\n",
              "      <td>NaN</td>\n",
              "      <td>NaN</td>\n",
              "      <td>NaN</td>\n",
              "    </tr>\n",
              "    <tr>\n",
              "      <th>3</th>\n",
              "      <td>321</td>\n",
              "      <td>A3JM7FVJMPJ1XD</td>\n",
              "      <td>0912696591</td>\n",
              "      <td>[4, 4]</td>\n",
              "      <td>So I actually bought this thinking it was the ...</td>\n",
              "      <td>3.0</td>\n",
              "      <td>Good for what it's worth</td>\n",
              "      <td>2012-08-16</td>\n",
              "      <td>{'Kitchen &amp; Dining': 9690}</td>\n",
              "      <td>Wilton Decorating Cakes Book</td>\n",
              "      <td>This exciting book presents what Wilton has  l...</td>\n",
              "      <td>{'also_bought': ['B003MC22TU', 'B003MC22PY', '...</td>\n",
              "      <td>14.26</td>\n",
              "      <td>Wilton</td>\n",
              "      <td>2012</td>\n",
              "      <td>8</td>\n",
              "      <td>92</td>\n",
              "      <td>Home &amp; Kitchen</td>\n",
              "      <td>Kitchen &amp; Dining</td>\n",
              "      <td>Bakeware</td>\n",
              "      <td>Baking &amp; Cookie Sheets</td>\n",
              "      <td>NaN</td>\n",
              "      <td>NaN</td>\n",
              "      <td>NaN</td>\n",
              "    </tr>\n",
              "    <tr>\n",
              "      <th>4</th>\n",
              "      <td>326</td>\n",
              "      <td>A1B9BZ3AJ5V1NJ</td>\n",
              "      <td>0912696591</td>\n",
              "      <td>[0, 0]</td>\n",
              "      <td>I'm hoping that I can learn how to make gum pa...</td>\n",
              "      <td>5.0</td>\n",
              "      <td>learning</td>\n",
              "      <td>2014-05-21</td>\n",
              "      <td>{'Kitchen &amp; Dining': 9690}</td>\n",
              "      <td>Wilton Decorating Cakes Book</td>\n",
              "      <td>This exciting book presents what Wilton has  l...</td>\n",
              "      <td>{'also_bought': ['B003MC22TU', 'B003MC22PY', '...</td>\n",
              "      <td>14.26</td>\n",
              "      <td>Wilton</td>\n",
              "      <td>2014</td>\n",
              "      <td>5</td>\n",
              "      <td>24</td>\n",
              "      <td>Home &amp; Kitchen</td>\n",
              "      <td>Kitchen &amp; Dining</td>\n",
              "      <td>Bakeware</td>\n",
              "      <td>Baking &amp; Cookie Sheets</td>\n",
              "      <td>NaN</td>\n",
              "      <td>NaN</td>\n",
              "      <td>NaN</td>\n",
              "    </tr>\n",
              "  </tbody>\n",
              "</table>\n",
              "</div>"
            ],
            "text/plain": [
              "   Unnamed: 0      reviewerID  ... subCategory5 subCategory6#\n",
              "0         315  A39RRTO760KGOY  ...          NaN           NaN\n",
              "1         317   AZF13R8HNB59E  ...          NaN           NaN\n",
              "2         318  A1KCBA3PKLV2IT  ...          NaN           NaN\n",
              "3         321  A3JM7FVJMPJ1XD  ...          NaN           NaN\n",
              "4         326  A1B9BZ3AJ5V1NJ  ...          NaN           NaN\n",
              "\n",
              "[5 rows x 24 columns]"
            ]
          },
          "metadata": {
            "tags": []
          },
          "execution_count": 12
        }
      ]
    },
    {
      "cell_type": "code",
      "metadata": {
        "colab": {
          "base_uri": "https://localhost:8080/",
          "height": 204
        },
        "id": "JiAYZUbGk88p",
        "outputId": "3de93848-53e9-49d8-adba-f4cc1b136ccc"
      },
      "source": [
        "import json\n",
        "product_related = []\n",
        "for i in range(KitchenDining.shape[0]):\n",
        "  product_related.append([KitchenDining.asin[i],KitchenDining.related[i]])\n",
        "product_related = pd.DataFrame(product_related)\n",
        "product_related = product_related.rename(columns={0:'asin', 1:'related'})\n",
        "product_related.dropna(inplace=True)\n",
        "product_related.drop_duplicates(inplace=True)\n",
        "product_related.reset_index()\n",
        "product_related.head()"
      ],
      "execution_count": 13,
      "outputs": [
        {
          "output_type": "execute_result",
          "data": {
            "text/html": [
              "<div>\n",
              "<style scoped>\n",
              "    .dataframe tbody tr th:only-of-type {\n",
              "        vertical-align: middle;\n",
              "    }\n",
              "\n",
              "    .dataframe tbody tr th {\n",
              "        vertical-align: top;\n",
              "    }\n",
              "\n",
              "    .dataframe thead th {\n",
              "        text-align: right;\n",
              "    }\n",
              "</style>\n",
              "<table border=\"1\" class=\"dataframe\">\n",
              "  <thead>\n",
              "    <tr style=\"text-align: right;\">\n",
              "      <th></th>\n",
              "      <th>asin</th>\n",
              "      <th>related</th>\n",
              "    </tr>\n",
              "  </thead>\n",
              "  <tbody>\n",
              "    <tr>\n",
              "      <th>0</th>\n",
              "      <td>0912696591</td>\n",
              "      <td>{'also_bought': ['B003MC22TU', 'B003MC22PY', '...</td>\n",
              "    </tr>\n",
              "    <tr>\n",
              "      <th>41</th>\n",
              "      <td>B00000JGRP</td>\n",
              "      <td>{'also_viewed': ['B0000645YL', 'B0000645YM', '...</td>\n",
              "    </tr>\n",
              "    <tr>\n",
              "      <th>68</th>\n",
              "      <td>B00000JGRQ</td>\n",
              "      <td>{'also_bought': ['B00004S9CJ', 'B001D9B2R2', '...</td>\n",
              "    </tr>\n",
              "    <tr>\n",
              "      <th>80</th>\n",
              "      <td>B00000JGRT</td>\n",
              "      <td>{'also_bought': ['B00004S9D3', '0894803123', '...</td>\n",
              "    </tr>\n",
              "    <tr>\n",
              "      <th>152</th>\n",
              "      <td>B00002N602</td>\n",
              "      <td>{'also_bought': ['B000ORD8GM', '0965410803', '...</td>\n",
              "    </tr>\n",
              "  </tbody>\n",
              "</table>\n",
              "</div>"
            ],
            "text/plain": [
              "           asin                                            related\n",
              "0    0912696591  {'also_bought': ['B003MC22TU', 'B003MC22PY', '...\n",
              "41   B00000JGRP  {'also_viewed': ['B0000645YL', 'B0000645YM', '...\n",
              "68   B00000JGRQ  {'also_bought': ['B00004S9CJ', 'B001D9B2R2', '...\n",
              "80   B00000JGRT  {'also_bought': ['B00004S9D3', '0894803123', '...\n",
              "152  B00002N602  {'also_bought': ['B000ORD8GM', '0965410803', '..."
            ]
          },
          "metadata": {
            "tags": []
          },
          "execution_count": 13
        }
      ]
    },
    {
      "cell_type": "code",
      "metadata": {
        "colab": {
          "base_uri": "https://localhost:8080/"
        },
        "id": "0bAW7_gNx-TN",
        "outputId": "c2af5e75-ac78-48fa-c3e5-a80ac35aec4b"
      },
      "source": [
        "product_related.shape"
      ],
      "execution_count": 14,
      "outputs": [
        {
          "output_type": "execute_result",
          "data": {
            "text/plain": [
              "(3320, 2)"
            ]
          },
          "metadata": {
            "tags": []
          },
          "execution_count": 14
        }
      ]
    },
    {
      "cell_type": "code",
      "metadata": {
        "id": "tkA-CKqZr2Pl"
      },
      "source": [
        "relation_dict = dict()\n",
        "for i in product_related.index:\n",
        "  x=product_related.related[i]\n",
        "  x = str(x).replace(\"\\'\", \"\\\"\")\n",
        "  dictx = json.loads(x)\n",
        "  relation_dict[product_related.asin[i]] = dictx\n"
      ],
      "execution_count": 15,
      "outputs": []
    },
    {
      "cell_type": "code",
      "metadata": {
        "id": "eoJZcPPTzhXh"
      },
      "source": [
        "product_related = pd.DataFrame(relation_dict)"
      ],
      "execution_count": 16,
      "outputs": []
    },
    {
      "cell_type": "code",
      "metadata": {
        "colab": {
          "base_uri": "https://localhost:8080/",
          "height": 392
        },
        "id": "NdcB-Hs5zqJk",
        "outputId": "03794ceb-fb57-40e4-f445-991823cb65b7"
      },
      "source": [
        "product_related"
      ],
      "execution_count": 17,
      "outputs": [
        {
          "output_type": "execute_result",
          "data": {
            "text/html": [
              "<div>\n",
              "<style scoped>\n",
              "    .dataframe tbody tr th:only-of-type {\n",
              "        vertical-align: middle;\n",
              "    }\n",
              "\n",
              "    .dataframe tbody tr th {\n",
              "        vertical-align: top;\n",
              "    }\n",
              "\n",
              "    .dataframe thead th {\n",
              "        text-align: right;\n",
              "    }\n",
              "</style>\n",
              "<table border=\"1\" class=\"dataframe\">\n",
              "  <thead>\n",
              "    <tr style=\"text-align: right;\">\n",
              "      <th></th>\n",
              "      <th>0912696591</th>\n",
              "      <th>B00000JGRP</th>\n",
              "      <th>B00000JGRQ</th>\n",
              "      <th>B00000JGRT</th>\n",
              "      <th>B00002N602</th>\n",
              "      <th>B00004OCIP</th>\n",
              "      <th>B00004OCIQ</th>\n",
              "      <th>B00004OCIU</th>\n",
              "      <th>B00004OCIX</th>\n",
              "      <th>B00004OCIZ</th>\n",
              "      <th>B00004OCJ6</th>\n",
              "      <th>B00004OCJ9</th>\n",
              "      <th>B00004OCJJ</th>\n",
              "      <th>B00004OCJK</th>\n",
              "      <th>B00004OCJN</th>\n",
              "      <th>B00004OCJO</th>\n",
              "      <th>B00004OCJQ</th>\n",
              "      <th>B00004OCJW</th>\n",
              "      <th>B00004OCK0</th>\n",
              "      <th>B00004OCK3</th>\n",
              "      <th>B00004OCKO</th>\n",
              "      <th>B00004OCKR</th>\n",
              "      <th>B00004OCKT</th>\n",
              "      <th>B00004OCL2</th>\n",
              "      <th>B00004OCL8</th>\n",
              "      <th>B00004OCL9</th>\n",
              "      <th>B00004OCLA</th>\n",
              "      <th>B00004OCLK</th>\n",
              "      <th>B00004OCLW</th>\n",
              "      <th>B00004OCM4</th>\n",
              "      <th>B00004OCMB</th>\n",
              "      <th>B00004OCMM</th>\n",
              "      <th>B00004OCMS</th>\n",
              "      <th>B00004OCMX</th>\n",
              "      <th>B00004OCMY</th>\n",
              "      <th>B00004OCNE</th>\n",
              "      <th>B00004OCNJ</th>\n",
              "      <th>B00004OCNK</th>\n",
              "      <th>B00004OCNL</th>\n",
              "      <th>B00004OCNQ</th>\n",
              "      <th>...</th>\n",
              "      <th>B00JW02L9W</th>\n",
              "      <th>B00JWXSPAS</th>\n",
              "      <th>B00JWY1PPE</th>\n",
              "      <th>B00JWYX7YQ</th>\n",
              "      <th>B00JWZCE08</th>\n",
              "      <th>B00JZKZPMO</th>\n",
              "      <th>B00JZL11V2</th>\n",
              "      <th>B00JZXYG9O</th>\n",
              "      <th>B00K11U0Y4</th>\n",
              "      <th>B00K4S1L1K</th>\n",
              "      <th>B00K4V4EWA</th>\n",
              "      <th>B00K6BCV7S</th>\n",
              "      <th>B00K7ILPYU</th>\n",
              "      <th>B00K7P0D9G</th>\n",
              "      <th>B00K8LHA3G</th>\n",
              "      <th>B00KAF5DLQ</th>\n",
              "      <th>B00KAJ3OY0</th>\n",
              "      <th>B00KAK443Y</th>\n",
              "      <th>B00KB7KNRM</th>\n",
              "      <th>B00KBQ1OHQ</th>\n",
              "      <th>B00KBUGQJS</th>\n",
              "      <th>B00KCFDB4U</th>\n",
              "      <th>B00KD83BMS</th>\n",
              "      <th>B00KDV5RZY</th>\n",
              "      <th>B00KFS40N0</th>\n",
              "      <th>B00KI2RQHU</th>\n",
              "      <th>B00KIVD1PC</th>\n",
              "      <th>B00KKYSBUW</th>\n",
              "      <th>B00KM9W2PU</th>\n",
              "      <th>B00KNPVL8W</th>\n",
              "      <th>B00KQCJ0CG</th>\n",
              "      <th>B00KQXDIG4</th>\n",
              "      <th>B00KSRQN0Q</th>\n",
              "      <th>B00KSRSZC0</th>\n",
              "      <th>B00KSRV3UQ</th>\n",
              "      <th>B00KSRXUC0</th>\n",
              "      <th>B00KW1ZDCM</th>\n",
              "      <th>B00KWKQ2MS</th>\n",
              "      <th>B00L8FQZ3M</th>\n",
              "      <th>B00LB18EKK</th>\n",
              "    </tr>\n",
              "  </thead>\n",
              "  <tbody>\n",
              "    <tr>\n",
              "      <th>also_bought</th>\n",
              "      <td>[B003MC22TU, B003MC22PY, B006UKNSVC, B003MC22Z...</td>\n",
              "      <td>NaN</td>\n",
              "      <td>[B00004S9CJ, B001D9B2R2, B000TQEDDK, B00005QFK...</td>\n",
              "      <td>[B00004S9D3, 0894803123, 149484205X, 158008219...</td>\n",
              "      <td>[B000ORD8GM, 0965410803, 0764597264, B0000Z6JI...</td>\n",
              "      <td>[B000SSTV8Q, B0071OUJDQ, B00004OCO8, B0001YH1A...</td>\n",
              "      <td>[B00004OCM4, B007WTGR90, B000SOAT0Y, B002XOHZW...</td>\n",
              "      <td>[B00004OCIP, B000Q9CIYG, B0000DAQ93, B000VQOP5...</td>\n",
              "      <td>NaN</td>\n",
              "      <td>[B00004OCLJ, B00004OCL2, B003M8GMS6, B00004OCL...</td>\n",
              "      <td>[B000A13OEI, B001BB2LMM, B0011EZ7AC, B000A13OE...</td>\n",
              "      <td>[B00421ATIQ, B000FUO3QM, B002CZOSL8, B0037XIZD...</td>\n",
              "      <td>[B00004OCJK, B00004OCIP, B004VLYQGS, B000YDO2M...</td>\n",
              "      <td>[B00004OCIP, B00004OCNS, B00004OCJJ, B0000CDVD...</td>\n",
              "      <td>[B003BEDQL2, B0000E1FDA, B0000D8CAO, B00004OCI...</td>\n",
              "      <td>[B0000DAQ93, B0036X4YOG, B00B6LUAPW, B003AIKP0...</td>\n",
              "      <td>[B0019R7SPS, B00004OCNJ, B007L5ROZQ, B000I0MGK...</td>\n",
              "      <td>[B00004OCIP, B00006IFN8, B00004OCJG, B0001YH1A...</td>\n",
              "      <td>[B0000CDVD8, B0001BMXIU, B00004OCMX, B003L0OYJ...</td>\n",
              "      <td>[B0002YTG5Y, B0002YTG4K, B0002YTG3G, B0007P4J3...</td>\n",
              "      <td>[B0007VO0EE, B0001YH1A2, B001713L5C, B00004OCI...</td>\n",
              "      <td>[B002MQ3SOA, B002DWA6K2, B000OUY2QO, B003L0OOR...</td>\n",
              "      <td>[B000AREB5S, B0088LR592, B002XOHZWC, B007WTGR9...</td>\n",
              "      <td>[B00004OCIZ, B00004OCLJ, B001CRC54O, B001OHV29...</td>\n",
              "      <td>[B00004OCOP, B000KEYD9K, B00004OCOQ, B00004OCO...</td>\n",
              "      <td>[B00004OCNS, B00004OCJK, B0045EPNBI, B00004OCI...</td>\n",
              "      <td>[B007U256D2, B0042FN98Y, B0010L1C28, B0038JE5Y...</td>\n",
              "      <td>[B002HMBVKW, B00004OCIZ, B00004OCLJ, B000FEDCN...</td>\n",
              "      <td>[B001713L84, B00KY4Z1I8, B001CDLKHQ, B00004OCN...</td>\n",
              "      <td>[B00CPNUY7Y, B002XOHZWC, B00004OCIQ, B00095VK7...</td>\n",
              "      <td>[B00004OCMX, B000EURKG8, B0069KDUXO, B00004OCM...</td>\n",
              "      <td>[B0001YH1A2, B00004OCIP, B0000DAQ46, B0007VO0C...</td>\n",
              "      <td>[B00004OCMT, B00004OCME, B00004OCMW, B00004OCM...</td>\n",
              "      <td>[B00004OCMB, B00004OCMP, B0001BMXIU, B00004OCM...</td>\n",
              "      <td>[B001CDP5VS, B000M8YMEU, B00004OCO6, B00004OCO...</td>\n",
              "      <td>[B000QJGRJ8, B007638GOQ, B00A2KDAJQ, B0006Z16R...</td>\n",
              "      <td>[B000QJE48O, B000IYYFIQ, B000KEUKO2, B000JPSI8...</td>\n",
              "      <td>[B000VWECPQ, B000MMRNPG, B00004OCNJ, B000QJE48...</td>\n",
              "      <td>[B000QJE48O, B00004OCNJ, B00005OAXZ, B00004OCN...</td>\n",
              "      <td>[B00004OCNS, B00004OCNT, B00004OCO8, B000JPSI8...</td>\n",
              "      <td>...</td>\n",
              "      <td>[B00JJOEV9Y, B00M04HZIO, B00L8FDIZU, B00L8FQZ3...</td>\n",
              "      <td>[B00JWYX7YQ, B00JJOEV9Y, B00LGVUUA2, B00L8HA5L...</td>\n",
              "      <td>[B00JJOEV9Y, B00LGVUUA2, B00M04HZIO, B00L8HA5L...</td>\n",
              "      <td>[B00JJOEV9Y, B00JWXSPAS, B00LGVUUA2, B00M04HZI...</td>\n",
              "      <td>[B00JJOEV9Y, B00L8FDIZU, B00L8FQZ3M, B00LGVUUA...</td>\n",
              "      <td>[B00J4FUCAA, B00K8LHA3G, B00HDABAQS, B0000CFOI...</td>\n",
              "      <td>[B00JVOIW3S, B00J93MQ6U, B00DDMILGM, B001OAKME...</td>\n",
              "      <td>[B00JJOEV9Y, B00M04HZIO, B00LGVUUA2, B00L8FDIZ...</td>\n",
              "      <td>[B00D19SSE2, B005TA1IUW, B0041ENPEO, B00D1AXYA...</td>\n",
              "      <td>[B00JJOEV9Y, B00L9KOZBK, B00M04HZIO, B00LSXYC6...</td>\n",
              "      <td>[B00JS0TIVK, B00I3LDJJW, B005OLJEZC, B000QIU7X...</td>\n",
              "      <td>[B00K6BCW5O, B00KNPVL8W, B004ZEMSCK, B00DOL3LW...</td>\n",
              "      <td>[B00KZNOHTW, B00KQBR9FM, B00KQVTX06, B00KHGIK5...</td>\n",
              "      <td>[B00KCFDB4U, B00K8LHA3G, B00JVOIW3S, B00KWXBZP...</td>\n",
              "      <td>[B00K7P0D9G, B00KCFDB4U, B00JZKZPMO, B00JVOIW3...</td>\n",
              "      <td>[B00006IV0U, B003GSKQAW, B006OK7RRO, B00GOPICN...</td>\n",
              "      <td>NaN</td>\n",
              "      <td>NaN</td>\n",
              "      <td>NaN</td>\n",
              "      <td>[B00K7P0D9G, B00KCFDB4U, B001T4URXG, B0052456U...</td>\n",
              "      <td>NaN</td>\n",
              "      <td>[B00K7P0D9G, B00EZQ8OXU, B00KL1JZEU, B00KTV6DY...</td>\n",
              "      <td>[B00J4FUCAA, B00J3M78GA, B00KDV5RZY, B00HDABAQ...</td>\n",
              "      <td>[B00J4FUCAA, B00J3M78GA, B00KDUYU30, B00HDABAQ...</td>\n",
              "      <td>[B00JJOEV9Y, B00M04HZIO, B00KWP8ZIM, B00KVE7R0...</td>\n",
              "      <td>[B00JJOEV9Y, B00M04HZIO, B00LGW9YUS, B00L8HA5L...</td>\n",
              "      <td>[B00JJOEV9Y, B00M04HZIO, B00KWP8ZIM, B00LDGV15...</td>\n",
              "      <td>[B00KTV6DY2, B00K7P0D9G, B002ZD3QJC, B0047BIWS...</td>\n",
              "      <td>[B00KK62714, B00JK9IZ2M, B00KXGX5ZS, B00JLWPTP...</td>\n",
              "      <td>[B00K6BCV7S, B00K7P0D9G, B001E87S66, B0000VLGJ...</td>\n",
              "      <td>[B00KB5QEYK, B00KB4CHTC, B00L2JQ8AE, B004QM8W5...</td>\n",
              "      <td>[B00JJOEV9Y, B00M04HZIO, B00L8HA5L8, B00L8FQZ3...</td>\n",
              "      <td>[B00KSRV3UQ, B00L7UBM68, B00L88OC8E, B00KT3OM3...</td>\n",
              "      <td>NaN</td>\n",
              "      <td>[B00KSRQN0Q, B00L2JQACA, B0002JZCF2, B00INJE7F...</td>\n",
              "      <td>[B00JVYC07M, B00G494NVS, B00GQR9RXC, B008UOFYP...</td>\n",
              "      <td>NaN</td>\n",
              "      <td>[B00JJOEV9Y, B00KNHG83I, B00KHACA6U, B00JOUZOT...</td>\n",
              "      <td>[B00JJOEV9Y, B00L8HA5L8, B00L8FDIZU, B00M04HZI...</td>\n",
              "      <td>[B00JJOEV9Y, B00M04HZIO, B00LGW9YUS, B00L8FQZ3...</td>\n",
              "    </tr>\n",
              "    <tr>\n",
              "      <th>also_viewed</th>\n",
              "      <td>[B0002ZFXSM, B0002ZFXSW, 1934089133, B000OSFIN...</td>\n",
              "      <td>[B0000645YL, B0000645YM, B008EYQLSO, B005GZ1WL...</td>\n",
              "      <td>[B00004S9CI, B003P5XBGM, B00FMRTEQM, B000MY4Y3...</td>\n",
              "      <td>[B003KYSLMW, B0006ONQOC, B00004S9D3, B0041A3KP...</td>\n",
              "      <td>[B005FYF4F2, B00002N601, B00006ISG3, B001FTEX1...</td>\n",
              "      <td>NaN</td>\n",
              "      <td>[B003AN7EW6, B000PB304M, B005NKJWKQ, B004L04PV...</td>\n",
              "      <td>[B0000DAQ5E, B00004OCIP, B001BCFTWU, B00FF75XG...</td>\n",
              "      <td>[B003BEDQL2, B0000DAQ7N, B0000CFMFH, B00008TAB...</td>\n",
              "      <td>[B00004OCLJ, B001QTVXK0, B004BIKKCU, B00BE02HY...</td>\n",
              "      <td>[B00004RFNI, B00091SCV4, B00CBGQI7U, B0037XH5T...</td>\n",
              "      <td>[B00421ATIQ, B000FUO3QM, B002CZOSL8, B001IAPEA...</td>\n",
              "      <td>[B000066OJD, B0000VLUMG, B005D6FXWQ, B000YD76Q...</td>\n",
              "      <td>[B0045EPNBI, B00004OCL9, B007UGLK7O, B005JB45T...</td>\n",
              "      <td>[B0000E2GYL, B00J051BCM, B00CYDGTQK, B001A4990...</td>\n",
              "      <td>[B00004S7V8, B001987H9O, B000FFIVUG, B008DSI90...</td>\n",
              "      <td>[B000OLA7KS, B00FL7095I, B00HBA1V82, B007ME4WL...</td>\n",
              "      <td>[B00004OCMM, B000H0QOBM, B001THDJKQ, B004E1QLK...</td>\n",
              "      <td>[B003L0OYJ4, B0000CDVD8, B003L0OYK8, B000LCOY0...</td>\n",
              "      <td>[B0007P4J3M, B0051T97DQ, B0002YTG5Y, B0002YTG4...</td>\n",
              "      <td>[B001713L5C, B00FQLVNW2, B0080JN1HW, B000H0KKP...</td>\n",
              "      <td>[B0086UR0UO, B000ND5C9I, B0007LXTHI, B0000644F...</td>\n",
              "      <td>[B000SOAT0Y, B001AQ2P74, B00004OCIQ, B005B8M35...</td>\n",
              "      <td>[B002NUY9UW, B001QXDRKA, B00004OCKX, B0089VPGC...</td>\n",
              "      <td>[B000ND1YTU, B0000CCY1T, B00004OCOP, B000KEYD9...</td>\n",
              "      <td>[B0045EPNBI, B00004OCJK, B005JB45TW, B007UGLK7...</td>\n",
              "      <td>[B007U256D2, B00B7Q4DEU, B004UII7JE, B00LNTZCT...</td>\n",
              "      <td>[B004ZLAGJK, B002HMBVKW, B000CC91GK, B000F3NIV...</td>\n",
              "      <td>[B001713L84, B007TUQF9O, B001VZERX4, B00HXZ5W7...</td>\n",
              "      <td>[B002U8AU6O, B00GLEUVS0, B000JJU4JE, B0000VLUF...</td>\n",
              "      <td>[B005NKJWBA, B002UHJOUI, B0009J4YAE, B003FGVPD...</td>\n",
              "      <td>[B000HK03HI, B000079XW2, B0071OUJDQ, B000H0QOB...</td>\n",
              "      <td>[B00004OCOS, B000V9CB16, B001VZCMYU, B00004OCM...</td>\n",
              "      <td>[B0001BMXIU, B000BU7TSU, B000K8CP7I, B002CJNBT...</td>\n",
              "      <td>[B001CDP5VS, B007U256CS, B002BFQR3G, B0051T96Q...</td>\n",
              "      <td>[B008X3KQ46, B008X3KQ0U, B000M8YMEU, B00J4QH77...</td>\n",
              "      <td>[B000SSZ4Q4, B000KEUKO2, B0000VLVW0, B0017HUR9...</td>\n",
              "      <td>[B000QJE48O, B000VWECPQ, B004S67UFA, B0000VLYA...</td>\n",
              "      <td>[B000HJ99UG, B000P68GPA, B00BR4H18M, B000MMRNP...</td>\n",
              "      <td>[B00004OCNS, B00004OCNT, B00008WVBJ, B00004OCN...</td>\n",
              "      <td>...</td>\n",
              "      <td>[B00IEGTE5O, B00K25XL3G, B00LZ1Z0CQ, B00KNGNK0...</td>\n",
              "      <td>[B002LGZUTW, B00CH31U3O, B00IJF0Z1W, B00I8XA3V...</td>\n",
              "      <td>[B00IVM1TKO, B00GU1RD2G, B00JW02L92, B00KX3HAT...</td>\n",
              "      <td>[B000GA3KCE, B00005U2FA, B0000DE77D, B00JWXSPA...</td>\n",
              "      <td>[B00FF75XG4, B00KEVG4L4, B00HIAXFCK, B00GQR9RX...</td>\n",
              "      <td>[B00HDABAQS, B00JAFXIZ0, B00JAFXIXC, B00GWVRW3...</td>\n",
              "      <td>[B00J93MQ6U, B00KADJUSK, B00JUWYSCK, B00KC03MA...</td>\n",
              "      <td>[B00D6SRLSW, B00COTHUIA, B00HI4L4G0, B004S7B4F...</td>\n",
              "      <td>[B005TA1IUW, B00D19SSE2, B00GWACVEA, B009VU17Z...</td>\n",
              "      <td>[B00HQCJP88, B00D5CZ00A, B00E1IYY68, B00GLDL9H...</td>\n",
              "      <td>[B00H8RVMC8, B00COM0AX4, B00CQ50PS4, B00JS0TIV...</td>\n",
              "      <td>[B000SOAT0Y, B005B8M356, B00EZQQO8M, B00EZQQO9...</td>\n",
              "      <td>[B00H8RVMC8, B00HFXNOO4, B00D3YHOHW, B00CQ50PS...</td>\n",
              "      <td>[B00KEVG4L4, B00KHXKPHI, B00JWZCE08, B00L3I322...</td>\n",
              "      <td>[B00JVOIW3S, B00KIVD1PC, B00I014XAE, B00IW110B...</td>\n",
              "      <td>[B00006IV0U, B0000W4MYI, B00GOPICNM, B00F8M3Z6...</td>\n",
              "      <td>[B00C3OK4TS, B00H7KWZRC, B000EGSFRK, B002LLOE8...</td>\n",
              "      <td>[B001FB6IFY, B00KB8K85S, B00KB7KNRM, B00H2ECW5...</td>\n",
              "      <td>[B0089O0W1G, B00KB8K85S, B000LDE0QQ, B00KAK443...</td>\n",
              "      <td>[B00JG8N8QA, B00CNVBCLK, B00GOBDU24, B00KDQ6KE...</td>\n",
              "      <td>[B00GAV2BW8, B00HYAKJO6, B004VFHKNU, B00E3M926...</td>\n",
              "      <td>[B00H8RVMC8, B00H8W54EK, B00K4V4EWA, B00GNIIUC...</td>\n",
              "      <td>[B00KDV5RZY, B00J4FUCAA, B00750ZQ1Q, B00KDR6D2...</td>\n",
              "      <td>[B00KDR6D2O, B00KDUYU30, B00KD83BMS, B00J3M78G...</td>\n",
              "      <td>[B00KEVG4L4, B00FF75XG4, B00KHXKPHI, B00KKU3QE...</td>\n",
              "      <td>[B00G3ZHOLY, B001UEPGFY, B004ETJH66, B00ED2FOI...</td>\n",
              "      <td>[B00IIVRB3W, B00K8LHA3G, B00KQXDIG4, B00JVOIW3...</td>\n",
              "      <td>[B00INJE7FE, B008YK3IUM, B001802PIQ, B001804CL...</td>\n",
              "      <td>[B00HHLNRVE, B00I937QEI, B00EENF838, B00KY5S81...</td>\n",
              "      <td>[B0008DJVBS, B00AT6AXK2, B000SOUV1G, B00JNIYDN...</td>\n",
              "      <td>[B00FKBR1ZG, B0087UYR1S, B00FIU3L8K, B00J6PE2Z...</td>\n",
              "      <td>[B00KIVD1PC, B00KHD7NAA, B00KFKIOBW, B00J19AR7...</td>\n",
              "      <td>[B00KSRV3UQ, B00KSRSZC0, B005FEF1DM, B00JNV9G1...</td>\n",
              "      <td>[B00KSRV3UQ, B00KSRQN0Q, B005FEF1DM, B00EJ62XG...</td>\n",
              "      <td>[B00KSRQN0Q, B005FEF1DM, B00KSRSZC0, B00EJ62XG...</td>\n",
              "      <td>[B0084ORV60, B00JVY7CSO, B00IJBQNZI, B00JBIZTA...</td>\n",
              "      <td>[B00J93MQ6U, B00JKF0DSA, B00JKF0C9U, B00KQO5WQ...</td>\n",
              "      <td>[B009LI9O0E, B002S0NHSC, B00IGB3K1Q, B00IGB3P4...</td>\n",
              "      <td>[B00L8HA5L8, B00L8FDIZU, B00L3GF2BW, B00L3MG3S...</td>\n",
              "      <td>[B00JK9IZ2M, B0000CFFRO, B00CLULMNG, B00004OCI...</td>\n",
              "    </tr>\n",
              "    <tr>\n",
              "      <th>bought_together</th>\n",
              "      <td>[B003MC22TU, B006UKNSVC]</td>\n",
              "      <td>[B0000DDXLE, B0006GC7IQ]</td>\n",
              "      <td>[B009GQ032E, B001D9B2R2]</td>\n",
              "      <td>[0894803123, B00EDHE4ZI]</td>\n",
              "      <td>[B000ORD8GM]</td>\n",
              "      <td>[B0071OUJDQ, B000M8YMEU]</td>\n",
              "      <td>[B002XOHZWC]</td>\n",
              "      <td>[B00004OCIP]</td>\n",
              "      <td>[B0000CFMFH]</td>\n",
              "      <td>[B00004OCLJ]</td>\n",
              "      <td>[B005LRYE36]</td>\n",
              "      <td>[B00421ATIQ, B000FUO3QM]</td>\n",
              "      <td>[B00004OCJK, B00004OCIP]</td>\n",
              "      <td>[B00004OCIP, B00004OCNS]</td>\n",
              "      <td>[B003BEDQL2, B00004OCIP]</td>\n",
              "      <td>[B0000DAQ93, B0036X4YOG]</td>\n",
              "      <td>[B0019R7SPS, B00004OCNJ]</td>\n",
              "      <td>[B00004OCIP]</td>\n",
              "      <td>[B0000CDVD8]</td>\n",
              "      <td>[B0002YTG5Y, B0051T97DQ]</td>\n",
              "      <td>[B0001YH1A2, B00004OCMM]</td>\n",
              "      <td>[B002MQ3SOA, B000OUY2QO]</td>\n",
              "      <td>[B002XOHZWC, B0088LR592]</td>\n",
              "      <td>[B00004OCLJ, B00004OCIZ]</td>\n",
              "      <td>[B00004OCOP]</td>\n",
              "      <td>[B00004OCIP, B00004OCNS]</td>\n",
              "      <td>[B007U256D2, B0042FN98Y]</td>\n",
              "      <td>[B002HMBVKW, B00004OCLJ]</td>\n",
              "      <td>[B001713L84]</td>\n",
              "      <td>[B002XOHZWC]</td>\n",
              "      <td>[B00004OCMX]</td>\n",
              "      <td>[B0001YH1A2, B00004OCIP]</td>\n",
              "      <td>[B00004OCMW, B0001BMXKI]</td>\n",
              "      <td>[B0001BMXIU]</td>\n",
              "      <td>[B001CDP5VS, B000M8YMEU]</td>\n",
              "      <td>[B000QJGRJ8]</td>\n",
              "      <td>[B000IYYFIQ, B000QJE48O]</td>\n",
              "      <td>[B00004OCNJ, B000QJE48O]</td>\n",
              "      <td>[B00004OCNJ, B000QJE48O]</td>\n",
              "      <td>[B00004OCNS, B000M8YMEU]</td>\n",
              "      <td>...</td>\n",
              "      <td>[B0023UL86A]</td>\n",
              "      <td>[B00JWYX7YQ, B00JZXYG9O]</td>\n",
              "      <td>[B00JWZCE08]</td>\n",
              "      <td>[B00JWXSPAS, B00JWY1PPE]</td>\n",
              "      <td>[B00JZXYG9O, B00JWY1PPE]</td>\n",
              "      <td>[B00J4FUCAA]</td>\n",
              "      <td>[B00K8LHA3G]</td>\n",
              "      <td>[B00JWZCE08, B00JWY1PPE]</td>\n",
              "      <td>[B00D19SSE2]</td>\n",
              "      <td>[B00JO6CRRA, B00JZGKWKS]</td>\n",
              "      <td>[B000QIU7X6, B00395FHRO]</td>\n",
              "      <td>[B000GA53CO, B002XOHZWC]</td>\n",
              "      <td>[B00CLRUSF2]</td>\n",
              "      <td>[B00KCFDB4U, B00KW1ZDCM]</td>\n",
              "      <td>[B00K7P0D9G, B00JR39AUM]</td>\n",
              "      <td>[B00006IV0U]</td>\n",
              "      <td>NaN</td>\n",
              "      <td>NaN</td>\n",
              "      <td>[B00GGFZUFS]</td>\n",
              "      <td>[B00KCFDB4U, B00KL1JZEU]</td>\n",
              "      <td>NaN</td>\n",
              "      <td>[B00K7P0D9G, B00KW1ZDCM]</td>\n",
              "      <td>[B00J4FUCAA]</td>\n",
              "      <td>[B00J4FUCAA, B00J3M78GA]</td>\n",
              "      <td>[B00DJQQEGQ]</td>\n",
              "      <td>[B00G3ZHOLY, B001UEPGFY]</td>\n",
              "      <td>[B000GA53CO, B0088LR592]</td>\n",
              "      <td>[B002ZD3QJC]</td>\n",
              "      <td>[B00KK62714]</td>\n",
              "      <td>[B00K6BCV7S, B00K6BCW5O]</td>\n",
              "      <td>[B004QM8W5S, B0073E3Q7A]</td>\n",
              "      <td>[B00GVFYEBY]</td>\n",
              "      <td>[B00KSRV3UQ, B00004SPEU]</td>\n",
              "      <td>[B00004SPEU]</td>\n",
              "      <td>[B00KSRQN0Q, B00004SPEU]</td>\n",
              "      <td>[B00004SPEU]</td>\n",
              "      <td>[B00K7P0D9G, B00JR39AUM]</td>\n",
              "      <td>NaN</td>\n",
              "      <td>[B00L8HA5L8, B00L8FDIZU]</td>\n",
              "      <td>[B00IKRRV02]</td>\n",
              "    </tr>\n",
              "    <tr>\n",
              "      <th>buy_after_viewing</th>\n",
              "      <td>NaN</td>\n",
              "      <td>NaN</td>\n",
              "      <td>NaN</td>\n",
              "      <td>NaN</td>\n",
              "      <td>NaN</td>\n",
              "      <td>[B0000DAQ46, B00FF75XG4, B005PP99L6, B0071OUJDQ]</td>\n",
              "      <td>NaN</td>\n",
              "      <td>NaN</td>\n",
              "      <td>NaN</td>\n",
              "      <td>NaN</td>\n",
              "      <td>NaN</td>\n",
              "      <td>NaN</td>\n",
              "      <td>NaN</td>\n",
              "      <td>NaN</td>\n",
              "      <td>NaN</td>\n",
              "      <td>NaN</td>\n",
              "      <td>NaN</td>\n",
              "      <td>NaN</td>\n",
              "      <td>NaN</td>\n",
              "      <td>NaN</td>\n",
              "      <td>NaN</td>\n",
              "      <td>NaN</td>\n",
              "      <td>NaN</td>\n",
              "      <td>NaN</td>\n",
              "      <td>NaN</td>\n",
              "      <td>NaN</td>\n",
              "      <td>NaN</td>\n",
              "      <td>NaN</td>\n",
              "      <td>NaN</td>\n",
              "      <td>NaN</td>\n",
              "      <td>NaN</td>\n",
              "      <td>NaN</td>\n",
              "      <td>NaN</td>\n",
              "      <td>NaN</td>\n",
              "      <td>NaN</td>\n",
              "      <td>NaN</td>\n",
              "      <td>NaN</td>\n",
              "      <td>NaN</td>\n",
              "      <td>NaN</td>\n",
              "      <td>NaN</td>\n",
              "      <td>...</td>\n",
              "      <td>NaN</td>\n",
              "      <td>NaN</td>\n",
              "      <td>NaN</td>\n",
              "      <td>NaN</td>\n",
              "      <td>NaN</td>\n",
              "      <td>NaN</td>\n",
              "      <td>NaN</td>\n",
              "      <td>NaN</td>\n",
              "      <td>NaN</td>\n",
              "      <td>NaN</td>\n",
              "      <td>NaN</td>\n",
              "      <td>NaN</td>\n",
              "      <td>NaN</td>\n",
              "      <td>NaN</td>\n",
              "      <td>NaN</td>\n",
              "      <td>NaN</td>\n",
              "      <td>NaN</td>\n",
              "      <td>NaN</td>\n",
              "      <td>NaN</td>\n",
              "      <td>NaN</td>\n",
              "      <td>NaN</td>\n",
              "      <td>NaN</td>\n",
              "      <td>NaN</td>\n",
              "      <td>NaN</td>\n",
              "      <td>NaN</td>\n",
              "      <td>NaN</td>\n",
              "      <td>NaN</td>\n",
              "      <td>NaN</td>\n",
              "      <td>NaN</td>\n",
              "      <td>NaN</td>\n",
              "      <td>NaN</td>\n",
              "      <td>NaN</td>\n",
              "      <td>NaN</td>\n",
              "      <td>NaN</td>\n",
              "      <td>NaN</td>\n",
              "      <td>NaN</td>\n",
              "      <td>NaN</td>\n",
              "      <td>NaN</td>\n",
              "      <td>NaN</td>\n",
              "      <td>NaN</td>\n",
              "    </tr>\n",
              "  </tbody>\n",
              "</table>\n",
              "<p>4 rows × 3320 columns</p>\n",
              "</div>"
            ],
            "text/plain": [
              "                                                          0912696591  ...                                         B00LB18EKK\n",
              "also_bought        [B003MC22TU, B003MC22PY, B006UKNSVC, B003MC22Z...  ...  [B00JJOEV9Y, B00M04HZIO, B00LGW9YUS, B00L8FQZ3...\n",
              "also_viewed        [B0002ZFXSM, B0002ZFXSW, 1934089133, B000OSFIN...  ...  [B00JK9IZ2M, B0000CFFRO, B00CLULMNG, B00004OCI...\n",
              "bought_together                             [B003MC22TU, B006UKNSVC]  ...                                       [B00IKRRV02]\n",
              "buy_after_viewing                                                NaN  ...                                                NaN\n",
              "\n",
              "[4 rows x 3320 columns]"
            ]
          },
          "metadata": {
            "tags": []
          },
          "execution_count": 17
        }
      ]
    },
    {
      "cell_type": "code",
      "metadata": {
        "id": "WYHxKjAHPxtd"
      },
      "source": [
        "def get_mean_rating(items):\n",
        "  if train['asin'].isin(items).sum() != 0:\n",
        "    return train[train['asin'].isin(items)].overall.mean()\n",
        "  else:\n",
        "    return 0"
      ],
      "execution_count": 18,
      "outputs": []
    },
    {
      "cell_type": "code",
      "metadata": {
        "colab": {
          "base_uri": "https://localhost:8080/"
        },
        "id": "DpKeU18oOnSo",
        "outputId": "4dd1e867-cc46-4739-ee4f-527a59e19df4"
      },
      "source": [
        "def collaborative_related(user_id, item_id):\n",
        "  \"\"\" collaborative-filtering based on mean ratings of related products. \"\"\"\n",
        "  if item_id in train.asin.to_list():\n",
        "    item_condition = train.asin == item_id\n",
        "    if item_id in product_related.columns:\n",
        "      related_items_bought = product_related.loc['also_bought', item_id]\n",
        "      if type(related_items_bought) is list:\n",
        "        mean_rate = get_mean_rating(related_items_bought)\n",
        "        if mean_rate == 0:\n",
        "          return train.loc[item_condition, 'overall'].mean()\n",
        "        else:\n",
        "          return mean_rate*0.5+train.loc[item_condition, 'overall'].mean()*0.5\n",
        "      else:\n",
        "        return train.loc[item_condition, 'overall'].mean()\n",
        "    else:\n",
        "      return train.loc[item_condition, 'overall'].mean()\n",
        "  else:\n",
        "    return 5\n",
        "print('RMSE for collaborative related mean estimation: %s' % evaluate(collaborative_related))"
      ],
      "execution_count": 19,
      "outputs": [
        {
          "output_type": "stream",
          "text": [
            "RMSE for collaborative related mean estimation: 0.9697239695245722\n"
          ],
          "name": "stdout"
        }
      ]
    },
    {
      "cell_type": "markdown",
      "metadata": {
        "id": "g9YsKxoWOEa1"
      },
      "source": [
        "##Model with Surprise library"
      ]
    },
    {
      "cell_type": "code",
      "metadata": {
        "colab": {
          "base_uri": "https://localhost:8080/"
        },
        "id": "HmIPrvN-MPma",
        "outputId": "b40edaf0-abee-4ae7-8da9-fd597146eec5"
      },
      "source": [
        "!pip install surprise"
      ],
      "execution_count": 89,
      "outputs": [
        {
          "output_type": "stream",
          "text": [
            "Collecting surprise\n",
            "  Downloading surprise-0.1-py2.py3-none-any.whl (1.8 kB)\n",
            "Collecting scikit-surprise\n",
            "  Downloading scikit-surprise-1.1.1.tar.gz (11.8 MB)\n",
            "\u001b[K     |████████████████████████████████| 11.8 MB 4.5 MB/s \n",
            "\u001b[?25hRequirement already satisfied: joblib>=0.11 in /usr/local/lib/python3.7/dist-packages (from scikit-surprise->surprise) (1.0.1)\n",
            "Requirement already satisfied: numpy>=1.11.2 in /usr/local/lib/python3.7/dist-packages (from scikit-surprise->surprise) (1.19.5)\n",
            "Requirement already satisfied: scipy>=1.0.0 in /usr/local/lib/python3.7/dist-packages (from scikit-surprise->surprise) (1.4.1)\n",
            "Requirement already satisfied: six>=1.10.0 in /usr/local/lib/python3.7/dist-packages (from scikit-surprise->surprise) (1.15.0)\n",
            "Building wheels for collected packages: scikit-surprise\n",
            "  Building wheel for scikit-surprise (setup.py) ... \u001b[?25l\u001b[?25hdone\n",
            "  Created wheel for scikit-surprise: filename=scikit_surprise-1.1.1-cp37-cp37m-linux_x86_64.whl size=1619424 sha256=9175d801ae48dd0aa918c6e6f11b20c1fb698a0e67219356dbb8e9d3ae53c07e\n",
            "  Stored in directory: /root/.cache/pip/wheels/76/44/74/b498c42be47b2406bd27994e16c5188e337c657025ab400c1c\n",
            "Successfully built scikit-surprise\n",
            "Installing collected packages: scikit-surprise, surprise\n",
            "Successfully installed scikit-surprise-1.1.1 surprise-0.1\n"
          ],
          "name": "stdout"
        }
      ]
    },
    {
      "cell_type": "code",
      "metadata": {
        "id": "mbRAL_jGMkpl"
      },
      "source": [
        "from surprise import Reader, Dataset\n",
        "from surprise import BaselineOnly\n",
        "from surprise import KNNBaseline\n",
        "from surprise import SVD\n",
        "from surprise import SVDpp\n",
        "from surprise.model_selection import cross_validate\n",
        "from surprise.model_selection import KFold\n",
        "from surprise.model_selection import train_test_split\n",
        "from surprise.model_selection import GridSearchCV"
      ],
      "execution_count": 90,
      "outputs": []
    },
    {
      "cell_type": "code",
      "metadata": {
        "colab": {
          "base_uri": "https://localhost:8080/",
          "height": 204
        },
        "id": "zY-BGtL1M-sj",
        "outputId": "743adedb-0518-4518-903b-eb0c24e22dee"
      },
      "source": [
        "train[['reviewerID', 'asin', 'overall']].head(5)"
      ],
      "execution_count": 91,
      "outputs": [
        {
          "output_type": "execute_result",
          "data": {
            "text/html": [
              "<div>\n",
              "<style scoped>\n",
              "    .dataframe tbody tr th:only-of-type {\n",
              "        vertical-align: middle;\n",
              "    }\n",
              "\n",
              "    .dataframe tbody tr th {\n",
              "        vertical-align: top;\n",
              "    }\n",
              "\n",
              "    .dataframe thead th {\n",
              "        text-align: right;\n",
              "    }\n",
              "</style>\n",
              "<table border=\"1\" class=\"dataframe\">\n",
              "  <thead>\n",
              "    <tr style=\"text-align: right;\">\n",
              "      <th></th>\n",
              "      <th>reviewerID</th>\n",
              "      <th>asin</th>\n",
              "      <th>overall</th>\n",
              "    </tr>\n",
              "  </thead>\n",
              "  <tbody>\n",
              "    <tr>\n",
              "      <th>12925</th>\n",
              "      <td>A3OPKFBT8Z15TE</td>\n",
              "      <td>B00009WE3Y</td>\n",
              "      <td>5.0</td>\n",
              "    </tr>\n",
              "    <tr>\n",
              "      <th>37924</th>\n",
              "      <td>A78VQHFWZ5KH9</td>\n",
              "      <td>B000TTCK64</td>\n",
              "      <td>5.0</td>\n",
              "    </tr>\n",
              "    <tr>\n",
              "      <th>50072</th>\n",
              "      <td>A1HN7OLEVRJ7DD</td>\n",
              "      <td>B002FYS5BA</td>\n",
              "      <td>5.0</td>\n",
              "    </tr>\n",
              "    <tr>\n",
              "      <th>22328</th>\n",
              "      <td>A1WI176M51EBIT</td>\n",
              "      <td>B00063QPYQ</td>\n",
              "      <td>5.0</td>\n",
              "    </tr>\n",
              "    <tr>\n",
              "      <th>72496</th>\n",
              "      <td>A2FQIGXDVEW10B</td>\n",
              "      <td>B009L16ZBM</td>\n",
              "      <td>5.0</td>\n",
              "    </tr>\n",
              "  </tbody>\n",
              "</table>\n",
              "</div>"
            ],
            "text/plain": [
              "           reviewerID        asin  overall\n",
              "12925  A3OPKFBT8Z15TE  B00009WE3Y      5.0\n",
              "37924   A78VQHFWZ5KH9  B000TTCK64      5.0\n",
              "50072  A1HN7OLEVRJ7DD  B002FYS5BA      5.0\n",
              "22328  A1WI176M51EBIT  B00063QPYQ      5.0\n",
              "72496  A2FQIGXDVEW10B  B009L16ZBM      5.0"
            ]
          },
          "metadata": {
            "tags": []
          },
          "execution_count": 91
        }
      ]
    },
    {
      "cell_type": "code",
      "metadata": {
        "id": "RVuwLgf-NVHC"
      },
      "source": [
        "#Transforming train data\n",
        "reader = Reader(rating_scale=(1, 5))\n",
        "data = Dataset.load_from_df(train[['reviewerID', 'asin', 'overall']], reader)\n",
        "trainset = data.build_full_trainset()"
      ],
      "execution_count": 92,
      "outputs": []
    },
    {
      "cell_type": "code",
      "metadata": {
        "id": "lhDC8VgNNgUO"
      },
      "source": [
        "#Transforming test data\n",
        "testset = list(zip(test[\"reviewerID\"].values, test[\"asin\"].values, test[\"overall\"].values))"
      ],
      "execution_count": 93,
      "outputs": []
    },
    {
      "cell_type": "code",
      "metadata": {
        "colab": {
          "base_uri": "https://localhost:8080/"
        },
        "id": "C8L2uPxWOlDl",
        "outputId": "f46d7944-27ea-4964-fa09-bab26ceffd90"
      },
      "source": [
        "testset[:5]"
      ],
      "execution_count": 94,
      "outputs": [
        {
          "output_type": "execute_result",
          "data": {
            "text/plain": [
              "[('A38Z8ZXX1BPFRL', 'B000B6NXL6', 5.0),\n",
              " ('ANQQ6LF20ZTVD', 'B0046EC1D0', 4.0),\n",
              " ('A1UQBFCERIP7VJ', 'B00J3M78GA', 5.0),\n",
              " ('A2YS0XIQ844GFF', 'B0051XZAA6', 5.0),\n",
              " ('A7P7OP5UW6APV', 'B001EU9VSM', 5.0)]"
            ]
          },
          "metadata": {
            "tags": []
          },
          "execution_count": 94
        }
      ]
    },
    {
      "cell_type": "code",
      "metadata": {
        "id": "7sS8G1fYOo0f"
      },
      "source": [
        "error_table = pd.DataFrame(columns = [\"Model\", \"Train RMSE\", \"Test RMSE\"])\n",
        "model_train_evaluation = dict()\n",
        "model_test_evaluation = dict()"
      ],
      "execution_count": 95,
      "outputs": []
    },
    {
      "cell_type": "code",
      "metadata": {
        "id": "TMwjeO6dO_LD"
      },
      "source": [
        "def make_table(model_name, rmse_train, rmse_test):\n",
        "    global error_table\n",
        "    #All variable assignments in a function store the value in the local symbol table; whereas variable references first look \n",
        "    #in the local symbol table, then in the global symbol table, and then in the table of built-in names. Thus, global variables \n",
        "    #cannot be directly assigned a value within a function (unless named in a global statement), \n",
        "    #although they may be referenced.\n",
        "    error_table = error_table.append(pd.DataFrame([[model_name, rmse_train, rmse_test]], columns = [\"Model\", \"Train RMSE\", \"Test RMSE\"]))\n",
        "    error_table.reset_index(drop = True, inplace = True)"
      ],
      "execution_count": 96,
      "outputs": []
    },
    {
      "cell_type": "code",
      "metadata": {
        "id": "xbcn6fjePUrS"
      },
      "source": [
        "def error_metrics(y_true, y_pred):\n",
        "    rmse = np.sqrt(mean_squared_error(y_true, y_pred))\n",
        "    return rmse"
      ],
      "execution_count": 97,
      "outputs": []
    },
    {
      "cell_type": "code",
      "metadata": {
        "id": "LDOrxC-1PkKI"
      },
      "source": [
        "import xgboost as xgb\n",
        "from datetime import datetime\n",
        "def train_test_xgboost(x_train, x_test, y_train, y_test, model_name):\n",
        "    startTime = datetime.now()\n",
        "    train_result = dict()\n",
        "    test_result = dict()\n",
        "    \n",
        "    clf = xgb.XGBRegressor(n_estimators = 100, silent = False, n_jobs  = 10)\n",
        "    clf.fit(x_train, y_train)\n",
        "    \n",
        "    print(\"-\"*50)\n",
        "    print(\"TRAIN DATA\")\n",
        "    y_pred_train = clf.predict(x_train)\n",
        "    rmse_train = error_metrics(y_train, y_pred_train)\n",
        "    print(\"RMSE = {}\".format(rmse_train))\n",
        "    print(\"-\"*50)\n",
        "    train_result = {\"RMSE\": rmse_train, \"Prediction\": y_pred_train}\n",
        "    \n",
        "    print(\"TEST DATA\")\n",
        "    y_pred_test = clf.predict(x_test)\n",
        "    rmse_test = error_metrics(y_test, y_pred_test)\n",
        "    print(\"RMSE = {}\".format(rmse_test))\n",
        "    print(\"-\"*50)\n",
        "    test_result = {\"RMSE\": rmse_test, \"Prediction\": y_pred_test}\n",
        "        \n",
        "    print(\"Time Taken = \"+str(datetime.now() - startTime))\n",
        "    \n",
        "    plot_importance(xgb, clf)\n",
        "    \n",
        "    make_table(model_name, rmse_train, rmse_test)\n",
        "    \n",
        "    return train_result, test_result"
      ],
      "execution_count": 98,
      "outputs": []
    },
    {
      "cell_type": "code",
      "metadata": {
        "id": "_X6goicbRCTI"
      },
      "source": [
        "def plot_importance(model, clf):\n",
        "    fig = plt.figure(figsize = (8, 6))\n",
        "    ax = fig.add_axes([0,0,1,1])\n",
        "    model.plot_importance(clf, ax = ax, height = 0.3)\n",
        "    plt.xlabel(\"F Score\", fontsize = 20)\n",
        "    plt.ylabel(\"Features\", fontsize = 20)\n",
        "    plt.title(\"Feature Importance\", fontsize = 20)\n",
        "    plt.tick_params(labelsize = 15)\n",
        "    \n",
        "    plt.show()"
      ],
      "execution_count": 99,
      "outputs": []
    },
    {
      "cell_type": "code",
      "metadata": {
        "id": "8EraY6lqRKnj"
      },
      "source": [
        "def get_ratings(predictions):\n",
        "    actual = np.array([pred.r_ui for pred in predictions])\n",
        "    predicted = np.array([pred.est for pred in predictions])\n",
        "    return actual, predicted"
      ],
      "execution_count": 100,
      "outputs": []
    },
    {
      "cell_type": "code",
      "metadata": {
        "id": "72zYwPItRWJT"
      },
      "source": [
        "def get_error(predictions):\n",
        "    actual, predicted = get_ratings(predictions)\n",
        "    rmse = np.sqrt(mean_squared_error(actual, predicted)) \n",
        "    return rmse"
      ],
      "execution_count": 101,
      "outputs": []
    },
    {
      "cell_type": "code",
      "metadata": {
        "id": "Zp-fYwOARbXX"
      },
      "source": [
        "def run_surprise(algo, trainset, testset, model_name):\n",
        "    startTime = datetime.now()\n",
        "    \n",
        "    train = dict()\n",
        "    test = dict()\n",
        "    \n",
        "    algo.fit(trainset)\n",
        "    \n",
        "#-----------------Evaluating Train Data------------------#\n",
        "    print(\"-\"*50)\n",
        "    print(\"TRAIN DATA\")\n",
        "    train_pred = algo.test(trainset.build_testset())\n",
        "    #You can check out \"algo.test()\" function at \"https://surprise.readthedocs.io/en/stable/getting_started.html\" in \n",
        "    #\"Train-test split and the fit() method\" section\n",
        "    #You can check out \"trainset.build_testset()\" function at \"https://surprise.readthedocs.io/en/stable/FAQ.html#can-i-use-my-own-dataset-with-surprise-and-can-it-be-a-pandas-dataframe\" in \n",
        "    #\"How to get accuracy measures on the training set\" section\n",
        "    train_actual, train_predicted = get_ratings(train_pred)\n",
        "    train_rmse = get_error(train_pred)\n",
        "    print(\"RMSE = {}\".format(train_rmse))\n",
        "    print(\"-\"*50)\n",
        "    train = {\"RMSE\": train_rmse, \"Prediction\": train_predicted}\n",
        "    \n",
        "#-----------------Evaluating Test Data------------------#\n",
        "    print(\"TEST DATA\")\n",
        "    test_pred = algo.test(testset)\n",
        "    #You can check out \"algo.test()\" function at \"https://surprise.readthedocs.io/en/stable/getting_started.html\" in \n",
        "    #\"Train-test split and the fit() method\" section\n",
        "    test_actual, test_predicted = get_ratings(test_pred)\n",
        "    test_rmse = get_error(test_pred)\n",
        "    print(\"RMSE = {}\".format(test_rmse))\n",
        "    print(\"-\"*50)\n",
        "    test = {\"RMSE\": test_rmse, \"Prediction\": test_predicted}\n",
        "    \n",
        "    print(\"Time Taken = \"+str(datetime.now() - startTime))\n",
        "    \n",
        "    make_table(model_name, train_rmse, test_rmse)\n",
        "    \n",
        "    return train, test"
      ],
      "execution_count": 102,
      "outputs": []
    },
    {
      "cell_type": "markdown",
      "metadata": {
        "id": "fD1CwserA12d"
      },
      "source": [
        "### XGBoost 13 Features"
      ]
    },
    {
      "cell_type": "code",
      "metadata": {
        "colab": {
          "base_uri": "https://localhost:8080/",
          "height": 682
        },
        "id": "IADR5jWFA0sC",
        "outputId": "eef6797a-8f01-422f-8c3b-3b7f4e260145"
      },
      "source": [
        "x_train = train_surprice.drop([\"reviewerID\", \"asin\", \"overall\"], axis = 1)\n",
        "\n",
        "x_test = test_surprice.drop([\"reviewerID\", \"asin\", \"overall\"], axis = 1)\n",
        "\n",
        "y_train = train_surprice[\"overall\"]\n",
        "\n",
        "y_test = test_surprice[\"overall\"]\n",
        "\n",
        "train_result, test_result = train_test_xgboost(x_train, x_test, y_train, y_test, \"XGBoost_13\")\n",
        "\n",
        "model_train_evaluation[\"XGBoost_13\"] = train_result\n",
        "model_test_evaluation[\"XGBoost_13\"] = test_result"
      ],
      "execution_count": 105,
      "outputs": [
        {
          "output_type": "stream",
          "text": [
            "[09:25:38] WARNING: /workspace/src/objective/regression_obj.cu:152: reg:linear is now deprecated in favor of reg:squarederror.\n",
            "--------------------------------------------------\n",
            "TRAIN DATA\n",
            "RMSE = 0.7805147479596821\n",
            "--------------------------------------------------\n",
            "TEST DATA\n",
            "RMSE = 0.5868163765744207\n",
            "--------------------------------------------------\n",
            "Time Taken = 0:00:02.999142\n"
          ],
          "name": "stdout"
        },
        {
          "output_type": "display_data",
          "data": {
            "image/png": "[encoded data removed]",
            "text/plain": [
              "<Figure size 576x432 with 1 Axes>"
            ]
          },
          "metadata": {
            "tags": [],
            "needs_background": "light"
          }
        }
      ]
    },
    {
      "cell_type": "markdown",
      "metadata": {
        "id": "2VEg5ozKCI2l"
      },
      "source": [
        "### Surprise BaselineOnly Model"
      ]
    },
    {
      "cell_type": "code",
      "metadata": {
        "colab": {
          "base_uri": "https://localhost:8080/"
        },
        "id": "kqwFr-aLR8yz",
        "outputId": "a4010d02-026b-486f-e052-b1b9c6c7bccc"
      },
      "source": [
        "bsl_options = {\"method\":\"sgd\", \"learning_rate\":0.01, \"n_epochs\":25}\n",
        "\n",
        "algo = BaselineOnly(bsl_options=bsl_options)\n",
        "#You can check the docs of above used functions at:https://surprise.readthedocs.io/en/stable/prediction_algorithms.html#baseline-estimates-configuration\n",
        "#at section \"Baselines estimates configuration\".\n",
        "\n",
        "train_result, test_result = run_surprise(algo, trainset, testset, \"BaselineOnly\")\n",
        "\n",
        "model_train_evaluation[\"BaselineOnly\"] = train_result\n",
        "model_test_evaluation[\"BaselineOnly\"] = test_result"
      ],
      "execution_count": 106,
      "outputs": [
        {
          "output_type": "stream",
          "text": [
            "Estimating biases using sgd...\n",
            "--------------------------------------------------\n",
            "TRAIN DATA\n",
            "RMSE = 0.8029107448246685\n",
            "--------------------------------------------------\n",
            "TEST DATA\n",
            "RMSE = 0.9486086555670796\n",
            "--------------------------------------------------\n",
            "Time Taken = 0:00:01.800340\n"
          ],
          "name": "stdout"
        }
      ]
    },
    {
      "cell_type": "markdown",
      "metadata": {
        "id": "eXlxQgXxCV15"
      },
      "source": [
        "### XGBoost 13 Features + Suprise BaselineOnly Model"
      ]
    },
    {
      "cell_type": "code",
      "metadata": {
        "colab": {
          "base_uri": "https://localhost:8080/"
        },
        "id": "GH7IiBtgCT-P",
        "outputId": "71467b5f-8ba0-400a-9f2f-52a74f47bc06"
      },
      "source": [
        "train_surprice['BaselineOnly'] = model_train_evaluation['BaselineOnly']['Prediction']"
      ],
      "execution_count": 107,
      "outputs": [
        {
          "output_type": "stream",
          "text": [
            "/usr/local/lib/python3.7/dist-packages/ipykernel_launcher.py:1: SettingWithCopyWarning: \n",
            "A value is trying to be set on a copy of a slice from a DataFrame.\n",
            "Try using .loc[row_indexer,col_indexer] = value instead\n",
            "\n",
            "See the caveats in the documentation: https://pandas.pydata.org/pandas-docs/stable/user_guide/indexing.html#returning-a-view-versus-a-copy\n",
            "  \"\"\"Entry point for launching an IPython kernel.\n"
          ],
          "name": "stderr"
        }
      ]
    },
    {
      "cell_type": "code",
      "metadata": {
        "colab": {
          "base_uri": "https://localhost:8080/",
          "height": 204
        },
        "id": "rT3aU8JYCuIQ",
        "outputId": "45191434-399e-481c-ca90-c96175963c79"
      },
      "source": [
        "train_surprice.head()"
      ],
      "execution_count": 108,
      "outputs": [
        {
          "output_type": "execute_result",
          "data": {
            "text/html": [
              "<div>\n",
              "<style scoped>\n",
              "    .dataframe tbody tr th:only-of-type {\n",
              "        vertical-align: middle;\n",
              "    }\n",
              "\n",
              "    .dataframe tbody tr th {\n",
              "        vertical-align: top;\n",
              "    }\n",
              "\n",
              "    .dataframe thead th {\n",
              "        text-align: right;\n",
              "    }\n",
              "</style>\n",
              "<table border=\"1\" class=\"dataframe\">\n",
              "  <thead>\n",
              "    <tr style=\"text-align: right;\">\n",
              "      <th></th>\n",
              "      <th>reviewerID</th>\n",
              "      <th>asin</th>\n",
              "      <th>overall</th>\n",
              "      <th>price</th>\n",
              "      <th>year</th>\n",
              "      <th>month</th>\n",
              "      <th>reviewlength</th>\n",
              "      <th>user_avg</th>\n",
              "      <th>item_avg</th>\n",
              "      <th>BaselineOnly</th>\n",
              "    </tr>\n",
              "  </thead>\n",
              "  <tbody>\n",
              "    <tr>\n",
              "      <th>12925</th>\n",
              "      <td>A3OPKFBT8Z15TE</td>\n",
              "      <td>B00009WE3Y</td>\n",
              "      <td>5.0</td>\n",
              "      <td>15.00</td>\n",
              "      <td>2013</td>\n",
              "      <td>7</td>\n",
              "      <td>103</td>\n",
              "      <td>3.000000</td>\n",
              "      <td>4.736842</td>\n",
              "      <td>3.623450</td>\n",
              "    </tr>\n",
              "    <tr>\n",
              "      <th>37924</th>\n",
              "      <td>A78VQHFWZ5KH9</td>\n",
              "      <td>B000TTCK64</td>\n",
              "      <td>5.0</td>\n",
              "      <td>77.37</td>\n",
              "      <td>2010</td>\n",
              "      <td>3</td>\n",
              "      <td>87</td>\n",
              "      <td>4.857143</td>\n",
              "      <td>4.727273</td>\n",
              "      <td>3.403570</td>\n",
              "    </tr>\n",
              "    <tr>\n",
              "      <th>50072</th>\n",
              "      <td>A1HN7OLEVRJ7DD</td>\n",
              "      <td>B002FYS5BA</td>\n",
              "      <td>5.0</td>\n",
              "      <td>199.00</td>\n",
              "      <td>2014</td>\n",
              "      <td>5</td>\n",
              "      <td>28</td>\n",
              "      <td>4.571429</td>\n",
              "      <td>4.916667</td>\n",
              "      <td>3.602041</td>\n",
              "    </tr>\n",
              "    <tr>\n",
              "      <th>22328</th>\n",
              "      <td>A1WI176M51EBIT</td>\n",
              "      <td>B00063QPYQ</td>\n",
              "      <td>5.0</td>\n",
              "      <td>10.64</td>\n",
              "      <td>2013</td>\n",
              "      <td>5</td>\n",
              "      <td>37</td>\n",
              "      <td>4.692308</td>\n",
              "      <td>4.625000</td>\n",
              "      <td>3.337543</td>\n",
              "    </tr>\n",
              "    <tr>\n",
              "      <th>72496</th>\n",
              "      <td>A2FQIGXDVEW10B</td>\n",
              "      <td>B009L16ZBM</td>\n",
              "      <td>5.0</td>\n",
              "      <td>108.95</td>\n",
              "      <td>2014</td>\n",
              "      <td>5</td>\n",
              "      <td>143</td>\n",
              "      <td>5.000000</td>\n",
              "      <td>4.500000</td>\n",
              "      <td>3.345735</td>\n",
              "    </tr>\n",
              "  </tbody>\n",
              "</table>\n",
              "</div>"
            ],
            "text/plain": [
              "           reviewerID        asin  overall  ...  user_avg  item_avg  BaselineOnly\n",
              "12925  A3OPKFBT8Z15TE  B00009WE3Y      5.0  ...  3.000000  4.736842      3.623450\n",
              "37924   A78VQHFWZ5KH9  B000TTCK64      5.0  ...  4.857143  4.727273      3.403570\n",
              "50072  A1HN7OLEVRJ7DD  B002FYS5BA      5.0  ...  4.571429  4.916667      3.602041\n",
              "22328  A1WI176M51EBIT  B00063QPYQ      5.0  ...  4.692308  4.625000      3.337543\n",
              "72496  A2FQIGXDVEW10B  B009L16ZBM      5.0  ...  5.000000  4.500000      3.345735\n",
              "\n",
              "[5 rows x 10 columns]"
            ]
          },
          "metadata": {
            "tags": []
          },
          "execution_count": 108
        }
      ]
    },
    {
      "cell_type": "code",
      "metadata": {
        "colab": {
          "base_uri": "https://localhost:8080/"
        },
        "id": "0LPZz-HCDlPo",
        "outputId": "20ef3a42-9edb-47d0-9d1e-0878d2bfe4f9"
      },
      "source": [
        "test_surprice['BaselineOnly'] = model_test_evaluation['BaselineOnly']['Prediction']"
      ],
      "execution_count": 115,
      "outputs": [
        {
          "output_type": "stream",
          "text": [
            "/usr/local/lib/python3.7/dist-packages/ipykernel_launcher.py:1: SettingWithCopyWarning: \n",
            "A value is trying to be set on a copy of a slice from a DataFrame.\n",
            "Try using .loc[row_indexer,col_indexer] = value instead\n",
            "\n",
            "See the caveats in the documentation: https://pandas.pydata.org/pandas-docs/stable/user_guide/indexing.html#returning-a-view-versus-a-copy\n",
            "  \"\"\"Entry point for launching an IPython kernel.\n"
          ],
          "name": "stderr"
        }
      ]
    },
    {
      "cell_type": "code",
      "metadata": {
        "colab": {
          "base_uri": "https://localhost:8080/",
          "height": 682
        },
        "id": "FeTxocGLDpxl",
        "outputId": "e37e965b-d71f-46ad-aec5-d866dafcbb92"
      },
      "source": [
        "x_train = train_surprice.dropna().drop([\"reviewerID\", \"asin\", \"overall\"], axis = 1)\n",
        "\n",
        "x_test = test_surprice.dropna().drop([\"reviewerID\", \"asin\", \"overall\"], axis = 1)\n",
        "\n",
        "y_train = train_surprice.dropna().overall\n",
        "\n",
        "y_test = test_surprice.dropna().overall\n",
        "\n",
        "train_result, test_result = train_test_xgboost(x_train, x_test, y_train, y_test, \"XGB_BSL\")\n",
        "\n",
        "model_train_evaluation[\"XGB_BSL\"] = train_result\n",
        "model_test_evaluation[\"XGB_BSL\"] = test_result"
      ],
      "execution_count": 119,
      "outputs": [
        {
          "output_type": "stream",
          "text": [
            "[09:34:57] WARNING: /workspace/src/objective/regression_obj.cu:152: reg:linear is now deprecated in favor of reg:squarederror.\n",
            "--------------------------------------------------\n",
            "TRAIN DATA\n",
            "RMSE = 0.7773710329781653\n",
            "--------------------------------------------------\n",
            "TEST DATA\n",
            "RMSE = 0.5872139498425167\n",
            "--------------------------------------------------\n",
            "Time Taken = 0:00:02.970408\n"
          ],
          "name": "stdout"
        },
        {
          "output_type": "display_data",
          "data": {
            "image/png": "[encoded data removed]",
            "text/plain": [
              "<Figure size 576x432 with 1 Axes>"
            ]
          },
          "metadata": {
            "tags": [],
            "needs_background": "light"
          }
        }
      ]
    },
    {
      "cell_type": "markdown",
      "metadata": {
        "id": "yg4QNTasVlOf"
      },
      "source": [
        "### Surprise KNN-Baseline with User-User."
      ]
    },
    {
      "cell_type": "code",
      "metadata": {
        "colab": {
          "base_uri": "https://localhost:8080/"
        },
        "id": "pEk8eNwWTvCN",
        "outputId": "e423c48a-fe79-468d-ba4d-f0d06fe397c7"
      },
      "source": [
        "param_grid  = {'sim_options':{'name': [\"pearson_baseline\"], \"user_based\": [True], \"min_support\": [2], \"shrinkage\": [60, 80, 80, 140]}, 'k': [5, 20, 40, 80]}\n",
        "\n",
        "gs = GridSearchCV(KNNBaseline, param_grid, measures=['rmse'], cv=3)\n",
        "\n",
        "gs.fit(data)\n",
        "\n",
        "# best RMSE score\n",
        "print(gs.best_score['rmse'])\n",
        "\n",
        "# combination of parameters that gave the best RMSE score\n",
        "print(gs.best_params['rmse'])"
      ],
      "execution_count": 120,
      "outputs": [
        {
          "output_type": "stream",
          "text": [
            "Estimating biases using als...\n",
            "Computing the pearson_baseline similarity matrix...\n",
            "Done computing similarity matrix.\n",
            "Estimating biases using als...\n",
            "Computing the pearson_baseline similarity matrix...\n",
            "Done computing similarity matrix.\n",
            "Estimating biases using als...\n",
            "Computing the pearson_baseline similarity matrix...\n",
            "Done computing similarity matrix.\n",
            "Estimating biases using als...\n",
            "Computing the pearson_baseline similarity matrix...\n",
            "Done computing similarity matrix.\n",
            "Estimating biases using als...\n",
            "Computing the pearson_baseline similarity matrix...\n",
            "Done computing similarity matrix.\n",
            "Estimating biases using als...\n",
            "Computing the pearson_baseline similarity matrix...\n",
            "Done computing similarity matrix.\n",
            "Estimating biases using als...\n",
            "Computing the pearson_baseline similarity matrix...\n",
            "Done computing similarity matrix.\n",
            "Estimating biases using als...\n",
            "Computing the pearson_baseline similarity matrix...\n",
            "Done computing similarity matrix.\n",
            "Estimating biases using als...\n",
            "Computing the pearson_baseline similarity matrix...\n",
            "Done computing similarity matrix.\n",
            "Estimating biases using als...\n",
            "Computing the pearson_baseline similarity matrix...\n",
            "Done computing similarity matrix.\n",
            "Estimating biases using als...\n",
            "Computing the pearson_baseline similarity matrix...\n",
            "Done computing similarity matrix.\n",
            "Estimating biases using als...\n",
            "Computing the pearson_baseline similarity matrix...\n",
            "Done computing similarity matrix.\n",
            "Estimating biases using als...\n",
            "Computing the pearson_baseline similarity matrix...\n",
            "Done computing similarity matrix.\n",
            "Estimating biases using als...\n",
            "Computing the pearson_baseline similarity matrix...\n",
            "Done computing similarity matrix.\n",
            "Estimating biases using als...\n",
            "Computing the pearson_baseline similarity matrix...\n",
            "Done computing similarity matrix.\n",
            "Estimating biases using als...\n",
            "Computing the pearson_baseline similarity matrix...\n",
            "Done computing similarity matrix.\n",
            "Estimating biases using als...\n",
            "Computing the pearson_baseline similarity matrix...\n",
            "Done computing similarity matrix.\n",
            "Estimating biases using als...\n",
            "Computing the pearson_baseline similarity matrix...\n",
            "Done computing similarity matrix.\n",
            "Estimating biases using als...\n",
            "Computing the pearson_baseline similarity matrix...\n",
            "Done computing similarity matrix.\n",
            "Estimating biases using als...\n",
            "Computing the pearson_baseline similarity matrix...\n",
            "Done computing similarity matrix.\n",
            "Estimating biases using als...\n",
            "Computing the pearson_baseline similarity matrix...\n",
            "Done computing similarity matrix.\n",
            "Estimating biases using als...\n",
            "Computing the pearson_baseline similarity matrix...\n",
            "Done computing similarity matrix.\n",
            "Estimating biases using als...\n",
            "Computing the pearson_baseline similarity matrix...\n",
            "Done computing similarity matrix.\n",
            "Estimating biases using als...\n",
            "Computing the pearson_baseline similarity matrix...\n",
            "Done computing similarity matrix.\n",
            "Estimating biases using als...\n",
            "Computing the pearson_baseline similarity matrix...\n",
            "Done computing similarity matrix.\n",
            "Estimating biases using als...\n",
            "Computing the pearson_baseline similarity matrix...\n",
            "Done computing similarity matrix.\n",
            "Estimating biases using als...\n",
            "Computing the pearson_baseline similarity matrix...\n",
            "Done computing similarity matrix.\n",
            "Estimating biases using als...\n",
            "Computing the pearson_baseline similarity matrix...\n",
            "Done computing similarity matrix.\n",
            "Estimating biases using als...\n",
            "Computing the pearson_baseline similarity matrix...\n",
            "Done computing similarity matrix.\n",
            "Estimating biases using als...\n",
            "Computing the pearson_baseline similarity matrix...\n",
            "Done computing similarity matrix.\n",
            "Estimating biases using als...\n",
            "Computing the pearson_baseline similarity matrix...\n",
            "Done computing similarity matrix.\n",
            "Estimating biases using als...\n",
            "Computing the pearson_baseline similarity matrix...\n",
            "Done computing similarity matrix.\n",
            "Estimating biases using als...\n",
            "Computing the pearson_baseline similarity matrix...\n",
            "Done computing similarity matrix.\n",
            "Estimating biases using als...\n",
            "Computing the pearson_baseline similarity matrix...\n",
            "Done computing similarity matrix.\n",
            "Estimating biases using als...\n",
            "Computing the pearson_baseline similarity matrix...\n",
            "Done computing similarity matrix.\n",
            "Estimating biases using als...\n",
            "Computing the pearson_baseline similarity matrix...\n",
            "Done computing similarity matrix.\n",
            "Estimating biases using als...\n",
            "Computing the pearson_baseline similarity matrix...\n",
            "Done computing similarity matrix.\n",
            "Estimating biases using als...\n",
            "Computing the pearson_baseline similarity matrix...\n",
            "Done computing similarity matrix.\n",
            "Estimating biases using als...\n",
            "Computing the pearson_baseline similarity matrix...\n",
            "Done computing similarity matrix.\n",
            "Estimating biases using als...\n",
            "Computing the pearson_baseline similarity matrix...\n",
            "Done computing similarity matrix.\n",
            "Estimating biases using als...\n",
            "Computing the pearson_baseline similarity matrix...\n",
            "Done computing similarity matrix.\n",
            "Estimating biases using als...\n",
            "Computing the pearson_baseline similarity matrix...\n",
            "Done computing similarity matrix.\n",
            "Estimating biases using als...\n",
            "Computing the pearson_baseline similarity matrix...\n",
            "Done computing similarity matrix.\n",
            "Estimating biases using als...\n",
            "Computing the pearson_baseline similarity matrix...\n",
            "Done computing similarity matrix.\n",
            "Estimating biases using als...\n",
            "Computing the pearson_baseline similarity matrix...\n",
            "Done computing similarity matrix.\n",
            "Estimating biases using als...\n",
            "Computing the pearson_baseline similarity matrix...\n",
            "Done computing similarity matrix.\n",
            "Estimating biases using als...\n",
            "Computing the pearson_baseline similarity matrix...\n",
            "Done computing similarity matrix.\n",
            "Estimating biases using als...\n",
            "Computing the pearson_baseline similarity matrix...\n",
            "Done computing similarity matrix.\n",
            "0.9631629819148353\n",
            "{'sim_options': {'name': 'pearson_baseline', 'user_based': True, 'min_support': 2, 'shrinkage': 60}, 'k': 20}\n"
          ],
          "name": "stdout"
        }
      ]
    },
    {
      "cell_type": "code",
      "metadata": {
        "colab": {
          "base_uri": "https://localhost:8080/"
        },
        "id": "Q-eqlPKHU2Hj",
        "outputId": "d40bfc52-5a00-41c0-c92a-da0fb2764e87"
      },
      "source": [
        "sim_options = {'name':'pearson_baseline', 'user_based':True, 'min_support':2, 'shrinkage':gs.best_params['rmse']['sim_options']['shrinkage']}\n",
        "\n",
        "bsl_options = {'method': 'sgd'} \n",
        "\n",
        "algo = KNNBaseline(k = gs.best_params['rmse']['k'], sim_options = sim_options, bsl_options=bsl_options)\n",
        "\n",
        "train_result, test_result = run_surprise(algo, trainset, testset, \"KNNBaseline_User\")\n",
        "\n",
        "model_train_evaluation[\"KNNBaseline_User\"] = train_result\n",
        "model_test_evaluation[\"KNNBaseline_User\"] = test_result"
      ],
      "execution_count": 121,
      "outputs": [
        {
          "output_type": "stream",
          "text": [
            "Estimating biases using sgd...\n",
            "Computing the pearson_baseline similarity matrix...\n",
            "Done computing similarity matrix.\n",
            "--------------------------------------------------\n",
            "TRAIN DATA\n",
            "RMSE = 0.015633581140641145\n",
            "--------------------------------------------------\n",
            "TEST DATA\n",
            "RMSE = 0.9659061787880306\n",
            "--------------------------------------------------\n",
            "Time Taken = 0:00:14.899956\n"
          ],
          "name": "stdout"
        }
      ]
    },
    {
      "cell_type": "markdown",
      "metadata": {
        "id": "v84wlYtRVvrT"
      },
      "source": [
        "### Surprise KNN-Baseline with Item-Item"
      ]
    },
    {
      "cell_type": "code",
      "metadata": {
        "colab": {
          "base_uri": "https://localhost:8080/"
        },
        "id": "8aNCq1p2VgKy",
        "outputId": "2b7d635f-3d0b-44c9-df59-cb5e0aee7ebc"
      },
      "source": [
        "param_grid  = {'sim_options':{'name': [\"pearson_baseline\"], \"user_based\": [False], \"min_support\": [2], \"shrinkage\": [60, 80, 80, 140]}, 'k': [5, 20, 40, 80]}\n",
        "\n",
        "gs = GridSearchCV(KNNBaseline, param_grid, measures=['rmse'], cv=3)\n",
        "\n",
        "gs.fit(data)\n",
        "\n",
        "# best RMSE score\n",
        "print(gs.best_score['rmse'])\n",
        "\n",
        "# combination of parameters that gave the best RMSE score\n",
        "print(gs.best_params['rmse'])"
      ],
      "execution_count": 122,
      "outputs": [
        {
          "output_type": "stream",
          "text": [
            "Estimating biases using als...\n",
            "Computing the pearson_baseline similarity matrix...\n",
            "Done computing similarity matrix.\n",
            "Estimating biases using als...\n",
            "Computing the pearson_baseline similarity matrix...\n",
            "Done computing similarity matrix.\n",
            "Estimating biases using als...\n",
            "Computing the pearson_baseline similarity matrix...\n",
            "Done computing similarity matrix.\n",
            "Estimating biases using als...\n",
            "Computing the pearson_baseline similarity matrix...\n",
            "Done computing similarity matrix.\n",
            "Estimating biases using als...\n",
            "Computing the pearson_baseline similarity matrix...\n",
            "Done computing similarity matrix.\n",
            "Estimating biases using als...\n",
            "Computing the pearson_baseline similarity matrix...\n",
            "Done computing similarity matrix.\n",
            "Estimating biases using als...\n",
            "Computing the pearson_baseline similarity matrix...\n",
            "Done computing similarity matrix.\n",
            "Estimating biases using als...\n",
            "Computing the pearson_baseline similarity matrix...\n",
            "Done computing similarity matrix.\n",
            "Estimating biases using als...\n",
            "Computing the pearson_baseline similarity matrix...\n",
            "Done computing similarity matrix.\n",
            "Estimating biases using als...\n",
            "Computing the pearson_baseline similarity matrix...\n",
            "Done computing similarity matrix.\n",
            "Estimating biases using als...\n",
            "Computing the pearson_baseline similarity matrix...\n",
            "Done computing similarity matrix.\n",
            "Estimating biases using als...\n",
            "Computing the pearson_baseline similarity matrix...\n",
            "Done computing similarity matrix.\n",
            "Estimating biases using als...\n",
            "Computing the pearson_baseline similarity matrix...\n",
            "Done computing similarity matrix.\n",
            "Estimating biases using als...\n",
            "Computing the pearson_baseline similarity matrix...\n",
            "Done computing similarity matrix.\n",
            "Estimating biases using als...\n",
            "Computing the pearson_baseline similarity matrix...\n",
            "Done computing similarity matrix.\n",
            "Estimating biases using als...\n",
            "Computing the pearson_baseline similarity matrix...\n",
            "Done computing similarity matrix.\n",
            "Estimating biases using als...\n",
            "Computing the pearson_baseline similarity matrix...\n",
            "Done computing similarity matrix.\n",
            "Estimating biases using als...\n",
            "Computing the pearson_baseline similarity matrix...\n",
            "Done computing similarity matrix.\n",
            "Estimating biases using als...\n",
            "Computing the pearson_baseline similarity matrix...\n",
            "Done computing similarity matrix.\n",
            "Estimating biases using als...\n",
            "Computing the pearson_baseline similarity matrix...\n",
            "Done computing similarity matrix.\n",
            "Estimating biases using als...\n",
            "Computing the pearson_baseline similarity matrix...\n",
            "Done computing similarity matrix.\n",
            "Estimating biases using als...\n",
            "Computing the pearson_baseline similarity matrix...\n",
            "Done computing similarity matrix.\n",
            "Estimating biases using als...\n",
            "Computing the pearson_baseline similarity matrix...\n",
            "Done computing similarity matrix.\n",
            "Estimating biases using als...\n",
            "Computing the pearson_baseline similarity matrix...\n",
            "Done computing similarity matrix.\n",
            "Estimating biases using als...\n",
            "Computing the pearson_baseline similarity matrix...\n",
            "Done computing similarity matrix.\n",
            "Estimating biases using als...\n",
            "Computing the pearson_baseline similarity matrix...\n",
            "Done computing similarity matrix.\n",
            "Estimating biases using als...\n",
            "Computing the pearson_baseline similarity matrix...\n",
            "Done computing similarity matrix.\n",
            "Estimating biases using als...\n",
            "Computing the pearson_baseline similarity matrix...\n",
            "Done computing similarity matrix.\n",
            "Estimating biases using als...\n",
            "Computing the pearson_baseline similarity matrix...\n",
            "Done computing similarity matrix.\n",
            "Estimating biases using als...\n",
            "Computing the pearson_baseline similarity matrix...\n",
            "Done computing similarity matrix.\n",
            "Estimating biases using als...\n",
            "Computing the pearson_baseline similarity matrix...\n",
            "Done computing similarity matrix.\n",
            "Estimating biases using als...\n",
            "Computing the pearson_baseline similarity matrix...\n",
            "Done computing similarity matrix.\n",
            "Estimating biases using als...\n",
            "Computing the pearson_baseline similarity matrix...\n",
            "Done computing similarity matrix.\n",
            "Estimating biases using als...\n",
            "Computing the pearson_baseline similarity matrix...\n",
            "Done computing similarity matrix.\n",
            "Estimating biases using als...\n",
            "Computing the pearson_baseline similarity matrix...\n",
            "Done computing similarity matrix.\n",
            "Estimating biases using als...\n",
            "Computing the pearson_baseline similarity matrix...\n",
            "Done computing similarity matrix.\n",
            "Estimating biases using als...\n",
            "Computing the pearson_baseline similarity matrix...\n",
            "Done computing similarity matrix.\n",
            "Estimating biases using als...\n",
            "Computing the pearson_baseline similarity matrix...\n",
            "Done computing similarity matrix.\n",
            "Estimating biases using als...\n",
            "Computing the pearson_baseline similarity matrix...\n",
            "Done computing similarity matrix.\n",
            "Estimating biases using als...\n",
            "Computing the pearson_baseline similarity matrix...\n",
            "Done computing similarity matrix.\n",
            "Estimating biases using als...\n",
            "Computing the pearson_baseline similarity matrix...\n",
            "Done computing similarity matrix.\n",
            "Estimating biases using als...\n",
            "Computing the pearson_baseline similarity matrix...\n",
            "Done computing similarity matrix.\n",
            "Estimating biases using als...\n",
            "Computing the pearson_baseline similarity matrix...\n",
            "Done computing similarity matrix.\n",
            "Estimating biases using als...\n",
            "Computing the pearson_baseline similarity matrix...\n",
            "Done computing similarity matrix.\n",
            "Estimating biases using als...\n",
            "Computing the pearson_baseline similarity matrix...\n",
            "Done computing similarity matrix.\n",
            "Estimating biases using als...\n",
            "Computing the pearson_baseline similarity matrix...\n",
            "Done computing similarity matrix.\n",
            "Estimating biases using als...\n",
            "Computing the pearson_baseline similarity matrix...\n",
            "Done computing similarity matrix.\n",
            "Estimating biases using als...\n",
            "Computing the pearson_baseline similarity matrix...\n",
            "Done computing similarity matrix.\n",
            "0.9704927657492398\n",
            "{'sim_options': {'name': 'pearson_baseline', 'user_based': False, 'min_support': 2, 'shrinkage': 60}, 'k': 20}\n"
          ],
          "name": "stdout"
        }
      ]
    },
    {
      "cell_type": "code",
      "metadata": {
        "colab": {
          "base_uri": "https://localhost:8080/"
        },
        "id": "mJ6jtBjbWCIt",
        "outputId": "e9bc3a11-d736-4ade-c064-d273f2ae2b9a"
      },
      "source": [
        "sim_options = {'name':'pearson_baseline', 'user_based':False, 'min_support':2, 'shrinkage':gs.best_params['rmse']['sim_options']['shrinkage']}\n",
        "\n",
        "bsl_options = {'method': 'sgd'} \n",
        "\n",
        "algo = KNNBaseline(k = gs.best_params['rmse']['k'], sim_options = sim_options, bsl_options=bsl_options)\n",
        "\n",
        "train_result, test_result = run_surprise(algo, trainset, testset, \"KNNBaseline_Item\")\n",
        "\n",
        "model_train_evaluation[\"KNNBaseline_Item\"] = train_result\n",
        "model_test_evaluation[\"KNNBaseline_Item\"] = test_result"
      ],
      "execution_count": 123,
      "outputs": [
        {
          "output_type": "stream",
          "text": [
            "Estimating biases using sgd...\n",
            "Computing the pearson_baseline similarity matrix...\n",
            "Done computing similarity matrix.\n",
            "--------------------------------------------------\n",
            "TRAIN DATA\n",
            "RMSE = 0.015297403355720636\n",
            "--------------------------------------------------\n",
            "TEST DATA\n",
            "RMSE = 0.9809683565050931\n",
            "--------------------------------------------------\n",
            "Time Taken = 0:00:04.189379\n"
          ],
          "name": "stdout"
        }
      ]
    },
    {
      "cell_type": "markdown",
      "metadata": {
        "id": "45nWJc6OEWEJ"
      },
      "source": [
        "### XGBoost 13 Features + Surprise BaselineOnly + Surprice KNN Baseline"
      ]
    },
    {
      "cell_type": "code",
      "metadata": {
        "colab": {
          "base_uri": "https://localhost:8080/"
        },
        "id": "LuGS-2zbWPrt",
        "outputId": "8cf84e56-cc0a-4129-c7c2-de6ffe570f18"
      },
      "source": [
        "train_surprice[\"KNNBaseline_User\"] = model_train_evaluation[\"KNNBaseline_User\"][\"Prediction\"]\n",
        "train_surprice[\"KNNBaseline_Item\"] = model_train_evaluation[\"KNNBaseline_Item\"][\"Prediction\"]\n",
        "\n",
        "test_surprice[\"KNNBaseline_User\"] = model_test_evaluation[\"KNNBaseline_User\"][\"Prediction\"]\n",
        "test_surprice[\"KNNBaseline_Item\"] = model_test_evaluation[\"KNNBaseline_Item\"][\"Prediction\"]"
      ],
      "execution_count": 124,
      "outputs": [
        {
          "output_type": "stream",
          "text": [
            "/usr/local/lib/python3.7/dist-packages/ipykernel_launcher.py:1: SettingWithCopyWarning: \n",
            "A value is trying to be set on a copy of a slice from a DataFrame.\n",
            "Try using .loc[row_indexer,col_indexer] = value instead\n",
            "\n",
            "See the caveats in the documentation: https://pandas.pydata.org/pandas-docs/stable/user_guide/indexing.html#returning-a-view-versus-a-copy\n",
            "  \"\"\"Entry point for launching an IPython kernel.\n",
            "/usr/local/lib/python3.7/dist-packages/ipykernel_launcher.py:2: SettingWithCopyWarning: \n",
            "A value is trying to be set on a copy of a slice from a DataFrame.\n",
            "Try using .loc[row_indexer,col_indexer] = value instead\n",
            "\n",
            "See the caveats in the documentation: https://pandas.pydata.org/pandas-docs/stable/user_guide/indexing.html#returning-a-view-versus-a-copy\n",
            "  \n",
            "/usr/local/lib/python3.7/dist-packages/ipykernel_launcher.py:4: SettingWithCopyWarning: \n",
            "A value is trying to be set on a copy of a slice from a DataFrame.\n",
            "Try using .loc[row_indexer,col_indexer] = value instead\n",
            "\n",
            "See the caveats in the documentation: https://pandas.pydata.org/pandas-docs/stable/user_guide/indexing.html#returning-a-view-versus-a-copy\n",
            "  after removing the cwd from sys.path.\n",
            "/usr/local/lib/python3.7/dist-packages/ipykernel_launcher.py:5: SettingWithCopyWarning: \n",
            "A value is trying to be set on a copy of a slice from a DataFrame.\n",
            "Try using .loc[row_indexer,col_indexer] = value instead\n",
            "\n",
            "See the caveats in the documentation: https://pandas.pydata.org/pandas-docs/stable/user_guide/indexing.html#returning-a-view-versus-a-copy\n",
            "  \"\"\"\n"
          ],
          "name": "stderr"
        }
      ]
    },
    {
      "cell_type": "code",
      "metadata": {
        "colab": {
          "base_uri": "https://localhost:8080/",
          "height": 204
        },
        "id": "gA2YFmfWEyYp",
        "outputId": "1ecbe6cc-4da3-45e9-9e52-5b9bc1a887e0"
      },
      "source": [
        "train_surprice.head()"
      ],
      "execution_count": 125,
      "outputs": [
        {
          "output_type": "execute_result",
          "data": {
            "text/html": [
              "<div>\n",
              "<style scoped>\n",
              "    .dataframe tbody tr th:only-of-type {\n",
              "        vertical-align: middle;\n",
              "    }\n",
              "\n",
              "    .dataframe tbody tr th {\n",
              "        vertical-align: top;\n",
              "    }\n",
              "\n",
              "    .dataframe thead th {\n",
              "        text-align: right;\n",
              "    }\n",
              "</style>\n",
              "<table border=\"1\" class=\"dataframe\">\n",
              "  <thead>\n",
              "    <tr style=\"text-align: right;\">\n",
              "      <th></th>\n",
              "      <th>reviewerID</th>\n",
              "      <th>asin</th>\n",
              "      <th>overall</th>\n",
              "      <th>price</th>\n",
              "      <th>year</th>\n",
              "      <th>month</th>\n",
              "      <th>reviewlength</th>\n",
              "      <th>user_avg</th>\n",
              "      <th>item_avg</th>\n",
              "      <th>BaselineOnly</th>\n",
              "      <th>KNNBaseline_User</th>\n",
              "      <th>KNNBaseline_Item</th>\n",
              "    </tr>\n",
              "  </thead>\n",
              "  <tbody>\n",
              "    <tr>\n",
              "      <th>12925</th>\n",
              "      <td>A3OPKFBT8Z15TE</td>\n",
              "      <td>B00009WE3Y</td>\n",
              "      <td>5.0</td>\n",
              "      <td>15.00</td>\n",
              "      <td>2013</td>\n",
              "      <td>7</td>\n",
              "      <td>103</td>\n",
              "      <td>3.000000</td>\n",
              "      <td>4.736842</td>\n",
              "      <td>3.623450</td>\n",
              "      <td>5.000000</td>\n",
              "      <td>5.0</td>\n",
              "    </tr>\n",
              "    <tr>\n",
              "      <th>37924</th>\n",
              "      <td>A78VQHFWZ5KH9</td>\n",
              "      <td>B000TTCK64</td>\n",
              "      <td>5.0</td>\n",
              "      <td>77.37</td>\n",
              "      <td>2010</td>\n",
              "      <td>3</td>\n",
              "      <td>87</td>\n",
              "      <td>4.857143</td>\n",
              "      <td>4.727273</td>\n",
              "      <td>3.403570</td>\n",
              "      <td>4.971483</td>\n",
              "      <td>5.0</td>\n",
              "    </tr>\n",
              "    <tr>\n",
              "      <th>50072</th>\n",
              "      <td>A1HN7OLEVRJ7DD</td>\n",
              "      <td>B002FYS5BA</td>\n",
              "      <td>5.0</td>\n",
              "      <td>199.00</td>\n",
              "      <td>2014</td>\n",
              "      <td>5</td>\n",
              "      <td>28</td>\n",
              "      <td>4.571429</td>\n",
              "      <td>4.916667</td>\n",
              "      <td>3.602041</td>\n",
              "      <td>2.025846</td>\n",
              "      <td>2.0</td>\n",
              "    </tr>\n",
              "    <tr>\n",
              "      <th>22328</th>\n",
              "      <td>A1WI176M51EBIT</td>\n",
              "      <td>B00063QPYQ</td>\n",
              "      <td>5.0</td>\n",
              "      <td>10.64</td>\n",
              "      <td>2013</td>\n",
              "      <td>5</td>\n",
              "      <td>37</td>\n",
              "      <td>4.692308</td>\n",
              "      <td>4.625000</td>\n",
              "      <td>3.337543</td>\n",
              "      <td>1.000000</td>\n",
              "      <td>1.0</td>\n",
              "    </tr>\n",
              "    <tr>\n",
              "      <th>72496</th>\n",
              "      <td>A2FQIGXDVEW10B</td>\n",
              "      <td>B009L16ZBM</td>\n",
              "      <td>5.0</td>\n",
              "      <td>108.95</td>\n",
              "      <td>2014</td>\n",
              "      <td>5</td>\n",
              "      <td>143</td>\n",
              "      <td>5.000000</td>\n",
              "      <td>4.500000</td>\n",
              "      <td>3.345735</td>\n",
              "      <td>2.000000</td>\n",
              "      <td>2.0</td>\n",
              "    </tr>\n",
              "  </tbody>\n",
              "</table>\n",
              "</div>"
            ],
            "text/plain": [
              "           reviewerID        asin  ...  KNNBaseline_User  KNNBaseline_Item\n",
              "12925  A3OPKFBT8Z15TE  B00009WE3Y  ...          5.000000               5.0\n",
              "37924   A78VQHFWZ5KH9  B000TTCK64  ...          4.971483               5.0\n",
              "50072  A1HN7OLEVRJ7DD  B002FYS5BA  ...          2.025846               2.0\n",
              "22328  A1WI176M51EBIT  B00063QPYQ  ...          1.000000               1.0\n",
              "72496  A2FQIGXDVEW10B  B009L16ZBM  ...          2.000000               2.0\n",
              "\n",
              "[5 rows x 12 columns]"
            ]
          },
          "metadata": {
            "tags": []
          },
          "execution_count": 125
        }
      ]
    },
    {
      "cell_type": "code",
      "metadata": {
        "colab": {
          "base_uri": "https://localhost:8080/",
          "height": 204
        },
        "id": "TGq6tjwzE1ra",
        "outputId": "d9ce2a34-41ce-4a2f-c761-b82edae3da86"
      },
      "source": [
        "test_surprice.head()"
      ],
      "execution_count": 126,
      "outputs": [
        {
          "output_type": "execute_result",
          "data": {
            "text/html": [
              "<div>\n",
              "<style scoped>\n",
              "    .dataframe tbody tr th:only-of-type {\n",
              "        vertical-align: middle;\n",
              "    }\n",
              "\n",
              "    .dataframe tbody tr th {\n",
              "        vertical-align: top;\n",
              "    }\n",
              "\n",
              "    .dataframe thead th {\n",
              "        text-align: right;\n",
              "    }\n",
              "</style>\n",
              "<table border=\"1\" class=\"dataframe\">\n",
              "  <thead>\n",
              "    <tr style=\"text-align: right;\">\n",
              "      <th></th>\n",
              "      <th>reviewerID</th>\n",
              "      <th>asin</th>\n",
              "      <th>overall</th>\n",
              "      <th>price</th>\n",
              "      <th>year</th>\n",
              "      <th>month</th>\n",
              "      <th>reviewlength</th>\n",
              "      <th>user_avg</th>\n",
              "      <th>item_avg</th>\n",
              "      <th>BaselineOnly</th>\n",
              "      <th>KNNBaseline_User</th>\n",
              "      <th>KNNBaseline_Item</th>\n",
              "    </tr>\n",
              "  </thead>\n",
              "  <tbody>\n",
              "    <tr>\n",
              "      <th>26462</th>\n",
              "      <td>A38Z8ZXX1BPFRL</td>\n",
              "      <td>B000B6NXL6</td>\n",
              "      <td>5.0</td>\n",
              "      <td>14.90</td>\n",
              "      <td>2013</td>\n",
              "      <td>4</td>\n",
              "      <td>72</td>\n",
              "      <td>4.571429</td>\n",
              "      <td>4.900000</td>\n",
              "      <td>5.000000</td>\n",
              "      <td>4.636473</td>\n",
              "      <td>4.993701</td>\n",
              "    </tr>\n",
              "    <tr>\n",
              "      <th>59544</th>\n",
              "      <td>ANQQ6LF20ZTVD</td>\n",
              "      <td>B0046EC1D0</td>\n",
              "      <td>4.0</td>\n",
              "      <td>14.25</td>\n",
              "      <td>2014</td>\n",
              "      <td>6</td>\n",
              "      <td>41</td>\n",
              "      <td>4.000000</td>\n",
              "      <td>4.666667</td>\n",
              "      <td>4.467445</td>\n",
              "      <td>4.477095</td>\n",
              "      <td>4.477095</td>\n",
              "    </tr>\n",
              "    <tr>\n",
              "      <th>80562</th>\n",
              "      <td>A1UQBFCERIP7VJ</td>\n",
              "      <td>B00J3M78GA</td>\n",
              "      <td>5.0</td>\n",
              "      <td>23.95</td>\n",
              "      <td>2014</td>\n",
              "      <td>6</td>\n",
              "      <td>242</td>\n",
              "      <td>4.846154</td>\n",
              "      <td>5.000000</td>\n",
              "      <td>4.836873</td>\n",
              "      <td>4.949977</td>\n",
              "      <td>4.793333</td>\n",
              "    </tr>\n",
              "    <tr>\n",
              "      <th>63068</th>\n",
              "      <td>A2YS0XIQ844GFF</td>\n",
              "      <td>B0051XZAA6</td>\n",
              "      <td>5.0</td>\n",
              "      <td>30.55</td>\n",
              "      <td>2014</td>\n",
              "      <td>6</td>\n",
              "      <td>72</td>\n",
              "      <td>5.000000</td>\n",
              "      <td>4.200000</td>\n",
              "      <td>4.067326</td>\n",
              "      <td>4.159715</td>\n",
              "      <td>4.159715</td>\n",
              "    </tr>\n",
              "    <tr>\n",
              "      <th>45313</th>\n",
              "      <td>A7P7OP5UW6APV</td>\n",
              "      <td>B001EU9VSM</td>\n",
              "      <td>5.0</td>\n",
              "      <td>16.12</td>\n",
              "      <td>2013</td>\n",
              "      <td>10</td>\n",
              "      <td>28</td>\n",
              "      <td>5.000000</td>\n",
              "      <td>4.111111</td>\n",
              "      <td>4.413163</td>\n",
              "      <td>4.329159</td>\n",
              "      <td>4.329159</td>\n",
              "    </tr>\n",
              "  </tbody>\n",
              "</table>\n",
              "</div>"
            ],
            "text/plain": [
              "           reviewerID        asin  ...  KNNBaseline_User  KNNBaseline_Item\n",
              "26462  A38Z8ZXX1BPFRL  B000B6NXL6  ...          4.636473          4.993701\n",
              "59544   ANQQ6LF20ZTVD  B0046EC1D0  ...          4.477095          4.477095\n",
              "80562  A1UQBFCERIP7VJ  B00J3M78GA  ...          4.949977          4.793333\n",
              "63068  A2YS0XIQ844GFF  B0051XZAA6  ...          4.159715          4.159715\n",
              "45313   A7P7OP5UW6APV  B001EU9VSM  ...          4.329159          4.329159\n",
              "\n",
              "[5 rows x 12 columns]"
            ]
          },
          "metadata": {
            "tags": []
          },
          "execution_count": 126
        }
      ]
    },
    {
      "cell_type": "code",
      "metadata": {
        "colab": {
          "base_uri": "https://localhost:8080/",
          "height": 682
        },
        "id": "wOohDTX6E5vP",
        "outputId": "709435ef-3dfc-4f06-91ba-8fc4e3669a4c"
      },
      "source": [
        "x_train = train_surprice.dropna().drop([\"reviewerID\", \"asin\", \"overall\"], axis = 1)\n",
        "\n",
        "x_test = test_surprice.dropna().drop([\"reviewerID\", \"asin\", \"overall\"], axis = 1)\n",
        "\n",
        "y_train = train_surprice.dropna().overall\n",
        "\n",
        "y_test = test_surprice.dropna().overall\n",
        "\n",
        "train_result, test_result = train_test_xgboost(x_train, x_test, y_train, y_test, \"XGB_BSL_KNN\")\n",
        "\n",
        "model_train_evaluation[\"XGB_BSL_KNN\"] = train_result\n",
        "model_test_evaluation[\"XGB_BSL_KNN\"] = test_result"
      ],
      "execution_count": 127,
      "outputs": [
        {
          "output_type": "stream",
          "text": [
            "[09:42:01] WARNING: /workspace/src/objective/regression_obj.cu:152: reg:linear is now deprecated in favor of reg:squarederror.\n",
            "--------------------------------------------------\n",
            "TRAIN DATA\n",
            "RMSE = 0.7772860695097272\n",
            "--------------------------------------------------\n",
            "TEST DATA\n",
            "RMSE = 0.5874490946198556\n",
            "--------------------------------------------------\n",
            "Time Taken = 0:00:03.722189\n"
          ],
          "name": "stdout"
        },
        {
          "output_type": "display_data",
          "data": {
            "image/png": "[encoded data removed]",
            "text/plain": [
              "<Figure size 576x432 with 1 Axes>"
            ]
          },
          "metadata": {
            "tags": [],
            "needs_background": "light"
          }
        }
      ]
    },
    {
      "cell_type": "markdown",
      "metadata": {
        "id": "C8IDkv_nOdBz"
      },
      "source": [
        "##Model with Pyspark ALS"
      ]
    },
    {
      "cell_type": "code",
      "metadata": {
        "id": "jWAxWX6hKBBo"
      },
      "source": [
        "!apt-get install openjdk-8-jdk-headless -qq > /dev/null"
      ],
      "execution_count": 27,
      "outputs": []
    },
    {
      "cell_type": "code",
      "metadata": {
        "colab": {
          "base_uri": "https://localhost:8080/"
        },
        "id": "TVbnmeENKCEP",
        "outputId": "41825743-efe5-409d-ecfc-802ec0496001"
      },
      "source": [
        "!wget -q https://archive.apache.org/dist/spark/spark-3.1.2/spark-3.1.2-bin-hadoop2.7.tgz"
      ],
      "execution_count": 32,
      "outputs": [
        {
          "output_type": "stream",
          "text": [
            "^C\n"
          ],
          "name": "stdout"
        }
      ]
    },
    {
      "cell_type": "code",
      "metadata": {
        "colab": {
          "base_uri": "https://localhost:8080/"
        },
        "id": "G_teuGIFKJuA",
        "outputId": "24cd53fd-abc9-4c26-ef0a-be526c2ea9e0"
      },
      "source": [
        "!tar xf spark-3.1.2-bin-hadoop2.7.tgz"
      ],
      "execution_count": 31,
      "outputs": [
        {
          "output_type": "stream",
          "text": [
            "tar: spark-3.1.2-bin-hadoop2.7.tgz: Cannot open: No such file or directory\n",
            "tar: Error is not recoverable: exiting now\n"
          ],
          "name": "stdout"
        }
      ]
    },
    {
      "cell_type": "code",
      "metadata": {
        "colab": {
          "base_uri": "https://localhost:8080/"
        },
        "id": "iahpOigFIQZU",
        "outputId": "fe9b680e-502f-4b9a-cb31-8a57831be9b2"
      },
      "source": [
        "!pip install pyspark"
      ],
      "execution_count": 21,
      "outputs": [
        {
          "output_type": "stream",
          "text": [
            "Collecting pyspark\n",
            "  Downloading pyspark-3.1.2.tar.gz (212.4 MB)\n",
            "\u001b[K     |████████████████████████████████| 212.4 MB 70 kB/s \n",
            "\u001b[?25hCollecting py4j==0.10.9\n",
            "  Downloading py4j-0.10.9-py2.py3-none-any.whl (198 kB)\n",
            "\u001b[K     |████████████████████████████████| 198 kB 37.9 MB/s \n",
            "\u001b[?25hBuilding wheels for collected packages: pyspark\n",
            "  Building wheel for pyspark (setup.py) ... \u001b[?25l\u001b[?25hdone\n",
            "  Created wheel for pyspark: filename=pyspark-3.1.2-py2.py3-none-any.whl size=212880768 sha256=2bf6fea6631c22130298cfcdbc37d09b1ecd5dfda39af82a2537316f8e84d611\n",
            "  Stored in directory: /root/.cache/pip/wheels/a5/0a/c1/9561f6fecb759579a7d863dcd846daaa95f598744e71b02c77\n",
            "Successfully built pyspark\n",
            "Installing collected packages: py4j, pyspark\n",
            "Successfully installed py4j-0.10.9 pyspark-3.1.2\n"
          ],
          "name": "stdout"
        }
      ]
    },
    {
      "cell_type": "code",
      "metadata": {
        "id": "rmeqBtMLGi_4"
      },
      "source": [
        "from pyspark.ml.evaluation import RegressionEvaluator\n",
        "from pyspark.ml.recommendation import ALS\n",
        "from pyspark.ml.tuning import ParamGridBuilder, CrossValidator# Create ALS model"
      ],
      "execution_count": 24,
      "outputs": []
    },
    {
      "cell_type": "code",
      "metadata": {
        "colab": {
          "base_uri": "https://localhost:8080/",
          "height": 311
        },
        "id": "wm5XVyMoJPP0",
        "outputId": "c81f4df3-6489-4d4a-e13b-46b8ecd62481"
      },
      "source": [
        "als = ALS()"
      ],
      "execution_count": 26,
      "outputs": [
        {
          "output_type": "error",
          "ename": "AttributeError",
          "evalue": "ignored",
          "traceback": [
            "\u001b[0;31m---------------------------------------------------------------------------\u001b[0m",
            "\u001b[0;31mAttributeError\u001b[0m                            Traceback (most recent call last)",
            "\u001b[0;32m<ipython-input-26-4f74d3a2d3fd>\u001b[0m in \u001b[0;36m<module>\u001b[0;34m()\u001b[0m\n\u001b[0;32m----> 1\u001b[0;31m \u001b[0mals\u001b[0m \u001b[0;34m=\u001b[0m \u001b[0mALS\u001b[0m\u001b[0;34m(\u001b[0m\u001b[0;34m)\u001b[0m\u001b[0;34m\u001b[0m\u001b[0;34m\u001b[0m\u001b[0m\n\u001b[0m",
            "\u001b[0;32m/usr/local/lib/python3.7/dist-packages/pyspark/__init__.py\u001b[0m in \u001b[0;36mwrapper\u001b[0;34m(self, *args, **kwargs)\u001b[0m\n\u001b[1;32m    112\u001b[0m             \u001b[0;32mraise\u001b[0m \u001b[0mTypeError\u001b[0m\u001b[0;34m(\u001b[0m\u001b[0;34m\"Method %s forces keyword arguments.\"\u001b[0m \u001b[0;34m%\u001b[0m \u001b[0mfunc\u001b[0m\u001b[0;34m.\u001b[0m\u001b[0m__name__\u001b[0m\u001b[0;34m)\u001b[0m\u001b[0;34m\u001b[0m\u001b[0;34m\u001b[0m\u001b[0m\n\u001b[1;32m    113\u001b[0m         \u001b[0mself\u001b[0m\u001b[0;34m.\u001b[0m\u001b[0m_input_kwargs\u001b[0m \u001b[0;34m=\u001b[0m \u001b[0mkwargs\u001b[0m\u001b[0;34m\u001b[0m\u001b[0;34m\u001b[0m\u001b[0m\n\u001b[0;32m--> 114\u001b[0;31m         \u001b[0;32mreturn\u001b[0m \u001b[0mfunc\u001b[0m\u001b[0;34m(\u001b[0m\u001b[0mself\u001b[0m\u001b[0;34m,\u001b[0m \u001b[0;34m**\u001b[0m\u001b[0mkwargs\u001b[0m\u001b[0;34m)\u001b[0m\u001b[0;34m\u001b[0m\u001b[0;34m\u001b[0m\u001b[0m\n\u001b[0m\u001b[1;32m    115\u001b[0m     \u001b[0;32mreturn\u001b[0m \u001b[0mwrapper\u001b[0m\u001b[0;34m\u001b[0m\u001b[0;34m\u001b[0m\u001b[0m\n\u001b[1;32m    116\u001b[0m \u001b[0;34m\u001b[0m\u001b[0m\n",
            "\u001b[0;32m/usr/local/lib/python3.7/dist-packages/pyspark/ml/recommendation.py\u001b[0m in \u001b[0;36m__init__\u001b[0;34m(self, rank, maxIter, regParam, numUserBlocks, numItemBlocks, implicitPrefs, alpha, userCol, itemCol, seed, ratingCol, nonnegative, checkpointInterval, intermediateStorageLevel, finalStorageLevel, coldStartStrategy, blockSize)\u001b[0m\n\u001b[1;32m    314\u001b[0m         \"\"\"\n\u001b[1;32m    315\u001b[0m         \u001b[0msuper\u001b[0m\u001b[0;34m(\u001b[0m\u001b[0mALS\u001b[0m\u001b[0;34m,\u001b[0m \u001b[0mself\u001b[0m\u001b[0;34m)\u001b[0m\u001b[0;34m.\u001b[0m\u001b[0m__init__\u001b[0m\u001b[0;34m(\u001b[0m\u001b[0;34m)\u001b[0m\u001b[0;34m\u001b[0m\u001b[0;34m\u001b[0m\u001b[0m\n\u001b[0;32m--> 316\u001b[0;31m         \u001b[0mself\u001b[0m\u001b[0;34m.\u001b[0m\u001b[0m_java_obj\u001b[0m \u001b[0;34m=\u001b[0m \u001b[0mself\u001b[0m\u001b[0;34m.\u001b[0m\u001b[0m_new_java_obj\u001b[0m\u001b[0;34m(\u001b[0m\u001b[0;34m\"org.apache.spark.ml.recommendation.ALS\"\u001b[0m\u001b[0;34m,\u001b[0m \u001b[0mself\u001b[0m\u001b[0;34m.\u001b[0m\u001b[0muid\u001b[0m\u001b[0;34m)\u001b[0m\u001b[0;34m\u001b[0m\u001b[0;34m\u001b[0m\u001b[0m\n\u001b[0m\u001b[1;32m    317\u001b[0m         \u001b[0mkwargs\u001b[0m \u001b[0;34m=\u001b[0m \u001b[0mself\u001b[0m\u001b[0;34m.\u001b[0m\u001b[0m_input_kwargs\u001b[0m\u001b[0;34m\u001b[0m\u001b[0;34m\u001b[0m\u001b[0m\n\u001b[1;32m    318\u001b[0m         \u001b[0mself\u001b[0m\u001b[0;34m.\u001b[0m\u001b[0msetParams\u001b[0m\u001b[0;34m(\u001b[0m\u001b[0;34m**\u001b[0m\u001b[0mkwargs\u001b[0m\u001b[0;34m)\u001b[0m\u001b[0;34m\u001b[0m\u001b[0;34m\u001b[0m\u001b[0m\n",
            "\u001b[0;32m/usr/local/lib/python3.7/dist-packages/pyspark/ml/wrapper.py\u001b[0m in \u001b[0;36m_new_java_obj\u001b[0;34m(java_class, *args)\u001b[0m\n\u001b[1;32m     60\u001b[0m         \"\"\"\n\u001b[1;32m     61\u001b[0m         \u001b[0msc\u001b[0m \u001b[0;34m=\u001b[0m \u001b[0mSparkContext\u001b[0m\u001b[0;34m.\u001b[0m\u001b[0m_active_spark_context\u001b[0m\u001b[0;34m\u001b[0m\u001b[0;34m\u001b[0m\u001b[0m\n\u001b[0;32m---> 62\u001b[0;31m         \u001b[0mjava_obj\u001b[0m \u001b[0;34m=\u001b[0m \u001b[0m_jvm\u001b[0m\u001b[0;34m(\u001b[0m\u001b[0;34m)\u001b[0m\u001b[0;34m\u001b[0m\u001b[0;34m\u001b[0m\u001b[0m\n\u001b[0m\u001b[1;32m     63\u001b[0m         \u001b[0;32mfor\u001b[0m \u001b[0mname\u001b[0m \u001b[0;32min\u001b[0m \u001b[0mjava_class\u001b[0m\u001b[0;34m.\u001b[0m\u001b[0msplit\u001b[0m\u001b[0;34m(\u001b[0m\u001b[0;34m\".\"\u001b[0m\u001b[0;34m)\u001b[0m\u001b[0;34m:\u001b[0m\u001b[0;34m\u001b[0m\u001b[0;34m\u001b[0m\u001b[0m\n\u001b[1;32m     64\u001b[0m             \u001b[0mjava_obj\u001b[0m \u001b[0;34m=\u001b[0m \u001b[0mgetattr\u001b[0m\u001b[0;34m(\u001b[0m\u001b[0mjava_obj\u001b[0m\u001b[0;34m,\u001b[0m \u001b[0mname\u001b[0m\u001b[0;34m)\u001b[0m\u001b[0;34m\u001b[0m\u001b[0;34m\u001b[0m\u001b[0m\n",
            "\u001b[0;32m/usr/local/lib/python3.7/dist-packages/pyspark/ml/util.py\u001b[0m in \u001b[0;36m_jvm\u001b[0;34m()\u001b[0m\n\u001b[1;32m     36\u001b[0m         \u001b[0;32mreturn\u001b[0m \u001b[0mjvm\u001b[0m\u001b[0;34m\u001b[0m\u001b[0;34m\u001b[0m\u001b[0m\n\u001b[1;32m     37\u001b[0m     \u001b[0;32melse\u001b[0m\u001b[0;34m:\u001b[0m\u001b[0;34m\u001b[0m\u001b[0;34m\u001b[0m\u001b[0m\n\u001b[0;32m---> 38\u001b[0;31m         \u001b[0;32mraise\u001b[0m \u001b[0mAttributeError\u001b[0m\u001b[0;34m(\u001b[0m\u001b[0;34m\"Cannot load _jvm from SparkContext. Is SparkContext initialized?\"\u001b[0m\u001b[0;34m)\u001b[0m\u001b[0;34m\u001b[0m\u001b[0;34m\u001b[0m\u001b[0m\n\u001b[0m\u001b[1;32m     39\u001b[0m \u001b[0;34m\u001b[0m\u001b[0m\n\u001b[1;32m     40\u001b[0m \u001b[0;34m\u001b[0m\u001b[0m\n",
            "\u001b[0;31mAttributeError\u001b[0m: Cannot load _jvm from SparkContext. Is SparkContext initialized?"
          ]
        }
      ]
    }
  ]
}