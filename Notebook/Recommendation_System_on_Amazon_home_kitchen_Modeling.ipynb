{
  "nbformat": 4,
  "nbformat_minor": 0,
  "metadata": {
    "colab": {
      "name": "Recommendation_System_on_Amazon_home_kitchen-Modeling.ipynb",
      "provenance": [],
      "authorship_tag": "ABX9TyM2WlepaCu72xJnUVhL2MCn",
      "include_colab_link": true
    },
    "kernelspec": {
      "name": "python3",
      "display_name": "Python 3"
    },
    "language_info": {
      "name": "python"
    }
  },
  "cells": [
    {
      "cell_type": "markdown",
      "metadata": {
        "id": "view-in-github",
        "colab_type": "text"
      },
      "source": [
        "<a href=\"https://colab.research.google.com/github/LanxyL/Capstone3---Recommendation-System/blob/main/Notebook/Recommendation_System_on_Amazon_home_kitchen_Modeling.ipynb\" target=\"_parent\"><img src=\"https://colab.research.google.com/assets/colab-badge.svg\" alt=\"Open In Colab\"/></a>"
      ]
    },
    {
      "cell_type": "markdown",
      "metadata": {
        "id": "H8mkbOFbJDnW"
      },
      "source": [
        "## Load Dataset"
      ]
    },
    {
      "cell_type": "code",
      "metadata": {
        "colab": {
          "base_uri": "https://localhost:8080/"
        },
        "id": "7Ypvhe5bH4L8",
        "outputId": "8cc358da-1f70-47a1-cf77-fa9b8879c7e6"
      },
      "source": [
        "from google.colab import drive\n",
        "drive.mount('/content/drive')"
      ],
      "execution_count": 1,
      "outputs": [
        {
          "output_type": "stream",
          "text": [
            "Mounted at /content/drive\n"
          ],
          "name": "stdout"
        }
      ]
    },
    {
      "cell_type": "code",
      "metadata": {
        "id": "MPdKskzZKYV2"
      },
      "source": [
        "#imports\n",
        "import numpy as np\n",
        "import pandas as pd\n",
        "import matplotlib.pyplot as plt\n",
        "import seaborn as sns\n",
        "from sklearn.metrics import mean_squared_error"
      ],
      "execution_count": 2,
      "outputs": []
    },
    {
      "cell_type": "code",
      "metadata": {
        "id": "3Xra1kXyJw_Q"
      },
      "source": [
        "#Read Kitchen&Dining Dataset from last notebook\n",
        "KitchenDining = pd.read_csv('drive/My Drive/Recommendation_System/KitchenDining80000.csv')"
      ],
      "execution_count": 3,
      "outputs": []
    },
    {
      "cell_type": "code",
      "metadata": {
        "colab": {
          "base_uri": "https://localhost:8080/",
          "height": 222
        },
        "id": "tyR86bTmKoSZ",
        "outputId": "ef55a9ac-57c8-4a5e-a6bc-8247f36b0a39"
      },
      "source": [
        "# transform the ratings frame into a ratings matrix\n",
        "ratings_mtx_df = KitchenDining.pivot_table(values='overall',\n",
        "                                           index='reviewerID',\n",
        "                                           columns='asin')\n",
        "ratings_mtx_df.head(3)"
      ],
      "execution_count": 4,
      "outputs": [
        {
          "output_type": "execute_result",
          "data": {
            "text/html": [
              "<div>\n",
              "<style scoped>\n",
              "    .dataframe tbody tr th:only-of-type {\n",
              "        vertical-align: middle;\n",
              "    }\n",
              "\n",
              "    .dataframe tbody tr th {\n",
              "        vertical-align: top;\n",
              "    }\n",
              "\n",
              "    .dataframe thead th {\n",
              "        text-align: right;\n",
              "    }\n",
              "</style>\n",
              "<table border=\"1\" class=\"dataframe\">\n",
              "  <thead>\n",
              "    <tr style=\"text-align: right;\">\n",
              "      <th>asin</th>\n",
              "      <th>0912696591</th>\n",
              "      <th>B00000JGRP</th>\n",
              "      <th>B00000JGRQ</th>\n",
              "      <th>B00000JGRT</th>\n",
              "      <th>B00002N602</th>\n",
              "      <th>B00004OCIP</th>\n",
              "      <th>B00004OCIQ</th>\n",
              "      <th>B00004OCIU</th>\n",
              "      <th>B00004OCIX</th>\n",
              "      <th>B00004OCIZ</th>\n",
              "      <th>B00004OCJ6</th>\n",
              "      <th>B00004OCJ9</th>\n",
              "      <th>B00004OCJJ</th>\n",
              "      <th>B00004OCJK</th>\n",
              "      <th>B00004OCJN</th>\n",
              "      <th>B00004OCJO</th>\n",
              "      <th>B00004OCJQ</th>\n",
              "      <th>B00004OCJW</th>\n",
              "      <th>B00004OCK0</th>\n",
              "      <th>B00004OCK3</th>\n",
              "      <th>B00004OCKO</th>\n",
              "      <th>B00004OCKR</th>\n",
              "      <th>B00004OCKT</th>\n",
              "      <th>B00004OCL2</th>\n",
              "      <th>B00004OCL8</th>\n",
              "      <th>B00004OCL9</th>\n",
              "      <th>B00004OCLA</th>\n",
              "      <th>B00004OCLK</th>\n",
              "      <th>B00004OCLW</th>\n",
              "      <th>B00004OCM4</th>\n",
              "      <th>B00004OCMB</th>\n",
              "      <th>B00004OCMM</th>\n",
              "      <th>B00004OCMS</th>\n",
              "      <th>B00004OCMX</th>\n",
              "      <th>B00004OCMY</th>\n",
              "      <th>B00004OCNE</th>\n",
              "      <th>B00004OCNJ</th>\n",
              "      <th>B00004OCNK</th>\n",
              "      <th>B00004OCNL</th>\n",
              "      <th>B00004OCNQ</th>\n",
              "      <th>...</th>\n",
              "      <th>B00JW02L9W</th>\n",
              "      <th>B00JWXSPAS</th>\n",
              "      <th>B00JWY1PPE</th>\n",
              "      <th>B00JWYX7YQ</th>\n",
              "      <th>B00JWZCE08</th>\n",
              "      <th>B00JZKZPMO</th>\n",
              "      <th>B00JZL11V2</th>\n",
              "      <th>B00JZXYG9O</th>\n",
              "      <th>B00K11U0Y4</th>\n",
              "      <th>B00K4S1L1K</th>\n",
              "      <th>B00K4V4EWA</th>\n",
              "      <th>B00K6BCV7S</th>\n",
              "      <th>B00K7ILPYU</th>\n",
              "      <th>B00K7P0D9G</th>\n",
              "      <th>B00K8LHA3G</th>\n",
              "      <th>B00KAF5DLQ</th>\n",
              "      <th>B00KAJ3OY0</th>\n",
              "      <th>B00KAK443Y</th>\n",
              "      <th>B00KB7KNRM</th>\n",
              "      <th>B00KBQ1OHQ</th>\n",
              "      <th>B00KBUGQJS</th>\n",
              "      <th>B00KCFDB4U</th>\n",
              "      <th>B00KD83BMS</th>\n",
              "      <th>B00KDV5RZY</th>\n",
              "      <th>B00KFS40N0</th>\n",
              "      <th>B00KI2RQHU</th>\n",
              "      <th>B00KIVD1PC</th>\n",
              "      <th>B00KKYSBUW</th>\n",
              "      <th>B00KM9W2PU</th>\n",
              "      <th>B00KNPVL8W</th>\n",
              "      <th>B00KQCJ0CG</th>\n",
              "      <th>B00KQXDIG4</th>\n",
              "      <th>B00KSRQN0Q</th>\n",
              "      <th>B00KSRSZC0</th>\n",
              "      <th>B00KSRV3UQ</th>\n",
              "      <th>B00KSRXUC0</th>\n",
              "      <th>B00KW1ZDCM</th>\n",
              "      <th>B00KWKQ2MS</th>\n",
              "      <th>B00L8FQZ3M</th>\n",
              "      <th>B00LB18EKK</th>\n",
              "    </tr>\n",
              "    <tr>\n",
              "      <th>reviewerID</th>\n",
              "      <th></th>\n",
              "      <th></th>\n",
              "      <th></th>\n",
              "      <th></th>\n",
              "      <th></th>\n",
              "      <th></th>\n",
              "      <th></th>\n",
              "      <th></th>\n",
              "      <th></th>\n",
              "      <th></th>\n",
              "      <th></th>\n",
              "      <th></th>\n",
              "      <th></th>\n",
              "      <th></th>\n",
              "      <th></th>\n",
              "      <th></th>\n",
              "      <th></th>\n",
              "      <th></th>\n",
              "      <th></th>\n",
              "      <th></th>\n",
              "      <th></th>\n",
              "      <th></th>\n",
              "      <th></th>\n",
              "      <th></th>\n",
              "      <th></th>\n",
              "      <th></th>\n",
              "      <th></th>\n",
              "      <th></th>\n",
              "      <th></th>\n",
              "      <th></th>\n",
              "      <th></th>\n",
              "      <th></th>\n",
              "      <th></th>\n",
              "      <th></th>\n",
              "      <th></th>\n",
              "      <th></th>\n",
              "      <th></th>\n",
              "      <th></th>\n",
              "      <th></th>\n",
              "      <th></th>\n",
              "      <th></th>\n",
              "      <th></th>\n",
              "      <th></th>\n",
              "      <th></th>\n",
              "      <th></th>\n",
              "      <th></th>\n",
              "      <th></th>\n",
              "      <th></th>\n",
              "      <th></th>\n",
              "      <th></th>\n",
              "      <th></th>\n",
              "      <th></th>\n",
              "      <th></th>\n",
              "      <th></th>\n",
              "      <th></th>\n",
              "      <th></th>\n",
              "      <th></th>\n",
              "      <th></th>\n",
              "      <th></th>\n",
              "      <th></th>\n",
              "      <th></th>\n",
              "      <th></th>\n",
              "      <th></th>\n",
              "      <th></th>\n",
              "      <th></th>\n",
              "      <th></th>\n",
              "      <th></th>\n",
              "      <th></th>\n",
              "      <th></th>\n",
              "      <th></th>\n",
              "      <th></th>\n",
              "      <th></th>\n",
              "      <th></th>\n",
              "      <th></th>\n",
              "      <th></th>\n",
              "      <th></th>\n",
              "      <th></th>\n",
              "      <th></th>\n",
              "      <th></th>\n",
              "      <th></th>\n",
              "      <th></th>\n",
              "    </tr>\n",
              "  </thead>\n",
              "  <tbody>\n",
              "    <tr>\n",
              "      <th>A00473363TJ8YSZ3YAGG9</th>\n",
              "      <td>NaN</td>\n",
              "      <td>NaN</td>\n",
              "      <td>NaN</td>\n",
              "      <td>NaN</td>\n",
              "      <td>NaN</td>\n",
              "      <td>NaN</td>\n",
              "      <td>NaN</td>\n",
              "      <td>NaN</td>\n",
              "      <td>NaN</td>\n",
              "      <td>NaN</td>\n",
              "      <td>NaN</td>\n",
              "      <td>NaN</td>\n",
              "      <td>NaN</td>\n",
              "      <td>NaN</td>\n",
              "      <td>NaN</td>\n",
              "      <td>NaN</td>\n",
              "      <td>NaN</td>\n",
              "      <td>NaN</td>\n",
              "      <td>NaN</td>\n",
              "      <td>NaN</td>\n",
              "      <td>NaN</td>\n",
              "      <td>NaN</td>\n",
              "      <td>NaN</td>\n",
              "      <td>NaN</td>\n",
              "      <td>NaN</td>\n",
              "      <td>NaN</td>\n",
              "      <td>NaN</td>\n",
              "      <td>NaN</td>\n",
              "      <td>NaN</td>\n",
              "      <td>NaN</td>\n",
              "      <td>NaN</td>\n",
              "      <td>NaN</td>\n",
              "      <td>NaN</td>\n",
              "      <td>NaN</td>\n",
              "      <td>NaN</td>\n",
              "      <td>NaN</td>\n",
              "      <td>NaN</td>\n",
              "      <td>NaN</td>\n",
              "      <td>NaN</td>\n",
              "      <td>NaN</td>\n",
              "      <td>...</td>\n",
              "      <td>NaN</td>\n",
              "      <td>NaN</td>\n",
              "      <td>NaN</td>\n",
              "      <td>NaN</td>\n",
              "      <td>NaN</td>\n",
              "      <td>NaN</td>\n",
              "      <td>NaN</td>\n",
              "      <td>NaN</td>\n",
              "      <td>NaN</td>\n",
              "      <td>NaN</td>\n",
              "      <td>NaN</td>\n",
              "      <td>NaN</td>\n",
              "      <td>NaN</td>\n",
              "      <td>NaN</td>\n",
              "      <td>NaN</td>\n",
              "      <td>NaN</td>\n",
              "      <td>NaN</td>\n",
              "      <td>NaN</td>\n",
              "      <td>NaN</td>\n",
              "      <td>NaN</td>\n",
              "      <td>NaN</td>\n",
              "      <td>NaN</td>\n",
              "      <td>NaN</td>\n",
              "      <td>NaN</td>\n",
              "      <td>NaN</td>\n",
              "      <td>NaN</td>\n",
              "      <td>NaN</td>\n",
              "      <td>NaN</td>\n",
              "      <td>NaN</td>\n",
              "      <td>NaN</td>\n",
              "      <td>NaN</td>\n",
              "      <td>NaN</td>\n",
              "      <td>NaN</td>\n",
              "      <td>NaN</td>\n",
              "      <td>NaN</td>\n",
              "      <td>NaN</td>\n",
              "      <td>NaN</td>\n",
              "      <td>NaN</td>\n",
              "      <td>NaN</td>\n",
              "      <td>NaN</td>\n",
              "    </tr>\n",
              "    <tr>\n",
              "      <th>A00593903MCE5GXTAGGNL</th>\n",
              "      <td>NaN</td>\n",
              "      <td>NaN</td>\n",
              "      <td>NaN</td>\n",
              "      <td>NaN</td>\n",
              "      <td>NaN</td>\n",
              "      <td>NaN</td>\n",
              "      <td>NaN</td>\n",
              "      <td>NaN</td>\n",
              "      <td>NaN</td>\n",
              "      <td>NaN</td>\n",
              "      <td>NaN</td>\n",
              "      <td>NaN</td>\n",
              "      <td>NaN</td>\n",
              "      <td>NaN</td>\n",
              "      <td>NaN</td>\n",
              "      <td>NaN</td>\n",
              "      <td>NaN</td>\n",
              "      <td>NaN</td>\n",
              "      <td>NaN</td>\n",
              "      <td>NaN</td>\n",
              "      <td>NaN</td>\n",
              "      <td>NaN</td>\n",
              "      <td>NaN</td>\n",
              "      <td>NaN</td>\n",
              "      <td>NaN</td>\n",
              "      <td>NaN</td>\n",
              "      <td>NaN</td>\n",
              "      <td>NaN</td>\n",
              "      <td>NaN</td>\n",
              "      <td>NaN</td>\n",
              "      <td>NaN</td>\n",
              "      <td>NaN</td>\n",
              "      <td>NaN</td>\n",
              "      <td>NaN</td>\n",
              "      <td>NaN</td>\n",
              "      <td>NaN</td>\n",
              "      <td>NaN</td>\n",
              "      <td>NaN</td>\n",
              "      <td>NaN</td>\n",
              "      <td>NaN</td>\n",
              "      <td>...</td>\n",
              "      <td>NaN</td>\n",
              "      <td>NaN</td>\n",
              "      <td>NaN</td>\n",
              "      <td>NaN</td>\n",
              "      <td>NaN</td>\n",
              "      <td>NaN</td>\n",
              "      <td>NaN</td>\n",
              "      <td>NaN</td>\n",
              "      <td>NaN</td>\n",
              "      <td>NaN</td>\n",
              "      <td>NaN</td>\n",
              "      <td>NaN</td>\n",
              "      <td>NaN</td>\n",
              "      <td>NaN</td>\n",
              "      <td>NaN</td>\n",
              "      <td>NaN</td>\n",
              "      <td>NaN</td>\n",
              "      <td>NaN</td>\n",
              "      <td>NaN</td>\n",
              "      <td>NaN</td>\n",
              "      <td>NaN</td>\n",
              "      <td>NaN</td>\n",
              "      <td>NaN</td>\n",
              "      <td>NaN</td>\n",
              "      <td>NaN</td>\n",
              "      <td>NaN</td>\n",
              "      <td>NaN</td>\n",
              "      <td>NaN</td>\n",
              "      <td>NaN</td>\n",
              "      <td>NaN</td>\n",
              "      <td>NaN</td>\n",
              "      <td>NaN</td>\n",
              "      <td>NaN</td>\n",
              "      <td>NaN</td>\n",
              "      <td>NaN</td>\n",
              "      <td>NaN</td>\n",
              "      <td>NaN</td>\n",
              "      <td>NaN</td>\n",
              "      <td>NaN</td>\n",
              "      <td>NaN</td>\n",
              "    </tr>\n",
              "    <tr>\n",
              "      <th>A037357115LCU92V2R0YR</th>\n",
              "      <td>NaN</td>\n",
              "      <td>NaN</td>\n",
              "      <td>NaN</td>\n",
              "      <td>NaN</td>\n",
              "      <td>NaN</td>\n",
              "      <td>NaN</td>\n",
              "      <td>NaN</td>\n",
              "      <td>NaN</td>\n",
              "      <td>NaN</td>\n",
              "      <td>NaN</td>\n",
              "      <td>NaN</td>\n",
              "      <td>NaN</td>\n",
              "      <td>NaN</td>\n",
              "      <td>NaN</td>\n",
              "      <td>NaN</td>\n",
              "      <td>NaN</td>\n",
              "      <td>NaN</td>\n",
              "      <td>NaN</td>\n",
              "      <td>NaN</td>\n",
              "      <td>NaN</td>\n",
              "      <td>NaN</td>\n",
              "      <td>NaN</td>\n",
              "      <td>NaN</td>\n",
              "      <td>NaN</td>\n",
              "      <td>NaN</td>\n",
              "      <td>NaN</td>\n",
              "      <td>NaN</td>\n",
              "      <td>NaN</td>\n",
              "      <td>NaN</td>\n",
              "      <td>NaN</td>\n",
              "      <td>NaN</td>\n",
              "      <td>NaN</td>\n",
              "      <td>NaN</td>\n",
              "      <td>NaN</td>\n",
              "      <td>NaN</td>\n",
              "      <td>NaN</td>\n",
              "      <td>NaN</td>\n",
              "      <td>NaN</td>\n",
              "      <td>NaN</td>\n",
              "      <td>NaN</td>\n",
              "      <td>...</td>\n",
              "      <td>NaN</td>\n",
              "      <td>NaN</td>\n",
              "      <td>NaN</td>\n",
              "      <td>NaN</td>\n",
              "      <td>NaN</td>\n",
              "      <td>NaN</td>\n",
              "      <td>NaN</td>\n",
              "      <td>NaN</td>\n",
              "      <td>NaN</td>\n",
              "      <td>NaN</td>\n",
              "      <td>NaN</td>\n",
              "      <td>NaN</td>\n",
              "      <td>NaN</td>\n",
              "      <td>NaN</td>\n",
              "      <td>NaN</td>\n",
              "      <td>NaN</td>\n",
              "      <td>NaN</td>\n",
              "      <td>NaN</td>\n",
              "      <td>NaN</td>\n",
              "      <td>NaN</td>\n",
              "      <td>NaN</td>\n",
              "      <td>NaN</td>\n",
              "      <td>NaN</td>\n",
              "      <td>NaN</td>\n",
              "      <td>NaN</td>\n",
              "      <td>NaN</td>\n",
              "      <td>NaN</td>\n",
              "      <td>NaN</td>\n",
              "      <td>NaN</td>\n",
              "      <td>NaN</td>\n",
              "      <td>NaN</td>\n",
              "      <td>NaN</td>\n",
              "      <td>NaN</td>\n",
              "      <td>NaN</td>\n",
              "      <td>NaN</td>\n",
              "      <td>NaN</td>\n",
              "      <td>NaN</td>\n",
              "      <td>NaN</td>\n",
              "      <td>NaN</td>\n",
              "      <td>NaN</td>\n",
              "    </tr>\n",
              "  </tbody>\n",
              "</table>\n",
              "<p>3 rows × 3360 columns</p>\n",
              "</div>"
            ],
            "text/plain": [
              "asin                   0912696591  B00000JGRP  ...  B00L8FQZ3M  B00LB18EKK\n",
              "reviewerID                                     ...                        \n",
              "A00473363TJ8YSZ3YAGG9         NaN         NaN  ...         NaN         NaN\n",
              "A00593903MCE5GXTAGGNL         NaN         NaN  ...         NaN         NaN\n",
              "A037357115LCU92V2R0YR         NaN         NaN  ...         NaN         NaN\n",
              "\n",
              "[3 rows x 3360 columns]"
            ]
          },
          "metadata": {
            "tags": []
          },
          "execution_count": 4
        }
      ]
    },
    {
      "cell_type": "code",
      "metadata": {
        "id": "Z7t-5GcSLrK9"
      },
      "source": [
        "from sklearn.model_selection import train_test_split\n",
        "train, test = train_test_split(KitchenDining, test_size=0.2)"
      ],
      "execution_count": 5,
      "outputs": []
    },
    {
      "cell_type": "code",
      "metadata": {
        "colab": {
          "base_uri": "https://localhost:8080/"
        },
        "id": "Wjn_lHm7MFGx",
        "outputId": "aadc4500-7a84-49a5-9160-8f060fe303aa"
      },
      "source": [
        "print(train.shape)\n",
        "print(test.shape)\n",
        "print(KitchenDining.shape)"
      ],
      "execution_count": 6,
      "outputs": [
        {
          "output_type": "stream",
          "text": [
            "(65558, 24)\n",
            "(16390, 24)\n",
            "(81948, 24)\n"
          ],
          "name": "stdout"
        }
      ]
    },
    {
      "cell_type": "code",
      "metadata": {
        "id": "xkKeVWyrNgZs"
      },
      "source": [
        "def evaluate(estimate_f):\n",
        "  \"\"\" RMSE-based predictive performance evaluation with pandas. \"\"\"\n",
        "  ids_to_estimate = zip(test.reviewerID, test.asin) \n",
        "  estimated = np.array([estimate_f(u,i) for (u,i) in ids_to_estimate])\n",
        "  real = test.overall.values\n",
        "  return np.sqrt(mean_squared_error(real, estimated))"
      ],
      "execution_count": 7,
      "outputs": []
    },
    {
      "cell_type": "code",
      "metadata": {
        "id": "TR1ruyUROoic"
      },
      "source": [
        "#Predict all reviews as 5 star and see how accurate it would be\n",
        "def simple_estimate_function(user_id, item_id): return 5"
      ],
      "execution_count": 8,
      "outputs": []
    },
    {
      "cell_type": "code",
      "metadata": {
        "colab": {
          "base_uri": "https://localhost:8080/"
        },
        "id": "-YDqLi3GPJxs",
        "outputId": "ff1c7770-0312-47c0-eaea-81862d9266d8"
      },
      "source": [
        "print('RMSE for simple estimate function: %s' % evaluate(simple_estimate_function))"
      ],
      "execution_count": 9,
      "outputs": [
        {
          "output_type": "stream",
          "text": [
            "RMSE for simple estimate function: 1.1631152547319272\n"
          ],
          "name": "stdout"
        }
      ]
    },
    {
      "cell_type": "markdown",
      "metadata": {
        "id": "7itKjloNPYrv"
      },
      "source": [
        "Since we already know that most of the people rate 5 on the review. Let us set this estimation function as a threshold. A better model shall have a much smaller RMSE."
      ]
    },
    {
      "cell_type": "code",
      "metadata": {
        "colab": {
          "base_uri": "https://localhost:8080/"
        },
        "id": "qB9zmqu1PWUc",
        "outputId": "c49177e8-fabd-499e-95db-982354db1da3"
      },
      "source": [
        "def content_mean(user_id, item_id):\n",
        "  \"\"\" Simple content-filtering based on mean ratings. \"\"\"\n",
        "  if user_id in train.reviewerID.to_list():\n",
        "    user_condition = train.reviewerID == user_id\n",
        "    return train.loc[user_condition, 'overall'].mean()\n",
        "  else:\n",
        "    return 5\n",
        "print('RMSE for content mean estimation: %s' % evaluate(content_mean))"
      ],
      "execution_count": 10,
      "outputs": [
        {
          "output_type": "stream",
          "text": [
            "RMSE for content mean estimation: 1.0282606517284605\n"
          ],
          "name": "stdout"
        }
      ]
    },
    {
      "cell_type": "code",
      "metadata": {
        "colab": {
          "base_uri": "https://localhost:8080/"
        },
        "id": "bb1YUB-eS6gJ",
        "outputId": "85e99dba-c81f-4503-8c4e-50b2d723317f"
      },
      "source": [
        "def collaborative_mean(user_id, item_id):\n",
        "  \"\"\" Simple collaborative-filtering based on mean ratings. \"\"\"\n",
        "  if item_id in train.asin.to_list():\n",
        "    item_condition = train.asin == item_id\n",
        "    return train.loc[item_condition, 'overall'].mean()\n",
        "  else:\n",
        "    return 5\n",
        "print('RMSE for collaborative mean estimation: %s' % evaluate(collaborative_mean))"
      ],
      "execution_count": 11,
      "outputs": [
        {
          "output_type": "stream",
          "text": [
            "RMSE for collaborative mean estimation: 0.9781251753594314\n"
          ],
          "name": "stdout"
        }
      ]
    },
    {
      "cell_type": "code",
      "metadata": {
        "colab": {
          "base_uri": "https://localhost:8080/",
          "height": 581
        },
        "id": "lJlncxUsjX38",
        "outputId": "9c690b6c-5787-47f1-b237-1eca3f1d53b6"
      },
      "source": [
        "KitchenDining.head()"
      ],
      "execution_count": 12,
      "outputs": [
        {
          "output_type": "execute_result",
          "data": {
            "text/html": [
              "<div>\n",
              "<style scoped>\n",
              "    .dataframe tbody tr th:only-of-type {\n",
              "        vertical-align: middle;\n",
              "    }\n",
              "\n",
              "    .dataframe tbody tr th {\n",
              "        vertical-align: top;\n",
              "    }\n",
              "\n",
              "    .dataframe thead th {\n",
              "        text-align: right;\n",
              "    }\n",
              "</style>\n",
              "<table border=\"1\" class=\"dataframe\">\n",
              "  <thead>\n",
              "    <tr style=\"text-align: right;\">\n",
              "      <th></th>\n",
              "      <th>Unnamed: 0</th>\n",
              "      <th>reviewerID</th>\n",
              "      <th>asin</th>\n",
              "      <th>helpful</th>\n",
              "      <th>reviewText</th>\n",
              "      <th>overall</th>\n",
              "      <th>summary</th>\n",
              "      <th>unixReviewTime</th>\n",
              "      <th>salesRank</th>\n",
              "      <th>title</th>\n",
              "      <th>description</th>\n",
              "      <th>related</th>\n",
              "      <th>price</th>\n",
              "      <th>brand</th>\n",
              "      <th>year</th>\n",
              "      <th>month</th>\n",
              "      <th>reviewlength</th>\n",
              "      <th>mainCategory</th>\n",
              "      <th>subCategory1</th>\n",
              "      <th>subCategory2</th>\n",
              "      <th>subCategory3</th>\n",
              "      <th>subCategory4</th>\n",
              "      <th>subCategory5</th>\n",
              "      <th>subCategory6#</th>\n",
              "    </tr>\n",
              "  </thead>\n",
              "  <tbody>\n",
              "    <tr>\n",
              "      <th>0</th>\n",
              "      <td>315</td>\n",
              "      <td>A39RRTO760KGOY</td>\n",
              "      <td>0912696591</td>\n",
              "      <td>[0, 0]</td>\n",
              "      <td>had no idea about decorating cakes,by this boo...</td>\n",
              "      <td>5.0</td>\n",
              "      <td>follow the instructions</td>\n",
              "      <td>2012-05-27</td>\n",
              "      <td>{'Kitchen &amp; Dining': 9690}</td>\n",
              "      <td>Wilton Decorating Cakes Book</td>\n",
              "      <td>This exciting book presents what Wilton has  l...</td>\n",
              "      <td>{'also_bought': ['B003MC22TU', 'B003MC22PY', '...</td>\n",
              "      <td>14.26</td>\n",
              "      <td>Wilton</td>\n",
              "      <td>2012</td>\n",
              "      <td>5</td>\n",
              "      <td>56</td>\n",
              "      <td>Home &amp; Kitchen</td>\n",
              "      <td>Kitchen &amp; Dining</td>\n",
              "      <td>Bakeware</td>\n",
              "      <td>Baking &amp; Cookie Sheets</td>\n",
              "      <td>NaN</td>\n",
              "      <td>NaN</td>\n",
              "      <td>NaN</td>\n",
              "    </tr>\n",
              "    <tr>\n",
              "      <th>1</th>\n",
              "      <td>317</td>\n",
              "      <td>AZF13R8HNB59E</td>\n",
              "      <td>0912696591</td>\n",
              "      <td>[0, 1]</td>\n",
              "      <td>excellent book, shipped on time, packaged nice...</td>\n",
              "      <td>5.0</td>\n",
              "      <td>book</td>\n",
              "      <td>2012-06-12</td>\n",
              "      <td>{'Kitchen &amp; Dining': 9690}</td>\n",
              "      <td>Wilton Decorating Cakes Book</td>\n",
              "      <td>This exciting book presents what Wilton has  l...</td>\n",
              "      <td>{'also_bought': ['B003MC22TU', 'B003MC22PY', '...</td>\n",
              "      <td>14.26</td>\n",
              "      <td>Wilton</td>\n",
              "      <td>2012</td>\n",
              "      <td>6</td>\n",
              "      <td>24</td>\n",
              "      <td>Home &amp; Kitchen</td>\n",
              "      <td>Kitchen &amp; Dining</td>\n",
              "      <td>Bakeware</td>\n",
              "      <td>Baking &amp; Cookie Sheets</td>\n",
              "      <td>NaN</td>\n",
              "      <td>NaN</td>\n",
              "      <td>NaN</td>\n",
              "    </tr>\n",
              "    <tr>\n",
              "      <th>2</th>\n",
              "      <td>318</td>\n",
              "      <td>A1KCBA3PKLV2IT</td>\n",
              "      <td>0912696591</td>\n",
              "      <td>[0, 0]</td>\n",
              "      <td>i loved it. don't use it much but when i had i...</td>\n",
              "      <td>5.0</td>\n",
              "      <td>great!</td>\n",
              "      <td>2012-12-26</td>\n",
              "      <td>{'Kitchen &amp; Dining': 9690}</td>\n",
              "      <td>Wilton Decorating Cakes Book</td>\n",
              "      <td>This exciting book presents what Wilton has  l...</td>\n",
              "      <td>{'also_bought': ['B003MC22TU', 'B003MC22PY', '...</td>\n",
              "      <td>14.26</td>\n",
              "      <td>Wilton</td>\n",
              "      <td>2012</td>\n",
              "      <td>12</td>\n",
              "      <td>27</td>\n",
              "      <td>Home &amp; Kitchen</td>\n",
              "      <td>Kitchen &amp; Dining</td>\n",
              "      <td>Bakeware</td>\n",
              "      <td>Baking &amp; Cookie Sheets</td>\n",
              "      <td>NaN</td>\n",
              "      <td>NaN</td>\n",
              "      <td>NaN</td>\n",
              "    </tr>\n",
              "    <tr>\n",
              "      <th>3</th>\n",
              "      <td>321</td>\n",
              "      <td>A3JM7FVJMPJ1XD</td>\n",
              "      <td>0912696591</td>\n",
              "      <td>[4, 4]</td>\n",
              "      <td>So I actually bought this thinking it was the ...</td>\n",
              "      <td>3.0</td>\n",
              "      <td>Good for what it's worth</td>\n",
              "      <td>2012-08-16</td>\n",
              "      <td>{'Kitchen &amp; Dining': 9690}</td>\n",
              "      <td>Wilton Decorating Cakes Book</td>\n",
              "      <td>This exciting book presents what Wilton has  l...</td>\n",
              "      <td>{'also_bought': ['B003MC22TU', 'B003MC22PY', '...</td>\n",
              "      <td>14.26</td>\n",
              "      <td>Wilton</td>\n",
              "      <td>2012</td>\n",
              "      <td>8</td>\n",
              "      <td>92</td>\n",
              "      <td>Home &amp; Kitchen</td>\n",
              "      <td>Kitchen &amp; Dining</td>\n",
              "      <td>Bakeware</td>\n",
              "      <td>Baking &amp; Cookie Sheets</td>\n",
              "      <td>NaN</td>\n",
              "      <td>NaN</td>\n",
              "      <td>NaN</td>\n",
              "    </tr>\n",
              "    <tr>\n",
              "      <th>4</th>\n",
              "      <td>326</td>\n",
              "      <td>A1B9BZ3AJ5V1NJ</td>\n",
              "      <td>0912696591</td>\n",
              "      <td>[0, 0]</td>\n",
              "      <td>I'm hoping that I can learn how to make gum pa...</td>\n",
              "      <td>5.0</td>\n",
              "      <td>learning</td>\n",
              "      <td>2014-05-21</td>\n",
              "      <td>{'Kitchen &amp; Dining': 9690}</td>\n",
              "      <td>Wilton Decorating Cakes Book</td>\n",
              "      <td>This exciting book presents what Wilton has  l...</td>\n",
              "      <td>{'also_bought': ['B003MC22TU', 'B003MC22PY', '...</td>\n",
              "      <td>14.26</td>\n",
              "      <td>Wilton</td>\n",
              "      <td>2014</td>\n",
              "      <td>5</td>\n",
              "      <td>24</td>\n",
              "      <td>Home &amp; Kitchen</td>\n",
              "      <td>Kitchen &amp; Dining</td>\n",
              "      <td>Bakeware</td>\n",
              "      <td>Baking &amp; Cookie Sheets</td>\n",
              "      <td>NaN</td>\n",
              "      <td>NaN</td>\n",
              "      <td>NaN</td>\n",
              "    </tr>\n",
              "  </tbody>\n",
              "</table>\n",
              "</div>"
            ],
            "text/plain": [
              "   Unnamed: 0      reviewerID  ... subCategory5 subCategory6#\n",
              "0         315  A39RRTO760KGOY  ...          NaN           NaN\n",
              "1         317   AZF13R8HNB59E  ...          NaN           NaN\n",
              "2         318  A1KCBA3PKLV2IT  ...          NaN           NaN\n",
              "3         321  A3JM7FVJMPJ1XD  ...          NaN           NaN\n",
              "4         326  A1B9BZ3AJ5V1NJ  ...          NaN           NaN\n",
              "\n",
              "[5 rows x 24 columns]"
            ]
          },
          "metadata": {
            "tags": []
          },
          "execution_count": 12
        }
      ]
    },
    {
      "cell_type": "code",
      "metadata": {
        "colab": {
          "base_uri": "https://localhost:8080/",
          "height": 204
        },
        "id": "JiAYZUbGk88p",
        "outputId": "3de93848-53e9-49d8-adba-f4cc1b136ccc"
      },
      "source": [
        "import json\n",
        "product_related = []\n",
        "for i in range(KitchenDining.shape[0]):\n",
        "  product_related.append([KitchenDining.asin[i],KitchenDining.related[i]])\n",
        "product_related = pd.DataFrame(product_related)\n",
        "product_related = product_related.rename(columns={0:'asin', 1:'related'})\n",
        "product_related.dropna(inplace=True)\n",
        "product_related.drop_duplicates(inplace=True)\n",
        "product_related.reset_index()\n",
        "product_related.head()"
      ],
      "execution_count": 13,
      "outputs": [
        {
          "output_type": "execute_result",
          "data": {
            "text/html": [
              "<div>\n",
              "<style scoped>\n",
              "    .dataframe tbody tr th:only-of-type {\n",
              "        vertical-align: middle;\n",
              "    }\n",
              "\n",
              "    .dataframe tbody tr th {\n",
              "        vertical-align: top;\n",
              "    }\n",
              "\n",
              "    .dataframe thead th {\n",
              "        text-align: right;\n",
              "    }\n",
              "</style>\n",
              "<table border=\"1\" class=\"dataframe\">\n",
              "  <thead>\n",
              "    <tr style=\"text-align: right;\">\n",
              "      <th></th>\n",
              "      <th>asin</th>\n",
              "      <th>related</th>\n",
              "    </tr>\n",
              "  </thead>\n",
              "  <tbody>\n",
              "    <tr>\n",
              "      <th>0</th>\n",
              "      <td>0912696591</td>\n",
              "      <td>{'also_bought': ['B003MC22TU', 'B003MC22PY', '...</td>\n",
              "    </tr>\n",
              "    <tr>\n",
              "      <th>41</th>\n",
              "      <td>B00000JGRP</td>\n",
              "      <td>{'also_viewed': ['B0000645YL', 'B0000645YM', '...</td>\n",
              "    </tr>\n",
              "    <tr>\n",
              "      <th>68</th>\n",
              "      <td>B00000JGRQ</td>\n",
              "      <td>{'also_bought': ['B00004S9CJ', 'B001D9B2R2', '...</td>\n",
              "    </tr>\n",
              "    <tr>\n",
              "      <th>80</th>\n",
              "      <td>B00000JGRT</td>\n",
              "      <td>{'also_bought': ['B00004S9D3', '0894803123', '...</td>\n",
              "    </tr>\n",
              "    <tr>\n",
              "      <th>152</th>\n",
              "      <td>B00002N602</td>\n",
              "      <td>{'also_bought': ['B000ORD8GM', '0965410803', '...</td>\n",
              "    </tr>\n",
              "  </tbody>\n",
              "</table>\n",
              "</div>"
            ],
            "text/plain": [
              "           asin                                            related\n",
              "0    0912696591  {'also_bought': ['B003MC22TU', 'B003MC22PY', '...\n",
              "41   B00000JGRP  {'also_viewed': ['B0000645YL', 'B0000645YM', '...\n",
              "68   B00000JGRQ  {'also_bought': ['B00004S9CJ', 'B001D9B2R2', '...\n",
              "80   B00000JGRT  {'also_bought': ['B00004S9D3', '0894803123', '...\n",
              "152  B00002N602  {'also_bought': ['B000ORD8GM', '0965410803', '..."
            ]
          },
          "metadata": {
            "tags": []
          },
          "execution_count": 13
        }
      ]
    },
    {
      "cell_type": "code",
      "metadata": {
        "colab": {
          "base_uri": "https://localhost:8080/"
        },
        "id": "0bAW7_gNx-TN",
        "outputId": "c2af5e75-ac78-48fa-c3e5-a80ac35aec4b"
      },
      "source": [
        "product_related.shape"
      ],
      "execution_count": 14,
      "outputs": [
        {
          "output_type": "execute_result",
          "data": {
            "text/plain": [
              "(3320, 2)"
            ]
          },
          "metadata": {
            "tags": []
          },
          "execution_count": 14
        }
      ]
    },
    {
      "cell_type": "code",
      "metadata": {
        "id": "tkA-CKqZr2Pl"
      },
      "source": [
        "relation_dict = dict()\n",
        "for i in product_related.index:\n",
        "  x=product_related.related[i]\n",
        "  x = str(x).replace(\"\\'\", \"\\\"\")\n",
        "  dictx = json.loads(x)\n",
        "  relation_dict[product_related.asin[i]] = dictx\n"
      ],
      "execution_count": 15,
      "outputs": []
    },
    {
      "cell_type": "code",
      "metadata": {
        "id": "eoJZcPPTzhXh"
      },
      "source": [
        "product_related = pd.DataFrame(relation_dict)"
      ],
      "execution_count": 16,
      "outputs": []
    },
    {
      "cell_type": "code",
      "metadata": {
        "colab": {
          "base_uri": "https://localhost:8080/",
          "height": 392
        },
        "id": "NdcB-Hs5zqJk",
        "outputId": "03794ceb-fb57-40e4-f445-991823cb65b7"
      },
      "source": [
        "product_related"
      ],
      "execution_count": 17,
      "outputs": [
        {
          "output_type": "execute_result",
          "data": {
            "text/html": [
              "<div>\n",
              "<style scoped>\n",
              "    .dataframe tbody tr th:only-of-type {\n",
              "        vertical-align: middle;\n",
              "    }\n",
              "\n",
              "    .dataframe tbody tr th {\n",
              "        vertical-align: top;\n",
              "    }\n",
              "\n",
              "    .dataframe thead th {\n",
              "        text-align: right;\n",
              "    }\n",
              "</style>\n",
              "<table border=\"1\" class=\"dataframe\">\n",
              "  <thead>\n",
              "    <tr style=\"text-align: right;\">\n",
              "      <th></th>\n",
              "      <th>0912696591</th>\n",
              "      <th>B00000JGRP</th>\n",
              "      <th>B00000JGRQ</th>\n",
              "      <th>B00000JGRT</th>\n",
              "      <th>B00002N602</th>\n",
              "      <th>B00004OCIP</th>\n",
              "      <th>B00004OCIQ</th>\n",
              "      <th>B00004OCIU</th>\n",
              "      <th>B00004OCIX</th>\n",
              "      <th>B00004OCIZ</th>\n",
              "      <th>B00004OCJ6</th>\n",
              "      <th>B00004OCJ9</th>\n",
              "      <th>B00004OCJJ</th>\n",
              "      <th>B00004OCJK</th>\n",
              "      <th>B00004OCJN</th>\n",
              "      <th>B00004OCJO</th>\n",
              "      <th>B00004OCJQ</th>\n",
              "      <th>B00004OCJW</th>\n",
              "      <th>B00004OCK0</th>\n",
              "      <th>B00004OCK3</th>\n",
              "      <th>B00004OCKO</th>\n",
              "      <th>B00004OCKR</th>\n",
              "      <th>B00004OCKT</th>\n",
              "      <th>B00004OCL2</th>\n",
              "      <th>B00004OCL8</th>\n",
              "      <th>B00004OCL9</th>\n",
              "      <th>B00004OCLA</th>\n",
              "      <th>B00004OCLK</th>\n",
              "      <th>B00004OCLW</th>\n",
              "      <th>B00004OCM4</th>\n",
              "      <th>B00004OCMB</th>\n",
              "      <th>B00004OCMM</th>\n",
              "      <th>B00004OCMS</th>\n",
              "      <th>B00004OCMX</th>\n",
              "      <th>B00004OCMY</th>\n",
              "      <th>B00004OCNE</th>\n",
              "      <th>B00004OCNJ</th>\n",
              "      <th>B00004OCNK</th>\n",
              "      <th>B00004OCNL</th>\n",
              "      <th>B00004OCNQ</th>\n",
              "      <th>...</th>\n",
              "      <th>B00JW02L9W</th>\n",
              "      <th>B00JWXSPAS</th>\n",
              "      <th>B00JWY1PPE</th>\n",
              "      <th>B00JWYX7YQ</th>\n",
              "      <th>B00JWZCE08</th>\n",
              "      <th>B00JZKZPMO</th>\n",
              "      <th>B00JZL11V2</th>\n",
              "      <th>B00JZXYG9O</th>\n",
              "      <th>B00K11U0Y4</th>\n",
              "      <th>B00K4S1L1K</th>\n",
              "      <th>B00K4V4EWA</th>\n",
              "      <th>B00K6BCV7S</th>\n",
              "      <th>B00K7ILPYU</th>\n",
              "      <th>B00K7P0D9G</th>\n",
              "      <th>B00K8LHA3G</th>\n",
              "      <th>B00KAF5DLQ</th>\n",
              "      <th>B00KAJ3OY0</th>\n",
              "      <th>B00KAK443Y</th>\n",
              "      <th>B00KB7KNRM</th>\n",
              "      <th>B00KBQ1OHQ</th>\n",
              "      <th>B00KBUGQJS</th>\n",
              "      <th>B00KCFDB4U</th>\n",
              "      <th>B00KD83BMS</th>\n",
              "      <th>B00KDV5RZY</th>\n",
              "      <th>B00KFS40N0</th>\n",
              "      <th>B00KI2RQHU</th>\n",
              "      <th>B00KIVD1PC</th>\n",
              "      <th>B00KKYSBUW</th>\n",
              "      <th>B00KM9W2PU</th>\n",
              "      <th>B00KNPVL8W</th>\n",
              "      <th>B00KQCJ0CG</th>\n",
              "      <th>B00KQXDIG4</th>\n",
              "      <th>B00KSRQN0Q</th>\n",
              "      <th>B00KSRSZC0</th>\n",
              "      <th>B00KSRV3UQ</th>\n",
              "      <th>B00KSRXUC0</th>\n",
              "      <th>B00KW1ZDCM</th>\n",
              "      <th>B00KWKQ2MS</th>\n",
              "      <th>B00L8FQZ3M</th>\n",
              "      <th>B00LB18EKK</th>\n",
              "    </tr>\n",
              "  </thead>\n",
              "  <tbody>\n",
              "    <tr>\n",
              "      <th>also_bought</th>\n",
              "      <td>[B003MC22TU, B003MC22PY, B006UKNSVC, B003MC22Z...</td>\n",
              "      <td>NaN</td>\n",
              "      <td>[B00004S9CJ, B001D9B2R2, B000TQEDDK, B00005QFK...</td>\n",
              "      <td>[B00004S9D3, 0894803123, 149484205X, 158008219...</td>\n",
              "      <td>[B000ORD8GM, 0965410803, 0764597264, B0000Z6JI...</td>\n",
              "      <td>[B000SSTV8Q, B0071OUJDQ, B00004OCO8, B0001YH1A...</td>\n",
              "      <td>[B00004OCM4, B007WTGR90, B000SOAT0Y, B002XOHZW...</td>\n",
              "      <td>[B00004OCIP, B000Q9CIYG, B0000DAQ93, B000VQOP5...</td>\n",
              "      <td>NaN</td>\n",
              "      <td>[B00004OCLJ, B00004OCL2, B003M8GMS6, B00004OCL...</td>\n",
              "      <td>[B000A13OEI, B001BB2LMM, B0011EZ7AC, B000A13OE...</td>\n",
              "      <td>[B00421ATIQ, B000FUO3QM, B002CZOSL8, B0037XIZD...</td>\n",
              "      <td>[B00004OCJK, B00004OCIP, B004VLYQGS, B000YDO2M...</td>\n",
              "      <td>[B00004OCIP, B00004OCNS, B00004OCJJ, B0000CDVD...</td>\n",
              "      <td>[B003BEDQL2, B0000E1FDA, B0000D8CAO, B00004OCI...</td>\n",
              "      <td>[B0000DAQ93, B0036X4YOG, B00B6LUAPW, B003AIKP0...</td>\n",
              "      <td>[B0019R7SPS, B00004OCNJ, B007L5ROZQ, B000I0MGK...</td>\n",
              "      <td>[B00004OCIP, B00006IFN8, B00004OCJG, B0001YH1A...</td>\n",
              "      <td>[B0000CDVD8, B0001BMXIU, B00004OCMX, B003L0OYJ...</td>\n",
              "      <td>[B0002YTG5Y, B0002YTG4K, B0002YTG3G, B0007P4J3...</td>\n",
              "      <td>[B0007VO0EE, B0001YH1A2, B001713L5C, B00004OCI...</td>\n",
              "      <td>[B002MQ3SOA, B002DWA6K2, B000OUY2QO, B003L0OOR...</td>\n",
              "      <td>[B000AREB5S, B0088LR592, B002XOHZWC, B007WTGR9...</td>\n",
              "      <td>[B00004OCIZ, B00004OCLJ, B001CRC54O, B001OHV29...</td>\n",
              "      <td>[B00004OCOP, B000KEYD9K, B00004OCOQ, B00004OCO...</td>\n",
              "      <td>[B00004OCNS, B00004OCJK, B0045EPNBI, B00004OCI...</td>\n",
              "      <td>[B007U256D2, B0042FN98Y, B0010L1C28, B0038JE5Y...</td>\n",
              "      <td>[B002HMBVKW, B00004OCIZ, B00004OCLJ, B000FEDCN...</td>\n",
              "      <td>[B001713L84, B00KY4Z1I8, B001CDLKHQ, B00004OCN...</td>\n",
              "      <td>[B00CPNUY7Y, B002XOHZWC, B00004OCIQ, B00095VK7...</td>\n",
              "      <td>[B00004OCMX, B000EURKG8, B0069KDUXO, B00004OCM...</td>\n",
              "      <td>[B0001YH1A2, B00004OCIP, B0000DAQ46, B0007VO0C...</td>\n",
              "      <td>[B00004OCMT, B00004OCME, B00004OCMW, B00004OCM...</td>\n",
              "      <td>[B00004OCMB, B00004OCMP, B0001BMXIU, B00004OCM...</td>\n",
              "      <td>[B001CDP5VS, B000M8YMEU, B00004OCO6, B00004OCO...</td>\n",
              "      <td>[B000QJGRJ8, B007638GOQ, B00A2KDAJQ, B0006Z16R...</td>\n",
              "      <td>[B000QJE48O, B000IYYFIQ, B000KEUKO2, B000JPSI8...</td>\n",
              "      <td>[B000VWECPQ, B000MMRNPG, B00004OCNJ, B000QJE48...</td>\n",
              "      <td>[B000QJE48O, B00004OCNJ, B00005OAXZ, B00004OCN...</td>\n",
              "      <td>[B00004OCNS, B00004OCNT, B00004OCO8, B000JPSI8...</td>\n",
              "      <td>...</td>\n",
              "      <td>[B00JJOEV9Y, B00M04HZIO, B00L8FDIZU, B00L8FQZ3...</td>\n",
              "      <td>[B00JWYX7YQ, B00JJOEV9Y, B00LGVUUA2, B00L8HA5L...</td>\n",
              "      <td>[B00JJOEV9Y, B00LGVUUA2, B00M04HZIO, B00L8HA5L...</td>\n",
              "      <td>[B00JJOEV9Y, B00JWXSPAS, B00LGVUUA2, B00M04HZI...</td>\n",
              "      <td>[B00JJOEV9Y, B00L8FDIZU, B00L8FQZ3M, B00LGVUUA...</td>\n",
              "      <td>[B00J4FUCAA, B00K8LHA3G, B00HDABAQS, B0000CFOI...</td>\n",
              "      <td>[B00JVOIW3S, B00J93MQ6U, B00DDMILGM, B001OAKME...</td>\n",
              "      <td>[B00JJOEV9Y, B00M04HZIO, B00LGVUUA2, B00L8FDIZ...</td>\n",
              "      <td>[B00D19SSE2, B005TA1IUW, B0041ENPEO, B00D1AXYA...</td>\n",
              "      <td>[B00JJOEV9Y, B00L9KOZBK, B00M04HZIO, B00LSXYC6...</td>\n",
              "      <td>[B00JS0TIVK, B00I3LDJJW, B005OLJEZC, B000QIU7X...</td>\n",
              "      <td>[B00K6BCW5O, B00KNPVL8W, B004ZEMSCK, B00DOL3LW...</td>\n",
              "      <td>[B00KZNOHTW, B00KQBR9FM, B00KQVTX06, B00KHGIK5...</td>\n",
              "      <td>[B00KCFDB4U, B00K8LHA3G, B00JVOIW3S, B00KWXBZP...</td>\n",
              "      <td>[B00K7P0D9G, B00KCFDB4U, B00JZKZPMO, B00JVOIW3...</td>\n",
              "      <td>[B00006IV0U, B003GSKQAW, B006OK7RRO, B00GOPICN...</td>\n",
              "      <td>NaN</td>\n",
              "      <td>NaN</td>\n",
              "      <td>NaN</td>\n",
              "      <td>[B00K7P0D9G, B00KCFDB4U, B001T4URXG, B0052456U...</td>\n",
              "      <td>NaN</td>\n",
              "      <td>[B00K7P0D9G, B00EZQ8OXU, B00KL1JZEU, B00KTV6DY...</td>\n",
              "      <td>[B00J4FUCAA, B00J3M78GA, B00KDV5RZY, B00HDABAQ...</td>\n",
              "      <td>[B00J4FUCAA, B00J3M78GA, B00KDUYU30, B00HDABAQ...</td>\n",
              "      <td>[B00JJOEV9Y, B00M04HZIO, B00KWP8ZIM, B00KVE7R0...</td>\n",
              "      <td>[B00JJOEV9Y, B00M04HZIO, B00LGW9YUS, B00L8HA5L...</td>\n",
              "      <td>[B00JJOEV9Y, B00M04HZIO, B00KWP8ZIM, B00LDGV15...</td>\n",
              "      <td>[B00KTV6DY2, B00K7P0D9G, B002ZD3QJC, B0047BIWS...</td>\n",
              "      <td>[B00KK62714, B00JK9IZ2M, B00KXGX5ZS, B00JLWPTP...</td>\n",
              "      <td>[B00K6BCV7S, B00K7P0D9G, B001E87S66, B0000VLGJ...</td>\n",
              "      <td>[B00KB5QEYK, B00KB4CHTC, B00L2JQ8AE, B004QM8W5...</td>\n",
              "      <td>[B00JJOEV9Y, B00M04HZIO, B00L8HA5L8, B00L8FQZ3...</td>\n",
              "      <td>[B00KSRV3UQ, B00L7UBM68, B00L88OC8E, B00KT3OM3...</td>\n",
              "      <td>NaN</td>\n",
              "      <td>[B00KSRQN0Q, B00L2JQACA, B0002JZCF2, B00INJE7F...</td>\n",
              "      <td>[B00JVYC07M, B00G494NVS, B00GQR9RXC, B008UOFYP...</td>\n",
              "      <td>NaN</td>\n",
              "      <td>[B00JJOEV9Y, B00KNHG83I, B00KHACA6U, B00JOUZOT...</td>\n",
              "      <td>[B00JJOEV9Y, B00L8HA5L8, B00L8FDIZU, B00M04HZI...</td>\n",
              "      <td>[B00JJOEV9Y, B00M04HZIO, B00LGW9YUS, B00L8FQZ3...</td>\n",
              "    </tr>\n",
              "    <tr>\n",
              "      <th>also_viewed</th>\n",
              "      <td>[B0002ZFXSM, B0002ZFXSW, 1934089133, B000OSFIN...</td>\n",
              "      <td>[B0000645YL, B0000645YM, B008EYQLSO, B005GZ1WL...</td>\n",
              "      <td>[B00004S9CI, B003P5XBGM, B00FMRTEQM, B000MY4Y3...</td>\n",
              "      <td>[B003KYSLMW, B0006ONQOC, B00004S9D3, B0041A3KP...</td>\n",
              "      <td>[B005FYF4F2, B00002N601, B00006ISG3, B001FTEX1...</td>\n",
              "      <td>NaN</td>\n",
              "      <td>[B003AN7EW6, B000PB304M, B005NKJWKQ, B004L04PV...</td>\n",
              "      <td>[B0000DAQ5E, B00004OCIP, B001BCFTWU, B00FF75XG...</td>\n",
              "      <td>[B003BEDQL2, B0000DAQ7N, B0000CFMFH, B00008TAB...</td>\n",
              "      <td>[B00004OCLJ, B001QTVXK0, B004BIKKCU, B00BE02HY...</td>\n",
              "      <td>[B00004RFNI, B00091SCV4, B00CBGQI7U, B0037XH5T...</td>\n",
              "      <td>[B00421ATIQ, B000FUO3QM, B002CZOSL8, B001IAPEA...</td>\n",
              "      <td>[B000066OJD, B0000VLUMG, B005D6FXWQ, B000YD76Q...</td>\n",
              "      <td>[B0045EPNBI, B00004OCL9, B007UGLK7O, B005JB45T...</td>\n",
              "      <td>[B0000E2GYL, B00J051BCM, B00CYDGTQK, B001A4990...</td>\n",
              "      <td>[B00004S7V8, B001987H9O, B000FFIVUG, B008DSI90...</td>\n",
              "      <td>[B000OLA7KS, B00FL7095I, B00HBA1V82, B007ME4WL...</td>\n",
              "      <td>[B00004OCMM, B000H0QOBM, B001THDJKQ, B004E1QLK...</td>\n",
              "      <td>[B003L0OYJ4, B0000CDVD8, B003L0OYK8, B000LCOY0...</td>\n",
              "      <td>[B0007P4J3M, B0051T97DQ, B0002YTG5Y, B0002YTG4...</td>\n",
              "      <td>[B001713L5C, B00FQLVNW2, B0080JN1HW, B000H0KKP...</td>\n",
              "      <td>[B0086UR0UO, B000ND5C9I, B0007LXTHI, B0000644F...</td>\n",
              "      <td>[B000SOAT0Y, B001AQ2P74, B00004OCIQ, B005B8M35...</td>\n",
              "      <td>[B002NUY9UW, B001QXDRKA, B00004OCKX, B0089VPGC...</td>\n",
              "      <td>[B000ND1YTU, B0000CCY1T, B00004OCOP, B000KEYD9...</td>\n",
              "      <td>[B0045EPNBI, B00004OCJK, B005JB45TW, B007UGLK7...</td>\n",
              "      <td>[B007U256D2, B00B7Q4DEU, B004UII7JE, B00LNTZCT...</td>\n",
              "      <td>[B004ZLAGJK, B002HMBVKW, B000CC91GK, B000F3NIV...</td>\n",
              "      <td>[B001713L84, B007TUQF9O, B001VZERX4, B00HXZ5W7...</td>\n",
              "      <td>[B002U8AU6O, B00GLEUVS0, B000JJU4JE, B0000VLUF...</td>\n",
              "      <td>[B005NKJWBA, B002UHJOUI, B0009J4YAE, B003FGVPD...</td>\n",
              "      <td>[B000HK03HI, B000079XW2, B0071OUJDQ, B000H0QOB...</td>\n",
              "      <td>[B00004OCOS, B000V9CB16, B001VZCMYU, B00004OCM...</td>\n",
              "      <td>[B0001BMXIU, B000BU7TSU, B000K8CP7I, B002CJNBT...</td>\n",
              "      <td>[B001CDP5VS, B007U256CS, B002BFQR3G, B0051T96Q...</td>\n",
              "      <td>[B008X3KQ46, B008X3KQ0U, B000M8YMEU, B00J4QH77...</td>\n",
              "      <td>[B000SSZ4Q4, B000KEUKO2, B0000VLVW0, B0017HUR9...</td>\n",
              "      <td>[B000QJE48O, B000VWECPQ, B004S67UFA, B0000VLYA...</td>\n",
              "      <td>[B000HJ99UG, B000P68GPA, B00BR4H18M, B000MMRNP...</td>\n",
              "      <td>[B00004OCNS, B00004OCNT, B00008WVBJ, B00004OCN...</td>\n",
              "      <td>...</td>\n",
              "      <td>[B00IEGTE5O, B00K25XL3G, B00LZ1Z0CQ, B00KNGNK0...</td>\n",
              "      <td>[B002LGZUTW, B00CH31U3O, B00IJF0Z1W, B00I8XA3V...</td>\n",
              "      <td>[B00IVM1TKO, B00GU1RD2G, B00JW02L92, B00KX3HAT...</td>\n",
              "      <td>[B000GA3KCE, B00005U2FA, B0000DE77D, B00JWXSPA...</td>\n",
              "      <td>[B00FF75XG4, B00KEVG4L4, B00HIAXFCK, B00GQR9RX...</td>\n",
              "      <td>[B00HDABAQS, B00JAFXIZ0, B00JAFXIXC, B00GWVRW3...</td>\n",
              "      <td>[B00J93MQ6U, B00KADJUSK, B00JUWYSCK, B00KC03MA...</td>\n",
              "      <td>[B00D6SRLSW, B00COTHUIA, B00HI4L4G0, B004S7B4F...</td>\n",
              "      <td>[B005TA1IUW, B00D19SSE2, B00GWACVEA, B009VU17Z...</td>\n",
              "      <td>[B00HQCJP88, B00D5CZ00A, B00E1IYY68, B00GLDL9H...</td>\n",
              "      <td>[B00H8RVMC8, B00COM0AX4, B00CQ50PS4, B00JS0TIV...</td>\n",
              "      <td>[B000SOAT0Y, B005B8M356, B00EZQQO8M, B00EZQQO9...</td>\n",
              "      <td>[B00H8RVMC8, B00HFXNOO4, B00D3YHOHW, B00CQ50PS...</td>\n",
              "      <td>[B00KEVG4L4, B00KHXKPHI, B00JWZCE08, B00L3I322...</td>\n",
              "      <td>[B00JVOIW3S, B00KIVD1PC, B00I014XAE, B00IW110B...</td>\n",
              "      <td>[B00006IV0U, B0000W4MYI, B00GOPICNM, B00F8M3Z6...</td>\n",
              "      <td>[B00C3OK4TS, B00H7KWZRC, B000EGSFRK, B002LLOE8...</td>\n",
              "      <td>[B001FB6IFY, B00KB8K85S, B00KB7KNRM, B00H2ECW5...</td>\n",
              "      <td>[B0089O0W1G, B00KB8K85S, B000LDE0QQ, B00KAK443...</td>\n",
              "      <td>[B00JG8N8QA, B00CNVBCLK, B00GOBDU24, B00KDQ6KE...</td>\n",
              "      <td>[B00GAV2BW8, B00HYAKJO6, B004VFHKNU, B00E3M926...</td>\n",
              "      <td>[B00H8RVMC8, B00H8W54EK, B00K4V4EWA, B00GNIIUC...</td>\n",
              "      <td>[B00KDV5RZY, B00J4FUCAA, B00750ZQ1Q, B00KDR6D2...</td>\n",
              "      <td>[B00KDR6D2O, B00KDUYU30, B00KD83BMS, B00J3M78G...</td>\n",
              "      <td>[B00KEVG4L4, B00FF75XG4, B00KHXKPHI, B00KKU3QE...</td>\n",
              "      <td>[B00G3ZHOLY, B001UEPGFY, B004ETJH66, B00ED2FOI...</td>\n",
              "      <td>[B00IIVRB3W, B00K8LHA3G, B00KQXDIG4, B00JVOIW3...</td>\n",
              "      <td>[B00INJE7FE, B008YK3IUM, B001802PIQ, B001804CL...</td>\n",
              "      <td>[B00HHLNRVE, B00I937QEI, B00EENF838, B00KY5S81...</td>\n",
              "      <td>[B0008DJVBS, B00AT6AXK2, B000SOUV1G, B00JNIYDN...</td>\n",
              "      <td>[B00FKBR1ZG, B0087UYR1S, B00FIU3L8K, B00J6PE2Z...</td>\n",
              "      <td>[B00KIVD1PC, B00KHD7NAA, B00KFKIOBW, B00J19AR7...</td>\n",
              "      <td>[B00KSRV3UQ, B00KSRSZC0, B005FEF1DM, B00JNV9G1...</td>\n",
              "      <td>[B00KSRV3UQ, B00KSRQN0Q, B005FEF1DM, B00EJ62XG...</td>\n",
              "      <td>[B00KSRQN0Q, B005FEF1DM, B00KSRSZC0, B00EJ62XG...</td>\n",
              "      <td>[B0084ORV60, B00JVY7CSO, B00IJBQNZI, B00JBIZTA...</td>\n",
              "      <td>[B00J93MQ6U, B00JKF0DSA, B00JKF0C9U, B00KQO5WQ...</td>\n",
              "      <td>[B009LI9O0E, B002S0NHSC, B00IGB3K1Q, B00IGB3P4...</td>\n",
              "      <td>[B00L8HA5L8, B00L8FDIZU, B00L3GF2BW, B00L3MG3S...</td>\n",
              "      <td>[B00JK9IZ2M, B0000CFFRO, B00CLULMNG, B00004OCI...</td>\n",
              "    </tr>\n",
              "    <tr>\n",
              "      <th>bought_together</th>\n",
              "      <td>[B003MC22TU, B006UKNSVC]</td>\n",
              "      <td>[B0000DDXLE, B0006GC7IQ]</td>\n",
              "      <td>[B009GQ032E, B001D9B2R2]</td>\n",
              "      <td>[0894803123, B00EDHE4ZI]</td>\n",
              "      <td>[B000ORD8GM]</td>\n",
              "      <td>[B0071OUJDQ, B000M8YMEU]</td>\n",
              "      <td>[B002XOHZWC]</td>\n",
              "      <td>[B00004OCIP]</td>\n",
              "      <td>[B0000CFMFH]</td>\n",
              "      <td>[B00004OCLJ]</td>\n",
              "      <td>[B005LRYE36]</td>\n",
              "      <td>[B00421ATIQ, B000FUO3QM]</td>\n",
              "      <td>[B00004OCJK, B00004OCIP]</td>\n",
              "      <td>[B00004OCIP, B00004OCNS]</td>\n",
              "      <td>[B003BEDQL2, B00004OCIP]</td>\n",
              "      <td>[B0000DAQ93, B0036X4YOG]</td>\n",
              "      <td>[B0019R7SPS, B00004OCNJ]</td>\n",
              "      <td>[B00004OCIP]</td>\n",
              "      <td>[B0000CDVD8]</td>\n",
              "      <td>[B0002YTG5Y, B0051T97DQ]</td>\n",
              "      <td>[B0001YH1A2, B00004OCMM]</td>\n",
              "      <td>[B002MQ3SOA, B000OUY2QO]</td>\n",
              "      <td>[B002XOHZWC, B0088LR592]</td>\n",
              "      <td>[B00004OCLJ, B00004OCIZ]</td>\n",
              "      <td>[B00004OCOP]</td>\n",
              "      <td>[B00004OCIP, B00004OCNS]</td>\n",
              "      <td>[B007U256D2, B0042FN98Y]</td>\n",
              "      <td>[B002HMBVKW, B00004OCLJ]</td>\n",
              "      <td>[B001713L84]</td>\n",
              "      <td>[B002XOHZWC]</td>\n",
              "      <td>[B00004OCMX]</td>\n",
              "      <td>[B0001YH1A2, B00004OCIP]</td>\n",
              "      <td>[B00004OCMW, B0001BMXKI]</td>\n",
              "      <td>[B0001BMXIU]</td>\n",
              "      <td>[B001CDP5VS, B000M8YMEU]</td>\n",
              "      <td>[B000QJGRJ8]</td>\n",
              "      <td>[B000IYYFIQ, B000QJE48O]</td>\n",
              "      <td>[B00004OCNJ, B000QJE48O]</td>\n",
              "      <td>[B00004OCNJ, B000QJE48O]</td>\n",
              "      <td>[B00004OCNS, B000M8YMEU]</td>\n",
              "      <td>...</td>\n",
              "      <td>[B0023UL86A]</td>\n",
              "      <td>[B00JWYX7YQ, B00JZXYG9O]</td>\n",
              "      <td>[B00JWZCE08]</td>\n",
              "      <td>[B00JWXSPAS, B00JWY1PPE]</td>\n",
              "      <td>[B00JZXYG9O, B00JWY1PPE]</td>\n",
              "      <td>[B00J4FUCAA]</td>\n",
              "      <td>[B00K8LHA3G]</td>\n",
              "      <td>[B00JWZCE08, B00JWY1PPE]</td>\n",
              "      <td>[B00D19SSE2]</td>\n",
              "      <td>[B00JO6CRRA, B00JZGKWKS]</td>\n",
              "      <td>[B000QIU7X6, B00395FHRO]</td>\n",
              "      <td>[B000GA53CO, B002XOHZWC]</td>\n",
              "      <td>[B00CLRUSF2]</td>\n",
              "      <td>[B00KCFDB4U, B00KW1ZDCM]</td>\n",
              "      <td>[B00K7P0D9G, B00JR39AUM]</td>\n",
              "      <td>[B00006IV0U]</td>\n",
              "      <td>NaN</td>\n",
              "      <td>NaN</td>\n",
              "      <td>[B00GGFZUFS]</td>\n",
              "      <td>[B00KCFDB4U, B00KL1JZEU]</td>\n",
              "      <td>NaN</td>\n",
              "      <td>[B00K7P0D9G, B00KW1ZDCM]</td>\n",
              "      <td>[B00J4FUCAA]</td>\n",
              "      <td>[B00J4FUCAA, B00J3M78GA]</td>\n",
              "      <td>[B00DJQQEGQ]</td>\n",
              "      <td>[B00G3ZHOLY, B001UEPGFY]</td>\n",
              "      <td>[B000GA53CO, B0088LR592]</td>\n",
              "      <td>[B002ZD3QJC]</td>\n",
              "      <td>[B00KK62714]</td>\n",
              "      <td>[B00K6BCV7S, B00K6BCW5O]</td>\n",
              "      <td>[B004QM8W5S, B0073E3Q7A]</td>\n",
              "      <td>[B00GVFYEBY]</td>\n",
              "      <td>[B00KSRV3UQ, B00004SPEU]</td>\n",
              "      <td>[B00004SPEU]</td>\n",
              "      <td>[B00KSRQN0Q, B00004SPEU]</td>\n",
              "      <td>[B00004SPEU]</td>\n",
              "      <td>[B00K7P0D9G, B00JR39AUM]</td>\n",
              "      <td>NaN</td>\n",
              "      <td>[B00L8HA5L8, B00L8FDIZU]</td>\n",
              "      <td>[B00IKRRV02]</td>\n",
              "    </tr>\n",
              "    <tr>\n",
              "      <th>buy_after_viewing</th>\n",
              "      <td>NaN</td>\n",
              "      <td>NaN</td>\n",
              "      <td>NaN</td>\n",
              "      <td>NaN</td>\n",
              "      <td>NaN</td>\n",
              "      <td>[B0000DAQ46, B00FF75XG4, B005PP99L6, B0071OUJDQ]</td>\n",
              "      <td>NaN</td>\n",
              "      <td>NaN</td>\n",
              "      <td>NaN</td>\n",
              "      <td>NaN</td>\n",
              "      <td>NaN</td>\n",
              "      <td>NaN</td>\n",
              "      <td>NaN</td>\n",
              "      <td>NaN</td>\n",
              "      <td>NaN</td>\n",
              "      <td>NaN</td>\n",
              "      <td>NaN</td>\n",
              "      <td>NaN</td>\n",
              "      <td>NaN</td>\n",
              "      <td>NaN</td>\n",
              "      <td>NaN</td>\n",
              "      <td>NaN</td>\n",
              "      <td>NaN</td>\n",
              "      <td>NaN</td>\n",
              "      <td>NaN</td>\n",
              "      <td>NaN</td>\n",
              "      <td>NaN</td>\n",
              "      <td>NaN</td>\n",
              "      <td>NaN</td>\n",
              "      <td>NaN</td>\n",
              "      <td>NaN</td>\n",
              "      <td>NaN</td>\n",
              "      <td>NaN</td>\n",
              "      <td>NaN</td>\n",
              "      <td>NaN</td>\n",
              "      <td>NaN</td>\n",
              "      <td>NaN</td>\n",
              "      <td>NaN</td>\n",
              "      <td>NaN</td>\n",
              "      <td>NaN</td>\n",
              "      <td>...</td>\n",
              "      <td>NaN</td>\n",
              "      <td>NaN</td>\n",
              "      <td>NaN</td>\n",
              "      <td>NaN</td>\n",
              "      <td>NaN</td>\n",
              "      <td>NaN</td>\n",
              "      <td>NaN</td>\n",
              "      <td>NaN</td>\n",
              "      <td>NaN</td>\n",
              "      <td>NaN</td>\n",
              "      <td>NaN</td>\n",
              "      <td>NaN</td>\n",
              "      <td>NaN</td>\n",
              "      <td>NaN</td>\n",
              "      <td>NaN</td>\n",
              "      <td>NaN</td>\n",
              "      <td>NaN</td>\n",
              "      <td>NaN</td>\n",
              "      <td>NaN</td>\n",
              "      <td>NaN</td>\n",
              "      <td>NaN</td>\n",
              "      <td>NaN</td>\n",
              "      <td>NaN</td>\n",
              "      <td>NaN</td>\n",
              "      <td>NaN</td>\n",
              "      <td>NaN</td>\n",
              "      <td>NaN</td>\n",
              "      <td>NaN</td>\n",
              "      <td>NaN</td>\n",
              "      <td>NaN</td>\n",
              "      <td>NaN</td>\n",
              "      <td>NaN</td>\n",
              "      <td>NaN</td>\n",
              "      <td>NaN</td>\n",
              "      <td>NaN</td>\n",
              "      <td>NaN</td>\n",
              "      <td>NaN</td>\n",
              "      <td>NaN</td>\n",
              "      <td>NaN</td>\n",
              "      <td>NaN</td>\n",
              "    </tr>\n",
              "  </tbody>\n",
              "</table>\n",
              "<p>4 rows × 3320 columns</p>\n",
              "</div>"
            ],
            "text/plain": [
              "                                                          0912696591  ...                                         B00LB18EKK\n",
              "also_bought        [B003MC22TU, B003MC22PY, B006UKNSVC, B003MC22Z...  ...  [B00JJOEV9Y, B00M04HZIO, B00LGW9YUS, B00L8FQZ3...\n",
              "also_viewed        [B0002ZFXSM, B0002ZFXSW, 1934089133, B000OSFIN...  ...  [B00JK9IZ2M, B0000CFFRO, B00CLULMNG, B00004OCI...\n",
              "bought_together                             [B003MC22TU, B006UKNSVC]  ...                                       [B00IKRRV02]\n",
              "buy_after_viewing                                                NaN  ...                                                NaN\n",
              "\n",
              "[4 rows x 3320 columns]"
            ]
          },
          "metadata": {
            "tags": []
          },
          "execution_count": 17
        }
      ]
    },
    {
      "cell_type": "code",
      "metadata": {
        "id": "WYHxKjAHPxtd"
      },
      "source": [
        "def get_mean_rating(items):\n",
        "  if train['asin'].isin(items).sum() != 0:\n",
        "    return train[train['asin'].isin(items)].overall.mean()\n",
        "  else:\n",
        "    return 0"
      ],
      "execution_count": 18,
      "outputs": []
    },
    {
      "cell_type": "code",
      "metadata": {
        "colab": {
          "base_uri": "https://localhost:8080/"
        },
        "id": "DpKeU18oOnSo",
        "outputId": "4dd1e867-cc46-4739-ee4f-527a59e19df4"
      },
      "source": [
        "def collaborative_related(user_id, item_id):\n",
        "  \"\"\" collaborative-filtering based on mean ratings of related products. \"\"\"\n",
        "  if item_id in train.asin.to_list():\n",
        "    item_condition = train.asin == item_id\n",
        "    if item_id in product_related.columns:\n",
        "      related_items_bought = product_related.loc['also_bought', item_id]\n",
        "      if type(related_items_bought) is list:\n",
        "        mean_rate = get_mean_rating(related_items_bought)\n",
        "        if mean_rate == 0:\n",
        "          return train.loc[item_condition, 'overall'].mean()\n",
        "        else:\n",
        "          return mean_rate*0.5+train.loc[item_condition, 'overall'].mean()*0.5\n",
        "      else:\n",
        "        return train.loc[item_condition, 'overall'].mean()\n",
        "    else:\n",
        "      return train.loc[item_condition, 'overall'].mean()\n",
        "  else:\n",
        "    return 5\n",
        "print('RMSE for collaborative related mean estimation: %s' % evaluate(collaborative_related))"
      ],
      "execution_count": 19,
      "outputs": [
        {
          "output_type": "stream",
          "text": [
            "RMSE for collaborative related mean estimation: 0.9697239695245722\n"
          ],
          "name": "stdout"
        }
      ]
    },
    {
      "cell_type": "markdown",
      "metadata": {
        "id": "g9YsKxoWOEa1"
      },
      "source": [
        "##Model with Surprise library"
      ]
    },
    {
      "cell_type": "code",
      "metadata": {
        "colab": {
          "base_uri": "https://localhost:8080/"
        },
        "id": "HmIPrvN-MPma",
        "outputId": "15695693-066a-4add-9a47-b995bef6f803"
      },
      "source": [
        "!pip install surprise"
      ],
      "execution_count": 33,
      "outputs": [
        {
          "output_type": "stream",
          "text": [
            "Collecting surprise\n",
            "  Downloading surprise-0.1-py2.py3-none-any.whl (1.8 kB)\n",
            "Collecting scikit-surprise\n",
            "  Downloading scikit-surprise-1.1.1.tar.gz (11.8 MB)\n",
            "\u001b[K     |████████████████████████████████| 11.8 MB 47 kB/s \n",
            "\u001b[?25hRequirement already satisfied: joblib>=0.11 in /usr/local/lib/python3.7/dist-packages (from scikit-surprise->surprise) (1.0.1)\n",
            "Requirement already satisfied: numpy>=1.11.2 in /usr/local/lib/python3.7/dist-packages (from scikit-surprise->surprise) (1.19.5)\n",
            "Requirement already satisfied: scipy>=1.0.0 in /usr/local/lib/python3.7/dist-packages (from scikit-surprise->surprise) (1.4.1)\n",
            "Requirement already satisfied: six>=1.10.0 in /usr/local/lib/python3.7/dist-packages (from scikit-surprise->surprise) (1.15.0)\n",
            "Building wheels for collected packages: scikit-surprise\n",
            "  Building wheel for scikit-surprise (setup.py) ... \u001b[?25l\u001b[?25hdone\n",
            "  Created wheel for scikit-surprise: filename=scikit_surprise-1.1.1-cp37-cp37m-linux_x86_64.whl size=1619387 sha256=5f95ed137f4d62edf414785aaca38ac9ba2e7797ad099d45183e52349c73faf6\n",
            "  Stored in directory: /root/.cache/pip/wheels/76/44/74/b498c42be47b2406bd27994e16c5188e337c657025ab400c1c\n",
            "Successfully built scikit-surprise\n",
            "Installing collected packages: scikit-surprise, surprise\n",
            "Successfully installed scikit-surprise-1.1.1 surprise-0.1\n"
          ],
          "name": "stdout"
        }
      ]
    },
    {
      "cell_type": "code",
      "metadata": {
        "id": "mbRAL_jGMkpl"
      },
      "source": [
        "from surprise import Reader, Dataset\n",
        "from surprise import BaselineOnly\n",
        "from surprise import KNNBaseline\n",
        "from surprise import SVD\n",
        "from surprise import SVDpp\n",
        "from surprise.model_selection import cross_validate\n",
        "from surprise.model_selection import KFold\n",
        "from surprise.model_selection import train_test_split\n",
        "from surprise.model_selection import GridSearchCV"
      ],
      "execution_count": 34,
      "outputs": []
    },
    {
      "cell_type": "code",
      "metadata": {
        "colab": {
          "base_uri": "https://localhost:8080/",
          "height": 204
        },
        "id": "zY-BGtL1M-sj",
        "outputId": "a2ce7ebd-1c10-452a-fb86-d44e70397969"
      },
      "source": [
        "train[['reviewerID', 'asin', 'overall']].head(5)"
      ],
      "execution_count": 35,
      "outputs": [
        {
          "output_type": "execute_result",
          "data": {
            "text/html": [
              "<div>\n",
              "<style scoped>\n",
              "    .dataframe tbody tr th:only-of-type {\n",
              "        vertical-align: middle;\n",
              "    }\n",
              "\n",
              "    .dataframe tbody tr th {\n",
              "        vertical-align: top;\n",
              "    }\n",
              "\n",
              "    .dataframe thead th {\n",
              "        text-align: right;\n",
              "    }\n",
              "</style>\n",
              "<table border=\"1\" class=\"dataframe\">\n",
              "  <thead>\n",
              "    <tr style=\"text-align: right;\">\n",
              "      <th></th>\n",
              "      <th>reviewerID</th>\n",
              "      <th>asin</th>\n",
              "      <th>overall</th>\n",
              "    </tr>\n",
              "  </thead>\n",
              "  <tbody>\n",
              "    <tr>\n",
              "      <th>33876</th>\n",
              "      <td>A2U8QA856AC193</td>\n",
              "      <td>B000MAIW1C</td>\n",
              "      <td>5.0</td>\n",
              "    </tr>\n",
              "    <tr>\n",
              "      <th>3214</th>\n",
              "      <td>A1AEMJE2R27T56</td>\n",
              "      <td>B00004S1CY</td>\n",
              "      <td>5.0</td>\n",
              "    </tr>\n",
              "    <tr>\n",
              "      <th>58791</th>\n",
              "      <td>A1T0II3Q4DEO9P</td>\n",
              "      <td>B0042H3OFA</td>\n",
              "      <td>3.0</td>\n",
              "    </tr>\n",
              "    <tr>\n",
              "      <th>43495</th>\n",
              "      <td>A3JMLA2CJAHQ1A</td>\n",
              "      <td>B001BCNT0Y</td>\n",
              "      <td>5.0</td>\n",
              "    </tr>\n",
              "    <tr>\n",
              "      <th>7272</th>\n",
              "      <td>A3MEMX0XF00TBD</td>\n",
              "      <td>B00005AXJ9</td>\n",
              "      <td>1.0</td>\n",
              "    </tr>\n",
              "  </tbody>\n",
              "</table>\n",
              "</div>"
            ],
            "text/plain": [
              "           reviewerID        asin  overall\n",
              "33876  A2U8QA856AC193  B000MAIW1C      5.0\n",
              "3214   A1AEMJE2R27T56  B00004S1CY      5.0\n",
              "58791  A1T0II3Q4DEO9P  B0042H3OFA      3.0\n",
              "43495  A3JMLA2CJAHQ1A  B001BCNT0Y      5.0\n",
              "7272   A3MEMX0XF00TBD  B00005AXJ9      1.0"
            ]
          },
          "metadata": {
            "tags": []
          },
          "execution_count": 35
        }
      ]
    },
    {
      "cell_type": "code",
      "metadata": {
        "id": "RVuwLgf-NVHC"
      },
      "source": [
        "#Transforming train data\n",
        "reader = Reader(rating_scale=(1, 5))\n",
        "data = Dataset.load_from_df(train[['reviewerID', 'asin', 'overall']], reader)\n",
        "trainset = data.build_full_trainset()"
      ],
      "execution_count": 36,
      "outputs": []
    },
    {
      "cell_type": "code",
      "metadata": {
        "id": "lhDC8VgNNgUO"
      },
      "source": [
        "#Transforming test data\n",
        "testset = list(zip(test[\"reviewerID\"].values, test[\"asin\"].values, test[\"overall\"].values))"
      ],
      "execution_count": 37,
      "outputs": []
    },
    {
      "cell_type": "code",
      "metadata": {
        "colab": {
          "base_uri": "https://localhost:8080/"
        },
        "id": "C8L2uPxWOlDl",
        "outputId": "238f8454-8a0a-4fdb-a81d-e09ce64fdf83"
      },
      "source": [
        "testset[:5]"
      ],
      "execution_count": 38,
      "outputs": [
        {
          "output_type": "execute_result",
          "data": {
            "text/plain": [
              "[('A2BG7PBV614U4N', 'B000MEMLGA', 5.0),\n",
              " ('A1ROUMJOGO4QMB', 'B000WU8PW8', 4.0),\n",
              " ('A1XAYQ4LD8RYRN', 'B00018RRRK', 2.0),\n",
              " ('A1RGTSCQI1MHF2', 'B001GAQKMU', 4.0),\n",
              " ('A3S3VSXEFXBMRC', 'B003QP2WJ8', 5.0)]"
            ]
          },
          "metadata": {
            "tags": []
          },
          "execution_count": 38
        }
      ]
    },
    {
      "cell_type": "code",
      "metadata": {
        "id": "7sS8G1fYOo0f"
      },
      "source": [
        "error_table = pd.DataFrame(columns = [\"Model\", \"Train RMSE\", \"Test RMSE\"])\n",
        "model_train_evaluation = dict()\n",
        "model_test_evaluation = dict()"
      ],
      "execution_count": 39,
      "outputs": []
    },
    {
      "cell_type": "code",
      "metadata": {
        "id": "TMwjeO6dO_LD"
      },
      "source": [
        "def make_table(model_name, rmse_train, rmse_test):\n",
        "    global error_table\n",
        "    #All variable assignments in a function store the value in the local symbol table; whereas variable references first look \n",
        "    #in the local symbol table, then in the global symbol table, and then in the table of built-in names. Thus, global variables \n",
        "    #cannot be directly assigned a value within a function (unless named in a global statement), \n",
        "    #although they may be referenced.\n",
        "    error_table = error_table.append(pd.DataFrame([[model_name, rmse_train, rmse_test]], columns = [\"Model\", \"Train RMSE\", \"Test RMSE\"]))\n",
        "    error_table.reset_index(drop = True, inplace = True)"
      ],
      "execution_count": 40,
      "outputs": []
    },
    {
      "cell_type": "code",
      "metadata": {
        "id": "xbcn6fjePUrS"
      },
      "source": [
        "def error_metrics(y_true, y_pred):\n",
        "    rmse = np.sqrt(mean_squared_error(y_true, y_pred))\n",
        "    return rmse"
      ],
      "execution_count": 41,
      "outputs": []
    },
    {
      "cell_type": "code",
      "metadata": {
        "id": "LDOrxC-1PkKI"
      },
      "source": [
        "import xgboost as xgb\n",
        "from datetime import datetime\n",
        "def train_test_xgboost(x_train, x_test, y_train, y_test, model_name):\n",
        "    startTime = datetime.now()\n",
        "    train_result = dict()\n",
        "    test_result = dict()\n",
        "    \n",
        "    clf = xgb.XGBRegressor(n_estimators = 100, silent = False, n_jobs  = 10)\n",
        "    clf.fit(x_train, y_train)\n",
        "    \n",
        "    print(\"-\"*50)\n",
        "    print(\"TRAIN DATA\")\n",
        "    y_pred_train = clf.predict(x_train)\n",
        "    rmse_train = error_metrics(y_train, y_pred_train)\n",
        "    print(\"RMSE = {}\".format(rmse_train))\n",
        "    print(\"-\"*50)\n",
        "    train_result = {\"RMSE\": rmse_train, \"Prediction\": y_pred_train}\n",
        "    \n",
        "    print(\"TEST DATA\")\n",
        "    y_pred_test = clf.predict(x_test)\n",
        "    rmse_test = error_metrics(y_test, y_pred_test)\n",
        "    print(\"RMSE = {}\".format(rmse_test))\n",
        "    print(\"-\"*50)\n",
        "    test_result = {\"RMSE\": rmse_test, \"Prediction\": y_pred_test}\n",
        "        \n",
        "    print(\"Time Taken = \"+str(datetime.now() - startTime))\n",
        "    \n",
        "    plot_importance(xgb, clf)\n",
        "    \n",
        "    make_table(model_name, rmse_train, rmse_test)\n",
        "    \n",
        "    return train_result, test_result"
      ],
      "execution_count": 50,
      "outputs": []
    },
    {
      "cell_type": "code",
      "metadata": {
        "id": "_X6goicbRCTI"
      },
      "source": [
        "def plot_importance(model, clf):\n",
        "    fig = plt.figure(figsize = (8, 6))\n",
        "    ax = fig.add_axes([0,0,1,1])\n",
        "    model.plot_importance(clf, ax = ax, height = 0.3)\n",
        "    plt.xlabel(\"F Score\", fontsize = 20)\n",
        "    plt.ylabel(\"Features\", fontsize = 20)\n",
        "    plt.title(\"Feature Importance\", fontsize = 20)\n",
        "    plt.tick_params(labelsize = 15)\n",
        "    \n",
        "    plt.show()"
      ],
      "execution_count": 43,
      "outputs": []
    },
    {
      "cell_type": "code",
      "metadata": {
        "id": "8EraY6lqRKnj"
      },
      "source": [
        "def get_ratings(predictions):\n",
        "    actual = np.array([pred.r_ui for pred in predictions])\n",
        "    predicted = np.array([pred.est for pred in predictions])\n",
        "    return actual, predicted"
      ],
      "execution_count": 44,
      "outputs": []
    },
    {
      "cell_type": "code",
      "metadata": {
        "id": "72zYwPItRWJT"
      },
      "source": [
        "def get_error(predictions):\n",
        "    actual, predicted = get_ratings(predictions)\n",
        "    rmse = np.sqrt(mean_squared_error(actual, predicted)) \n",
        "    return rmse"
      ],
      "execution_count": 45,
      "outputs": []
    },
    {
      "cell_type": "code",
      "metadata": {
        "id": "Zp-fYwOARbXX"
      },
      "source": [
        "def run_surprise(algo, trainset, testset, model_name):\n",
        "    startTime = datetime.now()\n",
        "    \n",
        "    train = dict()\n",
        "    test = dict()\n",
        "    \n",
        "    algo.fit(trainset)\n",
        "    \n",
        "#-----------------Evaluating Train Data------------------#\n",
        "    print(\"-\"*50)\n",
        "    print(\"TRAIN DATA\")\n",
        "    train_pred = algo.test(trainset.build_testset())\n",
        "    #You can check out \"algo.test()\" function at \"https://surprise.readthedocs.io/en/stable/getting_started.html\" in \n",
        "    #\"Train-test split and the fit() method\" section\n",
        "    #You can check out \"trainset.build_testset()\" function at \"https://surprise.readthedocs.io/en/stable/FAQ.html#can-i-use-my-own-dataset-with-surprise-and-can-it-be-a-pandas-dataframe\" in \n",
        "    #\"How to get accuracy measures on the training set\" section\n",
        "    train_actual, train_predicted = get_ratings(train_pred)\n",
        "    train_rmse = get_error(train_pred)\n",
        "    print(\"RMSE = {}\".format(train_rmse))\n",
        "    print(\"-\"*50)\n",
        "    train = {\"RMSE\": train_rmse, \"Prediction\": train_predicted}\n",
        "    \n",
        "#-----------------Evaluating Test Data------------------#\n",
        "    print(\"TEST DATA\")\n",
        "    test_pred = algo.test(testset)\n",
        "    #You can check out \"algo.test()\" function at \"https://surprise.readthedocs.io/en/stable/getting_started.html\" in \n",
        "    #\"Train-test split and the fit() method\" section\n",
        "    test_actual, test_predicted = get_ratings(test_pred)\n",
        "    test_rmse = get_error(test_pred)\n",
        "    print(\"RMSE = {}\".format(test_rmse))\n",
        "    print(\"-\"*50)\n",
        "    test = {\"RMSE\": test_rmse, \"Prediction\": test_predicted}\n",
        "    \n",
        "    print(\"Time Taken = \"+str(datetime.now() - startTime))\n",
        "    \n",
        "    make_table(model_name, train_rmse, test_rmse)\n",
        "    \n",
        "    return train, test"
      ],
      "execution_count": 46,
      "outputs": []
    },
    {
      "cell_type": "code",
      "metadata": {
        "colab": {
          "base_uri": "https://localhost:8080/"
        },
        "id": "kqwFr-aLR8yz",
        "outputId": "172c31e9-3d05-4b33-f1a0-2d86324bd06e"
      },
      "source": [
        "bsl_options = {\"method\":\"sgd\", \"learning_rate\":0.01, \"n_epochs\":25}\n",
        "\n",
        "algo = BaselineOnly(bsl_options=bsl_options)\n",
        "#You can check the docs of above used functions at:https://surprise.readthedocs.io/en/stable/prediction_algorithms.html#baseline-estimates-configuration\n",
        "#at section \"Baselines estimates configuration\".\n",
        "\n",
        "train_result, test_result = run_surprise(algo, trainset, testset, \"BaselineOnly\")\n",
        "\n",
        "model_train_evaluation[\"BaselineOnly\"] = train_result\n",
        "model_test_evaluation[\"BaselineOnly\"] = test_result"
      ],
      "execution_count": 53,
      "outputs": [
        {
          "output_type": "stream",
          "text": [
            "Estimating biases using sgd...\n",
            "--------------------------------------------------\n",
            "TRAIN DATA\n",
            "RMSE = 0.8027460860125717\n",
            "--------------------------------------------------\n",
            "TEST DATA\n",
            "RMSE = 0.948628122332398\n",
            "--------------------------------------------------\n",
            "Time Taken = 0:00:01.694888\n"
          ],
          "name": "stdout"
        }
      ]
    },
    {
      "cell_type": "markdown",
      "metadata": {
        "id": "yg4QNTasVlOf"
      },
      "source": [
        "### Surprise KNN-Baseline with User-User."
      ]
    },
    {
      "cell_type": "code",
      "metadata": {
        "colab": {
          "base_uri": "https://localhost:8080/"
        },
        "id": "pEk8eNwWTvCN",
        "outputId": "bbc3e08e-ed95-4a64-ffc7-5eee234f5c84"
      },
      "source": [
        "param_grid  = {'sim_options':{'name': [\"pearson_baseline\"], \"user_based\": [True], \"min_support\": [2], \"shrinkage\": [60, 80, 80, 140]}, 'k': [5, 20, 40, 80]}\n",
        "\n",
        "gs = GridSearchCV(KNNBaseline, param_grid, measures=['rmse'], cv=3)\n",
        "\n",
        "gs.fit(data)\n",
        "\n",
        "# best RMSE score\n",
        "print(gs.best_score['rmse'])\n",
        "\n",
        "# combination of parameters that gave the best RMSE score\n",
        "print(gs.best_params['rmse'])"
      ],
      "execution_count": 56,
      "outputs": [
        {
          "output_type": "stream",
          "text": [
            "Estimating biases using als...\n",
            "Computing the pearson_baseline similarity matrix...\n",
            "Done computing similarity matrix.\n",
            "Estimating biases using als...\n",
            "Computing the pearson_baseline similarity matrix...\n",
            "Done computing similarity matrix.\n",
            "Estimating biases using als...\n",
            "Computing the pearson_baseline similarity matrix...\n",
            "Done computing similarity matrix.\n",
            "Estimating biases using als...\n",
            "Computing the pearson_baseline similarity matrix...\n",
            "Done computing similarity matrix.\n",
            "Estimating biases using als...\n",
            "Computing the pearson_baseline similarity matrix...\n",
            "Done computing similarity matrix.\n",
            "Estimating biases using als...\n",
            "Computing the pearson_baseline similarity matrix...\n",
            "Done computing similarity matrix.\n",
            "Estimating biases using als...\n",
            "Computing the pearson_baseline similarity matrix...\n",
            "Done computing similarity matrix.\n",
            "Estimating biases using als...\n",
            "Computing the pearson_baseline similarity matrix...\n",
            "Done computing similarity matrix.\n",
            "Estimating biases using als...\n",
            "Computing the pearson_baseline similarity matrix...\n",
            "Done computing similarity matrix.\n",
            "Estimating biases using als...\n",
            "Computing the pearson_baseline similarity matrix...\n",
            "Done computing similarity matrix.\n",
            "Estimating biases using als...\n",
            "Computing the pearson_baseline similarity matrix...\n",
            "Done computing similarity matrix.\n",
            "Estimating biases using als...\n",
            "Computing the pearson_baseline similarity matrix...\n",
            "Done computing similarity matrix.\n",
            "Estimating biases using als...\n",
            "Computing the pearson_baseline similarity matrix...\n",
            "Done computing similarity matrix.\n",
            "Estimating biases using als...\n",
            "Computing the pearson_baseline similarity matrix...\n",
            "Done computing similarity matrix.\n",
            "Estimating biases using als...\n",
            "Computing the pearson_baseline similarity matrix...\n",
            "Done computing similarity matrix.\n",
            "Estimating biases using als...\n",
            "Computing the pearson_baseline similarity matrix...\n",
            "Done computing similarity matrix.\n",
            "Estimating biases using als...\n",
            "Computing the pearson_baseline similarity matrix...\n",
            "Done computing similarity matrix.\n",
            "Estimating biases using als...\n",
            "Computing the pearson_baseline similarity matrix...\n",
            "Done computing similarity matrix.\n",
            "Estimating biases using als...\n",
            "Computing the pearson_baseline similarity matrix...\n",
            "Done computing similarity matrix.\n",
            "Estimating biases using als...\n",
            "Computing the pearson_baseline similarity matrix...\n",
            "Done computing similarity matrix.\n",
            "Estimating biases using als...\n",
            "Computing the pearson_baseline similarity matrix...\n",
            "Done computing similarity matrix.\n",
            "Estimating biases using als...\n",
            "Computing the pearson_baseline similarity matrix...\n",
            "Done computing similarity matrix.\n",
            "Estimating biases using als...\n",
            "Computing the pearson_baseline similarity matrix...\n",
            "Done computing similarity matrix.\n",
            "Estimating biases using als...\n",
            "Computing the pearson_baseline similarity matrix...\n",
            "Done computing similarity matrix.\n",
            "Estimating biases using als...\n",
            "Computing the pearson_baseline similarity matrix...\n",
            "Done computing similarity matrix.\n",
            "Estimating biases using als...\n",
            "Computing the pearson_baseline similarity matrix...\n",
            "Done computing similarity matrix.\n",
            "Estimating biases using als...\n",
            "Computing the pearson_baseline similarity matrix...\n",
            "Done computing similarity matrix.\n",
            "Estimating biases using als...\n",
            "Computing the pearson_baseline similarity matrix...\n",
            "Done computing similarity matrix.\n",
            "Estimating biases using als...\n",
            "Computing the pearson_baseline similarity matrix...\n",
            "Done computing similarity matrix.\n",
            "Estimating biases using als...\n",
            "Computing the pearson_baseline similarity matrix...\n",
            "Done computing similarity matrix.\n",
            "Estimating biases using als...\n",
            "Computing the pearson_baseline similarity matrix...\n",
            "Done computing similarity matrix.\n",
            "Estimating biases using als...\n",
            "Computing the pearson_baseline similarity matrix...\n",
            "Done computing similarity matrix.\n",
            "Estimating biases using als...\n",
            "Computing the pearson_baseline similarity matrix...\n",
            "Done computing similarity matrix.\n",
            "Estimating biases using als...\n",
            "Computing the pearson_baseline similarity matrix...\n",
            "Done computing similarity matrix.\n",
            "Estimating biases using als...\n",
            "Computing the pearson_baseline similarity matrix...\n",
            "Done computing similarity matrix.\n",
            "Estimating biases using als...\n",
            "Computing the pearson_baseline similarity matrix...\n",
            "Done computing similarity matrix.\n",
            "Estimating biases using als...\n",
            "Computing the pearson_baseline similarity matrix...\n",
            "Done computing similarity matrix.\n",
            "Estimating biases using als...\n",
            "Computing the pearson_baseline similarity matrix...\n",
            "Done computing similarity matrix.\n",
            "Estimating biases using als...\n",
            "Computing the pearson_baseline similarity matrix...\n",
            "Done computing similarity matrix.\n",
            "Estimating biases using als...\n",
            "Computing the pearson_baseline similarity matrix...\n",
            "Done computing similarity matrix.\n",
            "Estimating biases using als...\n",
            "Computing the pearson_baseline similarity matrix...\n",
            "Done computing similarity matrix.\n",
            "Estimating biases using als...\n",
            "Computing the pearson_baseline similarity matrix...\n",
            "Done computing similarity matrix.\n",
            "Estimating biases using als...\n",
            "Computing the pearson_baseline similarity matrix...\n",
            "Done computing similarity matrix.\n",
            "Estimating biases using als...\n",
            "Computing the pearson_baseline similarity matrix...\n",
            "Done computing similarity matrix.\n",
            "Estimating biases using als...\n",
            "Computing the pearson_baseline similarity matrix...\n",
            "Done computing similarity matrix.\n",
            "Estimating biases using als...\n",
            "Computing the pearson_baseline similarity matrix...\n",
            "Done computing similarity matrix.\n",
            "Estimating biases using als...\n",
            "Computing the pearson_baseline similarity matrix...\n",
            "Done computing similarity matrix.\n",
            "Estimating biases using als...\n",
            "Computing the pearson_baseline similarity matrix...\n",
            "Done computing similarity matrix.\n",
            "0.9634970001890087\n",
            "{'sim_options': {'name': 'pearson_baseline', 'user_based': True, 'min_support': 2, 'shrinkage': 60}, 'k': 20}\n"
          ],
          "name": "stdout"
        }
      ]
    },
    {
      "cell_type": "code",
      "metadata": {
        "colab": {
          "base_uri": "https://localhost:8080/"
        },
        "id": "Q-eqlPKHU2Hj",
        "outputId": "10d0fc0b-459c-488f-9aec-098a46d0783c"
      },
      "source": [
        "sim_options = {'name':'pearson_baseline', 'user_based':True, 'min_support':2, 'shrinkage':gs.best_params['rmse']['sim_options']['shrinkage']}\n",
        "\n",
        "bsl_options = {'method': 'sgd'} \n",
        "\n",
        "algo = KNNBaseline(k = gs.best_params['rmse']['k'], sim_options = sim_options, bsl_options=bsl_options)\n",
        "\n",
        "train_result, test_result = run_surprise(algo, trainset, testset, \"KNNBaseline_User\")\n",
        "\n",
        "model_train_evaluation[\"KNNBaseline_User\"] = train_result\n",
        "model_test_evaluation[\"KNNBaseline_User\"] = test_result"
      ],
      "execution_count": 57,
      "outputs": [
        {
          "output_type": "stream",
          "text": [
            "Estimating biases using sgd...\n",
            "Computing the pearson_baseline similarity matrix...\n",
            "Done computing similarity matrix.\n",
            "--------------------------------------------------\n",
            "TRAIN DATA\n",
            "RMSE = 0.015162957512675998\n",
            "--------------------------------------------------\n",
            "TEST DATA\n",
            "RMSE = 0.9667159237685569\n",
            "--------------------------------------------------\n",
            "Time Taken = 0:00:10.558797\n"
          ],
          "name": "stdout"
        }
      ]
    },
    {
      "cell_type": "markdown",
      "metadata": {
        "id": "v84wlYtRVvrT"
      },
      "source": [
        "### Surprise KNN-Baseline with Item-Item"
      ]
    },
    {
      "cell_type": "code",
      "metadata": {
        "colab": {
          "base_uri": "https://localhost:8080/"
        },
        "id": "8aNCq1p2VgKy",
        "outputId": "db1b7a77-5400-4024-c784-6b3a63d5b4f5"
      },
      "source": [
        "param_grid  = {'sim_options':{'name': [\"pearson_baseline\"], \"user_based\": [False], \"min_support\": [2], \"shrinkage\": [60, 80, 80, 140]}, 'k': [5, 20, 40, 80]}\n",
        "\n",
        "gs = GridSearchCV(KNNBaseline, param_grid, measures=['rmse'], cv=3)\n",
        "\n",
        "gs.fit(data)\n",
        "\n",
        "# best RMSE score\n",
        "print(gs.best_score['rmse'])\n",
        "\n",
        "# combination of parameters that gave the best RMSE score\n",
        "print(gs.best_params['rmse'])"
      ],
      "execution_count": 58,
      "outputs": [
        {
          "output_type": "stream",
          "text": [
            "Estimating biases using als...\n",
            "Computing the pearson_baseline similarity matrix...\n",
            "Done computing similarity matrix.\n",
            "Estimating biases using als...\n",
            "Computing the pearson_baseline similarity matrix...\n",
            "Done computing similarity matrix.\n",
            "Estimating biases using als...\n",
            "Computing the pearson_baseline similarity matrix...\n",
            "Done computing similarity matrix.\n",
            "Estimating biases using als...\n",
            "Computing the pearson_baseline similarity matrix...\n",
            "Done computing similarity matrix.\n",
            "Estimating biases using als...\n",
            "Computing the pearson_baseline similarity matrix...\n",
            "Done computing similarity matrix.\n",
            "Estimating biases using als...\n",
            "Computing the pearson_baseline similarity matrix...\n",
            "Done computing similarity matrix.\n",
            "Estimating biases using als...\n",
            "Computing the pearson_baseline similarity matrix...\n",
            "Done computing similarity matrix.\n",
            "Estimating biases using als...\n",
            "Computing the pearson_baseline similarity matrix...\n",
            "Done computing similarity matrix.\n",
            "Estimating biases using als...\n",
            "Computing the pearson_baseline similarity matrix...\n",
            "Done computing similarity matrix.\n",
            "Estimating biases using als...\n",
            "Computing the pearson_baseline similarity matrix...\n",
            "Done computing similarity matrix.\n",
            "Estimating biases using als...\n",
            "Computing the pearson_baseline similarity matrix...\n",
            "Done computing similarity matrix.\n",
            "Estimating biases using als...\n",
            "Computing the pearson_baseline similarity matrix...\n",
            "Done computing similarity matrix.\n",
            "Estimating biases using als...\n",
            "Computing the pearson_baseline similarity matrix...\n",
            "Done computing similarity matrix.\n",
            "Estimating biases using als...\n",
            "Computing the pearson_baseline similarity matrix...\n",
            "Done computing similarity matrix.\n",
            "Estimating biases using als...\n",
            "Computing the pearson_baseline similarity matrix...\n",
            "Done computing similarity matrix.\n",
            "Estimating biases using als...\n",
            "Computing the pearson_baseline similarity matrix...\n",
            "Done computing similarity matrix.\n",
            "Estimating biases using als...\n",
            "Computing the pearson_baseline similarity matrix...\n",
            "Done computing similarity matrix.\n",
            "Estimating biases using als...\n",
            "Computing the pearson_baseline similarity matrix...\n",
            "Done computing similarity matrix.\n",
            "Estimating biases using als...\n",
            "Computing the pearson_baseline similarity matrix...\n",
            "Done computing similarity matrix.\n",
            "Estimating biases using als...\n",
            "Computing the pearson_baseline similarity matrix...\n",
            "Done computing similarity matrix.\n",
            "Estimating biases using als...\n",
            "Computing the pearson_baseline similarity matrix...\n",
            "Done computing similarity matrix.\n",
            "Estimating biases using als...\n",
            "Computing the pearson_baseline similarity matrix...\n",
            "Done computing similarity matrix.\n",
            "Estimating biases using als...\n",
            "Computing the pearson_baseline similarity matrix...\n",
            "Done computing similarity matrix.\n",
            "Estimating biases using als...\n",
            "Computing the pearson_baseline similarity matrix...\n",
            "Done computing similarity matrix.\n",
            "Estimating biases using als...\n",
            "Computing the pearson_baseline similarity matrix...\n",
            "Done computing similarity matrix.\n",
            "Estimating biases using als...\n",
            "Computing the pearson_baseline similarity matrix...\n",
            "Done computing similarity matrix.\n",
            "Estimating biases using als...\n",
            "Computing the pearson_baseline similarity matrix...\n",
            "Done computing similarity matrix.\n",
            "Estimating biases using als...\n",
            "Computing the pearson_baseline similarity matrix...\n",
            "Done computing similarity matrix.\n",
            "Estimating biases using als...\n",
            "Computing the pearson_baseline similarity matrix...\n",
            "Done computing similarity matrix.\n",
            "Estimating biases using als...\n",
            "Computing the pearson_baseline similarity matrix...\n",
            "Done computing similarity matrix.\n",
            "Estimating biases using als...\n",
            "Computing the pearson_baseline similarity matrix...\n",
            "Done computing similarity matrix.\n",
            "Estimating biases using als...\n",
            "Computing the pearson_baseline similarity matrix...\n",
            "Done computing similarity matrix.\n",
            "Estimating biases using als...\n",
            "Computing the pearson_baseline similarity matrix...\n",
            "Done computing similarity matrix.\n",
            "Estimating biases using als...\n",
            "Computing the pearson_baseline similarity matrix...\n",
            "Done computing similarity matrix.\n",
            "Estimating biases using als...\n",
            "Computing the pearson_baseline similarity matrix...\n",
            "Done computing similarity matrix.\n",
            "Estimating biases using als...\n",
            "Computing the pearson_baseline similarity matrix...\n",
            "Done computing similarity matrix.\n",
            "Estimating biases using als...\n",
            "Computing the pearson_baseline similarity matrix...\n",
            "Done computing similarity matrix.\n",
            "Estimating biases using als...\n",
            "Computing the pearson_baseline similarity matrix...\n",
            "Done computing similarity matrix.\n",
            "Estimating biases using als...\n",
            "Computing the pearson_baseline similarity matrix...\n",
            "Done computing similarity matrix.\n",
            "Estimating biases using als...\n",
            "Computing the pearson_baseline similarity matrix...\n",
            "Done computing similarity matrix.\n",
            "Estimating biases using als...\n",
            "Computing the pearson_baseline similarity matrix...\n",
            "Done computing similarity matrix.\n",
            "Estimating biases using als...\n",
            "Computing the pearson_baseline similarity matrix...\n",
            "Done computing similarity matrix.\n",
            "Estimating biases using als...\n",
            "Computing the pearson_baseline similarity matrix...\n",
            "Done computing similarity matrix.\n",
            "Estimating biases using als...\n",
            "Computing the pearson_baseline similarity matrix...\n",
            "Done computing similarity matrix.\n",
            "Estimating biases using als...\n",
            "Computing the pearson_baseline similarity matrix...\n",
            "Done computing similarity matrix.\n",
            "Estimating biases using als...\n",
            "Computing the pearson_baseline similarity matrix...\n",
            "Done computing similarity matrix.\n",
            "Estimating biases using als...\n",
            "Computing the pearson_baseline similarity matrix...\n",
            "Done computing similarity matrix.\n",
            "Estimating biases using als...\n",
            "Computing the pearson_baseline similarity matrix...\n",
            "Done computing similarity matrix.\n",
            "0.9691296287831107\n",
            "{'sim_options': {'name': 'pearson_baseline', 'user_based': False, 'min_support': 2, 'shrinkage': 60}, 'k': 20}\n"
          ],
          "name": "stdout"
        }
      ]
    },
    {
      "cell_type": "code",
      "metadata": {
        "colab": {
          "base_uri": "https://localhost:8080/"
        },
        "id": "mJ6jtBjbWCIt",
        "outputId": "8637e18b-842b-4e30-84e9-c2a4f5fa4945"
      },
      "source": [
        "sim_options = {'name':'pearson_baseline', 'user_based':False, 'min_support':2, 'shrinkage':gs.best_params['rmse']['sim_options']['shrinkage']}\n",
        "\n",
        "bsl_options = {'method': 'sgd'} \n",
        "\n",
        "algo = KNNBaseline(k = gs.best_params['rmse']['k'], sim_options = sim_options, bsl_options=bsl_options)\n",
        "\n",
        "train_result, test_result = run_surprise(algo, trainset, testset, \"KNNBaseline_Item\")\n",
        "\n",
        "model_train_evaluation[\"KNNBaseline_Item\"] = train_result\n",
        "model_test_evaluation[\"KNNBaseline_Item\"] = test_result"
      ],
      "execution_count": 59,
      "outputs": [
        {
          "output_type": "stream",
          "text": [
            "Estimating biases using sgd...\n",
            "Computing the pearson_baseline similarity matrix...\n",
            "Done computing similarity matrix.\n",
            "--------------------------------------------------\n",
            "TRAIN DATA\n",
            "RMSE = 0.014369593492145\n",
            "--------------------------------------------------\n",
            "TEST DATA\n",
            "RMSE = 0.980337997019639\n",
            "--------------------------------------------------\n",
            "Time Taken = 0:00:03.819896\n"
          ],
          "name": "stdout"
        }
      ]
    },
    {
      "cell_type": "code",
      "metadata": {
        "id": "LuGS-2zbWPrt"
      },
      "source": [
        ""
      ],
      "execution_count": null,
      "outputs": []
    },
    {
      "cell_type": "markdown",
      "metadata": {
        "id": "C8IDkv_nOdBz"
      },
      "source": [
        "##Model with Pyspark ALS"
      ]
    },
    {
      "cell_type": "code",
      "metadata": {
        "id": "jWAxWX6hKBBo"
      },
      "source": [
        "!apt-get install openjdk-8-jdk-headless -qq > /dev/null"
      ],
      "execution_count": 27,
      "outputs": []
    },
    {
      "cell_type": "code",
      "metadata": {
        "colab": {
          "base_uri": "https://localhost:8080/"
        },
        "id": "TVbnmeENKCEP",
        "outputId": "41825743-efe5-409d-ecfc-802ec0496001"
      },
      "source": [
        "!wget -q https://archive.apache.org/dist/spark/spark-3.1.2/spark-3.1.2-bin-hadoop2.7.tgz"
      ],
      "execution_count": 32,
      "outputs": [
        {
          "output_type": "stream",
          "text": [
            "^C\n"
          ],
          "name": "stdout"
        }
      ]
    },
    {
      "cell_type": "code",
      "metadata": {
        "colab": {
          "base_uri": "https://localhost:8080/"
        },
        "id": "G_teuGIFKJuA",
        "outputId": "24cd53fd-abc9-4c26-ef0a-be526c2ea9e0"
      },
      "source": [
        "!tar xf spark-3.1.2-bin-hadoop2.7.tgz"
      ],
      "execution_count": 31,
      "outputs": [
        {
          "output_type": "stream",
          "text": [
            "tar: spark-3.1.2-bin-hadoop2.7.tgz: Cannot open: No such file or directory\n",
            "tar: Error is not recoverable: exiting now\n"
          ],
          "name": "stdout"
        }
      ]
    },
    {
      "cell_type": "code",
      "metadata": {
        "colab": {
          "base_uri": "https://localhost:8080/"
        },
        "id": "iahpOigFIQZU",
        "outputId": "fe9b680e-502f-4b9a-cb31-8a57831be9b2"
      },
      "source": [
        "!pip install pyspark"
      ],
      "execution_count": 21,
      "outputs": [
        {
          "output_type": "stream",
          "text": [
            "Collecting pyspark\n",
            "  Downloading pyspark-3.1.2.tar.gz (212.4 MB)\n",
            "\u001b[K     |████████████████████████████████| 212.4 MB 70 kB/s \n",
            "\u001b[?25hCollecting py4j==0.10.9\n",
            "  Downloading py4j-0.10.9-py2.py3-none-any.whl (198 kB)\n",
            "\u001b[K     |████████████████████████████████| 198 kB 37.9 MB/s \n",
            "\u001b[?25hBuilding wheels for collected packages: pyspark\n",
            "  Building wheel for pyspark (setup.py) ... \u001b[?25l\u001b[?25hdone\n",
            "  Created wheel for pyspark: filename=pyspark-3.1.2-py2.py3-none-any.whl size=212880768 sha256=2bf6fea6631c22130298cfcdbc37d09b1ecd5dfda39af82a2537316f8e84d611\n",
            "  Stored in directory: /root/.cache/pip/wheels/a5/0a/c1/9561f6fecb759579a7d863dcd846daaa95f598744e71b02c77\n",
            "Successfully built pyspark\n",
            "Installing collected packages: py4j, pyspark\n",
            "Successfully installed py4j-0.10.9 pyspark-3.1.2\n"
          ],
          "name": "stdout"
        }
      ]
    },
    {
      "cell_type": "code",
      "metadata": {
        "id": "rmeqBtMLGi_4"
      },
      "source": [
        "from pyspark.ml.evaluation import RegressionEvaluator\n",
        "from pyspark.ml.recommendation import ALS\n",
        "from pyspark.ml.tuning import ParamGridBuilder, CrossValidator# Create ALS model"
      ],
      "execution_count": 24,
      "outputs": []
    },
    {
      "cell_type": "code",
      "metadata": {
        "colab": {
          "base_uri": "https://localhost:8080/",
          "height": 311
        },
        "id": "wm5XVyMoJPP0",
        "outputId": "c81f4df3-6489-4d4a-e13b-46b8ecd62481"
      },
      "source": [
        "als = ALS()"
      ],
      "execution_count": 26,
      "outputs": [
        {
          "output_type": "error",
          "ename": "AttributeError",
          "evalue": "ignored",
          "traceback": [
            "\u001b[0;31m---------------------------------------------------------------------------\u001b[0m",
            "\u001b[0;31mAttributeError\u001b[0m                            Traceback (most recent call last)",
            "\u001b[0;32m<ipython-input-26-4f74d3a2d3fd>\u001b[0m in \u001b[0;36m<module>\u001b[0;34m()\u001b[0m\n\u001b[0;32m----> 1\u001b[0;31m \u001b[0mals\u001b[0m \u001b[0;34m=\u001b[0m \u001b[0mALS\u001b[0m\u001b[0;34m(\u001b[0m\u001b[0;34m)\u001b[0m\u001b[0;34m\u001b[0m\u001b[0;34m\u001b[0m\u001b[0m\n\u001b[0m",
            "\u001b[0;32m/usr/local/lib/python3.7/dist-packages/pyspark/__init__.py\u001b[0m in \u001b[0;36mwrapper\u001b[0;34m(self, *args, **kwargs)\u001b[0m\n\u001b[1;32m    112\u001b[0m             \u001b[0;32mraise\u001b[0m \u001b[0mTypeError\u001b[0m\u001b[0;34m(\u001b[0m\u001b[0;34m\"Method %s forces keyword arguments.\"\u001b[0m \u001b[0;34m%\u001b[0m \u001b[0mfunc\u001b[0m\u001b[0;34m.\u001b[0m\u001b[0m__name__\u001b[0m\u001b[0;34m)\u001b[0m\u001b[0;34m\u001b[0m\u001b[0;34m\u001b[0m\u001b[0m\n\u001b[1;32m    113\u001b[0m         \u001b[0mself\u001b[0m\u001b[0;34m.\u001b[0m\u001b[0m_input_kwargs\u001b[0m \u001b[0;34m=\u001b[0m \u001b[0mkwargs\u001b[0m\u001b[0;34m\u001b[0m\u001b[0;34m\u001b[0m\u001b[0m\n\u001b[0;32m--> 114\u001b[0;31m         \u001b[0;32mreturn\u001b[0m \u001b[0mfunc\u001b[0m\u001b[0;34m(\u001b[0m\u001b[0mself\u001b[0m\u001b[0;34m,\u001b[0m \u001b[0;34m**\u001b[0m\u001b[0mkwargs\u001b[0m\u001b[0;34m)\u001b[0m\u001b[0;34m\u001b[0m\u001b[0;34m\u001b[0m\u001b[0m\n\u001b[0m\u001b[1;32m    115\u001b[0m     \u001b[0;32mreturn\u001b[0m \u001b[0mwrapper\u001b[0m\u001b[0;34m\u001b[0m\u001b[0;34m\u001b[0m\u001b[0m\n\u001b[1;32m    116\u001b[0m \u001b[0;34m\u001b[0m\u001b[0m\n",
            "\u001b[0;32m/usr/local/lib/python3.7/dist-packages/pyspark/ml/recommendation.py\u001b[0m in \u001b[0;36m__init__\u001b[0;34m(self, rank, maxIter, regParam, numUserBlocks, numItemBlocks, implicitPrefs, alpha, userCol, itemCol, seed, ratingCol, nonnegative, checkpointInterval, intermediateStorageLevel, finalStorageLevel, coldStartStrategy, blockSize)\u001b[0m\n\u001b[1;32m    314\u001b[0m         \"\"\"\n\u001b[1;32m    315\u001b[0m         \u001b[0msuper\u001b[0m\u001b[0;34m(\u001b[0m\u001b[0mALS\u001b[0m\u001b[0;34m,\u001b[0m \u001b[0mself\u001b[0m\u001b[0;34m)\u001b[0m\u001b[0;34m.\u001b[0m\u001b[0m__init__\u001b[0m\u001b[0;34m(\u001b[0m\u001b[0;34m)\u001b[0m\u001b[0;34m\u001b[0m\u001b[0;34m\u001b[0m\u001b[0m\n\u001b[0;32m--> 316\u001b[0;31m         \u001b[0mself\u001b[0m\u001b[0;34m.\u001b[0m\u001b[0m_java_obj\u001b[0m \u001b[0;34m=\u001b[0m \u001b[0mself\u001b[0m\u001b[0;34m.\u001b[0m\u001b[0m_new_java_obj\u001b[0m\u001b[0;34m(\u001b[0m\u001b[0;34m\"org.apache.spark.ml.recommendation.ALS\"\u001b[0m\u001b[0;34m,\u001b[0m \u001b[0mself\u001b[0m\u001b[0;34m.\u001b[0m\u001b[0muid\u001b[0m\u001b[0;34m)\u001b[0m\u001b[0;34m\u001b[0m\u001b[0;34m\u001b[0m\u001b[0m\n\u001b[0m\u001b[1;32m    317\u001b[0m         \u001b[0mkwargs\u001b[0m \u001b[0;34m=\u001b[0m \u001b[0mself\u001b[0m\u001b[0;34m.\u001b[0m\u001b[0m_input_kwargs\u001b[0m\u001b[0;34m\u001b[0m\u001b[0;34m\u001b[0m\u001b[0m\n\u001b[1;32m    318\u001b[0m         \u001b[0mself\u001b[0m\u001b[0;34m.\u001b[0m\u001b[0msetParams\u001b[0m\u001b[0;34m(\u001b[0m\u001b[0;34m**\u001b[0m\u001b[0mkwargs\u001b[0m\u001b[0;34m)\u001b[0m\u001b[0;34m\u001b[0m\u001b[0;34m\u001b[0m\u001b[0m\n",
            "\u001b[0;32m/usr/local/lib/python3.7/dist-packages/pyspark/ml/wrapper.py\u001b[0m in \u001b[0;36m_new_java_obj\u001b[0;34m(java_class, *args)\u001b[0m\n\u001b[1;32m     60\u001b[0m         \"\"\"\n\u001b[1;32m     61\u001b[0m         \u001b[0msc\u001b[0m \u001b[0;34m=\u001b[0m \u001b[0mSparkContext\u001b[0m\u001b[0;34m.\u001b[0m\u001b[0m_active_spark_context\u001b[0m\u001b[0;34m\u001b[0m\u001b[0;34m\u001b[0m\u001b[0m\n\u001b[0;32m---> 62\u001b[0;31m         \u001b[0mjava_obj\u001b[0m \u001b[0;34m=\u001b[0m \u001b[0m_jvm\u001b[0m\u001b[0;34m(\u001b[0m\u001b[0;34m)\u001b[0m\u001b[0;34m\u001b[0m\u001b[0;34m\u001b[0m\u001b[0m\n\u001b[0m\u001b[1;32m     63\u001b[0m         \u001b[0;32mfor\u001b[0m \u001b[0mname\u001b[0m \u001b[0;32min\u001b[0m \u001b[0mjava_class\u001b[0m\u001b[0;34m.\u001b[0m\u001b[0msplit\u001b[0m\u001b[0;34m(\u001b[0m\u001b[0;34m\".\"\u001b[0m\u001b[0;34m)\u001b[0m\u001b[0;34m:\u001b[0m\u001b[0;34m\u001b[0m\u001b[0;34m\u001b[0m\u001b[0m\n\u001b[1;32m     64\u001b[0m             \u001b[0mjava_obj\u001b[0m \u001b[0;34m=\u001b[0m \u001b[0mgetattr\u001b[0m\u001b[0;34m(\u001b[0m\u001b[0mjava_obj\u001b[0m\u001b[0;34m,\u001b[0m \u001b[0mname\u001b[0m\u001b[0;34m)\u001b[0m\u001b[0;34m\u001b[0m\u001b[0;34m\u001b[0m\u001b[0m\n",
            "\u001b[0;32m/usr/local/lib/python3.7/dist-packages/pyspark/ml/util.py\u001b[0m in \u001b[0;36m_jvm\u001b[0;34m()\u001b[0m\n\u001b[1;32m     36\u001b[0m         \u001b[0;32mreturn\u001b[0m \u001b[0mjvm\u001b[0m\u001b[0;34m\u001b[0m\u001b[0;34m\u001b[0m\u001b[0m\n\u001b[1;32m     37\u001b[0m     \u001b[0;32melse\u001b[0m\u001b[0;34m:\u001b[0m\u001b[0;34m\u001b[0m\u001b[0;34m\u001b[0m\u001b[0m\n\u001b[0;32m---> 38\u001b[0;31m         \u001b[0;32mraise\u001b[0m \u001b[0mAttributeError\u001b[0m\u001b[0;34m(\u001b[0m\u001b[0;34m\"Cannot load _jvm from SparkContext. Is SparkContext initialized?\"\u001b[0m\u001b[0;34m)\u001b[0m\u001b[0;34m\u001b[0m\u001b[0;34m\u001b[0m\u001b[0m\n\u001b[0m\u001b[1;32m     39\u001b[0m \u001b[0;34m\u001b[0m\u001b[0m\n\u001b[1;32m     40\u001b[0m \u001b[0;34m\u001b[0m\u001b[0m\n",
            "\u001b[0;31mAttributeError\u001b[0m: Cannot load _jvm from SparkContext. Is SparkContext initialized?"
          ]
        }
      ]
    }
  ]
}