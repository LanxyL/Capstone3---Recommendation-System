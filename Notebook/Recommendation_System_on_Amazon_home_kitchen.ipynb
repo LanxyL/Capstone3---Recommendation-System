{
  "nbformat": 4,
  "nbformat_minor": 0,
  "metadata": {
    "colab": {
      "name": "Recommendation_System_on_Amazon_home_kitchen.ipynb",
      "provenance": [],
      "authorship_tag": "ABX9TyPTqt1S9CJ/PAKjV8Atz/xt",
      "include_colab_link": true
    },
    "kernelspec": {
      "name": "python3",
      "display_name": "Python 3"
    },
    "language_info": {
      "name": "python"
    }
  },
  "cells": [
    {
      "cell_type": "markdown",
      "metadata": {
        "id": "view-in-github",
        "colab_type": "text"
      },
      "source": [
        "<a href=\"https://colab.research.google.com/github/LanxyL/Capstone3---Recommendation-System/blob/main/Notebook/Recommendation_System_on_Amazon_home_kitchen.ipynb\" target=\"_parent\"><img src=\"https://colab.research.google.com/assets/colab-badge.svg\" alt=\"Open In Colab\"/></a>"
      ]
    },
    {
      "cell_type": "code",
      "metadata": {
        "colab": {
          "base_uri": "https://localhost:8080/"
        },
        "id": "Tx-Bj4OJi4Kn",
        "outputId": "765ccbf7-b7c7-448f-b522-756b86f6e47f"
      },
      "source": [
        "from google.colab import drive\n",
        "drive.mount('/content/drive')"
      ],
      "execution_count": 2,
      "outputs": [
        {
          "output_type": "stream",
          "text": [
            "Mounted at /content/drive\n"
          ],
          "name": "stdout"
        }
      ]
    },
    {
      "cell_type": "code",
      "metadata": {
        "id": "j25VINI4kg0Z"
      },
      "source": [
        "import pandas as pd\n",
        "import gzip\n",
        "\n",
        "def parse(path):\n",
        "  g = gzip.open(path, 'rb')\n",
        "  for l in g:\n",
        "    yield eval(l)\n",
        "\n",
        "def getDF(path):\n",
        "  i = 0\n",
        "  df = {}\n",
        "  for d in parse(path):\n",
        "    df[i] = d\n",
        "    i += 1\n",
        "  return pd.DataFrame.from_dict(df, orient='index')\n",
        "\n",
        "reviews = getDF('drive/My Drive/reviews_Home_and_Kitchen.json.gz')\n",
        "meta = getDF('drive/My Drive/meta_Home_and_Kitchen.json.gz')"
      ],
      "execution_count": 3,
      "outputs": []
    },
    {
      "cell_type": "code",
      "metadata": {
        "colab": {
          "base_uri": "https://localhost:8080/",
          "height": 289
        },
        "id": "jyYi0t15sZc2",
        "outputId": "f26a0495-1329-4663-a9fe-a909adf69c72"
      },
      "source": [
        "reviews.head(5)"
      ],
      "execution_count": 4,
      "outputs": [
        {
          "output_type": "execute_result",
          "data": {
            "text/html": [
              "<div>\n",
              "<style scoped>\n",
              "    .dataframe tbody tr th:only-of-type {\n",
              "        vertical-align: middle;\n",
              "    }\n",
              "\n",
              "    .dataframe tbody tr th {\n",
              "        vertical-align: top;\n",
              "    }\n",
              "\n",
              "    .dataframe thead th {\n",
              "        text-align: right;\n",
              "    }\n",
              "</style>\n",
              "<table border=\"1\" class=\"dataframe\">\n",
              "  <thead>\n",
              "    <tr style=\"text-align: right;\">\n",
              "      <th></th>\n",
              "      <th>reviewerID</th>\n",
              "      <th>asin</th>\n",
              "      <th>reviewerName</th>\n",
              "      <th>helpful</th>\n",
              "      <th>reviewText</th>\n",
              "      <th>overall</th>\n",
              "      <th>summary</th>\n",
              "      <th>unixReviewTime</th>\n",
              "      <th>reviewTime</th>\n",
              "    </tr>\n",
              "  </thead>\n",
              "  <tbody>\n",
              "    <tr>\n",
              "      <th>0</th>\n",
              "      <td>A210NOCSTBT4OD</td>\n",
              "      <td>0076144011</td>\n",
              "      <td>Sheila</td>\n",
              "      <td>[0, 0]</td>\n",
              "      <td>Have you ever thought about how you met your b...</td>\n",
              "      <td>4.0</td>\n",
              "      <td>Lovely</td>\n",
              "      <td>1349308800</td>\n",
              "      <td>10 4, 2012</td>\n",
              "    </tr>\n",
              "    <tr>\n",
              "      <th>1</th>\n",
              "      <td>A28ILV4TOG8BH2</td>\n",
              "      <td>0130350591</td>\n",
              "      <td>ccjensen</td>\n",
              "      <td>[0, 0]</td>\n",
              "      <td>The butter dish is serving us well, and keepin...</td>\n",
              "      <td>5.0</td>\n",
              "      <td>Nice looking, and keeps the butter fresh</td>\n",
              "      <td>1300752000</td>\n",
              "      <td>03 22, 2011</td>\n",
              "    </tr>\n",
              "    <tr>\n",
              "      <th>2</th>\n",
              "      <td>A31B4D7URW4DNZ</td>\n",
              "      <td>0307394530</td>\n",
              "      <td>3Gigi3</td>\n",
              "      <td>[11, 16]</td>\n",
              "      <td>I anxiously waited for the book I had pre orde...</td>\n",
              "      <td>2.0</td>\n",
              "      <td>Mother of the Bride</td>\n",
              "      <td>1214784000</td>\n",
              "      <td>06 30, 2008</td>\n",
              "    </tr>\n",
              "    <tr>\n",
              "      <th>3</th>\n",
              "      <td>A2HU0RPDRZZOP1</td>\n",
              "      <td>0307394530</td>\n",
              "      <td>Alexey Leontev</td>\n",
              "      <td>[0, 0]</td>\n",
              "      <td>Fantastic book, a lot of good, original recipe...</td>\n",
              "      <td>5.0</td>\n",
              "      <td>amazing book</td>\n",
              "      <td>1277337600</td>\n",
              "      <td>06 24, 2010</td>\n",
              "    </tr>\n",
              "    <tr>\n",
              "      <th>4</th>\n",
              "      <td>A7J0XOW7DYBBD</td>\n",
              "      <td>0307394530</td>\n",
              "      <td>Allan Mar Cariaso</td>\n",
              "      <td>[0, 0]</td>\n",
              "      <td>Can't wait to try all the amazing techniques. ...</td>\n",
              "      <td>5.0</td>\n",
              "      <td>Very helpful</td>\n",
              "      <td>1393113600</td>\n",
              "      <td>02 23, 2014</td>\n",
              "    </tr>\n",
              "  </tbody>\n",
              "</table>\n",
              "</div>"
            ],
            "text/plain": [
              "       reviewerID        asin  ... unixReviewTime   reviewTime\n",
              "0  A210NOCSTBT4OD  0076144011  ...     1349308800   10 4, 2012\n",
              "1  A28ILV4TOG8BH2  0130350591  ...     1300752000  03 22, 2011\n",
              "2  A31B4D7URW4DNZ  0307394530  ...     1214784000  06 30, 2008\n",
              "3  A2HU0RPDRZZOP1  0307394530  ...     1277337600  06 24, 2010\n",
              "4   A7J0XOW7DYBBD  0307394530  ...     1393113600  02 23, 2014\n",
              "\n",
              "[5 rows x 9 columns]"
            ]
          },
          "metadata": {
            "tags": []
          },
          "execution_count": 4
        }
      ]
    },
    {
      "cell_type": "code",
      "metadata": {
        "colab": {
          "base_uri": "https://localhost:8080/",
          "height": 357
        },
        "id": "LkMWVYdhsbKt",
        "outputId": "bff5fae6-bf09-4642-e615-c2272bc72889"
      },
      "source": [
        "meta.head(5)"
      ],
      "execution_count": 5,
      "outputs": [
        {
          "output_type": "execute_result",
          "data": {
            "text/html": [
              "<div>\n",
              "<style scoped>\n",
              "    .dataframe tbody tr th:only-of-type {\n",
              "        vertical-align: middle;\n",
              "    }\n",
              "\n",
              "    .dataframe tbody tr th {\n",
              "        vertical-align: top;\n",
              "    }\n",
              "\n",
              "    .dataframe thead th {\n",
              "        text-align: right;\n",
              "    }\n",
              "</style>\n",
              "<table border=\"1\" class=\"dataframe\">\n",
              "  <thead>\n",
              "    <tr style=\"text-align: right;\">\n",
              "      <th></th>\n",
              "      <th>asin</th>\n",
              "      <th>salesRank</th>\n",
              "      <th>imUrl</th>\n",
              "      <th>categories</th>\n",
              "      <th>title</th>\n",
              "      <th>description</th>\n",
              "      <th>related</th>\n",
              "      <th>price</th>\n",
              "      <th>brand</th>\n",
              "    </tr>\n",
              "  </thead>\n",
              "  <tbody>\n",
              "    <tr>\n",
              "      <th>0</th>\n",
              "      <td>0076144011</td>\n",
              "      <td>{'Books': 6285595}</td>\n",
              "      <td>http://g-ecx.images-amazon.com/images/G/01/x-s...</td>\n",
              "      <td>[[Home &amp; Kitchen]]</td>\n",
              "      <td>Ninjas, Piranhas, and Galileo</td>\n",
              "      <td>NaN</td>\n",
              "      <td>NaN</td>\n",
              "      <td>NaN</td>\n",
              "      <td>NaN</td>\n",
              "    </tr>\n",
              "    <tr>\n",
              "      <th>1</th>\n",
              "      <td>0130350591</td>\n",
              "      <td>{'Kitchen &amp; Dining': 459680}</td>\n",
              "      <td>http://ecx.images-amazon.com/images/I/21zcx6RC...</td>\n",
              "      <td>[[Home &amp; Kitchen, Kitchen &amp; Dining, Dining &amp; E...</td>\n",
              "      <td>Le Creuset Kiwi (Green) Butter Dish Stoneware</td>\n",
              "      <td>Each piece of Le Creuset dinnerware is crafted...</td>\n",
              "      <td>NaN</td>\n",
              "      <td>NaN</td>\n",
              "      <td>NaN</td>\n",
              "    </tr>\n",
              "    <tr>\n",
              "      <th>2</th>\n",
              "      <td>0307394530</td>\n",
              "      <td>{'Arts, Crafts &amp; Sewing': 3597}</td>\n",
              "      <td>http://ecx.images-amazon.com/images/I/51A4FWuj...</td>\n",
              "      <td>[[Home &amp; Kitchen, Artwork, Posters &amp; Prints]]</td>\n",
              "      <td>Martha Stewart's Wedding Cakes</td>\n",
              "      <td>Of all the decisions that go into planning a w...</td>\n",
              "      <td>{'also_bought': ['144630163X', '1402717733', '...</td>\n",
              "      <td>14.99</td>\n",
              "      <td>Random House</td>\n",
              "    </tr>\n",
              "    <tr>\n",
              "      <th>3</th>\n",
              "      <td>0439903491</td>\n",
              "      <td>{'Software': 7065}</td>\n",
              "      <td>http://ecx.images-amazon.com/images/I/61tVxcko...</td>\n",
              "      <td>[[Home &amp; Kitchen, Artwork, Posters &amp; Prints]]</td>\n",
              "      <td>NaN</td>\n",
              "      <td>Shiver me timbers! Solve I SPY pirate picture ...</td>\n",
              "      <td>{'also_viewed': ['B000YFSZU8', 'B0016KWZB0', '...</td>\n",
              "      <td>29.99</td>\n",
              "      <td>NaN</td>\n",
              "    </tr>\n",
              "    <tr>\n",
              "      <th>4</th>\n",
              "      <td>0578060604</td>\n",
              "      <td>NaN</td>\n",
              "      <td>http://ecx.images-amazon.com/images/I/41aCELWJ...</td>\n",
              "      <td>[[Home &amp; Kitchen, Furniture, Kitchen &amp; Dining ...</td>\n",
              "      <td>Build A Maloof Inspired Low Back Dining Chair ...</td>\n",
              "      <td>The Maloofinspired Low Back Dining Chair is no...</td>\n",
              "      <td>{'also_viewed': ['B004IO6RS8']}</td>\n",
              "      <td>NaN</td>\n",
              "      <td>NaN</td>\n",
              "    </tr>\n",
              "  </tbody>\n",
              "</table>\n",
              "</div>"
            ],
            "text/plain": [
              "         asin                        salesRank  ...  price         brand\n",
              "0  0076144011               {'Books': 6285595}  ...    NaN           NaN\n",
              "1  0130350591     {'Kitchen & Dining': 459680}  ...    NaN           NaN\n",
              "2  0307394530  {'Arts, Crafts & Sewing': 3597}  ...  14.99  Random House\n",
              "3  0439903491               {'Software': 7065}  ...  29.99           NaN\n",
              "4  0578060604                              NaN  ...    NaN           NaN\n",
              "\n",
              "[5 rows x 9 columns]"
            ]
          },
          "metadata": {
            "tags": []
          },
          "execution_count": 5
        }
      ]
    },
    {
      "cell_type": "code",
      "metadata": {
        "colab": {
          "base_uri": "https://localhost:8080/"
        },
        "id": "ZALY4SOwsd6-",
        "outputId": "9b5c6825-1c3e-4aa4-89b4-1d8aa9396049"
      },
      "source": [
        "reviews.info()"
      ],
      "execution_count": 6,
      "outputs": [
        {
          "output_type": "stream",
          "text": [
            "<class 'pandas.core.frame.DataFrame'>\n",
            "Int64Index: 4253926 entries, 0 to 4253925\n",
            "Data columns (total 9 columns):\n",
            " #   Column          Dtype  \n",
            "---  ------          -----  \n",
            " 0   reviewerID      object \n",
            " 1   asin            object \n",
            " 2   reviewerName    object \n",
            " 3   helpful         object \n",
            " 4   reviewText      object \n",
            " 5   overall         float64\n",
            " 6   summary         object \n",
            " 7   unixReviewTime  int64  \n",
            " 8   reviewTime      object \n",
            "dtypes: float64(1), int64(1), object(7)\n",
            "memory usage: 324.5+ MB\n"
          ],
          "name": "stdout"
        }
      ]
    },
    {
      "cell_type": "code",
      "metadata": {
        "colab": {
          "base_uri": "https://localhost:8080/"
        },
        "id": "tUD5Ann_shtU",
        "outputId": "840a9e9a-eccc-4e22-9c97-5bc9a2157af7"
      },
      "source": [
        "meta.info()"
      ],
      "execution_count": 7,
      "outputs": [
        {
          "output_type": "stream",
          "text": [
            "<class 'pandas.core.frame.DataFrame'>\n",
            "Int64Index: 436988 entries, 0 to 436987\n",
            "Data columns (total 9 columns):\n",
            " #   Column       Non-Null Count   Dtype  \n",
            "---  ------       --------------   -----  \n",
            " 0   asin         436988 non-null  object \n",
            " 1   salesRank    414167 non-null  object \n",
            " 2   imUrl        436617 non-null  object \n",
            " 3   categories   436988 non-null  object \n",
            " 4   title        435249 non-null  object \n",
            " 5   description  405793 non-null  object \n",
            " 6   related      300857 non-null  object \n",
            " 7   price        285168 non-null  float64\n",
            " 8   brand        152611 non-null  object \n",
            "dtypes: float64(1), object(8)\n",
            "memory usage: 33.3+ MB\n"
          ],
          "name": "stdout"
        }
      ]
    },
    {
      "cell_type": "code",
      "metadata": {
        "colab": {
          "base_uri": "https://localhost:8080/"
        },
        "id": "m6BFtKsssjP0",
        "outputId": "41b3baae-718e-4203-e34e-ae0b0a90dcbb"
      },
      "source": [
        "#Convert 'unixReviewTime' column to datetime object\n",
        "from datetime import datetime\n",
        "\n",
        "date_times = lambda x: datetime.fromtimestamp(x).strftime('%m-%d-%Y')\n",
        "reviews.unixReviewTime = reviews.unixReviewTime.apply(date_times)\n",
        "reviews.unixReviewTime.head(5)"
      ],
      "execution_count": 8,
      "outputs": [
        {
          "output_type": "execute_result",
          "data": {
            "text/plain": [
              "0    10-04-2012\n",
              "1    03-22-2011\n",
              "2    06-30-2008\n",
              "3    06-24-2010\n",
              "4    02-23-2014\n",
              "Name: unixReviewTime, dtype: object"
            ]
          },
          "metadata": {
            "tags": []
          },
          "execution_count": 8
        }
      ]
    },
    {
      "cell_type": "code",
      "metadata": {
        "id": "uhpRDeMIsomp"
      },
      "source": [
        "#Drop redundant column which also represents review time\n",
        "reviews.drop('reviewTime', axis=1, inplace=True)"
      ],
      "execution_count": 9,
      "outputs": []
    },
    {
      "cell_type": "code",
      "metadata": {
        "id": "mgBc1E15tzj6"
      },
      "source": [
        "#Reviewer can be identified by reviewerID, drop the reviewerName column which is redundant\n",
        "reviews.drop('reviewerName', axis=1, inplace=True)"
      ],
      "execution_count": 15,
      "outputs": []
    },
    {
      "cell_type": "code",
      "metadata": {
        "id": "PTOVtrnUuRo4"
      },
      "source": [
        "#Drop imURL since it will not be used for the recommendation system\n",
        "meta.drop('imUrl', axis=1, inplace=True)"
      ],
      "execution_count": 21,
      "outputs": []
    },
    {
      "cell_type": "code",
      "metadata": {
        "id": "9UsBNLLOsrFH"
      },
      "source": [
        "combined = pd.merge(reviews, meta,on='asin', how='left')"
      ],
      "execution_count": 22,
      "outputs": []
    },
    {
      "cell_type": "code",
      "metadata": {
        "colab": {
          "base_uri": "https://localhost:8080/",
          "height": 585
        },
        "id": "VLCWqoIZstyM",
        "outputId": "c1676c34-f7c0-4b7a-ba90-6b0301ec9c3e"
      },
      "source": [
        "combined.head(5).T"
      ],
      "execution_count": 23,
      "outputs": [
        {
          "output_type": "execute_result",
          "data": {
            "text/html": [
              "<div>\n",
              "<style scoped>\n",
              "    .dataframe tbody tr th:only-of-type {\n",
              "        vertical-align: middle;\n",
              "    }\n",
              "\n",
              "    .dataframe tbody tr th {\n",
              "        vertical-align: top;\n",
              "    }\n",
              "\n",
              "    .dataframe thead th {\n",
              "        text-align: right;\n",
              "    }\n",
              "</style>\n",
              "<table border=\"1\" class=\"dataframe\">\n",
              "  <thead>\n",
              "    <tr style=\"text-align: right;\">\n",
              "      <th></th>\n",
              "      <th>0</th>\n",
              "      <th>1</th>\n",
              "      <th>2</th>\n",
              "      <th>3</th>\n",
              "      <th>4</th>\n",
              "    </tr>\n",
              "  </thead>\n",
              "  <tbody>\n",
              "    <tr>\n",
              "      <th>reviewerID</th>\n",
              "      <td>A210NOCSTBT4OD</td>\n",
              "      <td>A28ILV4TOG8BH2</td>\n",
              "      <td>A31B4D7URW4DNZ</td>\n",
              "      <td>A2HU0RPDRZZOP1</td>\n",
              "      <td>A7J0XOW7DYBBD</td>\n",
              "    </tr>\n",
              "    <tr>\n",
              "      <th>asin</th>\n",
              "      <td>0076144011</td>\n",
              "      <td>0130350591</td>\n",
              "      <td>0307394530</td>\n",
              "      <td>0307394530</td>\n",
              "      <td>0307394530</td>\n",
              "    </tr>\n",
              "    <tr>\n",
              "      <th>helpful</th>\n",
              "      <td>[0, 0]</td>\n",
              "      <td>[0, 0]</td>\n",
              "      <td>[11, 16]</td>\n",
              "      <td>[0, 0]</td>\n",
              "      <td>[0, 0]</td>\n",
              "    </tr>\n",
              "    <tr>\n",
              "      <th>reviewText</th>\n",
              "      <td>Have you ever thought about how you met your b...</td>\n",
              "      <td>The butter dish is serving us well, and keepin...</td>\n",
              "      <td>I anxiously waited for the book I had pre orde...</td>\n",
              "      <td>Fantastic book, a lot of good, original recipe...</td>\n",
              "      <td>Can't wait to try all the amazing techniques. ...</td>\n",
              "    </tr>\n",
              "    <tr>\n",
              "      <th>overall</th>\n",
              "      <td>4</td>\n",
              "      <td>5</td>\n",
              "      <td>2</td>\n",
              "      <td>5</td>\n",
              "      <td>5</td>\n",
              "    </tr>\n",
              "    <tr>\n",
              "      <th>summary</th>\n",
              "      <td>Lovely</td>\n",
              "      <td>Nice looking, and keeps the butter fresh</td>\n",
              "      <td>Mother of the Bride</td>\n",
              "      <td>amazing book</td>\n",
              "      <td>Very helpful</td>\n",
              "    </tr>\n",
              "    <tr>\n",
              "      <th>unixReviewTime</th>\n",
              "      <td>10-04-2012</td>\n",
              "      <td>03-22-2011</td>\n",
              "      <td>06-30-2008</td>\n",
              "      <td>06-24-2010</td>\n",
              "      <td>02-23-2014</td>\n",
              "    </tr>\n",
              "    <tr>\n",
              "      <th>salesRank</th>\n",
              "      <td>{'Books': 6285595}</td>\n",
              "      <td>{'Kitchen &amp; Dining': 459680}</td>\n",
              "      <td>{'Arts, Crafts &amp; Sewing': 3597}</td>\n",
              "      <td>{'Arts, Crafts &amp; Sewing': 3597}</td>\n",
              "      <td>{'Arts, Crafts &amp; Sewing': 3597}</td>\n",
              "    </tr>\n",
              "    <tr>\n",
              "      <th>categories</th>\n",
              "      <td>[[Home &amp; Kitchen]]</td>\n",
              "      <td>[[Home &amp; Kitchen, Kitchen &amp; Dining, Dining &amp; E...</td>\n",
              "      <td>[[Home &amp; Kitchen, Artwork, Posters &amp; Prints]]</td>\n",
              "      <td>[[Home &amp; Kitchen, Artwork, Posters &amp; Prints]]</td>\n",
              "      <td>[[Home &amp; Kitchen, Artwork, Posters &amp; Prints]]</td>\n",
              "    </tr>\n",
              "    <tr>\n",
              "      <th>title</th>\n",
              "      <td>Ninjas, Piranhas, and Galileo</td>\n",
              "      <td>Le Creuset Kiwi (Green) Butter Dish Stoneware</td>\n",
              "      <td>Martha Stewart's Wedding Cakes</td>\n",
              "      <td>Martha Stewart's Wedding Cakes</td>\n",
              "      <td>Martha Stewart's Wedding Cakes</td>\n",
              "    </tr>\n",
              "    <tr>\n",
              "      <th>description</th>\n",
              "      <td>NaN</td>\n",
              "      <td>Each piece of Le Creuset dinnerware is crafted...</td>\n",
              "      <td>Of all the decisions that go into planning a w...</td>\n",
              "      <td>Of all the decisions that go into planning a w...</td>\n",
              "      <td>Of all the decisions that go into planning a w...</td>\n",
              "    </tr>\n",
              "    <tr>\n",
              "      <th>related</th>\n",
              "      <td>NaN</td>\n",
              "      <td>NaN</td>\n",
              "      <td>{'also_bought': ['144630163X', '1402717733', '...</td>\n",
              "      <td>{'also_bought': ['144630163X', '1402717733', '...</td>\n",
              "      <td>{'also_bought': ['144630163X', '1402717733', '...</td>\n",
              "    </tr>\n",
              "    <tr>\n",
              "      <th>price</th>\n",
              "      <td>NaN</td>\n",
              "      <td>NaN</td>\n",
              "      <td>14.99</td>\n",
              "      <td>14.99</td>\n",
              "      <td>14.99</td>\n",
              "    </tr>\n",
              "    <tr>\n",
              "      <th>brand</th>\n",
              "      <td>NaN</td>\n",
              "      <td>NaN</td>\n",
              "      <td>Random House</td>\n",
              "      <td>Random House</td>\n",
              "      <td>Random House</td>\n",
              "    </tr>\n",
              "  </tbody>\n",
              "</table>\n",
              "</div>"
            ],
            "text/plain": [
              "                                                                0  ...                                                  4\n",
              "reviewerID                                         A210NOCSTBT4OD  ...                                      A7J0XOW7DYBBD\n",
              "asin                                                   0076144011  ...                                         0307394530\n",
              "helpful                                                    [0, 0]  ...                                             [0, 0]\n",
              "reviewText      Have you ever thought about how you met your b...  ...  Can't wait to try all the amazing techniques. ...\n",
              "overall                                                         4  ...                                                  5\n",
              "summary                                                    Lovely  ...                                       Very helpful\n",
              "unixReviewTime                                         10-04-2012  ...                                         02-23-2014\n",
              "salesRank                                      {'Books': 6285595}  ...                    {'Arts, Crafts & Sewing': 3597}\n",
              "categories                                     [[Home & Kitchen]]  ...      [[Home & Kitchen, Artwork, Posters & Prints]]\n",
              "title                               Ninjas, Piranhas, and Galileo  ...                     Martha Stewart's Wedding Cakes\n",
              "description                                                   NaN  ...  Of all the decisions that go into planning a w...\n",
              "related                                                       NaN  ...  {'also_bought': ['144630163X', '1402717733', '...\n",
              "price                                                         NaN  ...                                              14.99\n",
              "brand                                                         NaN  ...                                       Random House\n",
              "\n",
              "[14 rows x 5 columns]"
            ]
          },
          "metadata": {
            "tags": []
          },
          "execution_count": 23
        }
      ]
    },
    {
      "cell_type": "code",
      "metadata": {
        "colab": {
          "base_uri": "https://localhost:8080/"
        },
        "id": "Qoj1v5eIsvmr",
        "outputId": "e68cf0c9-3088-4d39-d58f-bcc44b4dc28c"
      },
      "source": [
        "combined.info()"
      ],
      "execution_count": 24,
      "outputs": [
        {
          "output_type": "stream",
          "text": [
            "<class 'pandas.core.frame.DataFrame'>\n",
            "Int64Index: 4253926 entries, 0 to 4253925\n",
            "Data columns (total 14 columns):\n",
            " #   Column          Dtype  \n",
            "---  ------          -----  \n",
            " 0   reviewerID      object \n",
            " 1   asin            object \n",
            " 2   helpful         object \n",
            " 3   reviewText      object \n",
            " 4   overall         float64\n",
            " 5   summary         object \n",
            " 6   unixReviewTime  object \n",
            " 7   salesRank       object \n",
            " 8   categories      object \n",
            " 9   title           object \n",
            " 10  description     object \n",
            " 11  related         object \n",
            " 12  price           float64\n",
            " 13  brand           object \n",
            "dtypes: float64(2), object(12)\n",
            "memory usage: 486.8+ MB\n"
          ],
          "name": "stdout"
        }
      ]
    },
    {
      "cell_type": "markdown",
      "metadata": {
        "id": "NJNgrEihxAxm"
      },
      "source": [
        "## **Exploratory Data Analysis**"
      ]
    },
    {
      "cell_type": "code",
      "metadata": {
        "colab": {
          "base_uri": "https://localhost:8080/",
          "height": 366
        },
        "id": "RqfLoocHs6K_",
        "outputId": "71af477a-bdb8-4c92-8033-4e48c38d3ef9"
      },
      "source": [
        "import numpy as np \n",
        "import pandas as pd \n",
        "import seaborn as sns\n",
        "import matplotlib.pyplot as plt\n",
        "\n",
        "sns.countplot(combined.overall)\n",
        "plt.title('Amazon Review Rating')"
      ],
      "execution_count": 25,
      "outputs": [
        {
          "output_type": "stream",
          "text": [
            "/usr/local/lib/python3.7/dist-packages/seaborn/_decorators.py:43: FutureWarning: Pass the following variable as a keyword arg: x. From version 0.12, the only valid positional argument will be `data`, and passing other arguments without an explicit keyword will result in an error or misinterpretation.\n",
            "  FutureWarning\n"
          ],
          "name": "stderr"
        },
        {
          "output_type": "execute_result",
          "data": {
            "text/plain": [
              "Text(0.5, 1.0, 'Amazon Review Rating')"
            ]
          },
          "metadata": {
            "tags": []
          },
          "execution_count": 25
        },
        {
          "output_type": "display_data",
          "data": {
            "image/png": "[encoded data removed]",
            "text/plain": [
              "<Figure size 432x288 with 1 Axes>"
            ]
          },
          "metadata": {
            "tags": [],
            "needs_background": "light"
          }
        }
      ]
    },
    {
      "cell_type": "code",
      "metadata": {
        "colab": {
          "base_uri": "https://localhost:8080/"
        },
        "id": "MNnM6jT-s-H7",
        "outputId": "0f8e307f-9395-40a5-fbb6-493cfa803f81"
      },
      "source": [
        "combined.overall.describe()"
      ],
      "execution_count": 26,
      "outputs": [
        {
          "output_type": "execute_result",
          "data": {
            "text/plain": [
              "count    4.253926e+06\n",
              "mean     4.099486e+00\n",
              "std      1.331712e+00\n",
              "min      1.000000e+00\n",
              "25%      4.000000e+00\n",
              "50%      5.000000e+00\n",
              "75%      5.000000e+00\n",
              "max      5.000000e+00\n",
              "Name: overall, dtype: float64"
            ]
          },
          "metadata": {
            "tags": []
          },
          "execution_count": 26
        }
      ]
    },
    {
      "cell_type": "code",
      "metadata": {
        "id": "sucLMeMrxJcO"
      },
      "source": [
        "combined.unixReviewTime = pd.to_datetime(combined.unixReviewTime)"
      ],
      "execution_count": 32,
      "outputs": []
    },
    {
      "cell_type": "code",
      "metadata": {
        "id": "JJ_ddGwGzKxx"
      },
      "source": [
        "combined['year'] = combined.unixReviewTime.dt.year"
      ],
      "execution_count": 37,
      "outputs": []
    },
    {
      "cell_type": "code",
      "metadata": {
        "id": "B32xPRow0Rrp"
      },
      "source": [
        "combined['month'] = combined.unixReviewTime.dt.month"
      ],
      "execution_count": 39,
      "outputs": []
    },
    {
      "cell_type": "code",
      "metadata": {
        "colab": {
          "base_uri": "https://localhost:8080/",
          "height": 312
        },
        "id": "C8_7zVGN01hR",
        "outputId": "08d45097-37f1-43f9-8540-a724a3b742eb"
      },
      "source": [
        "yearly = combined.groupby(['year'])['reviewerID'].count().reset_index()\n",
        "yearly = yearly.rename(columns={'reviewerID':'no_of_reviews'})\n",
        "sns.lineplot(x='year', y='no_of_reviews', data=yearly)\n",
        "plt.title('Number of reviews over years')"
      ],
      "execution_count": 53,
      "outputs": [
        {
          "output_type": "execute_result",
          "data": {
            "text/plain": [
              "Text(0.5, 1.0, 'Number of reviews over years')"
            ]
          },
          "metadata": {
            "tags": []
          },
          "execution_count": 53
        },
        {
          "output_type": "display_data",
          "data": {
            "image/png": "[encoded data removed]",
            "text/plain": [
              "<Figure size 432x288 with 1 Axes>"
            ]
          },
          "metadata": {
            "tags": [],
            "needs_background": "light"
          }
        }
      ]
    },
    {
      "cell_type": "markdown",
      "metadata": {
        "id": "hKUEnchO2Gjo"
      },
      "source": [
        "The number of reviews increase over time. However, it went down from 2013 to 2014."
      ]
    },
    {
      "cell_type": "code",
      "metadata": {
        "colab": {
          "base_uri": "https://localhost:8080/",
          "height": 312
        },
        "id": "JQsdW8He2g2X",
        "outputId": "29dbada1-12d8-48cd-d95b-671efb42fcf4"
      },
      "source": [
        "monthly = combined.groupby(['month'])['reviewerID'].count().reset_index()\n",
        "monthly = monthly.rename(columns={'reviewerID':'no_of_reviews'})\n",
        "sns.barplot(x='month', y='no_of_reviews', data=monthly)\n",
        "plt.title('Number of reviews over month')"
      ],
      "execution_count": 55,
      "outputs": [
        {
          "output_type": "execute_result",
          "data": {
            "text/plain": [
              "Text(0.5, 1.0, 'Number of reviews over month')"
            ]
          },
          "metadata": {
            "tags": []
          },
          "execution_count": 55
        },
        {
          "output_type": "display_data",
          "data": {
            "image/png": "[encoded data removed]",
            "text/plain": [
              "<Figure size 432x288 with 1 Axes>"
            ]
          },
          "metadata": {
            "tags": [],
            "needs_background": "light"
          }
        }
      ]
    },
    {
      "cell_type": "markdown",
      "metadata": {
        "id": "gZTvcfTh3XGx"
      },
      "source": [
        "The number of reviews get highest on January and December. It might related to the holiday season. Before the holiday season, people were less interested on shopping.  "
      ]
    },
    {
      "cell_type": "code",
      "metadata": {
        "id": "RpcS54gL4BOw"
      },
      "source": [
        ""
      ],
      "execution_count": null,
      "outputs": []
    }
  ]
}