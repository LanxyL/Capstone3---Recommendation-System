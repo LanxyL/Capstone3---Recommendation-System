{
  "nbformat": 4,
  "nbformat_minor": 0,
  "metadata": {
    "colab": {
      "name": "Recommendation_System_on_Amazon_home_kitchen.ipynb",
      "provenance": [],
      "authorship_tag": "ABX9TyOIfltyuw9DQThgIJLYF8Nr",
      "include_colab_link": true
    },
    "kernelspec": {
      "name": "python3",
      "display_name": "Python 3"
    },
    "language_info": {
      "name": "python"
    }
  },
  "cells": [
    {
      "cell_type": "markdown",
      "metadata": {
        "id": "view-in-github",
        "colab_type": "text"
      },
      "source": [
        "<a href=\"https://colab.research.google.com/github/LanxyL/Capstone3---Recommendation-System/blob/main/Recommendation_System_on_Amazon_home_kitchen.ipynb\" target=\"_parent\"><img src=\"https://colab.research.google.com/assets/colab-badge.svg\" alt=\"Open In Colab\"/></a>"
      ]
    },
    {
      "cell_type": "code",
      "metadata": {
        "colab": {
          "base_uri": "https://localhost:8080/"
        },
        "id": "Tx-Bj4OJi4Kn",
        "outputId": "2633875b-03c0-47c4-d041-ba7786fd135b"
      },
      "source": [
        "from google.colab import drive\n",
        "drive.mount('/content/drive')"
      ],
      "execution_count": 1,
      "outputs": [
        {
          "output_type": "stream",
          "text": [
            "Drive already mounted at /content/drive; to attempt to forcibly remount, call drive.mount(\"/content/drive\", force_remount=True).\n"
          ],
          "name": "stdout"
        }
      ]
    },
    {
      "cell_type": "code",
      "metadata": {
        "id": "j25VINI4kg0Z"
      },
      "source": [
        "import pandas as pd\n",
        "import gzip\n",
        "\n",
        "def parse(path):\n",
        "  g = gzip.open(path, 'rb')\n",
        "  for l in g:\n",
        "    yield eval(l)\n",
        "\n",
        "def getDF(path):\n",
        "  i = 0\n",
        "  df = {}\n",
        "  for d in parse(path):\n",
        "    df[i] = d\n",
        "    i += 1\n",
        "  return pd.DataFrame.from_dict(df, orient='index')\n",
        "\n",
        "reviews = getDF('drive/My Drive/reviews_Home_and_Kitchen.json.gz')\n",
        "meta = getDF('drive/My Drive/meta_Home_and_Kitchen.json.gz')"
      ],
      "execution_count": 2,
      "outputs": []
    },
    {
      "cell_type": "code",
      "metadata": {
        "colab": {
          "base_uri": "https://localhost:8080/",
          "height": 289
        },
        "id": "jyYi0t15sZc2",
        "outputId": "4c914025-1f5e-40ec-d9a4-c5faa3217a32"
      },
      "source": [
        "reviews.head(5)"
      ],
      "execution_count": 3,
      "outputs": [
        {
          "output_type": "execute_result",
          "data": {
            "text/html": [
              "<div>\n",
              "<style scoped>\n",
              "    .dataframe tbody tr th:only-of-type {\n",
              "        vertical-align: middle;\n",
              "    }\n",
              "\n",
              "    .dataframe tbody tr th {\n",
              "        vertical-align: top;\n",
              "    }\n",
              "\n",
              "    .dataframe thead th {\n",
              "        text-align: right;\n",
              "    }\n",
              "</style>\n",
              "<table border=\"1\" class=\"dataframe\">\n",
              "  <thead>\n",
              "    <tr style=\"text-align: right;\">\n",
              "      <th></th>\n",
              "      <th>reviewerID</th>\n",
              "      <th>asin</th>\n",
              "      <th>reviewerName</th>\n",
              "      <th>helpful</th>\n",
              "      <th>reviewText</th>\n",
              "      <th>overall</th>\n",
              "      <th>summary</th>\n",
              "      <th>unixReviewTime</th>\n",
              "      <th>reviewTime</th>\n",
              "    </tr>\n",
              "  </thead>\n",
              "  <tbody>\n",
              "    <tr>\n",
              "      <th>0</th>\n",
              "      <td>A210NOCSTBT4OD</td>\n",
              "      <td>0076144011</td>\n",
              "      <td>Sheila</td>\n",
              "      <td>[0, 0]</td>\n",
              "      <td>Have you ever thought about how you met your b...</td>\n",
              "      <td>4.0</td>\n",
              "      <td>Lovely</td>\n",
              "      <td>1349308800</td>\n",
              "      <td>10 4, 2012</td>\n",
              "    </tr>\n",
              "    <tr>\n",
              "      <th>1</th>\n",
              "      <td>A28ILV4TOG8BH2</td>\n",
              "      <td>0130350591</td>\n",
              "      <td>ccjensen</td>\n",
              "      <td>[0, 0]</td>\n",
              "      <td>The butter dish is serving us well, and keepin...</td>\n",
              "      <td>5.0</td>\n",
              "      <td>Nice looking, and keeps the butter fresh</td>\n",
              "      <td>1300752000</td>\n",
              "      <td>03 22, 2011</td>\n",
              "    </tr>\n",
              "    <tr>\n",
              "      <th>2</th>\n",
              "      <td>A31B4D7URW4DNZ</td>\n",
              "      <td>0307394530</td>\n",
              "      <td>3Gigi3</td>\n",
              "      <td>[11, 16]</td>\n",
              "      <td>I anxiously waited for the book I had pre orde...</td>\n",
              "      <td>2.0</td>\n",
              "      <td>Mother of the Bride</td>\n",
              "      <td>1214784000</td>\n",
              "      <td>06 30, 2008</td>\n",
              "    </tr>\n",
              "    <tr>\n",
              "      <th>3</th>\n",
              "      <td>A2HU0RPDRZZOP1</td>\n",
              "      <td>0307394530</td>\n",
              "      <td>Alexey Leontev</td>\n",
              "      <td>[0, 0]</td>\n",
              "      <td>Fantastic book, a lot of good, original recipe...</td>\n",
              "      <td>5.0</td>\n",
              "      <td>amazing book</td>\n",
              "      <td>1277337600</td>\n",
              "      <td>06 24, 2010</td>\n",
              "    </tr>\n",
              "    <tr>\n",
              "      <th>4</th>\n",
              "      <td>A7J0XOW7DYBBD</td>\n",
              "      <td>0307394530</td>\n",
              "      <td>Allan Mar Cariaso</td>\n",
              "      <td>[0, 0]</td>\n",
              "      <td>Can't wait to try all the amazing techniques. ...</td>\n",
              "      <td>5.0</td>\n",
              "      <td>Very helpful</td>\n",
              "      <td>1393113600</td>\n",
              "      <td>02 23, 2014</td>\n",
              "    </tr>\n",
              "  </tbody>\n",
              "</table>\n",
              "</div>"
            ],
            "text/plain": [
              "       reviewerID        asin  ... unixReviewTime   reviewTime\n",
              "0  A210NOCSTBT4OD  0076144011  ...     1349308800   10 4, 2012\n",
              "1  A28ILV4TOG8BH2  0130350591  ...     1300752000  03 22, 2011\n",
              "2  A31B4D7URW4DNZ  0307394530  ...     1214784000  06 30, 2008\n",
              "3  A2HU0RPDRZZOP1  0307394530  ...     1277337600  06 24, 2010\n",
              "4   A7J0XOW7DYBBD  0307394530  ...     1393113600  02 23, 2014\n",
              "\n",
              "[5 rows x 9 columns]"
            ]
          },
          "metadata": {
            "tags": []
          },
          "execution_count": 3
        }
      ]
    },
    {
      "cell_type": "code",
      "metadata": {
        "colab": {
          "base_uri": "https://localhost:8080/",
          "height": 357
        },
        "id": "LkMWVYdhsbKt",
        "outputId": "d6a02ed0-bba8-4021-f084-fe58e3b7832e"
      },
      "source": [
        "meta.head(5)"
      ],
      "execution_count": 4,
      "outputs": [
        {
          "output_type": "execute_result",
          "data": {
            "text/html": [
              "<div>\n",
              "<style scoped>\n",
              "    .dataframe tbody tr th:only-of-type {\n",
              "        vertical-align: middle;\n",
              "    }\n",
              "\n",
              "    .dataframe tbody tr th {\n",
              "        vertical-align: top;\n",
              "    }\n",
              "\n",
              "    .dataframe thead th {\n",
              "        text-align: right;\n",
              "    }\n",
              "</style>\n",
              "<table border=\"1\" class=\"dataframe\">\n",
              "  <thead>\n",
              "    <tr style=\"text-align: right;\">\n",
              "      <th></th>\n",
              "      <th>asin</th>\n",
              "      <th>salesRank</th>\n",
              "      <th>imUrl</th>\n",
              "      <th>categories</th>\n",
              "      <th>title</th>\n",
              "      <th>description</th>\n",
              "      <th>related</th>\n",
              "      <th>price</th>\n",
              "      <th>brand</th>\n",
              "    </tr>\n",
              "  </thead>\n",
              "  <tbody>\n",
              "    <tr>\n",
              "      <th>0</th>\n",
              "      <td>0076144011</td>\n",
              "      <td>{'Books': 6285595}</td>\n",
              "      <td>http://g-ecx.images-amazon.com/images/G/01/x-s...</td>\n",
              "      <td>[[Home &amp; Kitchen]]</td>\n",
              "      <td>Ninjas, Piranhas, and Galileo</td>\n",
              "      <td>NaN</td>\n",
              "      <td>NaN</td>\n",
              "      <td>NaN</td>\n",
              "      <td>NaN</td>\n",
              "    </tr>\n",
              "    <tr>\n",
              "      <th>1</th>\n",
              "      <td>0130350591</td>\n",
              "      <td>{'Kitchen &amp; Dining': 459680}</td>\n",
              "      <td>http://ecx.images-amazon.com/images/I/21zcx6RC...</td>\n",
              "      <td>[[Home &amp; Kitchen, Kitchen &amp; Dining, Dining &amp; E...</td>\n",
              "      <td>Le Creuset Kiwi (Green) Butter Dish Stoneware</td>\n",
              "      <td>Each piece of Le Creuset dinnerware is crafted...</td>\n",
              "      <td>NaN</td>\n",
              "      <td>NaN</td>\n",
              "      <td>NaN</td>\n",
              "    </tr>\n",
              "    <tr>\n",
              "      <th>2</th>\n",
              "      <td>0307394530</td>\n",
              "      <td>{'Arts, Crafts &amp; Sewing': 3597}</td>\n",
              "      <td>http://ecx.images-amazon.com/images/I/51A4FWuj...</td>\n",
              "      <td>[[Home &amp; Kitchen, Artwork, Posters &amp; Prints]]</td>\n",
              "      <td>Martha Stewart's Wedding Cakes</td>\n",
              "      <td>Of all the decisions that go into planning a w...</td>\n",
              "      <td>{'also_bought': ['144630163X', '1402717733', '...</td>\n",
              "      <td>14.99</td>\n",
              "      <td>Random House</td>\n",
              "    </tr>\n",
              "    <tr>\n",
              "      <th>3</th>\n",
              "      <td>0439903491</td>\n",
              "      <td>{'Software': 7065}</td>\n",
              "      <td>http://ecx.images-amazon.com/images/I/61tVxcko...</td>\n",
              "      <td>[[Home &amp; Kitchen, Artwork, Posters &amp; Prints]]</td>\n",
              "      <td>NaN</td>\n",
              "      <td>Shiver me timbers! Solve I SPY pirate picture ...</td>\n",
              "      <td>{'also_viewed': ['B000YFSZU8', 'B0016KWZB0', '...</td>\n",
              "      <td>29.99</td>\n",
              "      <td>NaN</td>\n",
              "    </tr>\n",
              "    <tr>\n",
              "      <th>4</th>\n",
              "      <td>0578060604</td>\n",
              "      <td>NaN</td>\n",
              "      <td>http://ecx.images-amazon.com/images/I/41aCELWJ...</td>\n",
              "      <td>[[Home &amp; Kitchen, Furniture, Kitchen &amp; Dining ...</td>\n",
              "      <td>Build A Maloof Inspired Low Back Dining Chair ...</td>\n",
              "      <td>The Maloofinspired Low Back Dining Chair is no...</td>\n",
              "      <td>{'also_viewed': ['B004IO6RS8']}</td>\n",
              "      <td>NaN</td>\n",
              "      <td>NaN</td>\n",
              "    </tr>\n",
              "  </tbody>\n",
              "</table>\n",
              "</div>"
            ],
            "text/plain": [
              "         asin                        salesRank  ...  price         brand\n",
              "0  0076144011               {'Books': 6285595}  ...    NaN           NaN\n",
              "1  0130350591     {'Kitchen & Dining': 459680}  ...    NaN           NaN\n",
              "2  0307394530  {'Arts, Crafts & Sewing': 3597}  ...  14.99  Random House\n",
              "3  0439903491               {'Software': 7065}  ...  29.99           NaN\n",
              "4  0578060604                              NaN  ...    NaN           NaN\n",
              "\n",
              "[5 rows x 9 columns]"
            ]
          },
          "metadata": {
            "tags": []
          },
          "execution_count": 4
        }
      ]
    },
    {
      "cell_type": "code",
      "metadata": {
        "colab": {
          "base_uri": "https://localhost:8080/"
        },
        "id": "ZALY4SOwsd6-",
        "outputId": "a52b3099-dcd9-4685-cc95-b216c85a8639"
      },
      "source": [
        "reviews.info()"
      ],
      "execution_count": 5,
      "outputs": [
        {
          "output_type": "stream",
          "text": [
            "<class 'pandas.core.frame.DataFrame'>\n",
            "Int64Index: 4253926 entries, 0 to 4253925\n",
            "Data columns (total 9 columns):\n",
            " #   Column          Dtype  \n",
            "---  ------          -----  \n",
            " 0   reviewerID      object \n",
            " 1   asin            object \n",
            " 2   reviewerName    object \n",
            " 3   helpful         object \n",
            " 4   reviewText      object \n",
            " 5   overall         float64\n",
            " 6   summary         object \n",
            " 7   unixReviewTime  int64  \n",
            " 8   reviewTime      object \n",
            "dtypes: float64(1), int64(1), object(7)\n",
            "memory usage: 324.5+ MB\n"
          ],
          "name": "stdout"
        }
      ]
    },
    {
      "cell_type": "code",
      "metadata": {
        "colab": {
          "base_uri": "https://localhost:8080/"
        },
        "id": "tUD5Ann_shtU",
        "outputId": "e6d459c7-efef-4065-cf18-4a92e43ddf78"
      },
      "source": [
        "meta.info()"
      ],
      "execution_count": 6,
      "outputs": [
        {
          "output_type": "stream",
          "text": [
            "<class 'pandas.core.frame.DataFrame'>\n",
            "Int64Index: 436988 entries, 0 to 436987\n",
            "Data columns (total 9 columns):\n",
            " #   Column       Non-Null Count   Dtype  \n",
            "---  ------       --------------   -----  \n",
            " 0   asin         436988 non-null  object \n",
            " 1   salesRank    414167 non-null  object \n",
            " 2   imUrl        436617 non-null  object \n",
            " 3   categories   436988 non-null  object \n",
            " 4   title        435249 non-null  object \n",
            " 5   description  405793 non-null  object \n",
            " 6   related      300857 non-null  object \n",
            " 7   price        285168 non-null  float64\n",
            " 8   brand        152611 non-null  object \n",
            "dtypes: float64(1), object(8)\n",
            "memory usage: 33.3+ MB\n"
          ],
          "name": "stdout"
        }
      ]
    },
    {
      "cell_type": "code",
      "metadata": {
        "colab": {
          "base_uri": "https://localhost:8080/"
        },
        "id": "m6BFtKsssjP0",
        "outputId": "c45fce63-d02e-4898-fec9-8e9b47d2be85"
      },
      "source": [
        "#Convert 'unixReviewTime' column to datetime object\n",
        "from datetime import datetime\n",
        "\n",
        "date_times = lambda x: datetime.fromtimestamp(x).strftime('%m-%d-%Y')\n",
        "reviews.unixReviewTime = reviews.unixReviewTime.apply(date_times)\n",
        "reviews.unixReviewTime.head(5)"
      ],
      "execution_count": 7,
      "outputs": [
        {
          "output_type": "execute_result",
          "data": {
            "text/plain": [
              "0    10-04-2012\n",
              "1    03-22-2011\n",
              "2    06-30-2008\n",
              "3    06-24-2010\n",
              "4    02-23-2014\n",
              "Name: unixReviewTime, dtype: object"
            ]
          },
          "metadata": {
            "tags": []
          },
          "execution_count": 7
        }
      ]
    },
    {
      "cell_type": "code",
      "metadata": {
        "id": "uhpRDeMIsomp"
      },
      "source": [
        "#Drop redundant column which also represents review time\n",
        "reviews.drop('reviewTime', axis=1, inplace=True)"
      ],
      "execution_count": 8,
      "outputs": []
    },
    {
      "cell_type": "code",
      "metadata": {
        "id": "mgBc1E15tzj6"
      },
      "source": [
        "#Reviewer can be identified by reviewerID, drop the reviewerName column which is redundant\n",
        "reviews.drop('reviewerName', axis=1, inplace=True)"
      ],
      "execution_count": 9,
      "outputs": []
    },
    {
      "cell_type": "code",
      "metadata": {
        "id": "PTOVtrnUuRo4"
      },
      "source": [
        "#Drop imURL since it will not be used for the recommendation system\n",
        "meta.drop('imUrl', axis=1, inplace=True)"
      ],
      "execution_count": 10,
      "outputs": []
    },
    {
      "cell_type": "code",
      "metadata": {
        "id": "9UsBNLLOsrFH"
      },
      "source": [
        "combined = pd.merge(reviews, meta,on='asin', how='left')"
      ],
      "execution_count": 11,
      "outputs": []
    },
    {
      "cell_type": "code",
      "metadata": {
        "colab": {
          "base_uri": "https://localhost:8080/",
          "height": 585
        },
        "id": "VLCWqoIZstyM",
        "outputId": "f1019497-24eb-4054-8362-0aae4a758560"
      },
      "source": [
        "combined.head(5).T"
      ],
      "execution_count": 12,
      "outputs": [
        {
          "output_type": "execute_result",
          "data": {
            "text/html": [
              "<div>\n",
              "<style scoped>\n",
              "    .dataframe tbody tr th:only-of-type {\n",
              "        vertical-align: middle;\n",
              "    }\n",
              "\n",
              "    .dataframe tbody tr th {\n",
              "        vertical-align: top;\n",
              "    }\n",
              "\n",
              "    .dataframe thead th {\n",
              "        text-align: right;\n",
              "    }\n",
              "</style>\n",
              "<table border=\"1\" class=\"dataframe\">\n",
              "  <thead>\n",
              "    <tr style=\"text-align: right;\">\n",
              "      <th></th>\n",
              "      <th>0</th>\n",
              "      <th>1</th>\n",
              "      <th>2</th>\n",
              "      <th>3</th>\n",
              "      <th>4</th>\n",
              "    </tr>\n",
              "  </thead>\n",
              "  <tbody>\n",
              "    <tr>\n",
              "      <th>reviewerID</th>\n",
              "      <td>A210NOCSTBT4OD</td>\n",
              "      <td>A28ILV4TOG8BH2</td>\n",
              "      <td>A31B4D7URW4DNZ</td>\n",
              "      <td>A2HU0RPDRZZOP1</td>\n",
              "      <td>A7J0XOW7DYBBD</td>\n",
              "    </tr>\n",
              "    <tr>\n",
              "      <th>asin</th>\n",
              "      <td>0076144011</td>\n",
              "      <td>0130350591</td>\n",
              "      <td>0307394530</td>\n",
              "      <td>0307394530</td>\n",
              "      <td>0307394530</td>\n",
              "    </tr>\n",
              "    <tr>\n",
              "      <th>helpful</th>\n",
              "      <td>[0, 0]</td>\n",
              "      <td>[0, 0]</td>\n",
              "      <td>[11, 16]</td>\n",
              "      <td>[0, 0]</td>\n",
              "      <td>[0, 0]</td>\n",
              "    </tr>\n",
              "    <tr>\n",
              "      <th>reviewText</th>\n",
              "      <td>Have you ever thought about how you met your b...</td>\n",
              "      <td>The butter dish is serving us well, and keepin...</td>\n",
              "      <td>I anxiously waited for the book I had pre orde...</td>\n",
              "      <td>Fantastic book, a lot of good, original recipe...</td>\n",
              "      <td>Can't wait to try all the amazing techniques. ...</td>\n",
              "    </tr>\n",
              "    <tr>\n",
              "      <th>overall</th>\n",
              "      <td>4</td>\n",
              "      <td>5</td>\n",
              "      <td>2</td>\n",
              "      <td>5</td>\n",
              "      <td>5</td>\n",
              "    </tr>\n",
              "    <tr>\n",
              "      <th>summary</th>\n",
              "      <td>Lovely</td>\n",
              "      <td>Nice looking, and keeps the butter fresh</td>\n",
              "      <td>Mother of the Bride</td>\n",
              "      <td>amazing book</td>\n",
              "      <td>Very helpful</td>\n",
              "    </tr>\n",
              "    <tr>\n",
              "      <th>unixReviewTime</th>\n",
              "      <td>10-04-2012</td>\n",
              "      <td>03-22-2011</td>\n",
              "      <td>06-30-2008</td>\n",
              "      <td>06-24-2010</td>\n",
              "      <td>02-23-2014</td>\n",
              "    </tr>\n",
              "    <tr>\n",
              "      <th>salesRank</th>\n",
              "      <td>{'Books': 6285595}</td>\n",
              "      <td>{'Kitchen &amp; Dining': 459680}</td>\n",
              "      <td>{'Arts, Crafts &amp; Sewing': 3597}</td>\n",
              "      <td>{'Arts, Crafts &amp; Sewing': 3597}</td>\n",
              "      <td>{'Arts, Crafts &amp; Sewing': 3597}</td>\n",
              "    </tr>\n",
              "    <tr>\n",
              "      <th>categories</th>\n",
              "      <td>[[Home &amp; Kitchen]]</td>\n",
              "      <td>[[Home &amp; Kitchen, Kitchen &amp; Dining, Dining &amp; E...</td>\n",
              "      <td>[[Home &amp; Kitchen, Artwork, Posters &amp; Prints]]</td>\n",
              "      <td>[[Home &amp; Kitchen, Artwork, Posters &amp; Prints]]</td>\n",
              "      <td>[[Home &amp; Kitchen, Artwork, Posters &amp; Prints]]</td>\n",
              "    </tr>\n",
              "    <tr>\n",
              "      <th>title</th>\n",
              "      <td>Ninjas, Piranhas, and Galileo</td>\n",
              "      <td>Le Creuset Kiwi (Green) Butter Dish Stoneware</td>\n",
              "      <td>Martha Stewart's Wedding Cakes</td>\n",
              "      <td>Martha Stewart's Wedding Cakes</td>\n",
              "      <td>Martha Stewart's Wedding Cakes</td>\n",
              "    </tr>\n",
              "    <tr>\n",
              "      <th>description</th>\n",
              "      <td>NaN</td>\n",
              "      <td>Each piece of Le Creuset dinnerware is crafted...</td>\n",
              "      <td>Of all the decisions that go into planning a w...</td>\n",
              "      <td>Of all the decisions that go into planning a w...</td>\n",
              "      <td>Of all the decisions that go into planning a w...</td>\n",
              "    </tr>\n",
              "    <tr>\n",
              "      <th>related</th>\n",
              "      <td>NaN</td>\n",
              "      <td>NaN</td>\n",
              "      <td>{'also_bought': ['144630163X', '1402717733', '...</td>\n",
              "      <td>{'also_bought': ['144630163X', '1402717733', '...</td>\n",
              "      <td>{'also_bought': ['144630163X', '1402717733', '...</td>\n",
              "    </tr>\n",
              "    <tr>\n",
              "      <th>price</th>\n",
              "      <td>NaN</td>\n",
              "      <td>NaN</td>\n",
              "      <td>14.99</td>\n",
              "      <td>14.99</td>\n",
              "      <td>14.99</td>\n",
              "    </tr>\n",
              "    <tr>\n",
              "      <th>brand</th>\n",
              "      <td>NaN</td>\n",
              "      <td>NaN</td>\n",
              "      <td>Random House</td>\n",
              "      <td>Random House</td>\n",
              "      <td>Random House</td>\n",
              "    </tr>\n",
              "  </tbody>\n",
              "</table>\n",
              "</div>"
            ],
            "text/plain": [
              "                                                                0  ...                                                  4\n",
              "reviewerID                                         A210NOCSTBT4OD  ...                                      A7J0XOW7DYBBD\n",
              "asin                                                   0076144011  ...                                         0307394530\n",
              "helpful                                                    [0, 0]  ...                                             [0, 0]\n",
              "reviewText      Have you ever thought about how you met your b...  ...  Can't wait to try all the amazing techniques. ...\n",
              "overall                                                         4  ...                                                  5\n",
              "summary                                                    Lovely  ...                                       Very helpful\n",
              "unixReviewTime                                         10-04-2012  ...                                         02-23-2014\n",
              "salesRank                                      {'Books': 6285595}  ...                    {'Arts, Crafts & Sewing': 3597}\n",
              "categories                                     [[Home & Kitchen]]  ...      [[Home & Kitchen, Artwork, Posters & Prints]]\n",
              "title                               Ninjas, Piranhas, and Galileo  ...                     Martha Stewart's Wedding Cakes\n",
              "description                                                   NaN  ...  Of all the decisions that go into planning a w...\n",
              "related                                                       NaN  ...  {'also_bought': ['144630163X', '1402717733', '...\n",
              "price                                                         NaN  ...                                              14.99\n",
              "brand                                                         NaN  ...                                       Random House\n",
              "\n",
              "[14 rows x 5 columns]"
            ]
          },
          "metadata": {
            "tags": []
          },
          "execution_count": 12
        }
      ]
    },
    {
      "cell_type": "code",
      "metadata": {
        "colab": {
          "base_uri": "https://localhost:8080/"
        },
        "id": "Qoj1v5eIsvmr",
        "outputId": "45ff26d4-bd95-47c7-b76f-5ac59eab6669"
      },
      "source": [
        "combined.info()"
      ],
      "execution_count": 13,
      "outputs": [
        {
          "output_type": "stream",
          "text": [
            "<class 'pandas.core.frame.DataFrame'>\n",
            "Int64Index: 4253926 entries, 0 to 4253925\n",
            "Data columns (total 14 columns):\n",
            " #   Column          Dtype  \n",
            "---  ------          -----  \n",
            " 0   reviewerID      object \n",
            " 1   asin            object \n",
            " 2   helpful         object \n",
            " 3   reviewText      object \n",
            " 4   overall         float64\n",
            " 5   summary         object \n",
            " 6   unixReviewTime  object \n",
            " 7   salesRank       object \n",
            " 8   categories      object \n",
            " 9   title           object \n",
            " 10  description     object \n",
            " 11  related         object \n",
            " 12  price           float64\n",
            " 13  brand           object \n",
            "dtypes: float64(2), object(12)\n",
            "memory usage: 486.8+ MB\n"
          ],
          "name": "stdout"
        }
      ]
    },
    {
      "cell_type": "markdown",
      "metadata": {
        "id": "NJNgrEihxAxm"
      },
      "source": [
        "## **Exploratory Data Analysis**"
      ]
    },
    {
      "cell_type": "code",
      "metadata": {
        "colab": {
          "base_uri": "https://localhost:8080/",
          "height": 366
        },
        "id": "RqfLoocHs6K_",
        "outputId": "86084994-de59-4013-e395-4915df527316"
      },
      "source": [
        "import numpy as np \n",
        "import pandas as pd \n",
        "import seaborn as sns\n",
        "import matplotlib.pyplot as plt\n",
        "\n",
        "sns.countplot(combined.overall)\n",
        "plt.title('Amazon Review Rating')"
      ],
      "execution_count": 14,
      "outputs": [
        {
          "output_type": "stream",
          "text": [
            "/usr/local/lib/python3.7/dist-packages/seaborn/_decorators.py:43: FutureWarning: Pass the following variable as a keyword arg: x. From version 0.12, the only valid positional argument will be `data`, and passing other arguments without an explicit keyword will result in an error or misinterpretation.\n",
            "  FutureWarning\n"
          ],
          "name": "stderr"
        },
        {
          "output_type": "execute_result",
          "data": {
            "text/plain": [
              "Text(0.5, 1.0, 'Amazon Review Rating')"
            ]
          },
          "metadata": {
            "tags": []
          },
          "execution_count": 14
        },
        {
          "output_type": "display_data",
          "data": {
            "image/png": "[encoded data removed]",
            "text/plain": [
              "<Figure size 432x288 with 1 Axes>"
            ]
          },
          "metadata": {
            "tags": [],
            "needs_background": "light"
          }
        }
      ]
    },
    {
      "cell_type": "code",
      "metadata": {
        "colab": {
          "base_uri": "https://localhost:8080/"
        },
        "id": "MNnM6jT-s-H7",
        "outputId": "fffa99c6-1031-49bb-e3d6-3bf3d6c011e4"
      },
      "source": [
        "combined.overall.describe()"
      ],
      "execution_count": 15,
      "outputs": [
        {
          "output_type": "execute_result",
          "data": {
            "text/plain": [
              "count    4.253926e+06\n",
              "mean     4.099486e+00\n",
              "std      1.331712e+00\n",
              "min      1.000000e+00\n",
              "25%      4.000000e+00\n",
              "50%      5.000000e+00\n",
              "75%      5.000000e+00\n",
              "max      5.000000e+00\n",
              "Name: overall, dtype: float64"
            ]
          },
          "metadata": {
            "tags": []
          },
          "execution_count": 15
        }
      ]
    },
    {
      "cell_type": "code",
      "metadata": {
        "id": "sucLMeMrxJcO"
      },
      "source": [
        "combined.unixReviewTime = pd.to_datetime(combined.unixReviewTime)"
      ],
      "execution_count": 16,
      "outputs": []
    },
    {
      "cell_type": "code",
      "metadata": {
        "id": "JJ_ddGwGzKxx"
      },
      "source": [
        "combined['year'] = combined.unixReviewTime.dt.year"
      ],
      "execution_count": 17,
      "outputs": []
    },
    {
      "cell_type": "code",
      "metadata": {
        "id": "B32xPRow0Rrp"
      },
      "source": [
        "combined['month'] = combined.unixReviewTime.dt.month"
      ],
      "execution_count": 18,
      "outputs": []
    },
    {
      "cell_type": "code",
      "metadata": {
        "colab": {
          "base_uri": "https://localhost:8080/",
          "height": 312
        },
        "id": "C8_7zVGN01hR",
        "outputId": "3d95fe72-ce95-4583-9f58-2dcdc70f23a1"
      },
      "source": [
        "yearly = combined.groupby(['year'])['reviewerID'].count().reset_index()\n",
        "yearly = yearly.rename(columns={'reviewerID':'no_of_reviews'})\n",
        "sns.lineplot(x='year', y='no_of_reviews', data=yearly)\n",
        "plt.title('Number of reviews over years')"
      ],
      "execution_count": 19,
      "outputs": [
        {
          "output_type": "execute_result",
          "data": {
            "text/plain": [
              "Text(0.5, 1.0, 'Number of reviews over years')"
            ]
          },
          "metadata": {
            "tags": []
          },
          "execution_count": 19
        },
        {
          "output_type": "display_data",
          "data": {
            "image/png": "[encoded data removed]",
            "text/plain": [
              "<Figure size 432x288 with 1 Axes>"
            ]
          },
          "metadata": {
            "tags": [],
            "needs_background": "light"
          }
        }
      ]
    },
    {
      "cell_type": "markdown",
      "metadata": {
        "id": "hKUEnchO2Gjo"
      },
      "source": [
        "The number of reviews increase over time. However, it went down from 2013 to 2014. The increasing trend for the reviews indicates that more and more users start using Amazon. The peak on 2013 might be raised by an promotion which boost the number of reviewer."
      ]
    },
    {
      "cell_type": "code",
      "metadata": {
        "colab": {
          "base_uri": "https://localhost:8080/",
          "height": 312
        },
        "id": "JQsdW8He2g2X",
        "outputId": "f6e370b7-2d15-47ca-b0b4-6ca46d202461"
      },
      "source": [
        "monthly = combined.groupby(['month'])['reviewerID'].count().reset_index()\n",
        "monthly = monthly.rename(columns={'reviewerID':'no_of_reviews'})\n",
        "sns.barplot(x='month', y='no_of_reviews', data=monthly)\n",
        "plt.title('Number of reviews over month')"
      ],
      "execution_count": 20,
      "outputs": [
        {
          "output_type": "execute_result",
          "data": {
            "text/plain": [
              "Text(0.5, 1.0, 'Number of reviews over month')"
            ]
          },
          "metadata": {
            "tags": []
          },
          "execution_count": 20
        },
        {
          "output_type": "display_data",
          "data": {
            "image/png": "[encoded data removed]",
            "text/plain": [
              "<Figure size 432x288 with 1 Axes>"
            ]
          },
          "metadata": {
            "tags": [],
            "needs_background": "light"
          }
        }
      ]
    },
    {
      "cell_type": "markdown",
      "metadata": {
        "id": "gZTvcfTh3XGx"
      },
      "source": [
        "The number of reviews get highest on January and December. It might related to the holiday season. Before the holiday season, people were less interested on shopping.  "
      ]
    },
    {
      "cell_type": "code",
      "metadata": {
        "colab": {
          "base_uri": "https://localhost:8080/",
          "height": 311
        },
        "id": "RpcS54gL4BOw",
        "outputId": "74d0126b-1ce9-41cf-d249-211c1496f624"
      },
      "source": [
        "sns.histplot(x='price', data=combined, log_scale=True, bins=10)"
      ],
      "execution_count": 21,
      "outputs": [
        {
          "output_type": "execute_result",
          "data": {
            "text/plain": [
              "<matplotlib.axes._subplots.AxesSubplot at 0x7f3158dbcc50>"
            ]
          },
          "metadata": {
            "tags": []
          },
          "execution_count": 21
        },
        {
          "output_type": "display_data",
          "data": {
            "image/png": "[encoded data removed]",
            "text/plain": [
              "<Figure size 432x288 with 1 Axes>"
            ]
          },
          "metadata": {
            "tags": [],
            "needs_background": "light"
          }
        }
      ]
    },
    {
      "cell_type": "code",
      "metadata": {
        "colab": {
          "base_uri": "https://localhost:8080/"
        },
        "id": "Q1ZIRzPT8RQe",
        "outputId": "564ad399-6487-415d-d0f5-3e08e3ebec81"
      },
      "source": [
        "combined.price.describe()"
      ],
      "execution_count": 22,
      "outputs": [
        {
          "output_type": "execute_result",
          "data": {
            "text/plain": [
              "count    3.576482e+06\n",
              "mean     5.716747e+01\n",
              "std      8.738777e+01\n",
              "min      1.000000e-02\n",
              "25%      1.299000e+01\n",
              "50%      2.620000e+01\n",
              "75%      5.999000e+01\n",
              "max      9.999900e+02\n",
              "Name: price, dtype: float64"
            ]
          },
          "metadata": {
            "tags": []
          },
          "execution_count": 22
        }
      ]
    },
    {
      "cell_type": "markdown",
      "metadata": {
        "id": "LIUP5INY8xzM"
      },
      "source": [
        "Most of the items are between 13 to 60 dollars. It implies that customers prefer items in this price range on Amazon. "
      ]
    },
    {
      "cell_type": "code",
      "metadata": {
        "id": "gORd3KrE8xIa"
      },
      "source": [
        "def wordlength(x):\n",
        "  return len(x.split())\n",
        "combined['reviewlength'] = combined.reviewText.apply(wordlength)"
      ],
      "execution_count": 23,
      "outputs": []
    },
    {
      "cell_type": "code",
      "metadata": {
        "colab": {
          "base_uri": "https://localhost:8080/"
        },
        "id": "7LDIT8ch_B7R",
        "outputId": "28154b21-abd1-499a-c207-453757bd9d90"
      },
      "source": [
        "combined['reviewlength'].describe()"
      ],
      "execution_count": 24,
      "outputs": [
        {
          "output_type": "execute_result",
          "data": {
            "text/plain": [
              "count    4.253926e+06\n",
              "mean     7.000801e+01\n",
              "std      8.227211e+01\n",
              "min      0.000000e+00\n",
              "25%      2.600000e+01\n",
              "50%      4.400000e+01\n",
              "75%      8.100000e+01\n",
              "max      5.973000e+03\n",
              "Name: reviewlength, dtype: float64"
            ]
          },
          "metadata": {
            "tags": []
          },
          "execution_count": 24
        }
      ]
    },
    {
      "cell_type": "markdown",
      "metadata": {
        "id": "y5TVSIr0D1Lz"
      },
      "source": [
        "The average of review length is only 7 words. It is interested that the longest review has almost 6000 words. I would like to see what item it is and what does the review look like."
      ]
    },
    {
      "cell_type": "code",
      "metadata": {
        "colab": {
          "base_uri": "https://localhost:8080/",
          "height": 576
        },
        "id": "Nj5Hj0gd_tD_",
        "outputId": "c70460bb-e485-4a3f-82cd-f76f7a604ce9"
      },
      "source": [
        "combined.iloc[combined[['reviewlength']].idxmax()].T"
      ],
      "execution_count": 25,
      "outputs": [
        {
          "output_type": "execute_result",
          "data": {
            "text/html": [
              "<div>\n",
              "<style scoped>\n",
              "    .dataframe tbody tr th:only-of-type {\n",
              "        vertical-align: middle;\n",
              "    }\n",
              "\n",
              "    .dataframe tbody tr th {\n",
              "        vertical-align: top;\n",
              "    }\n",
              "\n",
              "    .dataframe thead th {\n",
              "        text-align: right;\n",
              "    }\n",
              "</style>\n",
              "<table border=\"1\" class=\"dataframe\">\n",
              "  <thead>\n",
              "    <tr style=\"text-align: right;\">\n",
              "      <th></th>\n",
              "      <th>3509078</th>\n",
              "    </tr>\n",
              "  </thead>\n",
              "  <tbody>\n",
              "    <tr>\n",
              "      <th>reviewerID</th>\n",
              "      <td>A30UFXOF0GS9NM</td>\n",
              "    </tr>\n",
              "    <tr>\n",
              "      <th>asin</th>\n",
              "      <td>B007JOJ9QQ</td>\n",
              "    </tr>\n",
              "    <tr>\n",
              "      <th>helpful</th>\n",
              "      <td>[4, 4]</td>\n",
              "    </tr>\n",
              "    <tr>\n",
              "      <th>reviewText</th>\n",
              "      <td>I think someone left their Super Nintendo in t...</td>\n",
              "    </tr>\n",
              "    <tr>\n",
              "      <th>overall</th>\n",
              "      <td>4</td>\n",
              "    </tr>\n",
              "    <tr>\n",
              "      <th>summary</th>\n",
              "      <td>Mostly awesome except for missing edges</td>\n",
              "    </tr>\n",
              "    <tr>\n",
              "      <th>unixReviewTime</th>\n",
              "      <td>2013-11-04 00:00:00</td>\n",
              "    </tr>\n",
              "    <tr>\n",
              "      <th>salesRank</th>\n",
              "      <td>{'Home &amp;amp; Kitchen': 3349}</td>\n",
              "    </tr>\n",
              "    <tr>\n",
              "      <th>categories</th>\n",
              "      <td>[[Home &amp; Kitchen, Vacuums &amp; Floor Care, Vacuum...</td>\n",
              "    </tr>\n",
              "    <tr>\n",
              "      <th>title</th>\n",
              "      <td>Neato XV-21 Pet &amp;amp; Allergy Automatic Vacuum...</td>\n",
              "    </tr>\n",
              "    <tr>\n",
              "      <th>description</th>\n",
              "      <td></td>\n",
              "    </tr>\n",
              "    <tr>\n",
              "      <th>related</th>\n",
              "      <td>{'also_bought': ['B00B1ZFQJ8', 'B0083ONY30', '...</td>\n",
              "    </tr>\n",
              "    <tr>\n",
              "      <th>price</th>\n",
              "      <td>327.03</td>\n",
              "    </tr>\n",
              "    <tr>\n",
              "      <th>brand</th>\n",
              "      <td>Neato Robotics</td>\n",
              "    </tr>\n",
              "    <tr>\n",
              "      <th>year</th>\n",
              "      <td>2013</td>\n",
              "    </tr>\n",
              "    <tr>\n",
              "      <th>month</th>\n",
              "      <td>11</td>\n",
              "    </tr>\n",
              "    <tr>\n",
              "      <th>reviewlength</th>\n",
              "      <td>5973</td>\n",
              "    </tr>\n",
              "  </tbody>\n",
              "</table>\n",
              "</div>"
            ],
            "text/plain": [
              "                                                          3509078\n",
              "reviewerID                                         A30UFXOF0GS9NM\n",
              "asin                                                   B007JOJ9QQ\n",
              "helpful                                                    [4, 4]\n",
              "reviewText      I think someone left their Super Nintendo in t...\n",
              "overall                                                         4\n",
              "summary                   Mostly awesome except for missing edges\n",
              "unixReviewTime                                2013-11-04 00:00:00\n",
              "salesRank                            {'Home &amp; Kitchen': 3349}\n",
              "categories      [[Home & Kitchen, Vacuums & Floor Care, Vacuum...\n",
              "title           Neato XV-21 Pet &amp; Allergy Automatic Vacuum...\n",
              "description                                                      \n",
              "related         {'also_bought': ['B00B1ZFQJ8', 'B0083ONY30', '...\n",
              "price                                                      327.03\n",
              "brand                                              Neato Robotics\n",
              "year                                                         2013\n",
              "month                                                          11\n",
              "reviewlength                                                 5973"
            ]
          },
          "metadata": {
            "tags": []
          },
          "execution_count": 25
        }
      ]
    },
    {
      "cell_type": "code",
      "metadata": {
        "colab": {
          "base_uri": "https://localhost:8080/",
          "height": 1000
        },
        "id": "dPzKJlGRAYpe",
        "outputId": "cbda6259-e8c5-4505-e90e-693204f433a3"
      },
      "source": [
        "from IPython.display import display, HTML\n",
        "\n",
        "longest_txt = combined['reviewText'].iloc[combined[['reviewlength']].idxmax()]\n",
        "display(HTML(pd.DataFrame(longest_txt).to_html()))"
      ],
      "execution_count": 26,
      "outputs": [
        {
          "output_type": "display_data",
          "data": {
            "text/html": [
              "<table border=\"1\" class=\"dataframe\">\n",
              "  <thead>\n",
              "    <tr style=\"text-align: right;\">\n",
              "      <th></th>\n",
              "      <th>reviewText</th>\n",
              "    </tr>\n",
              "  </thead>\n",
              "  <tbody>\n",
              "    <tr>\n",
              "      <th>3509078</th>\n",
              "      <td>I think someone left their Super Nintendo in the closet too long and it evolved into this grey and purple vacuum.Beware: My Neato started having a problem after 8 uses, but customer service was so good about offering a free upgraded replacement + free shipping that I'm not holding it against them.  Skip down to the \"UPDATE:\" section for details.I'm a software engineer and I hate repetitive tasks.  Sometimes I'll spend more time automating something than it would have taken me to just do it manually for the rest of my life.  So automating vacuuming is awesome, but I couldn't stand the idea of having a Roomba wasting power for hours randomly bouncing around the room, doing some parts over and over and missing others.  Then I found the Neato, and it's an automation dream come true.Neato is made by guys in Silicon Valley and they actually publish the API so you can connect a USB cable to it and give it commands, read the log, run tests, etc.  Definitely a bonus for geeks and some even use Neato as a platform to build their own robots to do other things.  People have figured out how to interpret the data stream its lidar (light radar) puts out and see what the Neato sees, and it really does constantly see the room around it in 360 degrees.I was immediately impressed with how close Neato runs against edges without hitting them, even against uneven rocks around the fireplace, around chair legs, even between chair legs barely wide enough to let it pass.  It has an extra black sensor window on the right side of the front bumper that it uses this to get up tight against things.  That means it always runs its right side along walls and objects and always edges the room counterclockwise.  It had no problem at all with irregularly-placed furniture and objects.Our cat's reaction to it was very fun to watch.  Usually she's the most timid creature but she just watched the Neato, fascinated.  Even coming right toward her she just backs up slowly, letting it get within inches before running a few feet away, but she acts like she knows it won't move any faster than it does.  She spent the whole 20 mins or so the first time it was moving following it, backing up from it, watching it from under tables or from a higher perch, and then cautiously stretched her neck out to sniff it at length once it finally docked to charge.  The best moment came 2 months later when she was so used to the vacuum that she stood right in front of its path mewing at me and didn't hear it coming.  I called her, waved and pointed at the vacuum approaching her from the side, even tried to scare her into moving, but she just sat there staring at me while the vacuum got to an inch away, wiggled back and forth for a few seconds scanning her, than touched her paw, causing her to leap a foot in the air and run out of the room.  Funniest thing ever.It's got two big rubber wheels with good traction mounted on springs that can lower the wheels about 3 inches.  That's important because it drove itself up onto an incline on our cat's scratching post so one wheel was barely touching the ground and I thought for sure it would get stuck, but it wiggled its way off.So far, it's never caught on bath mats and a foot-wiping carpet, even a floor rug with a 2 inch loose fringe at each end.  Maybe if it went over one corner first it might jam but since it tends to move parallel to walls, that makes it much less likely to drive diagonally onto the corner of a mat.If you haven't vacuumed in awhile, expect its bin to fill within 20-30 mins.  You can press any button to stop it from moving, then empty the dust bin.  If it doesn't respond to the Start button the first time, press it again harder.  We've had it running on Mon and Thurs for a couple weeks and the bin now gets 20-30% full on a sweep of most of the top floor.  Even though it doesn't pick up as well as our upright vacuum, it still does an impressive job for a small, quieter, battery-powered vacuum, and it gets most stuff (like tangled in hairs) that it might miss the first time after a couple weeks.  It actually picked up a dime from our thick bedroom carpet, so I'm now thoroughly convinced the Neato will eventually pay for itself!I use a soft-bristled old toothbrush to clean between the fans of the dust-bin filter and I think I was too vigorous because it quickly started to get fuzzy between the fans.  Now I brush it once gently to get the biggest fluff out, then hit it withMetro Vacuum ED500 Electric Dusterfrom both sides of the filter to completely blow it free of dust.  The electric duster also quickly clears all dust from the dust bin and it even gets all the deep dust out of the bristles of the beater brush, though it doesn't blow away much of the fuzz tangled into the bristles.  I think the duster is much more effective and faster than trying to vacuum the filter/dust bin.Neato's brush is driven by a belt with gear teeth and it detects when the brush is jammed or too hard to turn and it stops, beeping and telling you the brush is jammed.  Thus I don't think it can break the belt if the brush jams like some upright vacuums can.  It's only jammed on us once the first time it did a room due to hairs/threads on the carpet.Hairs and threads do need to be pulled out from time to time, but not too often (maybe once a month for us) once the vacuum has done a floor a few times.  The brush is easy to clean by releasing two clips that hold the \"brush guard\" in place after which point there's nothing covering the brush and you can tug out all the hair and fluff.  You can also completely remove the brush and later slip its gear-toothed end back into the drive belt.  The belt is not tight like on standard vacuums since it has teeth, so you need to get some of the teeth onto the end of the brush, get the end of the brush into its cradle,then roll the brush to pull the rest of the belt on.  Check the brush every hour or so on your first run if you haven't vacuumed in awhile.If Neato gets stuck in such a way that you must move the vacuum, try to move or rotate it as little as possible.  If the brush gets stuck and you must turn the vacuum over, remember where it was and what position it was facing.  When you don't move it too much before setting it to continue, it doesn't seem to get too confused about where it is or what parts of the room are already done.  It won't always continue the same way it was going before you stopped it, but it finishes the area and finds its base properly.I wish the pet and allergy model came in gold instead of Super Nintendo.  I did some research and found that you can buy any of their current models (as of 2013) plus the pet and allergy brush/filter for $60 extra and end up with pretty much exactly the same machine, but in different colors.  Even their new \"Signature\" line barely has anything different about its internal construction or features, from what I've read, and the same filters and brushes still fit.  Kudos to Neato for not changing every model and making old parts incompatible, but I'm not sure what they were thinking by not adding noticeable new features and yet charging more for the Signature series.  Unfortunately, you won't save any money buying an older model than the XV-21 and adding the pet and allergy brush unless you go back to the original XV-11.  XV-11s made in 2011 and earlier had some design flaws that could cause them to break, and I was a little worried I might get one of those earlier models if I bought the XV-11 since it's no longer made.  I think even some of the XV-21 models had flaws such as the \"stuck wheel\" error which was actually the wheel motor breaking from its housing.  Yikes.  Somewhere around mid 2012 they fixed a problem with hairs accumulating next to the gear that drives the beater brush until the brush wouldn't turn.  So if you buy older stock, you might have some of these problems.  As long as you have the warranty you should be okay.  Otherwise, people have released instructions and parts to fix some of the common flaws in those older models (but probably not something as bad as the wheel motor housing breaking).  You can even find HEPA filters and other third-party improvements if you google search.If you're thinking about saving money by buying a used Neato, beware that the warranty states that they only cover the original purchaser, so if something goes wrong that you can't fix, you could be out a few hundred dollars.  Other than that, other reviewers have said Neato is good about their warranty service, and they were quite good with me.I discovered later that its charging dock has a red button on top that lets you open up the charger.  Inside you can uncoil the wire and move it to stick out the other side of the dock, and you can coil it up more or less to change the length of the wire, or even replace it with a longer cord with a 3-prong round plug.  It's definitely a thoughtful design.When the vacuum is on the charger and you bump it so it loses contact, say by removing the dust bin, it will wiggle its round end left and right and push against the charging contacts till it detects charge.  It's rather cute when it does that.  The charging contacts are also on springs so that helps them maintain contact.It has a few less good aspects that are probably not something one can fix in a small robot vacuum:Depending on what angle or direction it heads over a rise or transition from carpet to non-carpet, it often leaves parts not vacuumed because the brush isn't making contact.  The same thing happens if it runs over a depression left in the carpet by the legs of furniture you've moved out of the way.  So if its brush won't touch the surface, it's not going to pull much up.  That's true of pretty much any vacuum (except maybe the super-expensive ones), but if you're the one controlling the vacuum you'll often repeatedly go over the spots it's not getting or dig the vacuum into those spots.Even with the pet and allergy brush, it's not perfect at picking up pet hair.  There's one area it's gone over about six times and I still see hair in the carpet.  But it does seem to get out more hair with each pass, so with regular cleaning it will probably get it all.Pet bowls are a problem.  It started pushing the cat's water dish around and if it had pushed it against certain other things it might have spilled and sucked up water.  Other reviewers mentioned there's nothing in the vacuum to keep water out of the electronics.  So put liquids up on something immobile or putty the dish to the ground.  Marking them with the magnetic strip that stops the vacuum may or may not be effective - see my magnetic strip notes below.Now, the bad points (why I don't give it 5 stars):It sometimes (fairly rarely) leaves small, teardrop-shaped patches unvacuumed when it turns around to make another pass.  I'm not sure what causes it so far I've noticed it does it on left turns but not right turns (which are executed more tightly), although I don't think it does it on all left turns.  The replacement vacuum I got doesn't seem to do it at all.  It may have something to do with one wheel not turning as fast as it expects?  I think it ultimately judges its position and orientation based on its 360 degree lidar scanner, so it knows to turn farther and get back on track to run parallel to its last pass, but if the wheels don't turn it at the rate it expects it can miss that little bit on the inside of the turn.If one wheel gets stuck on a bath mat or a wire, it seems to get at least slightly confused and I think it enters a mode where it tries to get unstuck rather than vacuuming what it intended, so it may miss spots.  When it detects it's getting stuck or it finds a spot where its bumper keeps hitting stuff that its scanner doesn't see, it sometimes seems to come back for a second pass later on in its cycle, which is good and sometimes gets the spots it missed, although sometimes it gets it stuck again.Even though it almost always runs smoothly right up against walls and other objects (like within 3mm or so) it still leaves a border of dust about 1.5 inches wide.  Where the floor is flatter, the suction reaches farther from the brush so in some areas you may only see 0.5 to 1.0 inches untouched.  Neato leaves this margin because its brush is simply too far from the wall.  Between the edge of the brush and the wall is a pressure-sensitive bumper, drop sensor, magnet strip sensor, and I don't know what else.  There's a German-only Neato model (VR-100) that has a small four-pointed brush that rotates on a vertical axis with bristles angled downward to sweep just beyond the right edge of the vacuum, but they're taking forever to bring that design to the USA.  I've read some theories it may infringe Roomba's patent if they add this brush.  But unless they fix the problem somehow, this is the main area I think the Roomba beats Neato.  I do theorize that once you manually suck up the dust from edges and then run the Neato once or twice a week, the edges will take a long time to get noticeably dusty, and I read a user comment that said that was their experience, but it's still annoying that Neato won't reach.  I've also read people complain that side brushes tend to tangle on wires or carpet fringe and bend or break.If you search on robotreviews for \"Adding A Rotating Side Brush to Neato XV's\" you'll find a method to add a side brush for about $30, but users report it's not very effective on carpet.  The VR-100's side brush is mounted in a slightly different position with some tweaks to the case around it so it's probably more effective, but I can't seem to find anyone who mentions how effective it is on carpet.  If you have money to burn, there seem to be ways to get a VR-100 imported, but you won't get a warranty and it's about twice the price.Another thing to keep an eye on is a new competitor called Ecovacs Deebo D93 that supposedly will be available in the US in 2014.  It navigates like Neato but has side brushes.  It remains to be seen if they'll get sued for patent infringement by iRobot or Neato, and I'm sure their first run will have the typical glitches of a new product, but if you really want that side brush, maybe it will become a solution.Search for \"Neato Mods for Utility -- List of Threads\" and there's a ton of stuff people have come up with to improve the vacuum for various environments.  For example, if you've got mostly hardwood floors, you can simply add a non-moving side brush on the front right bumper.It doesn't have any sensor on top to detect it's heading under something so low it will trap itself.  If this is a problem at your home, some people have found you can add short vertical wires to the front bumper to prevent it from even heading under something too low.  See the Neato Mods thread mentioned above.When Neato does get stuck, the beep it makes is so brief and quiet that you're not likely to hear it from another room.  That could also be seen as a positive if you decide to run it while you're asleep, but it really should have a preference for loudness and duration.  If you don't respond to the first beep, it does beep again every few minutes, so hopefully you'll hear it eventually.Short objects are a problem.  Neato does an impressive job at trying to get its corner as deep as possible between the V shaped legs of a 5-legged rolling office chair, but it also doesn't see the wheels of the chair because they're too low for its scanner to see, and so it awkwardly bumps its way over the wheel at the end of each chair leg, pulling its brush off the carpet so it isn't sucking dirt.  It then failed to clean under the desk the chair was in front of, maybe because the way it stuttered around the legs screwed up where it thought it was?  I now remove the chair when it does that room.The magnetic strips it comes with to bar the vacuum from areas are not ideal, although they're certainly cheaper and more versatile in some ways than the infrared virtual wall emitter you need to use to stop Roombas.  Beyond the fact it looks weird to have black magnetic strips almost an inch wide sitting in some places, Neato doesn't actually detect the strip unless one of its front corners heads over the strip.  I tried putting the strip inside a metal pipe that forms a support for a monitor stand and it didn't see the strip.  It also won't sense the strip when the strip's bottom is against the side of the pipe, so I had to put a strip on each side of the pipe, wedged slightly under the pipe.  I watched as the corner of the vacuum kept going over the strip slightly and then it would turn away from it, wiggling its way along the strip.  That's good, but at the end of the pipe, as soon as the strip ends, it tries to turn hard and rides itself over the pipe, pulling the brushes away from the carpet so it misses the other side of the pipe.  I had to extend the strips 3.5 inches past the end of the pipe to keep it from turning and riding its edge over the end of the pipe, but then it didn't turn hard enough to clean the other side of the pipe at all, leaving an untouched triangular area as it passed the end of the pipe and slowly headed toward the edge of what the pipe sticks out from.  It's odd that it won't clean the other side of the pipe because there's a table leg that's too short for its main sensor to see and so it runs along the leg by feel, much like it goes along the pipe, and when it hits the end of the leg it turns sharply and goes down the other side of the leg.  So either it has different rules for turning sharply at the end of a magnet, or maybe it turns around the end of the leg because it does see the leg with its front right bumper sensor (the leg is just tall enough for that).  Setting up a physical barrier over the pipe tall enough for the vacuum's sensors to see would hopefully make it clean the other side of the pipe but I don't know if I'll bother.If Neato drives through a gap barely large enough for it into a dead end area, even if has space to turn around it doesn't always find a way out again and will beep for assistance with a message to clear its path.  I think the problem happens when something on the left side of its escape path is too low for its sensor to see and if it hits what's on the right side, it tries to turn too far left and hits the thing it can't see, and it just can't figure it out and gives up after 3-4 tries.  Moving things to give the robot a couple extra inches seems to solve the problem.It's also gotten stuck in a nook barely wider than the Neato and about 3/4 the depth of the Neato, though it usually manages to work itself out.  For some reason the Neato seems to want to turn around in the space (probably because it wants to run its right front bumper along the other side of the space).  When it can't turn, it will back up and try to turn at the same time.  As soon as it starts to turn it will go forward again, wedging itself into the space sideways and still trying to turn, at which point it can get completely stuck with its rear backed up against one side and its front right corner wedged against the other side.  If you have spaces like this that you don't want to simply block off or widen, some people in the mod thread mentioned earlier have found that you can add limiters to how high the back of Neato can raise up that will usually prevent it getting stuck like this.  This is another area where I think Roomba probably beats Neato since I don't think a round robot can get stuck other than by getting something jammed in the brush or wheels.The first time I ran Neato, there was a dead end space with a narrow entrance created by the legs of a ladder and for some reason it decided to go into that space 3 or 4 times.  It got out each time except the final time it decided it couldn't find its away out and beeped.  I removed the ladder completely and told it to continue and for some reason it became completely disoriented, probably because the ladder disappeared.  It said it was finished (which is also odd because it completely skipped the bathroom) and said it wanted to return to dock but every time I told it to continue it would rotate back and forth about 90 degrees and then stop and tell me it needed its path cleared.  So I picked it up and set it about a foot from the dock and told it to resume and it scanned back and forth, then turned and headed off to the right!  Eventually it ran out of battery so I docked it myself.  I read online that Neato actually can't see the base station when it's too close to it.Very weird behavior, but after it charged it acted normally again and that time it decided to do the bathroom it had skipped before.  My only theory as to why it got skipped the first time is maybe the cat was in its way.  I don't think it's skipped the bathroom on dozens of other runs since then.  It doesn't always seem to see human legs as obstacles, but other times it will veer off its path to go around you or if you stand in front of it it will stop and back up a foot or two as if surprised.  I'm guessing it does that because your legs are a change in its map and maybe it's smart enough to assume that change might be a living thingand so it backs up.  At any rate, after removing the ladder it completed our whole upstairs on its second run, bathroom included, with one return to charger base and no getting stuck.  Hazaa!When I moved the base station downstairs I had to place it in a hallway to the right of an open door and the left of a closed door set at a 45 degree angle.  There's 31 inches in front of the charger and about at the right edge of the charger the 45 degree door starts, coming within 26 inches of the charger.  To the right of the charger is 23 inches.  So this is all less than the 3 feet of space all around the dock that Neato recommends, and sure enough the Neato usually can't find the dock again after it leaves.  So far it's been successful in 1 of 3 attempts.  I don't know if it's because the walls are too close or maybe it's also a problem having an open doorway to the immediate left of the dock.  Their web site seems to say that even if you start the Neato from the dock, it doesn't know where the dock is until it sees the dock with its scanner from about 3 feet away.  If true, it may never hit the correct orientation or distance in the hallway to see the dock.  It seems like it wouldn't be hard for it to know where the dock is based on where it starts from when it detects charger power before it starts, so this seems like a design flaw.If I wanted to have the Neato downstairs permanently I would put the charger under the bed to prevent a tripping hazard.  I would like to buy an extra charging base to put down there, but Neato doesn't sell bases!  You can try to buy a base from Amazon or ebay but according to a thread I read called \"XV-21 wont turn on, new charger model?\", not all bases are compatible with the newer Neatos.  Apparently the original Neato XV-11 could be charged with a home-built base (search \"Derek neato charging base\"), but the newer Neatos negotiate in some way with an extra circuit in the newer bases so the base can charge it with a fluctuating current that prolongs battery life.Some final thoughts on Neato vs Roomba from what I've read around the net:Keep in mind that the vacuum motor is the most battery-intensive thing on any vacuum robot.  Because Roomba must run the vacuum for much longer than Neato to clean the same size area, it must either limit its suction power to save battery or just use a lot more battery and recharge more times per vacuuming cycle.  Since batteries can only be recharged about 300 times (from what I've read) that means an expensive battery replacement much more often for Roomba, plus much more power wasted.Roomba picks up much much less and has a smaller bin.  I think their newer models have improved that but the stronger Roomba makes their vacuum, the more often you'll have to replace the expensive batteries since it has to spend much longer than Neato vacuuming.  I've read people complain of having to replace $80 batteries every year.People say side brushes accumulate more gunk than Neato's beater brush, so Roomba's heavy use of side brushes and having less suction to pull gunk off them means more regular maintenance cleaning them (people have said Roombas require brush cleaning after every run vs cleaning the Neato beater brush once or twice a month).  With neato you occasionally have to spend time vacuuming edges, but even a side brush won't get completely up to the edge so you may end up vacuuming edges just as often, though ignoring a tiny bit of dust at an edge is easier than ignoring up to 1.5 inches of dust.  Some people say they just sweep dust off edges so the Neato can pick it up.Roomba bumps things a lot, and much harder than Neato.  Most people end up sticking padding onto the Roomba to limit damage it might do to things (I wonder why they don't they pad it from the factory?).  Supposedly newer roombas bump things more softly, but they still bump and over time people say it can leave marring.I happened to meet a Roomba owner at a party and he went on about how it never found its base again, wouldn't vacuum a dark throw carpet (because it sees it as a cliff), the lighthouse units were always running out of battery and had no low battery warning, and its vacuuming pattern was ridiculous, doing things like going around the edge of the room, then briefly moving in a random direction and deciding to go around the edge of the room again.Most of the time when I've seen reviewers say they've used both Roomba and Neato over an extended period it seems they usually prefer Neato.  The people who haven't preferred Neato usually say it's because they break more often than Roomba or because it lacks a side brush, but I'm not sure I've seen anyone say that who's actually used both vacuums over an extended period.Overall I'm quite pleased with my new automatic vacuuming robot and am happy I bought it, despite the high price.  It will definitely keep the place cleaner than I would on my own and should help our lungs as well with less dust in the air.UPDATE:About the 8th time I ran Neato it started randomly leaving dust/fluff on the carpet in places where it makes a 180 degree turn and in another spot where it transitions from hard floor to carpet.  It's very odd how it can leave so much dust on one turn, a little on three other turns, and nothing on every other turn (of which there must be dozens).  It's not happening because it's vacuuming over a dusty spot it never hit before.  When I paused the vacuum to clean the bin it said \"My fan is stuck\" when I tried to restart it.  The fan started when I hit the button to retry.  It said it needed to recharge less than 2 minutes later so it may be the fan didn't start due to low power, assuming that's a possible cause.The next day I ran the vacuum in another room that had been vacuumed a few days before and it left even more dust streaks than before, despite a careful filter, dirt bin, and brush cleaning.  I sent Neato an email and they agreed there was a problem and didn't give me any runaround asking me to do a ton of tests, just saying to call with details.  I called and was asked a few questions and they had me do a couple quick tests and then they offered to send me a Signature Pro (the one that costs $100 extra on Amazon) and pay for return shipping!  So I'm amazed by that and thus my review is back up to 4 stars.  I asked if they thought it was suction failing causing the dust problem and she said it might be but they wanted to examine it to find out.  I've seen two others complain about this problem on other forums but they never mentioned how/if it was resolved.  Note that they did take about 12 hours to get back to my first email, but a second email was responded to within a couple hours at 8:25pm PST, so they're working late over there.A couple days later, Neato did livingroom/dining/kitchen/bath, picked up half a bin of dust and left zero spots of dust (compared to about five spots 3-4 days earlier)!  The next day I did a small office (where it had left five spots 3-4 days earlier) and it left dust on about 10 different turns.  The carpet is the same in all rooms.The new Neato Signature Pro arrived in 6 days with a FedEx return shipping label as promised.  New vacuum hasn't had problems leaving dust or missed teardrop shapes in the middle of U turns as of about 5 daily cleanings.  It otherwise behaves identically.  It did our office fine its first day, charged for 2 days, then ran out of battery 2 minutes after leaving the base to do the living room.  Charged 8 mins, started itself again, returned to charger 12 mins later.  I swapped its batteries with the XV-21 and it worked fine after that.I connected old Neato via USB to my computer and ran the brush motor at full speed on and off repeatedly with no problem.  I also ran the vacuum fan at 99% (USB commands \"Testmode On\", then \"SetMotor VacuumOn\") on and off a few times.  Thischeap anemometershows that at 99%, the highest wind speed out the back of the new Neato is 11.4mph with clean filter, or 20.3mph without filter.  The motor has some sort of auto adjustment as it read 13.1mph at first and quickly reduced to between 10 and 11.4.  The old Neato tested about the same, so my only theory about the dust leaving is the old vacuum is periodically losing suction or brush rotation, but who knows.  If you want to compare your vacuum's suction to my readings, be sure to do it in test mode because it doesn't run the blower at 99% during normal operation.  Run \"Testmode Off\" before you disconnect the vacuum from USB.New Neato did once say its fan was stuck after pausing it and resuming it about 10 seconds later, which the old Neato did once as well.  So that worries me but it hasn't happened again after a dozen more cleanings.At first, new Neato wouldn't find its base about 1 in 6 times.  Even just doing a spot clean it sometimes acted like it didn't see the base at all.  It behaves the same using the base for the old Neato.  I ran a spot clean with the old Neato times and it found the base every time.  Then I blew dust out of the lidar scanner on the new Neato and cleaned its two laser eyes with an alcohol soaked q-tip, and it did 20 spot cleans without missing the base!  I'm not sure if that actually helped or if its docking problems are just very random because it still fails to dock about 1 in 10 attempts during full floor cleans.  However, I have the base placed under a table with only about 13 inch clearance on either side, which is far less than the 3 feet the manual says is required so that could be the problem.  Needing 3 feet is very annoying because I think a lot of people would be hard pressed to find a place with 3 feet clearance on all sides where they wouldn't also risk tripping on the vacuum.Two or three times out of 50+ runs Neato has decided that a 21-inch-wide corridor between a recliner and couch can not be passed through.  It's happened when coming from either side of the corridor.  It needs to pass this corridor to return to its dock, so when it got stuck on the wrong side it always stopped in the same spot and said to clear its path even when I moved the vacuum around and retried repeatedly.  I think there's something about the way the lidar bounces between chair and recliner that makes the gap look narrower than it is, or maybe the gap appears offset to the left, because even when Neato decides it can move through this area heading towards the dock, it always does so very slowly and with its left side scraping against the recliner.  Both XV-21 and Signature Pro behaved the same here, so I think lidar is just not always accurate depending on the surface and proximity of various objects.  I think it may be more reliable at night but don't have enough evidence of that yet.</td>\n",
              "    </tr>\n",
              "  </tbody>\n",
              "</table>"
            ],
            "text/plain": [
              "<IPython.core.display.HTML object>"
            ]
          },
          "metadata": {
            "tags": []
          }
        }
      ]
    },
    {
      "cell_type": "code",
      "metadata": {
        "id": "nyCtTsMkDn2z",
        "colab": {
          "base_uri": "https://localhost:8080/",
          "height": 312
        },
        "outputId": "669e014a-8353-4efc-aace-5582e4b72696"
      },
      "source": [
        "averageRatings = reviews.groupby('asin')['overall'].mean().reset_index()\n",
        "productPrices = combined[['asin', 'price']]\n",
        "price_vs_rating = pd.merge(averageRatings, productPrices, how='inner', on='asin')\n",
        "sns.scatterplot(x='overall', y='price', data=price_vs_rating)\n",
        "plt.title('Price vs. Average Rating')"
      ],
      "execution_count": 27,
      "outputs": [
        {
          "output_type": "execute_result",
          "data": {
            "text/plain": [
              "Text(0.5, 1.0, 'Price vs. Average Rating')"
            ]
          },
          "metadata": {
            "tags": []
          },
          "execution_count": 27
        },
        {
          "output_type": "display_data",
          "data": {
            "image/png": "[encoded data removed]",
            "text/plain": [
              "<Figure size 432x288 with 1 Axes>"
            ]
          },
          "metadata": {
            "tags": [],
            "needs_background": "light"
          }
        }
      ]
    },
    {
      "cell_type": "markdown",
      "metadata": {
        "id": "L62cgDhpZBoZ"
      },
      "source": [
        "From the scatter plot, it was not so obvious to see a relationship by looking at the exact numbers like 1, 2, 3, 4 and 5. However, if we just look at the rest of the dots, it items with lower price turn to get various rating. While high price tends to imply better quality, people who were willing to pay more gave higher rating on the products."
      ]
    },
    {
      "cell_type": "code",
      "metadata": {
        "colab": {
          "base_uri": "https://localhost:8080/",
          "height": 312
        },
        "id": "TEWPr0bIX0bo",
        "outputId": "71b767b1-97ba-47a1-c0eb-99c0e2a92817"
      },
      "source": [
        "sns.stripplot(x='overall', y='reviewlength', data=combined, jitter=True)\n",
        "plt.title('Review Length vs. Rating')"
      ],
      "execution_count": 28,
      "outputs": [
        {
          "output_type": "execute_result",
          "data": {
            "text/plain": [
              "Text(0.5, 1.0, 'Review Length vs. Rating')"
            ]
          },
          "metadata": {
            "tags": []
          },
          "execution_count": 28
        },
        {
          "output_type": "display_data",
          "data": {
            "image/png": "[encoded data removed]",
            "text/plain": [
              "<Figure size 432x288 with 1 Axes>"
            ]
          },
          "metadata": {
            "tags": [],
            "needs_background": "light"
          }
        }
      ]
    },
    {
      "cell_type": "markdown",
      "metadata": {
        "id": "EPSLGenMajaw"
      },
      "source": [
        "It was obvious that people who left very long review tend to rate higher on the products. Most of people review items within 1000 words."
      ]
    },
    {
      "cell_type": "code",
      "metadata": {
        "colab": {
          "base_uri": "https://localhost:8080/",
          "height": 312
        },
        "id": "fvHjbPtdbJyo",
        "outputId": "67ee9dee-d242-4e21-db81-ea439e92ca73"
      },
      "source": [
        "averageRatings_yearly = combined.groupby('year')['overall'].mean().reset_index()\n",
        "medianRatings_yearly = combined.groupby('year')['overall'].median().reset_index()\n",
        "sns.lineplot(x='year', y='overall', data=averageRatings_yearly, label='mean')\n",
        "sns.lineplot(x='year', y='overall', data=medianRatings_yearly, label='median')\n",
        "plt.title('Rating over Years')"
      ],
      "execution_count": 29,
      "outputs": [
        {
          "output_type": "execute_result",
          "data": {
            "text/plain": [
              "Text(0.5, 1.0, 'Rating over Years')"
            ]
          },
          "metadata": {
            "tags": []
          },
          "execution_count": 29
        },
        {
          "output_type": "display_data",
          "data": {
            "image/png": "[encoded data removed]",
            "text/plain": [
              "<Figure size 432x288 with 1 Axes>"
            ]
          },
          "metadata": {
            "tags": [],
            "needs_background": "light"
          }
        }
      ]
    },
    {
      "cell_type": "markdown",
      "metadata": {
        "id": "D4VJFnzAcUVy"
      },
      "source": [
        "The average rating of products is higest on 2000. It drops really fast after 2000 and reaches the low point on 2004. The median of the rating only went down to 4 on 2004 and 2005 after 2000. After 2004, the average rating climbs up but still didn't reach the high point on 2000. However, the average rating only varies between 3.6 to 4.3. The overall satisfactory is still pretty high."
      ]
    },
    {
      "cell_type": "code",
      "metadata": {
        "id": "0g7yF6ecfyGU"
      },
      "source": [
        "#Make a dataframe to split product categories\n",
        "productCategories = pd.DataFrame(combined.categories.values.tolist(), index = combined.asin)\n",
        "productCategories.dropna(inplace=True, how='all')\n",
        "productCategories = productCategories.rename(columns={0:'categories'})\n",
        "productCategories = pd.DataFrame(productCategories.categories.values.tolist(), index = productCategories.categories.index)\n",
        "productCategories = productCategories.rename(columns={0:'mainCategory',1:'subCategory1',2:'subCategory2',3:'subCategory3',4:'subCategory4',5:'subCategory5',6:'subCategory6#'})\n",
        "productCategories.reset_index(inplace=True)\n",
        "productCategories.drop_duplicates(inplace=True)"
      ],
      "execution_count": 30,
      "outputs": []
    },
    {
      "cell_type": "code",
      "metadata": {
        "colab": {
          "base_uri": "https://localhost:8080/",
          "height": 419
        },
        "id": "HRsEM2hxJqfA",
        "outputId": "d174002f-8384-4f06-d2dd-e7820c036b99"
      },
      "source": [
        "productCategories"
      ],
      "execution_count": 31,
      "outputs": [
        {
          "output_type": "execute_result",
          "data": {
            "text/html": [
              "<div>\n",
              "<style scoped>\n",
              "    .dataframe tbody tr th:only-of-type {\n",
              "        vertical-align: middle;\n",
              "    }\n",
              "\n",
              "    .dataframe tbody tr th {\n",
              "        vertical-align: top;\n",
              "    }\n",
              "\n",
              "    .dataframe thead th {\n",
              "        text-align: right;\n",
              "    }\n",
              "</style>\n",
              "<table border=\"1\" class=\"dataframe\">\n",
              "  <thead>\n",
              "    <tr style=\"text-align: right;\">\n",
              "      <th></th>\n",
              "      <th>asin</th>\n",
              "      <th>mainCategory</th>\n",
              "      <th>subCategory1</th>\n",
              "      <th>subCategory2</th>\n",
              "      <th>subCategory3</th>\n",
              "      <th>subCategory4</th>\n",
              "      <th>subCategory5</th>\n",
              "      <th>subCategory6#</th>\n",
              "    </tr>\n",
              "  </thead>\n",
              "  <tbody>\n",
              "    <tr>\n",
              "      <th>0</th>\n",
              "      <td>0076144011</td>\n",
              "      <td>Home &amp; Kitchen</td>\n",
              "      <td>None</td>\n",
              "      <td>None</td>\n",
              "      <td>None</td>\n",
              "      <td>None</td>\n",
              "      <td>None</td>\n",
              "      <td>None</td>\n",
              "    </tr>\n",
              "    <tr>\n",
              "      <th>1</th>\n",
              "      <td>0130350591</td>\n",
              "      <td>Home &amp; Kitchen</td>\n",
              "      <td>Kitchen &amp; Dining</td>\n",
              "      <td>Dining &amp; Entertaining</td>\n",
              "      <td>Serveware</td>\n",
              "      <td>Butter Dishes</td>\n",
              "      <td>None</td>\n",
              "      <td>None</td>\n",
              "    </tr>\n",
              "    <tr>\n",
              "      <th>2</th>\n",
              "      <td>0307394530</td>\n",
              "      <td>Home &amp; Kitchen</td>\n",
              "      <td>Artwork</td>\n",
              "      <td>Posters &amp; Prints</td>\n",
              "      <td>None</td>\n",
              "      <td>None</td>\n",
              "      <td>None</td>\n",
              "      <td>None</td>\n",
              "    </tr>\n",
              "    <tr>\n",
              "      <th>50</th>\n",
              "      <td>0439903491</td>\n",
              "      <td>Home &amp; Kitchen</td>\n",
              "      <td>Artwork</td>\n",
              "      <td>Posters &amp; Prints</td>\n",
              "      <td>None</td>\n",
              "      <td>None</td>\n",
              "      <td>None</td>\n",
              "      <td>None</td>\n",
              "    </tr>\n",
              "    <tr>\n",
              "      <th>51</th>\n",
              "      <td>0578060604</td>\n",
              "      <td>Home &amp; Kitchen</td>\n",
              "      <td>Furniture</td>\n",
              "      <td>Kitchen &amp; Dining Room Furniture</td>\n",
              "      <td>Chairs</td>\n",
              "      <td>None</td>\n",
              "      <td>None</td>\n",
              "      <td>None</td>\n",
              "    </tr>\n",
              "    <tr>\n",
              "      <th>...</th>\n",
              "      <td>...</td>\n",
              "      <td>...</td>\n",
              "      <td>...</td>\n",
              "      <td>...</td>\n",
              "      <td>...</td>\n",
              "      <td>...</td>\n",
              "      <td>...</td>\n",
              "      <td>...</td>\n",
              "    </tr>\n",
              "    <tr>\n",
              "      <th>4253907</th>\n",
              "      <td>B00LUVXMX0</td>\n",
              "      <td>Home &amp; Kitchen</td>\n",
              "      <td>Bedding</td>\n",
              "      <td>Quilts</td>\n",
              "      <td>None</td>\n",
              "      <td>None</td>\n",
              "      <td>None</td>\n",
              "      <td>None</td>\n",
              "    </tr>\n",
              "    <tr>\n",
              "      <th>4253912</th>\n",
              "      <td>B00LVJQDBY</td>\n",
              "      <td>Home &amp; Kitchen</td>\n",
              "      <td>Furniture</td>\n",
              "      <td>Living Room Furniture</td>\n",
              "      <td>Chairs</td>\n",
              "      <td>None</td>\n",
              "      <td>None</td>\n",
              "      <td>None</td>\n",
              "    </tr>\n",
              "    <tr>\n",
              "      <th>4253914</th>\n",
              "      <td>B00LXFN8MS</td>\n",
              "      <td>Home &amp; Kitchen</td>\n",
              "      <td>Bedding</td>\n",
              "      <td>None</td>\n",
              "      <td>None</td>\n",
              "      <td>None</td>\n",
              "      <td>None</td>\n",
              "      <td>None</td>\n",
              "    </tr>\n",
              "    <tr>\n",
              "      <th>4253919</th>\n",
              "      <td>B00LXFP8NK</td>\n",
              "      <td>Home &amp; Kitchen</td>\n",
              "      <td>Bedding</td>\n",
              "      <td>None</td>\n",
              "      <td>None</td>\n",
              "      <td>None</td>\n",
              "      <td>None</td>\n",
              "      <td>None</td>\n",
              "    </tr>\n",
              "    <tr>\n",
              "      <th>4253924</th>\n",
              "      <td>B00M0U03EQ</td>\n",
              "      <td>Home &amp; Kitchen</td>\n",
              "      <td>Furniture</td>\n",
              "      <td>Home Office Furniture</td>\n",
              "      <td>Home Office Desks</td>\n",
              "      <td>None</td>\n",
              "      <td>None</td>\n",
              "      <td>None</td>\n",
              "    </tr>\n",
              "  </tbody>\n",
              "</table>\n",
              "<p>410243 rows × 8 columns</p>\n",
              "</div>"
            ],
            "text/plain": [
              "               asin    mainCategory  ... subCategory5 subCategory6#\n",
              "0        0076144011  Home & Kitchen  ...         None          None\n",
              "1        0130350591  Home & Kitchen  ...         None          None\n",
              "2        0307394530  Home & Kitchen  ...         None          None\n",
              "50       0439903491  Home & Kitchen  ...         None          None\n",
              "51       0578060604  Home & Kitchen  ...         None          None\n",
              "...             ...             ...  ...          ...           ...\n",
              "4253907  B00LUVXMX0  Home & Kitchen  ...         None          None\n",
              "4253912  B00LVJQDBY  Home & Kitchen  ...         None          None\n",
              "4253914  B00LXFN8MS  Home & Kitchen  ...         None          None\n",
              "4253919  B00LXFP8NK  Home & Kitchen  ...         None          None\n",
              "4253924  B00M0U03EQ  Home & Kitchen  ...         None          None\n",
              "\n",
              "[410243 rows x 8 columns]"
            ]
          },
          "metadata": {
            "tags": []
          },
          "execution_count": 31
        }
      ]
    },
    {
      "cell_type": "code",
      "metadata": {
        "colab": {
          "base_uri": "https://localhost:8080/"
        },
        "id": "3Q4PUVacMgt9",
        "outputId": "92c9d524-0a7a-42ac-bb7c-cb32dd1a4009"
      },
      "source": [
        "productCategories['subCategory1'].unique()"
      ],
      "execution_count": 32,
      "outputs": [
        {
          "output_type": "execute_result",
          "data": {
            "text/plain": [
              "array([None, 'Kitchen & Dining', 'Artwork', 'Furniture', 'Bedding',\n",
              "       'Storage & Organization', 'Bath', 'Heating, Cooling & Air Quality',\n",
              "       'Irons & Steamers', 'Vacuums & Floor Care',\n",
              "       'Accessories & Supplies', 'RV Parts & Accessories',\n",
              "       \"Kids' Home Store\", 'Cleaning Supplies', 'Car Care',\n",
              "       'Household Supplies', 'Power & Hand Tools',\n",
              "       'Computers & Accessories', 'Cases', 'Bath & Body', 'Accessories'],\n",
              "      dtype=object)"
            ]
          },
          "metadata": {
            "tags": []
          },
          "execution_count": 32
        }
      ]
    },
    {
      "cell_type": "code",
      "metadata": {
        "colab": {
          "base_uri": "https://localhost:8080/",
          "height": 713
        },
        "id": "nxzSZp-eNfZJ",
        "outputId": "615244e8-c2b4-4262-de9f-e8d94940f193"
      },
      "source": [
        "chart=sns.countplot(x='subCategory1', data=productCategories, )\n",
        "chart.set_xticklabels(chart.get_xticklabels(), rotation=40,horizontalalignment='right')"
      ],
      "execution_count": 33,
      "outputs": [
        {
          "output_type": "execute_result",
          "data": {
            "text/plain": [
              "[Text(0, 0, 'Kitchen & Dining'),\n",
              " Text(0, 0, 'Artwork'),\n",
              " Text(0, 0, 'Furniture'),\n",
              " Text(0, 0, 'Bedding'),\n",
              " Text(0, 0, 'Storage & Organization'),\n",
              " Text(0, 0, 'Bath'),\n",
              " Text(0, 0, 'Heating, Cooling & Air Quality'),\n",
              " Text(0, 0, 'Irons & Steamers'),\n",
              " Text(0, 0, 'Vacuums & Floor Care'),\n",
              " Text(0, 0, 'Accessories & Supplies'),\n",
              " Text(0, 0, 'RV Parts & Accessories'),\n",
              " Text(0, 0, \"Kids' Home Store\"),\n",
              " Text(0, 0, 'Cleaning Supplies'),\n",
              " Text(0, 0, 'Car Care'),\n",
              " Text(0, 0, 'Household Supplies'),\n",
              " Text(0, 0, 'Power & Hand Tools'),\n",
              " Text(0, 0, 'Computers & Accessories'),\n",
              " Text(0, 0, 'Cases'),\n",
              " Text(0, 0, 'Bath & Body'),\n",
              " Text(0, 0, 'Accessories')]"
            ]
          },
          "metadata": {
            "tags": []
          },
          "execution_count": 33
        },
        {
          "output_type": "display_data",
          "data": {
            "image/png": "[encoded data removed]",
            "text/plain": [
              "<Figure size 432x288 with 1 Axes>"
            ]
          },
          "metadata": {
            "tags": [],
            "needs_background": "light"
          }
        }
      ]
    },
    {
      "cell_type": "markdown",
      "metadata": {
        "id": "Bs7_P21GOZgl"
      },
      "source": [
        "About half of products are under Kitchen & Dining subcategory. If a smaller dataset is needed for furture modeling. We could consider extract one of the subcategory out for analysis."
      ]
    },
    {
      "cell_type": "code",
      "metadata": {
        "colab": {
          "base_uri": "https://localhost:8080/",
          "height": 598
        },
        "id": "V1OB1s-pOXqp",
        "outputId": "dcde828f-9a3b-4401-8759-c2673d186acb"
      },
      "source": [
        "combined=pd.merge(combined, productCategories, how='inner', on='asin')\n",
        "combined.head()"
      ],
      "execution_count": 34,
      "outputs": [
        {
          "output_type": "execute_result",
          "data": {
            "text/html": [
              "<div>\n",
              "<style scoped>\n",
              "    .dataframe tbody tr th:only-of-type {\n",
              "        vertical-align: middle;\n",
              "    }\n",
              "\n",
              "    .dataframe tbody tr th {\n",
              "        vertical-align: top;\n",
              "    }\n",
              "\n",
              "    .dataframe thead th {\n",
              "        text-align: right;\n",
              "    }\n",
              "</style>\n",
              "<table border=\"1\" class=\"dataframe\">\n",
              "  <thead>\n",
              "    <tr style=\"text-align: right;\">\n",
              "      <th></th>\n",
              "      <th>reviewerID</th>\n",
              "      <th>asin</th>\n",
              "      <th>helpful</th>\n",
              "      <th>reviewText</th>\n",
              "      <th>overall</th>\n",
              "      <th>summary</th>\n",
              "      <th>unixReviewTime</th>\n",
              "      <th>salesRank</th>\n",
              "      <th>categories</th>\n",
              "      <th>title</th>\n",
              "      <th>description</th>\n",
              "      <th>related</th>\n",
              "      <th>price</th>\n",
              "      <th>brand</th>\n",
              "      <th>year</th>\n",
              "      <th>month</th>\n",
              "      <th>reviewlength</th>\n",
              "      <th>mainCategory</th>\n",
              "      <th>subCategory1</th>\n",
              "      <th>subCategory2</th>\n",
              "      <th>subCategory3</th>\n",
              "      <th>subCategory4</th>\n",
              "      <th>subCategory5</th>\n",
              "      <th>subCategory6#</th>\n",
              "    </tr>\n",
              "  </thead>\n",
              "  <tbody>\n",
              "    <tr>\n",
              "      <th>0</th>\n",
              "      <td>A210NOCSTBT4OD</td>\n",
              "      <td>0076144011</td>\n",
              "      <td>[0, 0]</td>\n",
              "      <td>Have you ever thought about how you met your b...</td>\n",
              "      <td>4.0</td>\n",
              "      <td>Lovely</td>\n",
              "      <td>2012-10-04</td>\n",
              "      <td>{'Books': 6285595}</td>\n",
              "      <td>[[Home &amp; Kitchen]]</td>\n",
              "      <td>Ninjas, Piranhas, and Galileo</td>\n",
              "      <td>NaN</td>\n",
              "      <td>NaN</td>\n",
              "      <td>NaN</td>\n",
              "      <td>NaN</td>\n",
              "      <td>2012</td>\n",
              "      <td>10</td>\n",
              "      <td>298</td>\n",
              "      <td>Home &amp; Kitchen</td>\n",
              "      <td>None</td>\n",
              "      <td>None</td>\n",
              "      <td>None</td>\n",
              "      <td>None</td>\n",
              "      <td>None</td>\n",
              "      <td>None</td>\n",
              "    </tr>\n",
              "    <tr>\n",
              "      <th>1</th>\n",
              "      <td>A28ILV4TOG8BH2</td>\n",
              "      <td>0130350591</td>\n",
              "      <td>[0, 0]</td>\n",
              "      <td>The butter dish is serving us well, and keepin...</td>\n",
              "      <td>5.0</td>\n",
              "      <td>Nice looking, and keeps the butter fresh</td>\n",
              "      <td>2011-03-22</td>\n",
              "      <td>{'Kitchen &amp; Dining': 459680}</td>\n",
              "      <td>[[Home &amp; Kitchen, Kitchen &amp; Dining, Dining &amp; E...</td>\n",
              "      <td>Le Creuset Kiwi (Green) Butter Dish Stoneware</td>\n",
              "      <td>Each piece of Le Creuset dinnerware is crafted...</td>\n",
              "      <td>NaN</td>\n",
              "      <td>NaN</td>\n",
              "      <td>NaN</td>\n",
              "      <td>2011</td>\n",
              "      <td>3</td>\n",
              "      <td>26</td>\n",
              "      <td>Home &amp; Kitchen</td>\n",
              "      <td>Kitchen &amp; Dining</td>\n",
              "      <td>Dining &amp; Entertaining</td>\n",
              "      <td>Serveware</td>\n",
              "      <td>Butter Dishes</td>\n",
              "      <td>None</td>\n",
              "      <td>None</td>\n",
              "    </tr>\n",
              "    <tr>\n",
              "      <th>2</th>\n",
              "      <td>A31B4D7URW4DNZ</td>\n",
              "      <td>0307394530</td>\n",
              "      <td>[11, 16]</td>\n",
              "      <td>I anxiously waited for the book I had pre orde...</td>\n",
              "      <td>2.0</td>\n",
              "      <td>Mother of the Bride</td>\n",
              "      <td>2008-06-30</td>\n",
              "      <td>{'Arts, Crafts &amp; Sewing': 3597}</td>\n",
              "      <td>[[Home &amp; Kitchen, Artwork, Posters &amp; Prints]]</td>\n",
              "      <td>Martha Stewart's Wedding Cakes</td>\n",
              "      <td>Of all the decisions that go into planning a w...</td>\n",
              "      <td>{'also_bought': ['144630163X', '1402717733', '...</td>\n",
              "      <td>14.99</td>\n",
              "      <td>Random House</td>\n",
              "      <td>2008</td>\n",
              "      <td>6</td>\n",
              "      <td>114</td>\n",
              "      <td>Home &amp; Kitchen</td>\n",
              "      <td>Artwork</td>\n",
              "      <td>Posters &amp; Prints</td>\n",
              "      <td>None</td>\n",
              "      <td>None</td>\n",
              "      <td>None</td>\n",
              "      <td>None</td>\n",
              "    </tr>\n",
              "    <tr>\n",
              "      <th>3</th>\n",
              "      <td>A2HU0RPDRZZOP1</td>\n",
              "      <td>0307394530</td>\n",
              "      <td>[0, 0]</td>\n",
              "      <td>Fantastic book, a lot of good, original recipe...</td>\n",
              "      <td>5.0</td>\n",
              "      <td>amazing book</td>\n",
              "      <td>2010-06-24</td>\n",
              "      <td>{'Arts, Crafts &amp; Sewing': 3597}</td>\n",
              "      <td>[[Home &amp; Kitchen, Artwork, Posters &amp; Prints]]</td>\n",
              "      <td>Martha Stewart's Wedding Cakes</td>\n",
              "      <td>Of all the decisions that go into planning a w...</td>\n",
              "      <td>{'also_bought': ['144630163X', '1402717733', '...</td>\n",
              "      <td>14.99</td>\n",
              "      <td>Random House</td>\n",
              "      <td>2010</td>\n",
              "      <td>6</td>\n",
              "      <td>21</td>\n",
              "      <td>Home &amp; Kitchen</td>\n",
              "      <td>Artwork</td>\n",
              "      <td>Posters &amp; Prints</td>\n",
              "      <td>None</td>\n",
              "      <td>None</td>\n",
              "      <td>None</td>\n",
              "      <td>None</td>\n",
              "    </tr>\n",
              "    <tr>\n",
              "      <th>4</th>\n",
              "      <td>A7J0XOW7DYBBD</td>\n",
              "      <td>0307394530</td>\n",
              "      <td>[0, 0]</td>\n",
              "      <td>Can't wait to try all the amazing techniques. ...</td>\n",
              "      <td>5.0</td>\n",
              "      <td>Very helpful</td>\n",
              "      <td>2014-02-23</td>\n",
              "      <td>{'Arts, Crafts &amp; Sewing': 3597}</td>\n",
              "      <td>[[Home &amp; Kitchen, Artwork, Posters &amp; Prints]]</td>\n",
              "      <td>Martha Stewart's Wedding Cakes</td>\n",
              "      <td>Of all the decisions that go into planning a w...</td>\n",
              "      <td>{'also_bought': ['144630163X', '1402717733', '...</td>\n",
              "      <td>14.99</td>\n",
              "      <td>Random House</td>\n",
              "      <td>2014</td>\n",
              "      <td>2</td>\n",
              "      <td>24</td>\n",
              "      <td>Home &amp; Kitchen</td>\n",
              "      <td>Artwork</td>\n",
              "      <td>Posters &amp; Prints</td>\n",
              "      <td>None</td>\n",
              "      <td>None</td>\n",
              "      <td>None</td>\n",
              "      <td>None</td>\n",
              "    </tr>\n",
              "  </tbody>\n",
              "</table>\n",
              "</div>"
            ],
            "text/plain": [
              "       reviewerID        asin  ... subCategory5 subCategory6#\n",
              "0  A210NOCSTBT4OD  0076144011  ...         None          None\n",
              "1  A28ILV4TOG8BH2  0130350591  ...         None          None\n",
              "2  A31B4D7URW4DNZ  0307394530  ...         None          None\n",
              "3  A2HU0RPDRZZOP1  0307394530  ...         None          None\n",
              "4   A7J0XOW7DYBBD  0307394530  ...         None          None\n",
              "\n",
              "[5 rows x 24 columns]"
            ]
          },
          "metadata": {
            "tags": []
          },
          "execution_count": 34
        }
      ]
    },
    {
      "cell_type": "code",
      "metadata": {
        "id": "yC2LvIMsVL-9"
      },
      "source": [
        "combined.drop(columns=['categories'], inplace=True)"
      ],
      "execution_count": 35,
      "outputs": []
    },
    {
      "cell_type": "code",
      "metadata": {
        "id": "6Zck9-SkVf0O"
      },
      "source": [
        "#save \n",
        "path = \"/content/drive/My Drive/Recommendation_System/combined.csv\"\n",
        "combined.to_csv(path)"
      ],
      "execution_count": 36,
      "outputs": []
    },
    {
      "cell_type": "code",
      "metadata": {
        "id": "GrEo_8xdhOXT"
      },
      "source": [
        "#Get a subset of cateogry\n",
        "KitchenDining = combined.loc[combined.subCategory1=='Kitchen & Dining']"
      ],
      "execution_count": 38,
      "outputs": []
    },
    {
      "cell_type": "code",
      "metadata": {
        "colab": {
          "base_uri": "https://localhost:8080/"
        },
        "id": "TLIzFBnFiCQz",
        "outputId": "05f3ab51-904b-40fe-d169-8ce5d2b0724e"
      },
      "source": [
        "KitchenDining.info()"
      ],
      "execution_count": 39,
      "outputs": [
        {
          "output_type": "stream",
          "text": [
            "<class 'pandas.core.frame.DataFrame'>\n",
            "Int64Index: 2575376 entries, 1 to 4253905\n",
            "Data columns (total 23 columns):\n",
            " #   Column          Dtype         \n",
            "---  ------          -----         \n",
            " 0   reviewerID      object        \n",
            " 1   asin            object        \n",
            " 2   helpful         object        \n",
            " 3   reviewText      object        \n",
            " 4   overall         float64       \n",
            " 5   summary         object        \n",
            " 6   unixReviewTime  datetime64[ns]\n",
            " 7   salesRank       object        \n",
            " 8   title           object        \n",
            " 9   description     object        \n",
            " 10  related         object        \n",
            " 11  price           float64       \n",
            " 12  brand           object        \n",
            " 13  year            int64         \n",
            " 14  month           int64         \n",
            " 15  reviewlength    int64         \n",
            " 16  mainCategory    object        \n",
            " 17  subCategory1    object        \n",
            " 18  subCategory2    object        \n",
            " 19  subCategory3    object        \n",
            " 20  subCategory4    object        \n",
            " 21  subCategory5    object        \n",
            " 22  subCategory6#   object        \n",
            "dtypes: datetime64[ns](1), float64(2), int64(3), object(17)\n",
            "memory usage: 471.6+ MB\n"
          ],
          "name": "stdout"
        }
      ]
    },
    {
      "cell_type": "code",
      "metadata": {
        "colab": {
          "base_uri": "https://localhost:8080/"
        },
        "id": "30cIjmxiiGye",
        "outputId": "7220f97c-e1c9-44d1-c72c-13b394113a4a"
      },
      "source": [
        "KitchenDining['reviewerID'].value_counts()"
      ],
      "execution_count": 42,
      "outputs": [
        {
          "output_type": "execute_result",
          "data": {
            "text/plain": [
              "A2OWR2PL3DLWS4    337\n",
              "A1IU7S4HCK1XK0    322\n",
              "A2NYK9KWFMJV4Y    277\n",
              "AXO4PQU0XG3TG     236\n",
              "A1QPAGGX9FDQXM    203\n",
              "A2ZY49IDE6TY5I    199\n",
              "A25C2M3QF9G7OQ    187\n",
              "A2A9X58G2GTBLP    176\n",
              "A1W415JP5WEAJK    173\n",
              "A3EPHBMU07LZ50    163\n",
              "Name: reviewerID, dtype: int64"
            ]
          },
          "metadata": {
            "tags": []
          },
          "execution_count": 42
        }
      ]
    },
    {
      "cell_type": "code",
      "metadata": {
        "id": "bhiaT-zZjLIh"
      },
      "source": [
        "#Filter out reviewer who had less than 10 reviews\n",
        "KitchenDiningsmaller = KitchenDining[KitchenDining['reviewerID'].isin(KitchenDining['reviewerID'].value_counts()[KitchenDining['reviewerID'].value_counts()>10].index)]"
      ],
      "execution_count": 52,
      "outputs": []
    },
    {
      "cell_type": "code",
      "metadata": {
        "colab": {
          "base_uri": "https://localhost:8080/"
        },
        "id": "1oyt_emMlVr_",
        "outputId": "72caae55-6bf0-4238-fb10-65bca393fea1"
      },
      "source": [
        "KitchenDiningsmaller['reviewerID'].value_counts()"
      ],
      "execution_count": 53,
      "outputs": [
        {
          "output_type": "execute_result",
          "data": {
            "text/plain": [
              "A2OWR2PL3DLWS4    337\n",
              "A1IU7S4HCK1XK0    322\n",
              "A2NYK9KWFMJV4Y    277\n",
              "AXO4PQU0XG3TG     236\n",
              "A1QPAGGX9FDQXM    203\n",
              "                 ... \n",
              "A2LLY1Z6NT6VP2     11\n",
              "A1VW4D5B59VZQW     11\n",
              "A38BFN9LAHIHXM     11\n",
              "A1CPQI3X8OKM1A     11\n",
              "A1K3ABOF2C26PY     11\n",
              "Name: reviewerID, Length: 10252, dtype: int64"
            ]
          },
          "metadata": {
            "tags": []
          },
          "execution_count": 53
        }
      ]
    },
    {
      "cell_type": "code",
      "metadata": {
        "colab": {
          "base_uri": "https://localhost:8080/"
        },
        "id": "YxLDhWW4ki4j",
        "outputId": "d8fb1593-a9a4-4218-d990-4c3da49ee259"
      },
      "source": [
        "KitchenDiningsmaller['asin'].value_counts()"
      ],
      "execution_count": 54,
      "outputs": [
        {
          "output_type": "execute_result",
          "data": {
            "text/plain": [
              "B00006JSUA    348\n",
              "B00004OCO9    281\n",
              "B001N07KUE    242\n",
              "B0000CFMZN    230\n",
              "B00005B8K5    222\n",
              "             ... \n",
              "B0052UNV3Q      1\n",
              "B000VRJXO6      1\n",
              "B0026Q5SIA      1\n",
              "B004X5YU4U      1\n",
              "B001KYBODW      1\n",
              "Name: asin, Length: 56807, dtype: int64"
            ]
          },
          "metadata": {
            "tags": []
          },
          "execution_count": 54
        }
      ]
    },
    {
      "cell_type": "code",
      "metadata": {
        "colab": {
          "base_uri": "https://localhost:8080/"
        },
        "id": "NZ-4gtmRkyZi",
        "outputId": "ce170aa1-424f-4eb7-b910-dcdfb14003fa"
      },
      "source": [
        "#Filter out items that has less than 10 reviews\n",
        "KitchenDiningsmaller = KitchenDiningsmaller[KitchenDining['asin'].isin(KitchenDiningsmaller['asin'].value_counts()[KitchenDiningsmaller['asin'].value_counts()>10].index)]"
      ],
      "execution_count": 55,
      "outputs": [
        {
          "output_type": "stream",
          "text": [
            "/usr/local/lib/python3.7/dist-packages/ipykernel_launcher.py:2: UserWarning: Boolean Series key will be reindexed to match DataFrame index.\n",
            "  \n"
          ],
          "name": "stderr"
        }
      ]
    },
    {
      "cell_type": "code",
      "metadata": {
        "colab": {
          "base_uri": "https://localhost:8080/"
        },
        "id": "7wHCw327lEUG",
        "outputId": "037f7a6d-db07-4451-c8ac-27a604043e44"
      },
      "source": [
        "KitchenDiningsmaller.info()"
      ],
      "execution_count": 58,
      "outputs": [
        {
          "output_type": "stream",
          "text": [
            "<class 'pandas.core.frame.DataFrame'>\n",
            "Int64Index: 81948 entries, 315 to 4253765\n",
            "Data columns (total 23 columns):\n",
            " #   Column          Non-Null Count  Dtype         \n",
            "---  ------          --------------  -----         \n",
            " 0   reviewerID      81948 non-null  object        \n",
            " 1   asin            81948 non-null  object        \n",
            " 2   helpful         81948 non-null  object        \n",
            " 3   reviewText      81948 non-null  object        \n",
            " 4   overall         81948 non-null  float64       \n",
            " 5   summary         81948 non-null  object        \n",
            " 6   unixReviewTime  81948 non-null  datetime64[ns]\n",
            " 7   salesRank       80893 non-null  object        \n",
            " 8   title           81866 non-null  object        \n",
            " 9   description     80912 non-null  object        \n",
            " 10  related         81260 non-null  object        \n",
            " 11  price           78045 non-null  float64       \n",
            " 12  brand           68529 non-null  object        \n",
            " 13  year            81948 non-null  int64         \n",
            " 14  month           81948 non-null  int64         \n",
            " 15  reviewlength    81948 non-null  int64         \n",
            " 16  mainCategory    81948 non-null  object        \n",
            " 17  subCategory1    81948 non-null  object        \n",
            " 18  subCategory2    80319 non-null  object        \n",
            " 19  subCategory3    78820 non-null  object        \n",
            " 20  subCategory4    48625 non-null  object        \n",
            " 21  subCategory5    7526 non-null   object        \n",
            " 22  subCategory6#   1224 non-null   object        \n",
            "dtypes: datetime64[ns](1), float64(2), int64(3), object(17)\n",
            "memory usage: 15.0+ MB\n"
          ],
          "name": "stdout"
        }
      ]
    },
    {
      "cell_type": "code",
      "metadata": {
        "id": "aIqXuUETlyhY"
      },
      "source": [
        "#Save KitchenDining subset for future analysis\n",
        "#save \n",
        "path = \"/content/drive/My Drive/Recommendation_System/KitchenDining80000.csv\"\n",
        "KitchenDiningsmaller.to_csv(path)"
      ],
      "execution_count": 60,
      "outputs": []
    }
  ]
}